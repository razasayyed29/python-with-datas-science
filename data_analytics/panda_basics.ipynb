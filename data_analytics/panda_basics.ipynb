{
 "cells": [
  {
   "cell_type": "code",
   "execution_count": 41,
   "metadata": {},
   "outputs": [],
   "source": [
    "import numpy as np\n",
    "import pandas as pd\n",
    "import matplotlib.pyplot as plt\n",
    "import plotly.express as px"
   ]
  },
  {
   "cell_type": "code",
   "execution_count": 42,
   "metadata": {},
   "outputs": [
    {
     "name": "stderr",
     "output_type": "stream",
     "text": [
      "C:\\Users\\ASUS\\AppData\\Local\\Temp\\ipykernel_16956\\2929611050.py:1: DtypeWarning: Columns (1,2,3,4,5,6,7,8,11) have mixed types. Specify dtype option on import or set low_memory=False.\n",
      "  df = pd.read_csv ('incidents_small.csv')\n"
     ]
    },
    {
     "data": {
      "text/html": [
       "<div>\n",
       "<style scoped>\n",
       "    .dataframe tbody tr th:only-of-type {\n",
       "        vertical-align: middle;\n",
       "    }\n",
       "\n",
       "    .dataframe tbody tr th {\n",
       "        vertical-align: top;\n",
       "    }\n",
       "\n",
       "    .dataframe thead th {\n",
       "        text-align: right;\n",
       "    }\n",
       "</style>\n",
       "<table border=\"1\" class=\"dataframe\">\n",
       "  <thead>\n",
       "    <tr style=\"text-align: right;\">\n",
       "      <th></th>\n",
       "      <th>IncidntNum</th>\n",
       "      <th>Category</th>\n",
       "      <th>Descript</th>\n",
       "      <th>DayOfWeek</th>\n",
       "      <th>Date</th>\n",
       "      <th>Time</th>\n",
       "      <th>PdDistrict</th>\n",
       "      <th>Resolution</th>\n",
       "      <th>Address</th>\n",
       "      <th>X</th>\n",
       "      <th>Y</th>\n",
       "      <th>Location</th>\n",
       "      <th>PdId</th>\n",
       "    </tr>\n",
       "  </thead>\n",
       "  <tbody>\n",
       "    <tr>\n",
       "      <th>0</th>\n",
       "      <td>120058272.0</td>\n",
       "      <td>WEAPON LAWS</td>\n",
       "      <td>POSS OF PROHIBITED WEAPON</td>\n",
       "      <td>Friday</td>\n",
       "      <td>01/29/2016 12:00:00 AM</td>\n",
       "      <td>11:00</td>\n",
       "      <td>SOUTHERN</td>\n",
       "      <td>ARREST, BOOKED</td>\n",
       "      <td>800 Block of BRYANT ST</td>\n",
       "      <td>-122.403405</td>\n",
       "      <td>37.775421</td>\n",
       "      <td>(37.775420706711, -122.403404791479)</td>\n",
       "      <td>1.200580e+13</td>\n",
       "    </tr>\n",
       "    <tr>\n",
       "      <th>1</th>\n",
       "      <td>120058272.0</td>\n",
       "      <td>WEAPON LAWS</td>\n",
       "      <td>FIREARM, LOADED, IN VEHICLE, POSSESSION OR USE</td>\n",
       "      <td>Friday</td>\n",
       "      <td>01/29/2016 12:00:00 AM</td>\n",
       "      <td>11:00</td>\n",
       "      <td>SOUTHERN</td>\n",
       "      <td>ARREST, BOOKED</td>\n",
       "      <td>800 Block of BRYANT ST</td>\n",
       "      <td>-122.403405</td>\n",
       "      <td>37.775421</td>\n",
       "      <td>(37.775420706711, -122.403404791479)</td>\n",
       "      <td>1.200580e+13</td>\n",
       "    </tr>\n",
       "    <tr>\n",
       "      <th>2</th>\n",
       "      <td>141059263.0</td>\n",
       "      <td>WARRANTS</td>\n",
       "      <td>WARRANT ARREST</td>\n",
       "      <td>Monday</td>\n",
       "      <td>04/25/2016 12:00:00 AM</td>\n",
       "      <td>14:59</td>\n",
       "      <td>BAYVIEW</td>\n",
       "      <td>ARREST, BOOKED</td>\n",
       "      <td>KEITH ST / SHAFTER AV</td>\n",
       "      <td>-122.388856</td>\n",
       "      <td>37.729981</td>\n",
       "      <td>(37.7299809672996, -122.388856204292)</td>\n",
       "      <td>1.410590e+13</td>\n",
       "    </tr>\n",
       "    <tr>\n",
       "      <th>3</th>\n",
       "      <td>160013662.0</td>\n",
       "      <td>NON-CRIMINAL</td>\n",
       "      <td>LOST PROPERTY</td>\n",
       "      <td>Tuesday</td>\n",
       "      <td>01-05-2016 00:00</td>\n",
       "      <td>23:50</td>\n",
       "      <td>TENDERLOIN</td>\n",
       "      <td>NONE</td>\n",
       "      <td>JONES ST / OFARRELL ST</td>\n",
       "      <td>-122.412971</td>\n",
       "      <td>37.785788</td>\n",
       "      <td>(37.7857883766888, -122.412970537591)</td>\n",
       "      <td>1.600140e+13</td>\n",
       "    </tr>\n",
       "    <tr>\n",
       "      <th>4</th>\n",
       "      <td>160002740.0</td>\n",
       "      <td>NON-CRIMINAL</td>\n",
       "      <td>LOST PROPERTY</td>\n",
       "      <td>Friday</td>\n",
       "      <td>01-01-2016 00:00</td>\n",
       "      <td>00:30</td>\n",
       "      <td>MISSION</td>\n",
       "      <td>NONE</td>\n",
       "      <td>16TH ST / MISSION ST</td>\n",
       "      <td>-122.419672</td>\n",
       "      <td>37.765050</td>\n",
       "      <td>(37.7650501214668, -122.419671780296)</td>\n",
       "      <td>1.600030e+13</td>\n",
       "    </tr>\n",
       "    <tr>\n",
       "      <th>...</th>\n",
       "      <td>...</td>\n",
       "      <td>...</td>\n",
       "      <td>...</td>\n",
       "      <td>...</td>\n",
       "      <td>...</td>\n",
       "      <td>...</td>\n",
       "      <td>...</td>\n",
       "      <td>...</td>\n",
       "      <td>...</td>\n",
       "      <td>...</td>\n",
       "      <td>...</td>\n",
       "      <td>...</td>\n",
       "      <td>...</td>\n",
       "    </tr>\n",
       "    <tr>\n",
       "      <th>150495</th>\n",
       "      <td>NaN</td>\n",
       "      <td>NaN</td>\n",
       "      <td>NaN</td>\n",
       "      <td>NaN</td>\n",
       "      <td>NaN</td>\n",
       "      <td>NaN</td>\n",
       "      <td>NaN</td>\n",
       "      <td>NaN</td>\n",
       "      <td>NaN</td>\n",
       "      <td>NaN</td>\n",
       "      <td>NaN</td>\n",
       "      <td>NaN</td>\n",
       "      <td>NaN</td>\n",
       "    </tr>\n",
       "    <tr>\n",
       "      <th>150496</th>\n",
       "      <td>NaN</td>\n",
       "      <td>NaN</td>\n",
       "      <td>NaN</td>\n",
       "      <td>NaN</td>\n",
       "      <td>NaN</td>\n",
       "      <td>NaN</td>\n",
       "      <td>NaN</td>\n",
       "      <td>NaN</td>\n",
       "      <td>NaN</td>\n",
       "      <td>NaN</td>\n",
       "      <td>NaN</td>\n",
       "      <td>NaN</td>\n",
       "      <td>NaN</td>\n",
       "    </tr>\n",
       "    <tr>\n",
       "      <th>150497</th>\n",
       "      <td>NaN</td>\n",
       "      <td>NaN</td>\n",
       "      <td>NaN</td>\n",
       "      <td>NaN</td>\n",
       "      <td>NaN</td>\n",
       "      <td>NaN</td>\n",
       "      <td>NaN</td>\n",
       "      <td>NaN</td>\n",
       "      <td>NaN</td>\n",
       "      <td>NaN</td>\n",
       "      <td>NaN</td>\n",
       "      <td>NaN</td>\n",
       "      <td>NaN</td>\n",
       "    </tr>\n",
       "    <tr>\n",
       "      <th>150498</th>\n",
       "      <td>NaN</td>\n",
       "      <td>NaN</td>\n",
       "      <td>NaN</td>\n",
       "      <td>NaN</td>\n",
       "      <td>NaN</td>\n",
       "      <td>NaN</td>\n",
       "      <td>NaN</td>\n",
       "      <td>NaN</td>\n",
       "      <td>NaN</td>\n",
       "      <td>NaN</td>\n",
       "      <td>NaN</td>\n",
       "      <td>NaN</td>\n",
       "      <td>NaN</td>\n",
       "    </tr>\n",
       "    <tr>\n",
       "      <th>150499</th>\n",
       "      <td>NaN</td>\n",
       "      <td>NaN</td>\n",
       "      <td>NaN</td>\n",
       "      <td>NaN</td>\n",
       "      <td>NaN</td>\n",
       "      <td>NaN</td>\n",
       "      <td>NaN</td>\n",
       "      <td>NaN</td>\n",
       "      <td>NaN</td>\n",
       "      <td>NaN</td>\n",
       "      <td>NaN</td>\n",
       "      <td>NaN</td>\n",
       "      <td>NaN</td>\n",
       "    </tr>\n",
       "  </tbody>\n",
       "</table>\n",
       "<p>150500 rows × 13 columns</p>\n",
       "</div>"
      ],
      "text/plain": [
       "         IncidntNum      Category  \\\n",
       "0       120058272.0   WEAPON LAWS   \n",
       "1       120058272.0   WEAPON LAWS   \n",
       "2       141059263.0      WARRANTS   \n",
       "3       160013662.0  NON-CRIMINAL   \n",
       "4       160002740.0  NON-CRIMINAL   \n",
       "...             ...           ...   \n",
       "150495          NaN           NaN   \n",
       "150496          NaN           NaN   \n",
       "150497          NaN           NaN   \n",
       "150498          NaN           NaN   \n",
       "150499          NaN           NaN   \n",
       "\n",
       "                                              Descript DayOfWeek  \\\n",
       "0                            POSS OF PROHIBITED WEAPON    Friday   \n",
       "1       FIREARM, LOADED, IN VEHICLE, POSSESSION OR USE    Friday   \n",
       "2                                       WARRANT ARREST    Monday   \n",
       "3                                        LOST PROPERTY   Tuesday   \n",
       "4                                        LOST PROPERTY    Friday   \n",
       "...                                                ...       ...   \n",
       "150495                                             NaN       NaN   \n",
       "150496                                             NaN       NaN   \n",
       "150497                                             NaN       NaN   \n",
       "150498                                             NaN       NaN   \n",
       "150499                                             NaN       NaN   \n",
       "\n",
       "                          Date   Time  PdDistrict      Resolution  \\\n",
       "0       01/29/2016 12:00:00 AM  11:00    SOUTHERN  ARREST, BOOKED   \n",
       "1       01/29/2016 12:00:00 AM  11:00    SOUTHERN  ARREST, BOOKED   \n",
       "2       04/25/2016 12:00:00 AM  14:59     BAYVIEW  ARREST, BOOKED   \n",
       "3             01-05-2016 00:00  23:50  TENDERLOIN            NONE   \n",
       "4             01-01-2016 00:00  00:30     MISSION            NONE   \n",
       "...                        ...    ...         ...             ...   \n",
       "150495                     NaN    NaN         NaN             NaN   \n",
       "150496                     NaN    NaN         NaN             NaN   \n",
       "150497                     NaN    NaN         NaN             NaN   \n",
       "150498                     NaN    NaN         NaN             NaN   \n",
       "150499                     NaN    NaN         NaN             NaN   \n",
       "\n",
       "                       Address           X          Y  \\\n",
       "0       800 Block of BRYANT ST -122.403405  37.775421   \n",
       "1       800 Block of BRYANT ST -122.403405  37.775421   \n",
       "2        KEITH ST / SHAFTER AV -122.388856  37.729981   \n",
       "3       JONES ST / OFARRELL ST -122.412971  37.785788   \n",
       "4         16TH ST / MISSION ST -122.419672  37.765050   \n",
       "...                        ...         ...        ...   \n",
       "150495                     NaN         NaN        NaN   \n",
       "150496                     NaN         NaN        NaN   \n",
       "150497                     NaN         NaN        NaN   \n",
       "150498                     NaN         NaN        NaN   \n",
       "150499                     NaN         NaN        NaN   \n",
       "\n",
       "                                     Location          PdId  \n",
       "0        (37.775420706711, -122.403404791479)  1.200580e+13  \n",
       "1        (37.775420706711, -122.403404791479)  1.200580e+13  \n",
       "2       (37.7299809672996, -122.388856204292)  1.410590e+13  \n",
       "3       (37.7857883766888, -122.412970537591)  1.600140e+13  \n",
       "4       (37.7650501214668, -122.419671780296)  1.600030e+13  \n",
       "...                                       ...           ...  \n",
       "150495                                    NaN           NaN  \n",
       "150496                                    NaN           NaN  \n",
       "150497                                    NaN           NaN  \n",
       "150498                                    NaN           NaN  \n",
       "150499                                    NaN           NaN  \n",
       "\n",
       "[150500 rows x 13 columns]"
      ]
     },
     "execution_count": 42,
     "metadata": {},
     "output_type": "execute_result"
    }
   ],
   "source": [
    "df = pd.read_csv ('incidents_small.csv')\n",
    "df"
   ]
  },
  {
   "cell_type": "code",
   "execution_count": 43,
   "metadata": {},
   "outputs": [
    {
     "name": "stderr",
     "output_type": "stream",
     "text": [
      "C:\\Users\\ASUS\\AppData\\Local\\Temp\\ipykernel_16956\\2819509294.py:1: DtypeWarning: Columns (1,2,3,5,6,7,8,11) have mixed types. Specify dtype option on import or set low_memory=False.\n",
      "  df= pd.read_csv('incidents_small.csv',parse_dates= ['Date'])  #parse_date means analyse weather a date is there or not\n"
     ]
    },
    {
     "data": {
      "text/html": [
       "<div>\n",
       "<style scoped>\n",
       "    .dataframe tbody tr th:only-of-type {\n",
       "        vertical-align: middle;\n",
       "    }\n",
       "\n",
       "    .dataframe tbody tr th {\n",
       "        vertical-align: top;\n",
       "    }\n",
       "\n",
       "    .dataframe thead th {\n",
       "        text-align: right;\n",
       "    }\n",
       "</style>\n",
       "<table border=\"1\" class=\"dataframe\">\n",
       "  <thead>\n",
       "    <tr style=\"text-align: right;\">\n",
       "      <th></th>\n",
       "      <th>IncidntNum</th>\n",
       "      <th>Category</th>\n",
       "      <th>Descript</th>\n",
       "      <th>DayOfWeek</th>\n",
       "      <th>Date</th>\n",
       "      <th>Time</th>\n",
       "      <th>PdDistrict</th>\n",
       "      <th>Resolution</th>\n",
       "      <th>Address</th>\n",
       "      <th>X</th>\n",
       "      <th>Y</th>\n",
       "      <th>Location</th>\n",
       "      <th>PdId</th>\n",
       "    </tr>\n",
       "  </thead>\n",
       "  <tbody>\n",
       "    <tr>\n",
       "      <th>0</th>\n",
       "      <td>120058272.0</td>\n",
       "      <td>WEAPON LAWS</td>\n",
       "      <td>POSS OF PROHIBITED WEAPON</td>\n",
       "      <td>Friday</td>\n",
       "      <td>2016-01-29</td>\n",
       "      <td>11:00</td>\n",
       "      <td>SOUTHERN</td>\n",
       "      <td>ARREST, BOOKED</td>\n",
       "      <td>800 Block of BRYANT ST</td>\n",
       "      <td>-122.403405</td>\n",
       "      <td>37.775421</td>\n",
       "      <td>(37.775420706711, -122.403404791479)</td>\n",
       "      <td>1.200580e+13</td>\n",
       "    </tr>\n",
       "    <tr>\n",
       "      <th>1</th>\n",
       "      <td>120058272.0</td>\n",
       "      <td>WEAPON LAWS</td>\n",
       "      <td>FIREARM, LOADED, IN VEHICLE, POSSESSION OR USE</td>\n",
       "      <td>Friday</td>\n",
       "      <td>2016-01-29</td>\n",
       "      <td>11:00</td>\n",
       "      <td>SOUTHERN</td>\n",
       "      <td>ARREST, BOOKED</td>\n",
       "      <td>800 Block of BRYANT ST</td>\n",
       "      <td>-122.403405</td>\n",
       "      <td>37.775421</td>\n",
       "      <td>(37.775420706711, -122.403404791479)</td>\n",
       "      <td>1.200580e+13</td>\n",
       "    </tr>\n",
       "    <tr>\n",
       "      <th>2</th>\n",
       "      <td>141059263.0</td>\n",
       "      <td>WARRANTS</td>\n",
       "      <td>WARRANT ARREST</td>\n",
       "      <td>Monday</td>\n",
       "      <td>2016-04-25</td>\n",
       "      <td>14:59</td>\n",
       "      <td>BAYVIEW</td>\n",
       "      <td>ARREST, BOOKED</td>\n",
       "      <td>KEITH ST / SHAFTER AV</td>\n",
       "      <td>-122.388856</td>\n",
       "      <td>37.729981</td>\n",
       "      <td>(37.7299809672996, -122.388856204292)</td>\n",
       "      <td>1.410590e+13</td>\n",
       "    </tr>\n",
       "    <tr>\n",
       "      <th>3</th>\n",
       "      <td>160013662.0</td>\n",
       "      <td>NON-CRIMINAL</td>\n",
       "      <td>LOST PROPERTY</td>\n",
       "      <td>Tuesday</td>\n",
       "      <td>2016-01-05</td>\n",
       "      <td>23:50</td>\n",
       "      <td>TENDERLOIN</td>\n",
       "      <td>NONE</td>\n",
       "      <td>JONES ST / OFARRELL ST</td>\n",
       "      <td>-122.412971</td>\n",
       "      <td>37.785788</td>\n",
       "      <td>(37.7857883766888, -122.412970537591)</td>\n",
       "      <td>1.600140e+13</td>\n",
       "    </tr>\n",
       "    <tr>\n",
       "      <th>4</th>\n",
       "      <td>160002740.0</td>\n",
       "      <td>NON-CRIMINAL</td>\n",
       "      <td>LOST PROPERTY</td>\n",
       "      <td>Friday</td>\n",
       "      <td>2016-01-01</td>\n",
       "      <td>00:30</td>\n",
       "      <td>MISSION</td>\n",
       "      <td>NONE</td>\n",
       "      <td>16TH ST / MISSION ST</td>\n",
       "      <td>-122.419672</td>\n",
       "      <td>37.765050</td>\n",
       "      <td>(37.7650501214668, -122.419671780296)</td>\n",
       "      <td>1.600030e+13</td>\n",
       "    </tr>\n",
       "    <tr>\n",
       "      <th>...</th>\n",
       "      <td>...</td>\n",
       "      <td>...</td>\n",
       "      <td>...</td>\n",
       "      <td>...</td>\n",
       "      <td>...</td>\n",
       "      <td>...</td>\n",
       "      <td>...</td>\n",
       "      <td>...</td>\n",
       "      <td>...</td>\n",
       "      <td>...</td>\n",
       "      <td>...</td>\n",
       "      <td>...</td>\n",
       "      <td>...</td>\n",
       "    </tr>\n",
       "    <tr>\n",
       "      <th>150495</th>\n",
       "      <td>NaN</td>\n",
       "      <td>NaN</td>\n",
       "      <td>NaN</td>\n",
       "      <td>NaN</td>\n",
       "      <td>NaT</td>\n",
       "      <td>NaN</td>\n",
       "      <td>NaN</td>\n",
       "      <td>NaN</td>\n",
       "      <td>NaN</td>\n",
       "      <td>NaN</td>\n",
       "      <td>NaN</td>\n",
       "      <td>NaN</td>\n",
       "      <td>NaN</td>\n",
       "    </tr>\n",
       "    <tr>\n",
       "      <th>150496</th>\n",
       "      <td>NaN</td>\n",
       "      <td>NaN</td>\n",
       "      <td>NaN</td>\n",
       "      <td>NaN</td>\n",
       "      <td>NaT</td>\n",
       "      <td>NaN</td>\n",
       "      <td>NaN</td>\n",
       "      <td>NaN</td>\n",
       "      <td>NaN</td>\n",
       "      <td>NaN</td>\n",
       "      <td>NaN</td>\n",
       "      <td>NaN</td>\n",
       "      <td>NaN</td>\n",
       "    </tr>\n",
       "    <tr>\n",
       "      <th>150497</th>\n",
       "      <td>NaN</td>\n",
       "      <td>NaN</td>\n",
       "      <td>NaN</td>\n",
       "      <td>NaN</td>\n",
       "      <td>NaT</td>\n",
       "      <td>NaN</td>\n",
       "      <td>NaN</td>\n",
       "      <td>NaN</td>\n",
       "      <td>NaN</td>\n",
       "      <td>NaN</td>\n",
       "      <td>NaN</td>\n",
       "      <td>NaN</td>\n",
       "      <td>NaN</td>\n",
       "    </tr>\n",
       "    <tr>\n",
       "      <th>150498</th>\n",
       "      <td>NaN</td>\n",
       "      <td>NaN</td>\n",
       "      <td>NaN</td>\n",
       "      <td>NaN</td>\n",
       "      <td>NaT</td>\n",
       "      <td>NaN</td>\n",
       "      <td>NaN</td>\n",
       "      <td>NaN</td>\n",
       "      <td>NaN</td>\n",
       "      <td>NaN</td>\n",
       "      <td>NaN</td>\n",
       "      <td>NaN</td>\n",
       "      <td>NaN</td>\n",
       "    </tr>\n",
       "    <tr>\n",
       "      <th>150499</th>\n",
       "      <td>NaN</td>\n",
       "      <td>NaN</td>\n",
       "      <td>NaN</td>\n",
       "      <td>NaN</td>\n",
       "      <td>NaT</td>\n",
       "      <td>NaN</td>\n",
       "      <td>NaN</td>\n",
       "      <td>NaN</td>\n",
       "      <td>NaN</td>\n",
       "      <td>NaN</td>\n",
       "      <td>NaN</td>\n",
       "      <td>NaN</td>\n",
       "      <td>NaN</td>\n",
       "    </tr>\n",
       "  </tbody>\n",
       "</table>\n",
       "<p>150500 rows × 13 columns</p>\n",
       "</div>"
      ],
      "text/plain": [
       "         IncidntNum      Category  \\\n",
       "0       120058272.0   WEAPON LAWS   \n",
       "1       120058272.0   WEAPON LAWS   \n",
       "2       141059263.0      WARRANTS   \n",
       "3       160013662.0  NON-CRIMINAL   \n",
       "4       160002740.0  NON-CRIMINAL   \n",
       "...             ...           ...   \n",
       "150495          NaN           NaN   \n",
       "150496          NaN           NaN   \n",
       "150497          NaN           NaN   \n",
       "150498          NaN           NaN   \n",
       "150499          NaN           NaN   \n",
       "\n",
       "                                              Descript DayOfWeek       Date  \\\n",
       "0                            POSS OF PROHIBITED WEAPON    Friday 2016-01-29   \n",
       "1       FIREARM, LOADED, IN VEHICLE, POSSESSION OR USE    Friday 2016-01-29   \n",
       "2                                       WARRANT ARREST    Monday 2016-04-25   \n",
       "3                                        LOST PROPERTY   Tuesday 2016-01-05   \n",
       "4                                        LOST PROPERTY    Friday 2016-01-01   \n",
       "...                                                ...       ...        ...   \n",
       "150495                                             NaN       NaN        NaT   \n",
       "150496                                             NaN       NaN        NaT   \n",
       "150497                                             NaN       NaN        NaT   \n",
       "150498                                             NaN       NaN        NaT   \n",
       "150499                                             NaN       NaN        NaT   \n",
       "\n",
       "         Time  PdDistrict      Resolution                 Address           X  \\\n",
       "0       11:00    SOUTHERN  ARREST, BOOKED  800 Block of BRYANT ST -122.403405   \n",
       "1       11:00    SOUTHERN  ARREST, BOOKED  800 Block of BRYANT ST -122.403405   \n",
       "2       14:59     BAYVIEW  ARREST, BOOKED   KEITH ST / SHAFTER AV -122.388856   \n",
       "3       23:50  TENDERLOIN            NONE  JONES ST / OFARRELL ST -122.412971   \n",
       "4       00:30     MISSION            NONE    16TH ST / MISSION ST -122.419672   \n",
       "...       ...         ...             ...                     ...         ...   \n",
       "150495    NaN         NaN             NaN                     NaN         NaN   \n",
       "150496    NaN         NaN             NaN                     NaN         NaN   \n",
       "150497    NaN         NaN             NaN                     NaN         NaN   \n",
       "150498    NaN         NaN             NaN                     NaN         NaN   \n",
       "150499    NaN         NaN             NaN                     NaN         NaN   \n",
       "\n",
       "                Y                               Location          PdId  \n",
       "0       37.775421   (37.775420706711, -122.403404791479)  1.200580e+13  \n",
       "1       37.775421   (37.775420706711, -122.403404791479)  1.200580e+13  \n",
       "2       37.729981  (37.7299809672996, -122.388856204292)  1.410590e+13  \n",
       "3       37.785788  (37.7857883766888, -122.412970537591)  1.600140e+13  \n",
       "4       37.765050  (37.7650501214668, -122.419671780296)  1.600030e+13  \n",
       "...           ...                                    ...           ...  \n",
       "150495        NaN                                    NaN           NaN  \n",
       "150496        NaN                                    NaN           NaN  \n",
       "150497        NaN                                    NaN           NaN  \n",
       "150498        NaN                                    NaN           NaN  \n",
       "150499        NaN                                    NaN           NaN  \n",
       "\n",
       "[150500 rows x 13 columns]"
      ]
     },
     "execution_count": 43,
     "metadata": {},
     "output_type": "execute_result"
    }
   ],
   "source": [
    "df= pd.read_csv('incidents_small.csv',parse_dates= ['Date'])  #parse_date means analyse weather a date is there or not\n",
    "df"
   ]
  },
  {
   "cell_type": "code",
   "execution_count": 44,
   "metadata": {},
   "outputs": [
    {
     "name": "stdout",
     "output_type": "stream",
     "text": [
      "<class 'pandas.core.frame.DataFrame'>\n",
      "RangeIndex: 150500 entries, 0 to 150499\n",
      "Data columns (total 13 columns):\n",
      " #   Column      Non-Null Count  Dtype         \n",
      "---  ------      --------------  -----         \n",
      " 0   IncidntNum  10019 non-null  float64       \n",
      " 1   Category    10019 non-null  object        \n",
      " 2   Descript    10019 non-null  object        \n",
      " 3   DayOfWeek   10019 non-null  object        \n",
      " 4   Date        10019 non-null  datetime64[ns]\n",
      " 5   Time        10019 non-null  object        \n",
      " 6   PdDistrict  10019 non-null  object        \n",
      " 7   Resolution  10019 non-null  object        \n",
      " 8   Address     10019 non-null  object        \n",
      " 9   X           10019 non-null  float64       \n",
      " 10  Y           10019 non-null  float64       \n",
      " 11  Location    10019 non-null  object        \n",
      " 12  PdId        10019 non-null  float64       \n",
      "dtypes: datetime64[ns](1), float64(4), object(8)\n",
      "memory usage: 14.9+ MB\n"
     ]
    }
   ],
   "source": [
    "df.info()"
   ]
  },
  {
   "cell_type": "code",
   "execution_count": 45,
   "metadata": {},
   "outputs": [
    {
     "data": {
      "text/plain": [
       "(10019, 13)"
      ]
     },
     "execution_count": 45,
     "metadata": {},
     "output_type": "execute_result"
    }
   ],
   "source": [
    "df.dropna(inplace= True) #eliminating rows with missing number\n",
    "df.shape"
   ]
  },
  {
   "cell_type": "code",
   "execution_count": 46,
   "metadata": {},
   "outputs": [
    {
     "data": {
      "text/html": [
       "<div>\n",
       "<style scoped>\n",
       "    .dataframe tbody tr th:only-of-type {\n",
       "        vertical-align: middle;\n",
       "    }\n",
       "\n",
       "    .dataframe tbody tr th {\n",
       "        vertical-align: top;\n",
       "    }\n",
       "\n",
       "    .dataframe thead th {\n",
       "        text-align: right;\n",
       "    }\n",
       "</style>\n",
       "<table border=\"1\" class=\"dataframe\">\n",
       "  <thead>\n",
       "    <tr style=\"text-align: right;\">\n",
       "      <th></th>\n",
       "      <th>IncidntNum</th>\n",
       "      <th>Category</th>\n",
       "      <th>Descript</th>\n",
       "      <th>DayOfWeek</th>\n",
       "      <th>Date</th>\n",
       "      <th>Time</th>\n",
       "      <th>PdDistrict</th>\n",
       "      <th>Resolution</th>\n",
       "      <th>Address</th>\n",
       "      <th>X</th>\n",
       "      <th>Y</th>\n",
       "      <th>Location</th>\n",
       "      <th>PdId</th>\n",
       "    </tr>\n",
       "  </thead>\n",
       "  <tbody>\n",
       "    <tr>\n",
       "      <th>9554</th>\n",
       "      <td>160939676.0</td>\n",
       "      <td>ASSAULT</td>\n",
       "      <td>BATTERY</td>\n",
       "      <td>Monday</td>\n",
       "      <td>2016-11-14</td>\n",
       "      <td>09:20</td>\n",
       "      <td>NORTHERN</td>\n",
       "      <td>NONE</td>\n",
       "      <td>ELLIS ST / POLK ST</td>\n",
       "      <td>-122.419366</td>\n",
       "      <td>37.784028</td>\n",
       "      <td>(37.7840280452032, -122.419366294797)</td>\n",
       "      <td>1.609400e+13</td>\n",
       "    </tr>\n",
       "    <tr>\n",
       "      <th>9986</th>\n",
       "      <td>160895846.0</td>\n",
       "      <td>OTHER OFFENSES</td>\n",
       "      <td>FALSE PERSONATION</td>\n",
       "      <td>Monday</td>\n",
       "      <td>2016-10-31</td>\n",
       "      <td>10:00</td>\n",
       "      <td>MISSION</td>\n",
       "      <td>NONE</td>\n",
       "      <td>100 Block of CAPP ST</td>\n",
       "      <td>-122.418550</td>\n",
       "      <td>37.764284</td>\n",
       "      <td>(37.7642837095036, -122.418549940195)</td>\n",
       "      <td>1.608960e+13</td>\n",
       "    </tr>\n",
       "    <tr>\n",
       "      <th>9964</th>\n",
       "      <td>160893652.0</td>\n",
       "      <td>NON-CRIMINAL</td>\n",
       "      <td>CIVIL SIDEWALKS, WARNING</td>\n",
       "      <td>Wednesday</td>\n",
       "      <td>2016-11-02</td>\n",
       "      <td>18:02</td>\n",
       "      <td>MISSION</td>\n",
       "      <td>NONE</td>\n",
       "      <td>21ST ST / SHOTWELL ST</td>\n",
       "      <td>-122.415629</td>\n",
       "      <td>37.757232</td>\n",
       "      <td>(37.757232227914, -122.415629332446)</td>\n",
       "      <td>1.608940e+13</td>\n",
       "    </tr>\n",
       "    <tr>\n",
       "      <th>9963</th>\n",
       "      <td>160893464.0</td>\n",
       "      <td>WEAPON LAWS</td>\n",
       "      <td>CARRYING A CONCEALED WEAPON</td>\n",
       "      <td>Wednesday</td>\n",
       "      <td>2016-11-02</td>\n",
       "      <td>16:42</td>\n",
       "      <td>BAYVIEW</td>\n",
       "      <td>NONE</td>\n",
       "      <td>1100 Block of 18TH ST</td>\n",
       "      <td>-122.394108</td>\n",
       "      <td>37.762671</td>\n",
       "      <td>(37.7626705352496, -122.394108177688)</td>\n",
       "      <td>1.608930e+13</td>\n",
       "    </tr>\n",
       "    <tr>\n",
       "      <th>9962</th>\n",
       "      <td>160893395.0</td>\n",
       "      <td>ASSAULT</td>\n",
       "      <td>BATTERY</td>\n",
       "      <td>Wednesday</td>\n",
       "      <td>2016-11-02</td>\n",
       "      <td>16:15</td>\n",
       "      <td>TARAVAL</td>\n",
       "      <td>NONE</td>\n",
       "      <td>MONTEREY BL / NORTHGATE DR</td>\n",
       "      <td>-122.461737</td>\n",
       "      <td>37.730023</td>\n",
       "      <td>(37.7300233378439, -122.461736679015)</td>\n",
       "      <td>1.608930e+13</td>\n",
       "    </tr>\n",
       "    <tr>\n",
       "      <th>9953</th>\n",
       "      <td>160892842.0</td>\n",
       "      <td>SUSPICIOUS OCC</td>\n",
       "      <td>SUSPICIOUS OCCURRENCE</td>\n",
       "      <td>Wednesday</td>\n",
       "      <td>2016-11-02</td>\n",
       "      <td>10:00</td>\n",
       "      <td>MISSION</td>\n",
       "      <td>NONE</td>\n",
       "      <td>200 Block of 14TH ST</td>\n",
       "      <td>-122.418885</td>\n",
       "      <td>37.768285</td>\n",
       "      <td>(37.7682847825555, -122.418885184858)</td>\n",
       "      <td>1.608930e+13</td>\n",
       "    </tr>\n",
       "    <tr>\n",
       "      <th>9952</th>\n",
       "      <td>160892836.0</td>\n",
       "      <td>LARCENY/THEFT</td>\n",
       "      <td>PETTY THEFT FROM LOCKED AUTO</td>\n",
       "      <td>Tuesday</td>\n",
       "      <td>2016-10-18</td>\n",
       "      <td>10:00</td>\n",
       "      <td>CENTRAL</td>\n",
       "      <td>NONE</td>\n",
       "      <td>VALLEJO ST / MASON ST</td>\n",
       "      <td>-122.412099</td>\n",
       "      <td>37.798166</td>\n",
       "      <td>(37.7981663310688, -122.412098601225)</td>\n",
       "      <td>1.608930e+13</td>\n",
       "    </tr>\n",
       "    <tr>\n",
       "      <th>9951</th>\n",
       "      <td>160892820.0</td>\n",
       "      <td>ASSAULT</td>\n",
       "      <td>THREATS AGAINST LIFE</td>\n",
       "      <td>Wednesday</td>\n",
       "      <td>2016-11-02</td>\n",
       "      <td>11:45</td>\n",
       "      <td>PARK</td>\n",
       "      <td>NONE</td>\n",
       "      <td>STANYAN ST / WALLER ST</td>\n",
       "      <td>-122.453355</td>\n",
       "      <td>37.768246</td>\n",
       "      <td>(37.7682463076665, -122.453354647469)</td>\n",
       "      <td>1.608930e+13</td>\n",
       "    </tr>\n",
       "    <tr>\n",
       "      <th>9950</th>\n",
       "      <td>160892814.0</td>\n",
       "      <td>OTHER OFFENSES</td>\n",
       "      <td>DRIVERS LICENSE, SUSPENDED OR REVOKED</td>\n",
       "      <td>Wednesday</td>\n",
       "      <td>2016-11-02</td>\n",
       "      <td>12:10</td>\n",
       "      <td>BAYVIEW</td>\n",
       "      <td>ARREST, BOOKED</td>\n",
       "      <td>QUESADA AV / 3RD ST</td>\n",
       "      <td>-122.391246</td>\n",
       "      <td>37.733225</td>\n",
       "      <td>(37.7332252032804, -122.391245623019)</td>\n",
       "      <td>1.608930e+13</td>\n",
       "    </tr>\n",
       "    <tr>\n",
       "      <th>9945</th>\n",
       "      <td>160892591.0</td>\n",
       "      <td>ASSAULT</td>\n",
       "      <td>THREATS AGAINST LIFE</td>\n",
       "      <td>Wednesday</td>\n",
       "      <td>2016-11-02</td>\n",
       "      <td>10:19</td>\n",
       "      <td>BAYVIEW</td>\n",
       "      <td>NONE</td>\n",
       "      <td>0 Block of CASHMERE ST</td>\n",
       "      <td>-122.382705</td>\n",
       "      <td>37.735886</td>\n",
       "      <td>(37.7358858148594, -122.382705072801)</td>\n",
       "      <td>1.608930e+13</td>\n",
       "    </tr>\n",
       "    <tr>\n",
       "      <th>9944</th>\n",
       "      <td>160892585.0</td>\n",
       "      <td>VANDALISM</td>\n",
       "      <td>MALICIOUS MISCHIEF, VANDALISM OF VEHICLES</td>\n",
       "      <td>Wednesday</td>\n",
       "      <td>2016-11-02</td>\n",
       "      <td>10:38</td>\n",
       "      <td>NORTHERN</td>\n",
       "      <td>ARREST, BOOKED</td>\n",
       "      <td>100 Block of GROVE ST</td>\n",
       "      <td>-122.419064</td>\n",
       "      <td>37.778327</td>\n",
       "      <td>(37.7783268674219, -122.419063862505)</td>\n",
       "      <td>1.608930e+13</td>\n",
       "    </tr>\n",
       "    <tr>\n",
       "      <th>9933</th>\n",
       "      <td>160891662.0</td>\n",
       "      <td>ASSAULT</td>\n",
       "      <td>FALSE IMPRISONMENT</td>\n",
       "      <td>Tuesday</td>\n",
       "      <td>2016-11-01</td>\n",
       "      <td>22:30</td>\n",
       "      <td>INGLESIDE</td>\n",
       "      <td>ARREST, BOOKED</td>\n",
       "      <td>MISSION ST / OCEAN AV</td>\n",
       "      <td>-122.435385</td>\n",
       "      <td>37.723910</td>\n",
       "      <td>(37.7239104470753, -122.435385454946)</td>\n",
       "      <td>1.608920e+13</td>\n",
       "    </tr>\n",
       "    <tr>\n",
       "      <th>9860</th>\n",
       "      <td>160889786.0</td>\n",
       "      <td>BURGLARY</td>\n",
       "      <td>BURGLARY OF RESIDENCE, ATTEMPTED FORCIBLE ENTRY</td>\n",
       "      <td>Tuesday</td>\n",
       "      <td>2016-11-01</td>\n",
       "      <td>02:54</td>\n",
       "      <td>MISSION</td>\n",
       "      <td>NONE</td>\n",
       "      <td>4000 Block of 19TH ST</td>\n",
       "      <td>-122.433209</td>\n",
       "      <td>37.759334</td>\n",
       "      <td>(37.7593336636293, -122.433208516014)</td>\n",
       "      <td>1.608900e+13</td>\n",
       "    </tr>\n",
       "    <tr>\n",
       "      <th>9859</th>\n",
       "      <td>160889764.0</td>\n",
       "      <td>OTHER OFFENSES</td>\n",
       "      <td>LOST/STOLEN LICENSE PLATE</td>\n",
       "      <td>Monday</td>\n",
       "      <td>2016-10-31</td>\n",
       "      <td>17:30</td>\n",
       "      <td>MISSION</td>\n",
       "      <td>NONE</td>\n",
       "      <td>SOUTH VAN NESS AV / 26TH ST</td>\n",
       "      <td>-122.415954</td>\n",
       "      <td>37.749173</td>\n",
       "      <td>(37.7491729638325, -122.415954301518)</td>\n",
       "      <td>1.608900e+13</td>\n",
       "    </tr>\n",
       "    <tr>\n",
       "      <th>9858</th>\n",
       "      <td>160889742.0</td>\n",
       "      <td>OTHER OFFENSES</td>\n",
       "      <td>FALSE PERSONATION AND CHEAT CRIMES (GENERAL)</td>\n",
       "      <td>Monday</td>\n",
       "      <td>2016-10-03</td>\n",
       "      <td>08:00</td>\n",
       "      <td>TARAVAL</td>\n",
       "      <td>NONE</td>\n",
       "      <td>2000 Block of GREAT HY</td>\n",
       "      <td>-122.507747</td>\n",
       "      <td>37.748168</td>\n",
       "      <td>(37.7481676180147, -122.507747058887)</td>\n",
       "      <td>1.608900e+13</td>\n",
       "    </tr>\n",
       "    <tr>\n",
       "      <th>9857</th>\n",
       "      <td>160889736.0</td>\n",
       "      <td>WARRANTS</td>\n",
       "      <td>ENROUTE TO OUTSIDE JURISDICTION</td>\n",
       "      <td>Tuesday</td>\n",
       "      <td>2016-11-01</td>\n",
       "      <td>10:43</td>\n",
       "      <td>SOUTHERN</td>\n",
       "      <td>ARREST, BOOKED</td>\n",
       "      <td>800 Block of BRYANT ST</td>\n",
       "      <td>-122.403405</td>\n",
       "      <td>37.775421</td>\n",
       "      <td>(37.775420706711, -122.403404791479)</td>\n",
       "      <td>1.608900e+13</td>\n",
       "    </tr>\n",
       "    <tr>\n",
       "      <th>9826</th>\n",
       "      <td>160887677.0</td>\n",
       "      <td>ASSAULT</td>\n",
       "      <td>BATTERY</td>\n",
       "      <td>Monday</td>\n",
       "      <td>2016-10-31</td>\n",
       "      <td>16:48</td>\n",
       "      <td>TENDERLOIN</td>\n",
       "      <td>NONE</td>\n",
       "      <td>100 Block of HYDE ST</td>\n",
       "      <td>-122.415670</td>\n",
       "      <td>37.782120</td>\n",
       "      <td>(37.7821198488931, -122.415669661443)</td>\n",
       "      <td>1.608880e+13</td>\n",
       "    </tr>\n",
       "    <tr>\n",
       "      <th>9727</th>\n",
       "      <td>160884689.0</td>\n",
       "      <td>VEHICLE THEFT</td>\n",
       "      <td>STOLEN TRUCK</td>\n",
       "      <td>Sunday</td>\n",
       "      <td>2016-10-30</td>\n",
       "      <td>13:20</td>\n",
       "      <td>INGLESIDE</td>\n",
       "      <td>NONE</td>\n",
       "      <td>100 Block of OCEAN AV</td>\n",
       "      <td>-122.439345</td>\n",
       "      <td>37.723624</td>\n",
       "      <td>(37.723624467748, -122.43934468789)</td>\n",
       "      <td>1.608850e+13</td>\n",
       "    </tr>\n",
       "    <tr>\n",
       "      <th>9715</th>\n",
       "      <td>160883766.0</td>\n",
       "      <td>WEAPON LAWS</td>\n",
       "      <td>EXHIBITING DEADLY WEAPON IN A THREATING MANNER</td>\n",
       "      <td>Sunday</td>\n",
       "      <td>2016-10-30</td>\n",
       "      <td>11:17</td>\n",
       "      <td>BAYVIEW</td>\n",
       "      <td>ARREST, BOOKED</td>\n",
       "      <td>3800 Block of 3RD ST</td>\n",
       "      <td>-122.387940</td>\n",
       "      <td>37.742260</td>\n",
       "      <td>(37.7422600519555, -122.387939452192)</td>\n",
       "      <td>1.608840e+13</td>\n",
       "    </tr>\n",
       "    <tr>\n",
       "      <th>9714</th>\n",
       "      <td>160883750.0</td>\n",
       "      <td>BURGLARY</td>\n",
       "      <td>BURGLARY OF STORE, FORCIBLE ENTRY</td>\n",
       "      <td>Saturday</td>\n",
       "      <td>2016-10-29</td>\n",
       "      <td>19:00</td>\n",
       "      <td>CENTRAL</td>\n",
       "      <td>NONE</td>\n",
       "      <td>200 Block of GRANT AV</td>\n",
       "      <td>-122.405185</td>\n",
       "      <td>37.788876</td>\n",
       "      <td>(37.7888762183538, -122.405184569667)</td>\n",
       "      <td>1.608840e+13</td>\n",
       "    </tr>\n",
       "    <tr>\n",
       "      <th>9711</th>\n",
       "      <td>160883255.0</td>\n",
       "      <td>LARCENY/THEFT</td>\n",
       "      <td>GRAND THEFT FROM LOCKED AUTO</td>\n",
       "      <td>Saturday</td>\n",
       "      <td>2016-10-29</td>\n",
       "      <td>21:50</td>\n",
       "      <td>SOUTHERN</td>\n",
       "      <td>NONE</td>\n",
       "      <td>600 Block of MINNA ST</td>\n",
       "      <td>-122.411206</td>\n",
       "      <td>37.778224</td>\n",
       "      <td>(37.7782244806331, -122.411205728723)</td>\n",
       "      <td>1.608830e+13</td>\n",
       "    </tr>\n",
       "    <tr>\n",
       "      <th>9710</th>\n",
       "      <td>160883249.0</td>\n",
       "      <td>VANDALISM</td>\n",
       "      <td>MALICIOUS MISCHIEF, VANDALISM OF VEHICLES</td>\n",
       "      <td>Sunday</td>\n",
       "      <td>2016-10-30</td>\n",
       "      <td>03:08</td>\n",
       "      <td>CENTRAL</td>\n",
       "      <td>ARREST, BOOKED</td>\n",
       "      <td>0 Block of BROADWAY ST</td>\n",
       "      <td>-122.399296</td>\n",
       "      <td>37.798859</td>\n",
       "      <td>(37.798859198392, -122.399295690795)</td>\n",
       "      <td>1.608830e+13</td>\n",
       "    </tr>\n",
       "    <tr>\n",
       "      <th>9644</th>\n",
       "      <td>160880427.0</td>\n",
       "      <td>OTHER OFFENSES</td>\n",
       "      <td>RESISTING ARREST</td>\n",
       "      <td>Saturday</td>\n",
       "      <td>2016-10-29</td>\n",
       "      <td>06:20</td>\n",
       "      <td>MISSION</td>\n",
       "      <td>ARREST, BOOKED</td>\n",
       "      <td>20TH ST / DOLORES ST</td>\n",
       "      <td>-122.425768</td>\n",
       "      <td>37.758226</td>\n",
       "      <td>(37.7582261992584, -122.425768246873)</td>\n",
       "      <td>1.608800e+13</td>\n",
       "    </tr>\n",
       "    <tr>\n",
       "      <th>9645</th>\n",
       "      <td>160880427.0</td>\n",
       "      <td>VANDALISM</td>\n",
       "      <td>MALICIOUS MISCHIEF, GRAFFITI</td>\n",
       "      <td>Saturday</td>\n",
       "      <td>2016-10-29</td>\n",
       "      <td>06:20</td>\n",
       "      <td>MISSION</td>\n",
       "      <td>ARREST, BOOKED</td>\n",
       "      <td>20TH ST / DOLORES ST</td>\n",
       "      <td>-122.425768</td>\n",
       "      <td>37.758226</td>\n",
       "      <td>(37.7582261992584, -122.425768246873)</td>\n",
       "      <td>1.608800e+13</td>\n",
       "    </tr>\n",
       "    <tr>\n",
       "      <th>9611</th>\n",
       "      <td>160877424.0</td>\n",
       "      <td>VANDALISM</td>\n",
       "      <td>MALICIOUS MISCHIEF, VANDALISM OF VEHICLES</td>\n",
       "      <td>Friday</td>\n",
       "      <td>2016-10-28</td>\n",
       "      <td>05:30</td>\n",
       "      <td>NORTHERN</td>\n",
       "      <td>NONE</td>\n",
       "      <td>0 Block of DANIELBURNHAM CT</td>\n",
       "      <td>-122.422541</td>\n",
       "      <td>37.786909</td>\n",
       "      <td>(37.7869088658022, -122.422540554174)</td>\n",
       "      <td>1.608770e+13</td>\n",
       "    </tr>\n",
       "    <tr>\n",
       "      <th>9603</th>\n",
       "      <td>160876642.0</td>\n",
       "      <td>ASSAULT</td>\n",
       "      <td>BATTERY</td>\n",
       "      <td>Thursday</td>\n",
       "      <td>2016-10-27</td>\n",
       "      <td>20:55</td>\n",
       "      <td>MISSION</td>\n",
       "      <td>ARREST, BOOKED</td>\n",
       "      <td>2000 Block of MISSION ST</td>\n",
       "      <td>-122.419658</td>\n",
       "      <td>37.764221</td>\n",
       "      <td>(37.7642205603745, -122.41965834371)</td>\n",
       "      <td>1.608770e+13</td>\n",
       "    </tr>\n",
       "    <tr>\n",
       "      <th>9602</th>\n",
       "      <td>160876006.0</td>\n",
       "      <td>ASSAULT</td>\n",
       "      <td>ELDER ADULT OR DEPENDENT ABUSE (NOT EMBEZZLEME...</td>\n",
       "      <td>Monday</td>\n",
       "      <td>2016-10-24</td>\n",
       "      <td>10:00</td>\n",
       "      <td>INGLESIDE</td>\n",
       "      <td>ARREST, BOOKED</td>\n",
       "      <td>0 Block of SOUTHHILL BL</td>\n",
       "      <td>-122.432639</td>\n",
       "      <td>37.712453</td>\n",
       "      <td>(37.7124534320617, -122.43263862183)</td>\n",
       "      <td>1.608760e+13</td>\n",
       "    </tr>\n",
       "    <tr>\n",
       "      <th>9601</th>\n",
       "      <td>160876006.0</td>\n",
       "      <td>ASSAULT</td>\n",
       "      <td>AGGRAVATED ASSAULT WITH BODILY FORCE</td>\n",
       "      <td>Monday</td>\n",
       "      <td>2016-10-24</td>\n",
       "      <td>10:00</td>\n",
       "      <td>INGLESIDE</td>\n",
       "      <td>ARREST, BOOKED</td>\n",
       "      <td>0 Block of SOUTHHILL BL</td>\n",
       "      <td>-122.432639</td>\n",
       "      <td>37.712453</td>\n",
       "      <td>(37.7124534320617, -122.43263862183)</td>\n",
       "      <td>1.608760e+13</td>\n",
       "    </tr>\n",
       "    <tr>\n",
       "      <th>9932</th>\n",
       "      <td>160875876.0</td>\n",
       "      <td>NON-CRIMINAL</td>\n",
       "      <td>COURTESY REPORT</td>\n",
       "      <td>Thursday</td>\n",
       "      <td>2016-10-27</td>\n",
       "      <td>16:00</td>\n",
       "      <td>SOUTHERN</td>\n",
       "      <td>NONE</td>\n",
       "      <td>HOWARD ST / 11TH ST</td>\n",
       "      <td>-122.415565</td>\n",
       "      <td>37.773099</td>\n",
       "      <td>(37.773099482048, -122.415564465695)</td>\n",
       "      <td>1.608760e+13</td>\n",
       "    </tr>\n",
       "    <tr>\n",
       "      <th>9598</th>\n",
       "      <td>160875008.0</td>\n",
       "      <td>NON-CRIMINAL</td>\n",
       "      <td>AIDED CASE, MENTAL DISTURBED</td>\n",
       "      <td>Thursday</td>\n",
       "      <td>2016-10-27</td>\n",
       "      <td>11:15</td>\n",
       "      <td>PARK</td>\n",
       "      <td>NONE</td>\n",
       "      <td>800 Block of BUENAVISTAWEST AV</td>\n",
       "      <td>-122.442598</td>\n",
       "      <td>37.769312</td>\n",
       "      <td>(37.7693116425317, -122.442597549743)</td>\n",
       "      <td>1.608750e+13</td>\n",
       "    </tr>\n",
       "  </tbody>\n",
       "</table>\n",
       "</div>"
      ],
      "text/plain": [
       "       IncidntNum        Category  \\\n",
       "9554  160939676.0         ASSAULT   \n",
       "9986  160895846.0  OTHER OFFENSES   \n",
       "9964  160893652.0    NON-CRIMINAL   \n",
       "9963  160893464.0     WEAPON LAWS   \n",
       "9962  160893395.0         ASSAULT   \n",
       "9953  160892842.0  SUSPICIOUS OCC   \n",
       "9952  160892836.0   LARCENY/THEFT   \n",
       "9951  160892820.0         ASSAULT   \n",
       "9950  160892814.0  OTHER OFFENSES   \n",
       "9945  160892591.0         ASSAULT   \n",
       "9944  160892585.0       VANDALISM   \n",
       "9933  160891662.0         ASSAULT   \n",
       "9860  160889786.0        BURGLARY   \n",
       "9859  160889764.0  OTHER OFFENSES   \n",
       "9858  160889742.0  OTHER OFFENSES   \n",
       "9857  160889736.0        WARRANTS   \n",
       "9826  160887677.0         ASSAULT   \n",
       "9727  160884689.0   VEHICLE THEFT   \n",
       "9715  160883766.0     WEAPON LAWS   \n",
       "9714  160883750.0        BURGLARY   \n",
       "9711  160883255.0   LARCENY/THEFT   \n",
       "9710  160883249.0       VANDALISM   \n",
       "9644  160880427.0  OTHER OFFENSES   \n",
       "9645  160880427.0       VANDALISM   \n",
       "9611  160877424.0       VANDALISM   \n",
       "9603  160876642.0         ASSAULT   \n",
       "9602  160876006.0         ASSAULT   \n",
       "9601  160876006.0         ASSAULT   \n",
       "9932  160875876.0    NON-CRIMINAL   \n",
       "9598  160875008.0    NON-CRIMINAL   \n",
       "\n",
       "                                               Descript  DayOfWeek       Date  \\\n",
       "9554                                            BATTERY     Monday 2016-11-14   \n",
       "9986                                  FALSE PERSONATION     Monday 2016-10-31   \n",
       "9964                           CIVIL SIDEWALKS, WARNING  Wednesday 2016-11-02   \n",
       "9963                        CARRYING A CONCEALED WEAPON  Wednesday 2016-11-02   \n",
       "9962                                            BATTERY  Wednesday 2016-11-02   \n",
       "9953                              SUSPICIOUS OCCURRENCE  Wednesday 2016-11-02   \n",
       "9952                       PETTY THEFT FROM LOCKED AUTO    Tuesday 2016-10-18   \n",
       "9951                               THREATS AGAINST LIFE  Wednesday 2016-11-02   \n",
       "9950              DRIVERS LICENSE, SUSPENDED OR REVOKED  Wednesday 2016-11-02   \n",
       "9945                               THREATS AGAINST LIFE  Wednesday 2016-11-02   \n",
       "9944          MALICIOUS MISCHIEF, VANDALISM OF VEHICLES  Wednesday 2016-11-02   \n",
       "9933                                 FALSE IMPRISONMENT    Tuesday 2016-11-01   \n",
       "9860    BURGLARY OF RESIDENCE, ATTEMPTED FORCIBLE ENTRY    Tuesday 2016-11-01   \n",
       "9859                          LOST/STOLEN LICENSE PLATE     Monday 2016-10-31   \n",
       "9858       FALSE PERSONATION AND CHEAT CRIMES (GENERAL)     Monday 2016-10-03   \n",
       "9857                    ENROUTE TO OUTSIDE JURISDICTION    Tuesday 2016-11-01   \n",
       "9826                                            BATTERY     Monday 2016-10-31   \n",
       "9727                                       STOLEN TRUCK     Sunday 2016-10-30   \n",
       "9715     EXHIBITING DEADLY WEAPON IN A THREATING MANNER     Sunday 2016-10-30   \n",
       "9714                  BURGLARY OF STORE, FORCIBLE ENTRY   Saturday 2016-10-29   \n",
       "9711                       GRAND THEFT FROM LOCKED AUTO   Saturday 2016-10-29   \n",
       "9710          MALICIOUS MISCHIEF, VANDALISM OF VEHICLES     Sunday 2016-10-30   \n",
       "9644                                   RESISTING ARREST   Saturday 2016-10-29   \n",
       "9645                       MALICIOUS MISCHIEF, GRAFFITI   Saturday 2016-10-29   \n",
       "9611          MALICIOUS MISCHIEF, VANDALISM OF VEHICLES     Friday 2016-10-28   \n",
       "9603                                            BATTERY   Thursday 2016-10-27   \n",
       "9602  ELDER ADULT OR DEPENDENT ABUSE (NOT EMBEZZLEME...     Monday 2016-10-24   \n",
       "9601               AGGRAVATED ASSAULT WITH BODILY FORCE     Monday 2016-10-24   \n",
       "9932                                    COURTESY REPORT   Thursday 2016-10-27   \n",
       "9598                       AIDED CASE, MENTAL DISTURBED   Thursday 2016-10-27   \n",
       "\n",
       "       Time  PdDistrict      Resolution                         Address  \\\n",
       "9554  09:20    NORTHERN            NONE              ELLIS ST / POLK ST   \n",
       "9986  10:00     MISSION            NONE            100 Block of CAPP ST   \n",
       "9964  18:02     MISSION            NONE           21ST ST / SHOTWELL ST   \n",
       "9963  16:42     BAYVIEW            NONE           1100 Block of 18TH ST   \n",
       "9962  16:15     TARAVAL            NONE      MONTEREY BL / NORTHGATE DR   \n",
       "9953  10:00     MISSION            NONE            200 Block of 14TH ST   \n",
       "9952  10:00     CENTRAL            NONE           VALLEJO ST / MASON ST   \n",
       "9951  11:45        PARK            NONE          STANYAN ST / WALLER ST   \n",
       "9950  12:10     BAYVIEW  ARREST, BOOKED             QUESADA AV / 3RD ST   \n",
       "9945  10:19     BAYVIEW            NONE          0 Block of CASHMERE ST   \n",
       "9944  10:38    NORTHERN  ARREST, BOOKED           100 Block of GROVE ST   \n",
       "9933  22:30   INGLESIDE  ARREST, BOOKED           MISSION ST / OCEAN AV   \n",
       "9860  02:54     MISSION            NONE           4000 Block of 19TH ST   \n",
       "9859  17:30     MISSION            NONE     SOUTH VAN NESS AV / 26TH ST   \n",
       "9858  08:00     TARAVAL            NONE          2000 Block of GREAT HY   \n",
       "9857  10:43    SOUTHERN  ARREST, BOOKED          800 Block of BRYANT ST   \n",
       "9826  16:48  TENDERLOIN            NONE            100 Block of HYDE ST   \n",
       "9727  13:20   INGLESIDE            NONE           100 Block of OCEAN AV   \n",
       "9715  11:17     BAYVIEW  ARREST, BOOKED            3800 Block of 3RD ST   \n",
       "9714  19:00     CENTRAL            NONE           200 Block of GRANT AV   \n",
       "9711  21:50    SOUTHERN            NONE           600 Block of MINNA ST   \n",
       "9710  03:08     CENTRAL  ARREST, BOOKED          0 Block of BROADWAY ST   \n",
       "9644  06:20     MISSION  ARREST, BOOKED            20TH ST / DOLORES ST   \n",
       "9645  06:20     MISSION  ARREST, BOOKED            20TH ST / DOLORES ST   \n",
       "9611  05:30    NORTHERN            NONE     0 Block of DANIELBURNHAM CT   \n",
       "9603  20:55     MISSION  ARREST, BOOKED        2000 Block of MISSION ST   \n",
       "9602  10:00   INGLESIDE  ARREST, BOOKED         0 Block of SOUTHHILL BL   \n",
       "9601  10:00   INGLESIDE  ARREST, BOOKED         0 Block of SOUTHHILL BL   \n",
       "9932  16:00    SOUTHERN            NONE             HOWARD ST / 11TH ST   \n",
       "9598  11:15        PARK            NONE  800 Block of BUENAVISTAWEST AV   \n",
       "\n",
       "               X          Y                               Location  \\\n",
       "9554 -122.419366  37.784028  (37.7840280452032, -122.419366294797)   \n",
       "9986 -122.418550  37.764284  (37.7642837095036, -122.418549940195)   \n",
       "9964 -122.415629  37.757232   (37.757232227914, -122.415629332446)   \n",
       "9963 -122.394108  37.762671  (37.7626705352496, -122.394108177688)   \n",
       "9962 -122.461737  37.730023  (37.7300233378439, -122.461736679015)   \n",
       "9953 -122.418885  37.768285  (37.7682847825555, -122.418885184858)   \n",
       "9952 -122.412099  37.798166  (37.7981663310688, -122.412098601225)   \n",
       "9951 -122.453355  37.768246  (37.7682463076665, -122.453354647469)   \n",
       "9950 -122.391246  37.733225  (37.7332252032804, -122.391245623019)   \n",
       "9945 -122.382705  37.735886  (37.7358858148594, -122.382705072801)   \n",
       "9944 -122.419064  37.778327  (37.7783268674219, -122.419063862505)   \n",
       "9933 -122.435385  37.723910  (37.7239104470753, -122.435385454946)   \n",
       "9860 -122.433209  37.759334  (37.7593336636293, -122.433208516014)   \n",
       "9859 -122.415954  37.749173  (37.7491729638325, -122.415954301518)   \n",
       "9858 -122.507747  37.748168  (37.7481676180147, -122.507747058887)   \n",
       "9857 -122.403405  37.775421   (37.775420706711, -122.403404791479)   \n",
       "9826 -122.415670  37.782120  (37.7821198488931, -122.415669661443)   \n",
       "9727 -122.439345  37.723624    (37.723624467748, -122.43934468789)   \n",
       "9715 -122.387940  37.742260  (37.7422600519555, -122.387939452192)   \n",
       "9714 -122.405185  37.788876  (37.7888762183538, -122.405184569667)   \n",
       "9711 -122.411206  37.778224  (37.7782244806331, -122.411205728723)   \n",
       "9710 -122.399296  37.798859   (37.798859198392, -122.399295690795)   \n",
       "9644 -122.425768  37.758226  (37.7582261992584, -122.425768246873)   \n",
       "9645 -122.425768  37.758226  (37.7582261992584, -122.425768246873)   \n",
       "9611 -122.422541  37.786909  (37.7869088658022, -122.422540554174)   \n",
       "9603 -122.419658  37.764221   (37.7642205603745, -122.41965834371)   \n",
       "9602 -122.432639  37.712453   (37.7124534320617, -122.43263862183)   \n",
       "9601 -122.432639  37.712453   (37.7124534320617, -122.43263862183)   \n",
       "9932 -122.415565  37.773099   (37.773099482048, -122.415564465695)   \n",
       "9598 -122.442598  37.769312  (37.7693116425317, -122.442597549743)   \n",
       "\n",
       "              PdId  \n",
       "9554  1.609400e+13  \n",
       "9986  1.608960e+13  \n",
       "9964  1.608940e+13  \n",
       "9963  1.608930e+13  \n",
       "9962  1.608930e+13  \n",
       "9953  1.608930e+13  \n",
       "9952  1.608930e+13  \n",
       "9951  1.608930e+13  \n",
       "9950  1.608930e+13  \n",
       "9945  1.608930e+13  \n",
       "9944  1.608930e+13  \n",
       "9933  1.608920e+13  \n",
       "9860  1.608900e+13  \n",
       "9859  1.608900e+13  \n",
       "9858  1.608900e+13  \n",
       "9857  1.608900e+13  \n",
       "9826  1.608880e+13  \n",
       "9727  1.608850e+13  \n",
       "9715  1.608840e+13  \n",
       "9714  1.608840e+13  \n",
       "9711  1.608830e+13  \n",
       "9710  1.608830e+13  \n",
       "9644  1.608800e+13  \n",
       "9645  1.608800e+13  \n",
       "9611  1.608770e+13  \n",
       "9603  1.608770e+13  \n",
       "9602  1.608760e+13  \n",
       "9601  1.608760e+13  \n",
       "9932  1.608760e+13  \n",
       "9598  1.608750e+13  "
      ]
     },
     "execution_count": 46,
     "metadata": {},
     "output_type": "execute_result"
    }
   ],
   "source": [
    "df.sort_values (by='IncidntNum', ascending = False, inplace=True)\n",
    "df.head(30)"
   ]
  },
  {
   "cell_type": "code",
   "execution_count": 47,
   "metadata": {},
   "outputs": [
    {
     "data": {
      "text/html": [
       "<div>\n",
       "<style scoped>\n",
       "    .dataframe tbody tr th:only-of-type {\n",
       "        vertical-align: middle;\n",
       "    }\n",
       "\n",
       "    .dataframe tbody tr th {\n",
       "        vertical-align: top;\n",
       "    }\n",
       "\n",
       "    .dataframe thead th {\n",
       "        text-align: right;\n",
       "    }\n",
       "</style>\n",
       "<table border=\"1\" class=\"dataframe\">\n",
       "  <thead>\n",
       "    <tr style=\"text-align: right;\">\n",
       "      <th></th>\n",
       "      <th>IncidntNum</th>\n",
       "      <th>Category</th>\n",
       "      <th>Descript</th>\n",
       "      <th>DayOfWeek</th>\n",
       "      <th>Date</th>\n",
       "      <th>Time</th>\n",
       "      <th>PdDistrict</th>\n",
       "      <th>Resolution</th>\n",
       "      <th>Address</th>\n",
       "      <th>X</th>\n",
       "      <th>Y</th>\n",
       "      <th>Location</th>\n",
       "      <th>PdId</th>\n",
       "    </tr>\n",
       "  </thead>\n",
       "  <tbody>\n",
       "    <tr>\n",
       "      <th>2467</th>\n",
       "      <td>150273337.0</td>\n",
       "      <td>WARRANTS</td>\n",
       "      <td>WARRANT ARREST</td>\n",
       "      <td>Wednesday</td>\n",
       "      <td>2016-12-21</td>\n",
       "      <td>18:17</td>\n",
       "      <td>TENDERLOIN</td>\n",
       "      <td>ARREST, BOOKED</td>\n",
       "      <td>300 Block of JONES ST</td>\n",
       "      <td>-122.412759</td>\n",
       "      <td>37.784400</td>\n",
       "      <td>(37.7843997500192, -122.412758846145)</td>\n",
       "      <td>1.502730e+13</td>\n",
       "    </tr>\n",
       "    <tr>\n",
       "      <th>115</th>\n",
       "      <td>150480366.0</td>\n",
       "      <td>VEHICLE THEFT</td>\n",
       "      <td>STOLEN AND RECOVERED VEHICLE</td>\n",
       "      <td>Thursday</td>\n",
       "      <td>2016-12-08</td>\n",
       "      <td>15:00</td>\n",
       "      <td>NORTHERN</td>\n",
       "      <td>ARREST, BOOKED</td>\n",
       "      <td>PINE ST / POLK ST</td>\n",
       "      <td>-122.420497</td>\n",
       "      <td>37.789619</td>\n",
       "      <td>(37.789618819255, -122.42049728879)</td>\n",
       "      <td>1.504800e+13</td>\n",
       "    </tr>\n",
       "    <tr>\n",
       "      <th>116</th>\n",
       "      <td>150480366.0</td>\n",
       "      <td>DRUNKENNESS</td>\n",
       "      <td>UNDER INFLUENCE OF ALCOHOL IN A PUBLIC PLACE</td>\n",
       "      <td>Thursday</td>\n",
       "      <td>2016-12-08</td>\n",
       "      <td>15:00</td>\n",
       "      <td>NORTHERN</td>\n",
       "      <td>ARREST, BOOKED</td>\n",
       "      <td>PINE ST / POLK ST</td>\n",
       "      <td>-122.420497</td>\n",
       "      <td>37.789619</td>\n",
       "      <td>(37.789618819255, -122.42049728879)</td>\n",
       "      <td>1.504800e+13</td>\n",
       "    </tr>\n",
       "    <tr>\n",
       "      <th>117</th>\n",
       "      <td>150480366.0</td>\n",
       "      <td>VANDALISM</td>\n",
       "      <td>MALICIOUS MISCHIEF, VANDALISM</td>\n",
       "      <td>Thursday</td>\n",
       "      <td>2016-12-08</td>\n",
       "      <td>15:00</td>\n",
       "      <td>NORTHERN</td>\n",
       "      <td>ARREST, BOOKED</td>\n",
       "      <td>PINE ST / POLK ST</td>\n",
       "      <td>-122.420497</td>\n",
       "      <td>37.789619</td>\n",
       "      <td>(37.789618819255, -122.42049728879)</td>\n",
       "      <td>1.504800e+13</td>\n",
       "    </tr>\n",
       "    <tr>\n",
       "      <th>118</th>\n",
       "      <td>150480366.0</td>\n",
       "      <td>VANDALISM</td>\n",
       "      <td>MALICIOUS MISCHIEF, VANDALISM OF VEHICLES</td>\n",
       "      <td>Thursday</td>\n",
       "      <td>2016-12-08</td>\n",
       "      <td>15:00</td>\n",
       "      <td>NORTHERN</td>\n",
       "      <td>ARREST, BOOKED</td>\n",
       "      <td>PINE ST / POLK ST</td>\n",
       "      <td>-122.420497</td>\n",
       "      <td>37.789619</td>\n",
       "      <td>(37.789618819255, -122.42049728879)</td>\n",
       "      <td>1.504800e+13</td>\n",
       "    </tr>\n",
       "    <tr>\n",
       "      <th>5332</th>\n",
       "      <td>160220970.0</td>\n",
       "      <td>FRAUD</td>\n",
       "      <td>CREDIT CARD, THEFT BY USE OF</td>\n",
       "      <td>Friday</td>\n",
       "      <td>2016-11-18</td>\n",
       "      <td>12:00</td>\n",
       "      <td>BAYVIEW</td>\n",
       "      <td>NONE</td>\n",
       "      <td>1200 Block of DEHARO ST</td>\n",
       "      <td>-122.400632</td>\n",
       "      <td>37.753965</td>\n",
       "      <td>(37.7539653995399, -122.4006319548)</td>\n",
       "      <td>1.602210e+13</td>\n",
       "    </tr>\n",
       "    <tr>\n",
       "      <th>9554</th>\n",
       "      <td>160939676.0</td>\n",
       "      <td>ASSAULT</td>\n",
       "      <td>BATTERY</td>\n",
       "      <td>Monday</td>\n",
       "      <td>2016-11-14</td>\n",
       "      <td>09:20</td>\n",
       "      <td>NORTHERN</td>\n",
       "      <td>NONE</td>\n",
       "      <td>ELLIS ST / POLK ST</td>\n",
       "      <td>-122.419366</td>\n",
       "      <td>37.784028</td>\n",
       "      <td>(37.7840280452032, -122.419366294797)</td>\n",
       "      <td>1.609400e+13</td>\n",
       "    </tr>\n",
       "    <tr>\n",
       "      <th>9964</th>\n",
       "      <td>160893652.0</td>\n",
       "      <td>NON-CRIMINAL</td>\n",
       "      <td>CIVIL SIDEWALKS, WARNING</td>\n",
       "      <td>Wednesday</td>\n",
       "      <td>2016-11-02</td>\n",
       "      <td>18:02</td>\n",
       "      <td>MISSION</td>\n",
       "      <td>NONE</td>\n",
       "      <td>21ST ST / SHOTWELL ST</td>\n",
       "      <td>-122.415629</td>\n",
       "      <td>37.757232</td>\n",
       "      <td>(37.757232227914, -122.415629332446)</td>\n",
       "      <td>1.608940e+13</td>\n",
       "    </tr>\n",
       "    <tr>\n",
       "      <th>9963</th>\n",
       "      <td>160893464.0</td>\n",
       "      <td>WEAPON LAWS</td>\n",
       "      <td>CARRYING A CONCEALED WEAPON</td>\n",
       "      <td>Wednesday</td>\n",
       "      <td>2016-11-02</td>\n",
       "      <td>16:42</td>\n",
       "      <td>BAYVIEW</td>\n",
       "      <td>NONE</td>\n",
       "      <td>1100 Block of 18TH ST</td>\n",
       "      <td>-122.394108</td>\n",
       "      <td>37.762671</td>\n",
       "      <td>(37.7626705352496, -122.394108177688)</td>\n",
       "      <td>1.608930e+13</td>\n",
       "    </tr>\n",
       "    <tr>\n",
       "      <th>9962</th>\n",
       "      <td>160893395.0</td>\n",
       "      <td>ASSAULT</td>\n",
       "      <td>BATTERY</td>\n",
       "      <td>Wednesday</td>\n",
       "      <td>2016-11-02</td>\n",
       "      <td>16:15</td>\n",
       "      <td>TARAVAL</td>\n",
       "      <td>NONE</td>\n",
       "      <td>MONTEREY BL / NORTHGATE DR</td>\n",
       "      <td>-122.461737</td>\n",
       "      <td>37.730023</td>\n",
       "      <td>(37.7300233378439, -122.461736679015)</td>\n",
       "      <td>1.608930e+13</td>\n",
       "    </tr>\n",
       "    <tr>\n",
       "      <th>9953</th>\n",
       "      <td>160892842.0</td>\n",
       "      <td>SUSPICIOUS OCC</td>\n",
       "      <td>SUSPICIOUS OCCURRENCE</td>\n",
       "      <td>Wednesday</td>\n",
       "      <td>2016-11-02</td>\n",
       "      <td>10:00</td>\n",
       "      <td>MISSION</td>\n",
       "      <td>NONE</td>\n",
       "      <td>200 Block of 14TH ST</td>\n",
       "      <td>-122.418885</td>\n",
       "      <td>37.768285</td>\n",
       "      <td>(37.7682847825555, -122.418885184858)</td>\n",
       "      <td>1.608930e+13</td>\n",
       "    </tr>\n",
       "    <tr>\n",
       "      <th>9951</th>\n",
       "      <td>160892820.0</td>\n",
       "      <td>ASSAULT</td>\n",
       "      <td>THREATS AGAINST LIFE</td>\n",
       "      <td>Wednesday</td>\n",
       "      <td>2016-11-02</td>\n",
       "      <td>11:45</td>\n",
       "      <td>PARK</td>\n",
       "      <td>NONE</td>\n",
       "      <td>STANYAN ST / WALLER ST</td>\n",
       "      <td>-122.453355</td>\n",
       "      <td>37.768246</td>\n",
       "      <td>(37.7682463076665, -122.453354647469)</td>\n",
       "      <td>1.608930e+13</td>\n",
       "    </tr>\n",
       "    <tr>\n",
       "      <th>9950</th>\n",
       "      <td>160892814.0</td>\n",
       "      <td>OTHER OFFENSES</td>\n",
       "      <td>DRIVERS LICENSE, SUSPENDED OR REVOKED</td>\n",
       "      <td>Wednesday</td>\n",
       "      <td>2016-11-02</td>\n",
       "      <td>12:10</td>\n",
       "      <td>BAYVIEW</td>\n",
       "      <td>ARREST, BOOKED</td>\n",
       "      <td>QUESADA AV / 3RD ST</td>\n",
       "      <td>-122.391246</td>\n",
       "      <td>37.733225</td>\n",
       "      <td>(37.7332252032804, -122.391245623019)</td>\n",
       "      <td>1.608930e+13</td>\n",
       "    </tr>\n",
       "    <tr>\n",
       "      <th>9945</th>\n",
       "      <td>160892591.0</td>\n",
       "      <td>ASSAULT</td>\n",
       "      <td>THREATS AGAINST LIFE</td>\n",
       "      <td>Wednesday</td>\n",
       "      <td>2016-11-02</td>\n",
       "      <td>10:19</td>\n",
       "      <td>BAYVIEW</td>\n",
       "      <td>NONE</td>\n",
       "      <td>0 Block of CASHMERE ST</td>\n",
       "      <td>-122.382705</td>\n",
       "      <td>37.735886</td>\n",
       "      <td>(37.7358858148594, -122.382705072801)</td>\n",
       "      <td>1.608930e+13</td>\n",
       "    </tr>\n",
       "    <tr>\n",
       "      <th>9944</th>\n",
       "      <td>160892585.0</td>\n",
       "      <td>VANDALISM</td>\n",
       "      <td>MALICIOUS MISCHIEF, VANDALISM OF VEHICLES</td>\n",
       "      <td>Wednesday</td>\n",
       "      <td>2016-11-02</td>\n",
       "      <td>10:38</td>\n",
       "      <td>NORTHERN</td>\n",
       "      <td>ARREST, BOOKED</td>\n",
       "      <td>100 Block of GROVE ST</td>\n",
       "      <td>-122.419064</td>\n",
       "      <td>37.778327</td>\n",
       "      <td>(37.7783268674219, -122.419063862505)</td>\n",
       "      <td>1.608930e+13</td>\n",
       "    </tr>\n",
       "    <tr>\n",
       "      <th>9933</th>\n",
       "      <td>160891662.0</td>\n",
       "      <td>ASSAULT</td>\n",
       "      <td>FALSE IMPRISONMENT</td>\n",
       "      <td>Tuesday</td>\n",
       "      <td>2016-11-01</td>\n",
       "      <td>22:30</td>\n",
       "      <td>INGLESIDE</td>\n",
       "      <td>ARREST, BOOKED</td>\n",
       "      <td>MISSION ST / OCEAN AV</td>\n",
       "      <td>-122.435385</td>\n",
       "      <td>37.723910</td>\n",
       "      <td>(37.7239104470753, -122.435385454946)</td>\n",
       "      <td>1.608920e+13</td>\n",
       "    </tr>\n",
       "    <tr>\n",
       "      <th>9860</th>\n",
       "      <td>160889786.0</td>\n",
       "      <td>BURGLARY</td>\n",
       "      <td>BURGLARY OF RESIDENCE, ATTEMPTED FORCIBLE ENTRY</td>\n",
       "      <td>Tuesday</td>\n",
       "      <td>2016-11-01</td>\n",
       "      <td>02:54</td>\n",
       "      <td>MISSION</td>\n",
       "      <td>NONE</td>\n",
       "      <td>4000 Block of 19TH ST</td>\n",
       "      <td>-122.433209</td>\n",
       "      <td>37.759334</td>\n",
       "      <td>(37.7593336636293, -122.433208516014)</td>\n",
       "      <td>1.608900e+13</td>\n",
       "    </tr>\n",
       "    <tr>\n",
       "      <th>9857</th>\n",
       "      <td>160889736.0</td>\n",
       "      <td>WARRANTS</td>\n",
       "      <td>ENROUTE TO OUTSIDE JURISDICTION</td>\n",
       "      <td>Tuesday</td>\n",
       "      <td>2016-11-01</td>\n",
       "      <td>10:43</td>\n",
       "      <td>SOUTHERN</td>\n",
       "      <td>ARREST, BOOKED</td>\n",
       "      <td>800 Block of BRYANT ST</td>\n",
       "      <td>-122.403405</td>\n",
       "      <td>37.775421</td>\n",
       "      <td>(37.775420706711, -122.403404791479)</td>\n",
       "      <td>1.608900e+13</td>\n",
       "    </tr>\n",
       "    <tr>\n",
       "      <th>9986</th>\n",
       "      <td>160895846.0</td>\n",
       "      <td>OTHER OFFENSES</td>\n",
       "      <td>FALSE PERSONATION</td>\n",
       "      <td>Monday</td>\n",
       "      <td>2016-10-31</td>\n",
       "      <td>10:00</td>\n",
       "      <td>MISSION</td>\n",
       "      <td>NONE</td>\n",
       "      <td>100 Block of CAPP ST</td>\n",
       "      <td>-122.418550</td>\n",
       "      <td>37.764284</td>\n",
       "      <td>(37.7642837095036, -122.418549940195)</td>\n",
       "      <td>1.608960e+13</td>\n",
       "    </tr>\n",
       "    <tr>\n",
       "      <th>9859</th>\n",
       "      <td>160889764.0</td>\n",
       "      <td>OTHER OFFENSES</td>\n",
       "      <td>LOST/STOLEN LICENSE PLATE</td>\n",
       "      <td>Monday</td>\n",
       "      <td>2016-10-31</td>\n",
       "      <td>17:30</td>\n",
       "      <td>MISSION</td>\n",
       "      <td>NONE</td>\n",
       "      <td>SOUTH VAN NESS AV / 26TH ST</td>\n",
       "      <td>-122.415954</td>\n",
       "      <td>37.749173</td>\n",
       "      <td>(37.7491729638325, -122.415954301518)</td>\n",
       "      <td>1.608900e+13</td>\n",
       "    </tr>\n",
       "    <tr>\n",
       "      <th>9826</th>\n",
       "      <td>160887677.0</td>\n",
       "      <td>ASSAULT</td>\n",
       "      <td>BATTERY</td>\n",
       "      <td>Monday</td>\n",
       "      <td>2016-10-31</td>\n",
       "      <td>16:48</td>\n",
       "      <td>TENDERLOIN</td>\n",
       "      <td>NONE</td>\n",
       "      <td>100 Block of HYDE ST</td>\n",
       "      <td>-122.415670</td>\n",
       "      <td>37.782120</td>\n",
       "      <td>(37.7821198488931, -122.415669661443)</td>\n",
       "      <td>1.608880e+13</td>\n",
       "    </tr>\n",
       "    <tr>\n",
       "      <th>9727</th>\n",
       "      <td>160884689.0</td>\n",
       "      <td>VEHICLE THEFT</td>\n",
       "      <td>STOLEN TRUCK</td>\n",
       "      <td>Sunday</td>\n",
       "      <td>2016-10-30</td>\n",
       "      <td>13:20</td>\n",
       "      <td>INGLESIDE</td>\n",
       "      <td>NONE</td>\n",
       "      <td>100 Block of OCEAN AV</td>\n",
       "      <td>-122.439345</td>\n",
       "      <td>37.723624</td>\n",
       "      <td>(37.723624467748, -122.43934468789)</td>\n",
       "      <td>1.608850e+13</td>\n",
       "    </tr>\n",
       "    <tr>\n",
       "      <th>9715</th>\n",
       "      <td>160883766.0</td>\n",
       "      <td>WEAPON LAWS</td>\n",
       "      <td>EXHIBITING DEADLY WEAPON IN A THREATING MANNER</td>\n",
       "      <td>Sunday</td>\n",
       "      <td>2016-10-30</td>\n",
       "      <td>11:17</td>\n",
       "      <td>BAYVIEW</td>\n",
       "      <td>ARREST, BOOKED</td>\n",
       "      <td>3800 Block of 3RD ST</td>\n",
       "      <td>-122.387940</td>\n",
       "      <td>37.742260</td>\n",
       "      <td>(37.7422600519555, -122.387939452192)</td>\n",
       "      <td>1.608840e+13</td>\n",
       "    </tr>\n",
       "    <tr>\n",
       "      <th>9710</th>\n",
       "      <td>160883249.0</td>\n",
       "      <td>VANDALISM</td>\n",
       "      <td>MALICIOUS MISCHIEF, VANDALISM OF VEHICLES</td>\n",
       "      <td>Sunday</td>\n",
       "      <td>2016-10-30</td>\n",
       "      <td>03:08</td>\n",
       "      <td>CENTRAL</td>\n",
       "      <td>ARREST, BOOKED</td>\n",
       "      <td>0 Block of BROADWAY ST</td>\n",
       "      <td>-122.399296</td>\n",
       "      <td>37.798859</td>\n",
       "      <td>(37.798859198392, -122.399295690795)</td>\n",
       "      <td>1.608830e+13</td>\n",
       "    </tr>\n",
       "    <tr>\n",
       "      <th>9714</th>\n",
       "      <td>160883750.0</td>\n",
       "      <td>BURGLARY</td>\n",
       "      <td>BURGLARY OF STORE, FORCIBLE ENTRY</td>\n",
       "      <td>Saturday</td>\n",
       "      <td>2016-10-29</td>\n",
       "      <td>19:00</td>\n",
       "      <td>CENTRAL</td>\n",
       "      <td>NONE</td>\n",
       "      <td>200 Block of GRANT AV</td>\n",
       "      <td>-122.405185</td>\n",
       "      <td>37.788876</td>\n",
       "      <td>(37.7888762183538, -122.405184569667)</td>\n",
       "      <td>1.608840e+13</td>\n",
       "    </tr>\n",
       "    <tr>\n",
       "      <th>9711</th>\n",
       "      <td>160883255.0</td>\n",
       "      <td>LARCENY/THEFT</td>\n",
       "      <td>GRAND THEFT FROM LOCKED AUTO</td>\n",
       "      <td>Saturday</td>\n",
       "      <td>2016-10-29</td>\n",
       "      <td>21:50</td>\n",
       "      <td>SOUTHERN</td>\n",
       "      <td>NONE</td>\n",
       "      <td>600 Block of MINNA ST</td>\n",
       "      <td>-122.411206</td>\n",
       "      <td>37.778224</td>\n",
       "      <td>(37.7782244806331, -122.411205728723)</td>\n",
       "      <td>1.608830e+13</td>\n",
       "    </tr>\n",
       "    <tr>\n",
       "      <th>9644</th>\n",
       "      <td>160880427.0</td>\n",
       "      <td>OTHER OFFENSES</td>\n",
       "      <td>RESISTING ARREST</td>\n",
       "      <td>Saturday</td>\n",
       "      <td>2016-10-29</td>\n",
       "      <td>06:20</td>\n",
       "      <td>MISSION</td>\n",
       "      <td>ARREST, BOOKED</td>\n",
       "      <td>20TH ST / DOLORES ST</td>\n",
       "      <td>-122.425768</td>\n",
       "      <td>37.758226</td>\n",
       "      <td>(37.7582261992584, -122.425768246873)</td>\n",
       "      <td>1.608800e+13</td>\n",
       "    </tr>\n",
       "    <tr>\n",
       "      <th>9645</th>\n",
       "      <td>160880427.0</td>\n",
       "      <td>VANDALISM</td>\n",
       "      <td>MALICIOUS MISCHIEF, GRAFFITI</td>\n",
       "      <td>Saturday</td>\n",
       "      <td>2016-10-29</td>\n",
       "      <td>06:20</td>\n",
       "      <td>MISSION</td>\n",
       "      <td>ARREST, BOOKED</td>\n",
       "      <td>20TH ST / DOLORES ST</td>\n",
       "      <td>-122.425768</td>\n",
       "      <td>37.758226</td>\n",
       "      <td>(37.7582261992584, -122.425768246873)</td>\n",
       "      <td>1.608800e+13</td>\n",
       "    </tr>\n",
       "    <tr>\n",
       "      <th>9611</th>\n",
       "      <td>160877424.0</td>\n",
       "      <td>VANDALISM</td>\n",
       "      <td>MALICIOUS MISCHIEF, VANDALISM OF VEHICLES</td>\n",
       "      <td>Friday</td>\n",
       "      <td>2016-10-28</td>\n",
       "      <td>05:30</td>\n",
       "      <td>NORTHERN</td>\n",
       "      <td>NONE</td>\n",
       "      <td>0 Block of DANIELBURNHAM CT</td>\n",
       "      <td>-122.422541</td>\n",
       "      <td>37.786909</td>\n",
       "      <td>(37.7869088658022, -122.422540554174)</td>\n",
       "      <td>1.608770e+13</td>\n",
       "    </tr>\n",
       "    <tr>\n",
       "      <th>9603</th>\n",
       "      <td>160876642.0</td>\n",
       "      <td>ASSAULT</td>\n",
       "      <td>BATTERY</td>\n",
       "      <td>Thursday</td>\n",
       "      <td>2016-10-27</td>\n",
       "      <td>20:55</td>\n",
       "      <td>MISSION</td>\n",
       "      <td>ARREST, BOOKED</td>\n",
       "      <td>2000 Block of MISSION ST</td>\n",
       "      <td>-122.419658</td>\n",
       "      <td>37.764221</td>\n",
       "      <td>(37.7642205603745, -122.41965834371)</td>\n",
       "      <td>1.608770e+13</td>\n",
       "    </tr>\n",
       "  </tbody>\n",
       "</table>\n",
       "</div>"
      ],
      "text/plain": [
       "       IncidntNum        Category  \\\n",
       "2467  150273337.0        WARRANTS   \n",
       "115   150480366.0   VEHICLE THEFT   \n",
       "116   150480366.0     DRUNKENNESS   \n",
       "117   150480366.0       VANDALISM   \n",
       "118   150480366.0       VANDALISM   \n",
       "5332  160220970.0           FRAUD   \n",
       "9554  160939676.0         ASSAULT   \n",
       "9964  160893652.0    NON-CRIMINAL   \n",
       "9963  160893464.0     WEAPON LAWS   \n",
       "9962  160893395.0         ASSAULT   \n",
       "9953  160892842.0  SUSPICIOUS OCC   \n",
       "9951  160892820.0         ASSAULT   \n",
       "9950  160892814.0  OTHER OFFENSES   \n",
       "9945  160892591.0         ASSAULT   \n",
       "9944  160892585.0       VANDALISM   \n",
       "9933  160891662.0         ASSAULT   \n",
       "9860  160889786.0        BURGLARY   \n",
       "9857  160889736.0        WARRANTS   \n",
       "9986  160895846.0  OTHER OFFENSES   \n",
       "9859  160889764.0  OTHER OFFENSES   \n",
       "9826  160887677.0         ASSAULT   \n",
       "9727  160884689.0   VEHICLE THEFT   \n",
       "9715  160883766.0     WEAPON LAWS   \n",
       "9710  160883249.0       VANDALISM   \n",
       "9714  160883750.0        BURGLARY   \n",
       "9711  160883255.0   LARCENY/THEFT   \n",
       "9644  160880427.0  OTHER OFFENSES   \n",
       "9645  160880427.0       VANDALISM   \n",
       "9611  160877424.0       VANDALISM   \n",
       "9603  160876642.0         ASSAULT   \n",
       "\n",
       "                                             Descript  DayOfWeek       Date  \\\n",
       "2467                                   WARRANT ARREST  Wednesday 2016-12-21   \n",
       "115                      STOLEN AND RECOVERED VEHICLE   Thursday 2016-12-08   \n",
       "116      UNDER INFLUENCE OF ALCOHOL IN A PUBLIC PLACE   Thursday 2016-12-08   \n",
       "117                     MALICIOUS MISCHIEF, VANDALISM   Thursday 2016-12-08   \n",
       "118         MALICIOUS MISCHIEF, VANDALISM OF VEHICLES   Thursday 2016-12-08   \n",
       "5332                     CREDIT CARD, THEFT BY USE OF     Friday 2016-11-18   \n",
       "9554                                          BATTERY     Monday 2016-11-14   \n",
       "9964                         CIVIL SIDEWALKS, WARNING  Wednesday 2016-11-02   \n",
       "9963                      CARRYING A CONCEALED WEAPON  Wednesday 2016-11-02   \n",
       "9962                                          BATTERY  Wednesday 2016-11-02   \n",
       "9953                            SUSPICIOUS OCCURRENCE  Wednesday 2016-11-02   \n",
       "9951                             THREATS AGAINST LIFE  Wednesday 2016-11-02   \n",
       "9950            DRIVERS LICENSE, SUSPENDED OR REVOKED  Wednesday 2016-11-02   \n",
       "9945                             THREATS AGAINST LIFE  Wednesday 2016-11-02   \n",
       "9944        MALICIOUS MISCHIEF, VANDALISM OF VEHICLES  Wednesday 2016-11-02   \n",
       "9933                               FALSE IMPRISONMENT    Tuesday 2016-11-01   \n",
       "9860  BURGLARY OF RESIDENCE, ATTEMPTED FORCIBLE ENTRY    Tuesday 2016-11-01   \n",
       "9857                  ENROUTE TO OUTSIDE JURISDICTION    Tuesday 2016-11-01   \n",
       "9986                                FALSE PERSONATION     Monday 2016-10-31   \n",
       "9859                        LOST/STOLEN LICENSE PLATE     Monday 2016-10-31   \n",
       "9826                                          BATTERY     Monday 2016-10-31   \n",
       "9727                                     STOLEN TRUCK     Sunday 2016-10-30   \n",
       "9715   EXHIBITING DEADLY WEAPON IN A THREATING MANNER     Sunday 2016-10-30   \n",
       "9710        MALICIOUS MISCHIEF, VANDALISM OF VEHICLES     Sunday 2016-10-30   \n",
       "9714                BURGLARY OF STORE, FORCIBLE ENTRY   Saturday 2016-10-29   \n",
       "9711                     GRAND THEFT FROM LOCKED AUTO   Saturday 2016-10-29   \n",
       "9644                                 RESISTING ARREST   Saturday 2016-10-29   \n",
       "9645                     MALICIOUS MISCHIEF, GRAFFITI   Saturday 2016-10-29   \n",
       "9611        MALICIOUS MISCHIEF, VANDALISM OF VEHICLES     Friday 2016-10-28   \n",
       "9603                                          BATTERY   Thursday 2016-10-27   \n",
       "\n",
       "       Time  PdDistrict      Resolution                      Address  \\\n",
       "2467  18:17  TENDERLOIN  ARREST, BOOKED        300 Block of JONES ST   \n",
       "115   15:00    NORTHERN  ARREST, BOOKED            PINE ST / POLK ST   \n",
       "116   15:00    NORTHERN  ARREST, BOOKED            PINE ST / POLK ST   \n",
       "117   15:00    NORTHERN  ARREST, BOOKED            PINE ST / POLK ST   \n",
       "118   15:00    NORTHERN  ARREST, BOOKED            PINE ST / POLK ST   \n",
       "5332  12:00     BAYVIEW            NONE      1200 Block of DEHARO ST   \n",
       "9554  09:20    NORTHERN            NONE           ELLIS ST / POLK ST   \n",
       "9964  18:02     MISSION            NONE        21ST ST / SHOTWELL ST   \n",
       "9963  16:42     BAYVIEW            NONE        1100 Block of 18TH ST   \n",
       "9962  16:15     TARAVAL            NONE   MONTEREY BL / NORTHGATE DR   \n",
       "9953  10:00     MISSION            NONE         200 Block of 14TH ST   \n",
       "9951  11:45        PARK            NONE       STANYAN ST / WALLER ST   \n",
       "9950  12:10     BAYVIEW  ARREST, BOOKED          QUESADA AV / 3RD ST   \n",
       "9945  10:19     BAYVIEW            NONE       0 Block of CASHMERE ST   \n",
       "9944  10:38    NORTHERN  ARREST, BOOKED        100 Block of GROVE ST   \n",
       "9933  22:30   INGLESIDE  ARREST, BOOKED        MISSION ST / OCEAN AV   \n",
       "9860  02:54     MISSION            NONE        4000 Block of 19TH ST   \n",
       "9857  10:43    SOUTHERN  ARREST, BOOKED       800 Block of BRYANT ST   \n",
       "9986  10:00     MISSION            NONE         100 Block of CAPP ST   \n",
       "9859  17:30     MISSION            NONE  SOUTH VAN NESS AV / 26TH ST   \n",
       "9826  16:48  TENDERLOIN            NONE         100 Block of HYDE ST   \n",
       "9727  13:20   INGLESIDE            NONE        100 Block of OCEAN AV   \n",
       "9715  11:17     BAYVIEW  ARREST, BOOKED         3800 Block of 3RD ST   \n",
       "9710  03:08     CENTRAL  ARREST, BOOKED       0 Block of BROADWAY ST   \n",
       "9714  19:00     CENTRAL            NONE        200 Block of GRANT AV   \n",
       "9711  21:50    SOUTHERN            NONE        600 Block of MINNA ST   \n",
       "9644  06:20     MISSION  ARREST, BOOKED         20TH ST / DOLORES ST   \n",
       "9645  06:20     MISSION  ARREST, BOOKED         20TH ST / DOLORES ST   \n",
       "9611  05:30    NORTHERN            NONE  0 Block of DANIELBURNHAM CT   \n",
       "9603  20:55     MISSION  ARREST, BOOKED     2000 Block of MISSION ST   \n",
       "\n",
       "               X          Y                               Location  \\\n",
       "2467 -122.412759  37.784400  (37.7843997500192, -122.412758846145)   \n",
       "115  -122.420497  37.789619    (37.789618819255, -122.42049728879)   \n",
       "116  -122.420497  37.789619    (37.789618819255, -122.42049728879)   \n",
       "117  -122.420497  37.789619    (37.789618819255, -122.42049728879)   \n",
       "118  -122.420497  37.789619    (37.789618819255, -122.42049728879)   \n",
       "5332 -122.400632  37.753965    (37.7539653995399, -122.4006319548)   \n",
       "9554 -122.419366  37.784028  (37.7840280452032, -122.419366294797)   \n",
       "9964 -122.415629  37.757232   (37.757232227914, -122.415629332446)   \n",
       "9963 -122.394108  37.762671  (37.7626705352496, -122.394108177688)   \n",
       "9962 -122.461737  37.730023  (37.7300233378439, -122.461736679015)   \n",
       "9953 -122.418885  37.768285  (37.7682847825555, -122.418885184858)   \n",
       "9951 -122.453355  37.768246  (37.7682463076665, -122.453354647469)   \n",
       "9950 -122.391246  37.733225  (37.7332252032804, -122.391245623019)   \n",
       "9945 -122.382705  37.735886  (37.7358858148594, -122.382705072801)   \n",
       "9944 -122.419064  37.778327  (37.7783268674219, -122.419063862505)   \n",
       "9933 -122.435385  37.723910  (37.7239104470753, -122.435385454946)   \n",
       "9860 -122.433209  37.759334  (37.7593336636293, -122.433208516014)   \n",
       "9857 -122.403405  37.775421   (37.775420706711, -122.403404791479)   \n",
       "9986 -122.418550  37.764284  (37.7642837095036, -122.418549940195)   \n",
       "9859 -122.415954  37.749173  (37.7491729638325, -122.415954301518)   \n",
       "9826 -122.415670  37.782120  (37.7821198488931, -122.415669661443)   \n",
       "9727 -122.439345  37.723624    (37.723624467748, -122.43934468789)   \n",
       "9715 -122.387940  37.742260  (37.7422600519555, -122.387939452192)   \n",
       "9710 -122.399296  37.798859   (37.798859198392, -122.399295690795)   \n",
       "9714 -122.405185  37.788876  (37.7888762183538, -122.405184569667)   \n",
       "9711 -122.411206  37.778224  (37.7782244806331, -122.411205728723)   \n",
       "9644 -122.425768  37.758226  (37.7582261992584, -122.425768246873)   \n",
       "9645 -122.425768  37.758226  (37.7582261992584, -122.425768246873)   \n",
       "9611 -122.422541  37.786909  (37.7869088658022, -122.422540554174)   \n",
       "9603 -122.419658  37.764221   (37.7642205603745, -122.41965834371)   \n",
       "\n",
       "              PdId  \n",
       "2467  1.502730e+13  \n",
       "115   1.504800e+13  \n",
       "116   1.504800e+13  \n",
       "117   1.504800e+13  \n",
       "118   1.504800e+13  \n",
       "5332  1.602210e+13  \n",
       "9554  1.609400e+13  \n",
       "9964  1.608940e+13  \n",
       "9963  1.608930e+13  \n",
       "9962  1.608930e+13  \n",
       "9953  1.608930e+13  \n",
       "9951  1.608930e+13  \n",
       "9950  1.608930e+13  \n",
       "9945  1.608930e+13  \n",
       "9944  1.608930e+13  \n",
       "9933  1.608920e+13  \n",
       "9860  1.608900e+13  \n",
       "9857  1.608900e+13  \n",
       "9986  1.608960e+13  \n",
       "9859  1.608900e+13  \n",
       "9826  1.608880e+13  \n",
       "9727  1.608850e+13  \n",
       "9715  1.608840e+13  \n",
       "9710  1.608830e+13  \n",
       "9714  1.608840e+13  \n",
       "9711  1.608830e+13  \n",
       "9644  1.608800e+13  \n",
       "9645  1.608800e+13  \n",
       "9611  1.608770e+13  \n",
       "9603  1.608770e+13  "
      ]
     },
     "execution_count": 47,
     "metadata": {},
     "output_type": "execute_result"
    }
   ],
   "source": [
    "df.sort_values(by=['Date','IncidntNum'], ascending=False, inplace= True)\n",
    "df.head(30)"
   ]
  },
  {
   "cell_type": "code",
   "execution_count": 48,
   "metadata": {},
   "outputs": [
    {
     "data": {
      "text/plain": [
       "LARCENY/THEFT                  1566\n",
       "OTHER OFFENSES                 1476\n",
       "NON-CRIMINAL                   1242\n",
       "ASSAULT                        1075\n",
       "WARRANTS                        555\n",
       "VEHICLE THEFT                   529\n",
       "VANDALISM                       475\n",
       "BURGLARY                        458\n",
       "SUSPICIOUS OCC                  443\n",
       "DRUG/NARCOTIC                   396\n",
       "MISSING PERSON                  364\n",
       "ROBBERY                         268\n",
       "FRAUD                           188\n",
       "SECONDARY CODES                 146\n",
       "TRESPASS                        146\n",
       "WEAPON LAWS                     141\n",
       "RECOVERED VEHICLE                77\n",
       "SEX OFFENSES, FORCIBLE           74\n",
       "PROSTITUTION                     59\n",
       "STOLEN PROPERTY                  55\n",
       "DRUNKENNESS                      51\n",
       "FORGERY/COUNTERFEITING           48\n",
       "DISORDERLY CONDUCT               45\n",
       "DRIVING UNDER THE INFLUENCE      32\n",
       "ARSON                            28\n",
       "KIDNAPPING                       22\n",
       "RUNAWAY                          13\n",
       "BRIBERY                          13\n",
       "LIQUOR LAWS                       9\n",
       "SUICIDE                           6\n",
       "EXTORTION                         5\n",
       "EMBEZZLEMENT                      5\n",
       "FAMILY OFFENSES                   4\n",
       "LOITERING                         2\n",
       "SEX OFFENSES, NON FORCIBLE        2\n",
       "GAMBLING                          1\n",
       "Name: Category, dtype: int64"
      ]
     },
     "execution_count": 48,
     "metadata": {},
     "output_type": "execute_result"
    }
   ],
   "source": [
    "df.Category.value_counts()"
   ]
  },
  {
   "cell_type": "code",
   "execution_count": 49,
   "metadata": {},
   "outputs": [
    {
     "data": {
      "text/html": [
       "<div>\n",
       "<style scoped>\n",
       "    .dataframe tbody tr th:only-of-type {\n",
       "        vertical-align: middle;\n",
       "    }\n",
       "\n",
       "    .dataframe tbody tr th {\n",
       "        vertical-align: top;\n",
       "    }\n",
       "\n",
       "    .dataframe thead th {\n",
       "        text-align: right;\n",
       "    }\n",
       "</style>\n",
       "<table border=\"1\" class=\"dataframe\">\n",
       "  <thead>\n",
       "    <tr style=\"text-align: right;\">\n",
       "      <th></th>\n",
       "      <th>Category</th>\n",
       "      <th>Case Count</th>\n",
       "    </tr>\n",
       "  </thead>\n",
       "  <tbody>\n",
       "    <tr>\n",
       "      <th>0</th>\n",
       "      <td>LARCENY/THEFT</td>\n",
       "      <td>1566</td>\n",
       "    </tr>\n",
       "    <tr>\n",
       "      <th>1</th>\n",
       "      <td>OTHER OFFENSES</td>\n",
       "      <td>1476</td>\n",
       "    </tr>\n",
       "    <tr>\n",
       "      <th>2</th>\n",
       "      <td>NON-CRIMINAL</td>\n",
       "      <td>1242</td>\n",
       "    </tr>\n",
       "    <tr>\n",
       "      <th>3</th>\n",
       "      <td>ASSAULT</td>\n",
       "      <td>1075</td>\n",
       "    </tr>\n",
       "    <tr>\n",
       "      <th>4</th>\n",
       "      <td>WARRANTS</td>\n",
       "      <td>555</td>\n",
       "    </tr>\n",
       "    <tr>\n",
       "      <th>5</th>\n",
       "      <td>VEHICLE THEFT</td>\n",
       "      <td>529</td>\n",
       "    </tr>\n",
       "    <tr>\n",
       "      <th>6</th>\n",
       "      <td>VANDALISM</td>\n",
       "      <td>475</td>\n",
       "    </tr>\n",
       "    <tr>\n",
       "      <th>7</th>\n",
       "      <td>BURGLARY</td>\n",
       "      <td>458</td>\n",
       "    </tr>\n",
       "    <tr>\n",
       "      <th>8</th>\n",
       "      <td>SUSPICIOUS OCC</td>\n",
       "      <td>443</td>\n",
       "    </tr>\n",
       "    <tr>\n",
       "      <th>9</th>\n",
       "      <td>DRUG/NARCOTIC</td>\n",
       "      <td>396</td>\n",
       "    </tr>\n",
       "    <tr>\n",
       "      <th>10</th>\n",
       "      <td>MISSING PERSON</td>\n",
       "      <td>364</td>\n",
       "    </tr>\n",
       "    <tr>\n",
       "      <th>11</th>\n",
       "      <td>ROBBERY</td>\n",
       "      <td>268</td>\n",
       "    </tr>\n",
       "    <tr>\n",
       "      <th>12</th>\n",
       "      <td>FRAUD</td>\n",
       "      <td>188</td>\n",
       "    </tr>\n",
       "    <tr>\n",
       "      <th>13</th>\n",
       "      <td>SECONDARY CODES</td>\n",
       "      <td>146</td>\n",
       "    </tr>\n",
       "    <tr>\n",
       "      <th>14</th>\n",
       "      <td>TRESPASS</td>\n",
       "      <td>146</td>\n",
       "    </tr>\n",
       "    <tr>\n",
       "      <th>15</th>\n",
       "      <td>WEAPON LAWS</td>\n",
       "      <td>141</td>\n",
       "    </tr>\n",
       "    <tr>\n",
       "      <th>16</th>\n",
       "      <td>RECOVERED VEHICLE</td>\n",
       "      <td>77</td>\n",
       "    </tr>\n",
       "    <tr>\n",
       "      <th>17</th>\n",
       "      <td>SEX OFFENSES, FORCIBLE</td>\n",
       "      <td>74</td>\n",
       "    </tr>\n",
       "    <tr>\n",
       "      <th>18</th>\n",
       "      <td>PROSTITUTION</td>\n",
       "      <td>59</td>\n",
       "    </tr>\n",
       "    <tr>\n",
       "      <th>19</th>\n",
       "      <td>STOLEN PROPERTY</td>\n",
       "      <td>55</td>\n",
       "    </tr>\n",
       "    <tr>\n",
       "      <th>20</th>\n",
       "      <td>DRUNKENNESS</td>\n",
       "      <td>51</td>\n",
       "    </tr>\n",
       "    <tr>\n",
       "      <th>21</th>\n",
       "      <td>FORGERY/COUNTERFEITING</td>\n",
       "      <td>48</td>\n",
       "    </tr>\n",
       "    <tr>\n",
       "      <th>22</th>\n",
       "      <td>DISORDERLY CONDUCT</td>\n",
       "      <td>45</td>\n",
       "    </tr>\n",
       "    <tr>\n",
       "      <th>23</th>\n",
       "      <td>DRIVING UNDER THE INFLUENCE</td>\n",
       "      <td>32</td>\n",
       "    </tr>\n",
       "    <tr>\n",
       "      <th>24</th>\n",
       "      <td>ARSON</td>\n",
       "      <td>28</td>\n",
       "    </tr>\n",
       "    <tr>\n",
       "      <th>25</th>\n",
       "      <td>KIDNAPPING</td>\n",
       "      <td>22</td>\n",
       "    </tr>\n",
       "    <tr>\n",
       "      <th>26</th>\n",
       "      <td>RUNAWAY</td>\n",
       "      <td>13</td>\n",
       "    </tr>\n",
       "    <tr>\n",
       "      <th>27</th>\n",
       "      <td>BRIBERY</td>\n",
       "      <td>13</td>\n",
       "    </tr>\n",
       "    <tr>\n",
       "      <th>28</th>\n",
       "      <td>LIQUOR LAWS</td>\n",
       "      <td>9</td>\n",
       "    </tr>\n",
       "    <tr>\n",
       "      <th>29</th>\n",
       "      <td>SUICIDE</td>\n",
       "      <td>6</td>\n",
       "    </tr>\n",
       "    <tr>\n",
       "      <th>30</th>\n",
       "      <td>EXTORTION</td>\n",
       "      <td>5</td>\n",
       "    </tr>\n",
       "    <tr>\n",
       "      <th>31</th>\n",
       "      <td>EMBEZZLEMENT</td>\n",
       "      <td>5</td>\n",
       "    </tr>\n",
       "    <tr>\n",
       "      <th>32</th>\n",
       "      <td>FAMILY OFFENSES</td>\n",
       "      <td>4</td>\n",
       "    </tr>\n",
       "    <tr>\n",
       "      <th>33</th>\n",
       "      <td>LOITERING</td>\n",
       "      <td>2</td>\n",
       "    </tr>\n",
       "    <tr>\n",
       "      <th>34</th>\n",
       "      <td>SEX OFFENSES, NON FORCIBLE</td>\n",
       "      <td>2</td>\n",
       "    </tr>\n",
       "    <tr>\n",
       "      <th>35</th>\n",
       "      <td>GAMBLING</td>\n",
       "      <td>1</td>\n",
       "    </tr>\n",
       "  </tbody>\n",
       "</table>\n",
       "</div>"
      ],
      "text/plain": [
       "                       Category  Case Count\n",
       "0                 LARCENY/THEFT        1566\n",
       "1                OTHER OFFENSES        1476\n",
       "2                  NON-CRIMINAL        1242\n",
       "3                       ASSAULT        1075\n",
       "4                      WARRANTS         555\n",
       "5                 VEHICLE THEFT         529\n",
       "6                     VANDALISM         475\n",
       "7                      BURGLARY         458\n",
       "8                SUSPICIOUS OCC         443\n",
       "9                 DRUG/NARCOTIC         396\n",
       "10               MISSING PERSON         364\n",
       "11                      ROBBERY         268\n",
       "12                        FRAUD         188\n",
       "13              SECONDARY CODES         146\n",
       "14                     TRESPASS         146\n",
       "15                  WEAPON LAWS         141\n",
       "16            RECOVERED VEHICLE          77\n",
       "17       SEX OFFENSES, FORCIBLE          74\n",
       "18                 PROSTITUTION          59\n",
       "19              STOLEN PROPERTY          55\n",
       "20                  DRUNKENNESS          51\n",
       "21       FORGERY/COUNTERFEITING          48\n",
       "22           DISORDERLY CONDUCT          45\n",
       "23  DRIVING UNDER THE INFLUENCE          32\n",
       "24                        ARSON          28\n",
       "25                   KIDNAPPING          22\n",
       "26                      RUNAWAY          13\n",
       "27                      BRIBERY          13\n",
       "28                  LIQUOR LAWS           9\n",
       "29                      SUICIDE           6\n",
       "30                    EXTORTION           5\n",
       "31                 EMBEZZLEMENT           5\n",
       "32              FAMILY OFFENSES           4\n",
       "33                    LOITERING           2\n",
       "34   SEX OFFENSES, NON FORCIBLE           2\n",
       "35                     GAMBLING           1"
      ]
     },
     "execution_count": 49,
     "metadata": {},
     "output_type": "execute_result"
    }
   ],
   "source": [
    "Category_count = df.Category.value_counts().reset_index()\n",
    "Category_count.columns  = ['Category','Case Count']\n",
    "Category_count"
   ]
  },
  {
   "cell_type": "code",
   "execution_count": 50,
   "metadata": {},
   "outputs": [
    {
     "ename": "ValueError",
     "evalue": "Value of 'values' is not the name of a column in 'data_frame'. Expected one of ['Category', 'Case Count'] but received: Case",
     "output_type": "error",
     "traceback": [
      "\u001b[1;31m---------------------------------------------------------------------------\u001b[0m",
      "\u001b[1;31mValueError\u001b[0m                                Traceback (most recent call last)",
      "\u001b[1;32mc:\\Users\\ASUS\\OneDrive\\Documents\\python with datas science\\data_analytics\\panda_basics.ipynb Cell 10\u001b[0m in \u001b[0;36m<cell line: 2>\u001b[1;34m()\u001b[0m\n\u001b[0;32m      <a href='vscode-notebook-cell:/c%3A/Users/ASUS/OneDrive/Documents/python%20with%20datas%20science/data_analytics/panda_basics.ipynb#X22sZmlsZQ%3D%3D?line=0'>1</a>\u001b[0m Category_count_top_10 \u001b[39m=\u001b[39m Category_count\u001b[39m.\u001b[39mhead()\n\u001b[1;32m----> <a href='vscode-notebook-cell:/c%3A/Users/ASUS/OneDrive/Documents/python%20with%20datas%20science/data_analytics/panda_basics.ipynb#X22sZmlsZQ%3D%3D?line=1'>2</a>\u001b[0m px\u001b[39m.\u001b[39;49mpie(Category_count_top_10,\u001b[39m'\u001b[39;49m\u001b[39mCategory\u001b[39;49m\u001b[39m'\u001b[39;49m,\u001b[39m'\u001b[39;49m\u001b[39mCase\u001b[39;49m\u001b[39m'\u001b[39;49m,\u001b[39m'\u001b[39;49m\u001b[39mCase Count\u001b[39;49m\u001b[39m'\u001b[39;49m)\n",
      "File \u001b[1;32mc:\\Users\\ASUS\\miniconda3\\lib\\site-packages\\plotly\\express\\_chart_types.py:1482\u001b[0m, in \u001b[0;36mpie\u001b[1;34m(data_frame, names, values, color, facet_row, facet_col, facet_col_wrap, facet_row_spacing, facet_col_spacing, color_discrete_sequence, color_discrete_map, hover_name, hover_data, custom_data, category_orders, labels, title, template, width, height, opacity, hole)\u001b[0m\n\u001b[0;32m   1480\u001b[0m \u001b[39melse\u001b[39;00m:\n\u001b[0;32m   1481\u001b[0m     layout_patch \u001b[39m=\u001b[39m {}\n\u001b[1;32m-> 1482\u001b[0m \u001b[39mreturn\u001b[39;00m make_figure(\n\u001b[0;32m   1483\u001b[0m     args\u001b[39m=\u001b[39;49m\u001b[39mlocals\u001b[39;49m(),\n\u001b[0;32m   1484\u001b[0m     constructor\u001b[39m=\u001b[39;49mgo\u001b[39m.\u001b[39;49mPie,\n\u001b[0;32m   1485\u001b[0m     trace_patch\u001b[39m=\u001b[39;49m\u001b[39mdict\u001b[39;49m(showlegend\u001b[39m=\u001b[39;49m(names \u001b[39mis\u001b[39;49;00m \u001b[39mnot\u001b[39;49;00m \u001b[39mNone\u001b[39;49;00m), hole\u001b[39m=\u001b[39;49mhole),\n\u001b[0;32m   1486\u001b[0m     layout_patch\u001b[39m=\u001b[39;49mlayout_patch,\n\u001b[0;32m   1487\u001b[0m )\n",
      "File \u001b[1;32mc:\\Users\\ASUS\\miniconda3\\lib\\site-packages\\plotly\\express\\_core.py:1990\u001b[0m, in \u001b[0;36mmake_figure\u001b[1;34m(args, constructor, trace_patch, layout_patch)\u001b[0m\n\u001b[0;32m   1987\u001b[0m layout_patch \u001b[39m=\u001b[39m layout_patch \u001b[39mor\u001b[39;00m {}\n\u001b[0;32m   1988\u001b[0m apply_default_cascade(args)\n\u001b[1;32m-> 1990\u001b[0m args \u001b[39m=\u001b[39m build_dataframe(args, constructor)\n\u001b[0;32m   1991\u001b[0m \u001b[39mif\u001b[39;00m constructor \u001b[39min\u001b[39;00m [go\u001b[39m.\u001b[39mTreemap, go\u001b[39m.\u001b[39mSunburst, go\u001b[39m.\u001b[39mIcicle] \u001b[39mand\u001b[39;00m args[\u001b[39m\"\u001b[39m\u001b[39mpath\u001b[39m\u001b[39m\"\u001b[39m] \u001b[39mis\u001b[39;00m \u001b[39mnot\u001b[39;00m \u001b[39mNone\u001b[39;00m:\n\u001b[0;32m   1992\u001b[0m     args \u001b[39m=\u001b[39m process_dataframe_hierarchy(args)\n",
      "File \u001b[1;32mc:\\Users\\ASUS\\miniconda3\\lib\\site-packages\\plotly\\express\\_core.py:1405\u001b[0m, in \u001b[0;36mbuild_dataframe\u001b[1;34m(args, constructor)\u001b[0m\n\u001b[0;32m   1402\u001b[0m     args[\u001b[39m\"\u001b[39m\u001b[39mcolor\u001b[39m\u001b[39m\"\u001b[39m] \u001b[39m=\u001b[39m \u001b[39mNone\u001b[39;00m\n\u001b[0;32m   1403\u001b[0m \u001b[39m# now that things have been prepped, we do the systematic rewriting of `args`\u001b[39;00m\n\u001b[1;32m-> 1405\u001b[0m df_output, wide_id_vars \u001b[39m=\u001b[39m process_args_into_dataframe(\n\u001b[0;32m   1406\u001b[0m     args, wide_mode, var_name, value_name\n\u001b[0;32m   1407\u001b[0m )\n\u001b[0;32m   1409\u001b[0m \u001b[39m# now that `df_output` exists and `args` contains only references, we complete\u001b[39;00m\n\u001b[0;32m   1410\u001b[0m \u001b[39m# the special-case and wide-mode handling by further rewriting args and/or mutating\u001b[39;00m\n\u001b[0;32m   1411\u001b[0m \u001b[39m# df_output\u001b[39;00m\n\u001b[0;32m   1413\u001b[0m count_name \u001b[39m=\u001b[39m _escape_col_name(df_output, \u001b[39m\"\u001b[39m\u001b[39mcount\u001b[39m\u001b[39m\"\u001b[39m, [var_name, value_name])\n",
      "File \u001b[1;32mc:\\Users\\ASUS\\miniconda3\\lib\\site-packages\\plotly\\express\\_core.py:1207\u001b[0m, in \u001b[0;36mprocess_args_into_dataframe\u001b[1;34m(args, wide_mode, var_name, value_name)\u001b[0m\n\u001b[0;32m   1205\u001b[0m         \u001b[39mif\u001b[39;00m argument \u001b[39m==\u001b[39m \u001b[39m\"\u001b[39m\u001b[39mindex\u001b[39m\u001b[39m\"\u001b[39m:\n\u001b[0;32m   1206\u001b[0m             err_msg \u001b[39m+\u001b[39m\u001b[39m=\u001b[39m \u001b[39m\"\u001b[39m\u001b[39m\\n\u001b[39;00m\u001b[39m To use the index, pass it in directly as `df.index`.\u001b[39m\u001b[39m\"\u001b[39m\n\u001b[1;32m-> 1207\u001b[0m         \u001b[39mraise\u001b[39;00m \u001b[39mValueError\u001b[39;00m(err_msg)\n\u001b[0;32m   1208\u001b[0m \u001b[39melif\u001b[39;00m length \u001b[39mand\u001b[39;00m \u001b[39mlen\u001b[39m(df_input[argument]) \u001b[39m!=\u001b[39m length:\n\u001b[0;32m   1209\u001b[0m     \u001b[39mraise\u001b[39;00m \u001b[39mValueError\u001b[39;00m(\n\u001b[0;32m   1210\u001b[0m         \u001b[39m\"\u001b[39m\u001b[39mAll arguments should have the same length. \u001b[39m\u001b[39m\"\u001b[39m\n\u001b[0;32m   1211\u001b[0m         \u001b[39m\"\u001b[39m\u001b[39mThe length of column argument `df[\u001b[39m\u001b[39m%s\u001b[39;00m\u001b[39m]` is \u001b[39m\u001b[39m%d\u001b[39;00m\u001b[39m, whereas the \u001b[39m\u001b[39m\"\u001b[39m\n\u001b[1;32m   (...)\u001b[0m\n\u001b[0;32m   1218\u001b[0m         )\n\u001b[0;32m   1219\u001b[0m     )\n",
      "\u001b[1;31mValueError\u001b[0m: Value of 'values' is not the name of a column in 'data_frame'. Expected one of ['Category', 'Case Count'] but received: Case"
     ]
    }
   ],
   "source": [
    "Category_count_top_10 = Category_count.head()\n",
    "px.pie(Category_count_top_10,'Category','Case','Case Count')"
   ]
  },
  {
   "cell_type": "markdown",
   "metadata": {},
   "source": [
    "find the most common way of handling incidents by the PD,in SanFranciso using visualization"
   ]
  },
  {
   "cell_type": "code",
   "execution_count": null,
   "metadata": {},
   "outputs": [
    {
     "data": {
      "text/plain": [
       "Series([], Name: Category, dtype: int64)"
      ]
     },
     "execution_count": 13,
     "metadata": {},
     "output_type": "execute_result"
    }
   ],
   "source": [
    "df[df.Date==4].Category.value_counts()"
   ]
  },
  {
   "cell_type": "code",
   "execution_count": null,
   "metadata": {},
   "outputs": [
    {
     "data": {
      "text/plain": [
       "LARCENY/THEFT     1566\n",
       "OTHER OFFENSES    1476\n",
       "NON-CRIMINAL      1242\n",
       "ASSAULT           1075\n",
       "WARRANTS           555\n",
       "Name: Category, dtype: int64"
      ]
     },
     "execution_count": 14,
     "metadata": {},
     "output_type": "execute_result"
    }
   ],
   "source": [
    "df.Category.value_counts().head()  #count the number of values in category  "
   ]
  },
  {
   "cell_type": "code",
   "execution_count": null,
   "metadata": {},
   "outputs": [
    {
     "ename": "SyntaxError",
     "evalue": "invalid syntax (576929054.py, line 2)",
     "output_type": "error",
     "traceback": [
      "\u001b[1;36m  Input \u001b[1;32mIn [15]\u001b[1;36m\u001b[0m\n\u001b[1;33m    df[df.Date.dt.month == 10.Category.value_counts()]\u001b[0m\n\u001b[1;37m                              ^\u001b[0m\n\u001b[1;31mSyntaxError\u001b[0m\u001b[1;31m:\u001b[0m invalid syntax\n"
     ]
    }
   ],
   "source": [
    "#get only november entrie\n",
    "df[df.Date.dt.month == 10.Category.value_counts()]\n"
   ]
  },
  {
   "cell_type": "code",
   "execution_count": null,
   "metadata": {},
   "outputs": [
    {
     "ename": "AttributeError",
     "evalue": "Can only use .dt accessor with datetimelike values",
     "output_type": "error",
     "traceback": [
      "\u001b[1;31m---------------------------------------------------------------------------\u001b[0m",
      "\u001b[1;31mAttributeError\u001b[0m                            Traceback (most recent call last)",
      "\u001b[1;32mc:\\Users\\ASUS\\OneDrive\\Documents\\python with datas science\\data_analytics\\panda_basics.ipynb Cell 7\u001b[0m in \u001b[0;36m<cell line: 1>\u001b[1;34m()\u001b[0m\n\u001b[1;32m----> <a href='vscode-notebook-cell:/c%3A/Users/ASUS/OneDrive/Documents/python%20with%20datas%20science/data_analytics/panda_basics.ipynb#X10sZmlsZQ%3D%3D?line=0'>1</a>\u001b[0m month_wise_cases\u001b[39m=\u001b[39m df\u001b[39m.\u001b[39mgroupby(df\u001b[39m.\u001b[39;49mDate\u001b[39m.\u001b[39;49mdt\u001b[39m.\u001b[39mmonth)[\u001b[39m'\u001b[39m\u001b[39mCategory\u001b[39m\u001b[39m'\u001b[39m]\u001b[39m.\u001b[39mcount()\u001b[39m.\u001b[39mreset_index()\n\u001b[0;32m      <a href='vscode-notebook-cell:/c%3A/Users/ASUS/OneDrive/Documents/python%20with%20datas%20science/data_analytics/panda_basics.ipynb#X10sZmlsZQ%3D%3D?line=1'>2</a>\u001b[0m month_wise_cases\u001b[39m.\u001b[39mcolumns\u001b[39m=\u001b[39m[\u001b[39m'\u001b[39m\u001b[39mMonth\u001b[39m\u001b[39m'\u001b[39m,\u001b[39m'\u001b[39m\u001b[39mCase Count\u001b[39m\u001b[39m'\u001b[39m]\n\u001b[0;32m      <a href='vscode-notebook-cell:/c%3A/Users/ASUS/OneDrive/Documents/python%20with%20datas%20science/data_analytics/panda_basics.ipynb#X10sZmlsZQ%3D%3D?line=2'>3</a>\u001b[0m month_wise_cases\n",
      "File \u001b[1;32mc:\\Users\\ASUS\\miniconda3\\lib\\site-packages\\pandas\\core\\generic.py:5902\u001b[0m, in \u001b[0;36mNDFrame.__getattr__\u001b[1;34m(self, name)\u001b[0m\n\u001b[0;32m   5895\u001b[0m \u001b[39mif\u001b[39;00m (\n\u001b[0;32m   5896\u001b[0m     name \u001b[39mnot\u001b[39;00m \u001b[39min\u001b[39;00m \u001b[39mself\u001b[39m\u001b[39m.\u001b[39m_internal_names_set\n\u001b[0;32m   5897\u001b[0m     \u001b[39mand\u001b[39;00m name \u001b[39mnot\u001b[39;00m \u001b[39min\u001b[39;00m \u001b[39mself\u001b[39m\u001b[39m.\u001b[39m_metadata\n\u001b[0;32m   5898\u001b[0m     \u001b[39mand\u001b[39;00m name \u001b[39mnot\u001b[39;00m \u001b[39min\u001b[39;00m \u001b[39mself\u001b[39m\u001b[39m.\u001b[39m_accessors\n\u001b[0;32m   5899\u001b[0m     \u001b[39mand\u001b[39;00m \u001b[39mself\u001b[39m\u001b[39m.\u001b[39m_info_axis\u001b[39m.\u001b[39m_can_hold_identifiers_and_holds_name(name)\n\u001b[0;32m   5900\u001b[0m ):\n\u001b[0;32m   5901\u001b[0m     \u001b[39mreturn\u001b[39;00m \u001b[39mself\u001b[39m[name]\n\u001b[1;32m-> 5902\u001b[0m \u001b[39mreturn\u001b[39;00m \u001b[39mobject\u001b[39;49m\u001b[39m.\u001b[39;49m\u001b[39m__getattribute__\u001b[39;49m(\u001b[39mself\u001b[39;49m, name)\n",
      "File \u001b[1;32mc:\\Users\\ASUS\\miniconda3\\lib\\site-packages\\pandas\\core\\accessor.py:182\u001b[0m, in \u001b[0;36mCachedAccessor.__get__\u001b[1;34m(self, obj, cls)\u001b[0m\n\u001b[0;32m    179\u001b[0m \u001b[39mif\u001b[39;00m obj \u001b[39mis\u001b[39;00m \u001b[39mNone\u001b[39;00m:\n\u001b[0;32m    180\u001b[0m     \u001b[39m# we're accessing the attribute of the class, i.e., Dataset.geo\u001b[39;00m\n\u001b[0;32m    181\u001b[0m     \u001b[39mreturn\u001b[39;00m \u001b[39mself\u001b[39m\u001b[39m.\u001b[39m_accessor\n\u001b[1;32m--> 182\u001b[0m accessor_obj \u001b[39m=\u001b[39m \u001b[39mself\u001b[39;49m\u001b[39m.\u001b[39;49m_accessor(obj)\n\u001b[0;32m    183\u001b[0m \u001b[39m# Replace the property with the accessor object. Inspired by:\u001b[39;00m\n\u001b[0;32m    184\u001b[0m \u001b[39m# https://www.pydanny.com/cached-property.html\u001b[39;00m\n\u001b[0;32m    185\u001b[0m \u001b[39m# We need to use object.__setattr__ because we overwrite __setattr__ on\u001b[39;00m\n\u001b[0;32m    186\u001b[0m \u001b[39m# NDFrame\u001b[39;00m\n\u001b[0;32m    187\u001b[0m \u001b[39mobject\u001b[39m\u001b[39m.\u001b[39m\u001b[39m__setattr__\u001b[39m(obj, \u001b[39mself\u001b[39m\u001b[39m.\u001b[39m_name, accessor_obj)\n",
      "File \u001b[1;32mc:\\Users\\ASUS\\miniconda3\\lib\\site-packages\\pandas\\core\\indexes\\accessors.py:512\u001b[0m, in \u001b[0;36mCombinedDatetimelikeProperties.__new__\u001b[1;34m(cls, data)\u001b[0m\n\u001b[0;32m    509\u001b[0m \u001b[39melif\u001b[39;00m is_period_dtype(data\u001b[39m.\u001b[39mdtype):\n\u001b[0;32m    510\u001b[0m     \u001b[39mreturn\u001b[39;00m PeriodProperties(data, orig)\n\u001b[1;32m--> 512\u001b[0m \u001b[39mraise\u001b[39;00m \u001b[39mAttributeError\u001b[39;00m(\u001b[39m\"\u001b[39m\u001b[39mCan only use .dt accessor with datetimelike values\u001b[39m\u001b[39m\"\u001b[39m)\n",
      "\u001b[1;31mAttributeError\u001b[0m: Can only use .dt accessor with datetimelike values"
     ]
    }
   ],
   "source": [
    "month_wise_cases= df.groupby(df.Date.dt.month)['Category'].count().reset_index()\n",
    "month_wise_cases.columns=['Month','Case Count']\n",
    "month_wise_cases  "
   ]
  },
  {
   "cell_type": "code",
   "execution_count": null,
   "metadata": {},
   "outputs": [
    {
     "ename": "SyntaxError",
     "evalue": "invalid syntax (290718113.py, line 2)",
     "output_type": "error",
     "traceback": [
      "\u001b[1;36m  Input \u001b[1;32mIn [43]\u001b[1;36m\u001b[0m\n\u001b[1;33m    months = ['jan','feb','mar','apr','may','jun','jul','aug','sep,'oct','nov','dec']\u001b[0m\n\u001b[1;37m                                                                    ^\u001b[0m\n\u001b[1;31mSyntaxError\u001b[0m\u001b[1;31m:\u001b[0m invalid syntax\n"
     ]
    }
   ],
   "source": [
    "def num_to_months(num):\n",
    "    months = ['jan','feb','mar','apr','may','jun','jul','aug','sep,'oct','nov','dec']\n",
    "    return months[num-1]"
   ]
  },
  {
   "cell_type": "code",
   "execution_count": null,
   "metadata": {},
   "outputs": [
    {
     "ename": "NameError",
     "evalue": "name 'month_wise_cases' is not defined",
     "output_type": "error",
     "traceback": [
      "\u001b[1;31m---------------------------------------------------------------------------\u001b[0m",
      "\u001b[1;31mNameError\u001b[0m                                 Traceback (most recent call last)",
      "\u001b[1;32mc:\\Users\\ASUS\\OneDrive\\Documents\\python with datas science\\data_analytics\\panda_basics.ipynb Cell 8\u001b[0m in \u001b[0;36m<cell line: 1>\u001b[1;34m()\u001b[0m\n\u001b[1;32m----> <a href='vscode-notebook-cell:/c%3A/Users/ASUS/OneDrive/Documents/python%20with%20datas%20science/data_analytics/panda_basics.ipynb#X11sZmlsZQ%3D%3D?line=0'>1</a>\u001b[0m month_wise_cases[\u001b[39m'\u001b[39m\u001b[39mMonth\u001b[39m\u001b[39m'\u001b[39m]\u001b[39m=\u001b[39m month_wise_cases[\u001b[39m'\u001b[39m\u001b[39mMonth\u001b[39m\u001b[39m'\u001b[39m]\u001b[39m.\u001b[39mapply(num_to_months)\n",
      "\u001b[1;31mNameError\u001b[0m: name 'month_wise_cases' is not defined"
     ]
    }
   ],
   "source": [
    "month_wise_cases['Month']= month_wise_cases['Month'].apply(num_to_months)"
   ]
  },
  {
   "attachments": {},
   "cell_type": "markdown",
   "metadata": {},
   "source": [
    "PIVOT TABLE"
   ]
  },
  {
   "cell_type": "code",
   "execution_count": 52,
   "metadata": {},
   "outputs": [
    {
     "name": "stdout",
     "output_type": "stream",
     "text": [
      "['IncidntNum', 'Category', 'Descript', 'DayOfWeek', 'Date', 'Time', 'PdDistrict', 'Resolution', 'Address', 'X', 'Y', 'Location', 'PdId']\n"
     ]
    }
   ],
   "source": [
    "print(df.columns.to_list())\n"
   ]
  },
  {
   "cell_type": "code",
   "execution_count": 51,
   "metadata": {},
   "outputs": [
    {
     "data": {
      "text/html": [
       "<div>\n",
       "<style scoped>\n",
       "    .dataframe tbody tr th:only-of-type {\n",
       "        vertical-align: middle;\n",
       "    }\n",
       "\n",
       "    .dataframe tbody tr th {\n",
       "        vertical-align: top;\n",
       "    }\n",
       "\n",
       "    .dataframe thead th {\n",
       "        text-align: right;\n",
       "    }\n",
       "</style>\n",
       "<table border=\"1\" class=\"dataframe\">\n",
       "  <thead>\n",
       "    <tr style=\"text-align: right;\">\n",
       "      <th>DayOfWeek</th>\n",
       "      <th>Friday</th>\n",
       "      <th>Monday</th>\n",
       "      <th>Saturday</th>\n",
       "      <th>Sunday</th>\n",
       "      <th>Thursday</th>\n",
       "      <th>Tuesday</th>\n",
       "      <th>Wednesday</th>\n",
       "    </tr>\n",
       "    <tr>\n",
       "      <th>Category</th>\n",
       "      <th></th>\n",
       "      <th></th>\n",
       "      <th></th>\n",
       "      <th></th>\n",
       "      <th></th>\n",
       "      <th></th>\n",
       "      <th></th>\n",
       "    </tr>\n",
       "  </thead>\n",
       "  <tbody>\n",
       "    <tr>\n",
       "      <th>ARSON</th>\n",
       "      <td>7.0</td>\n",
       "      <td>4.0</td>\n",
       "      <td>3.0</td>\n",
       "      <td>5.0</td>\n",
       "      <td>5.0</td>\n",
       "      <td>1.0</td>\n",
       "      <td>3.0</td>\n",
       "    </tr>\n",
       "    <tr>\n",
       "      <th>ASSAULT</th>\n",
       "      <td>161.0</td>\n",
       "      <td>157.0</td>\n",
       "      <td>169.0</td>\n",
       "      <td>155.0</td>\n",
       "      <td>137.0</td>\n",
       "      <td>137.0</td>\n",
       "      <td>159.0</td>\n",
       "    </tr>\n",
       "    <tr>\n",
       "      <th>BRIBERY</th>\n",
       "      <td>2.0</td>\n",
       "      <td>1.0</td>\n",
       "      <td>2.0</td>\n",
       "      <td>3.0</td>\n",
       "      <td>NaN</td>\n",
       "      <td>2.0</td>\n",
       "      <td>3.0</td>\n",
       "    </tr>\n",
       "    <tr>\n",
       "      <th>BURGLARY</th>\n",
       "      <td>77.0</td>\n",
       "      <td>60.0</td>\n",
       "      <td>55.0</td>\n",
       "      <td>59.0</td>\n",
       "      <td>72.0</td>\n",
       "      <td>74.0</td>\n",
       "      <td>61.0</td>\n",
       "    </tr>\n",
       "    <tr>\n",
       "      <th>DISORDERLY CONDUCT</th>\n",
       "      <td>3.0</td>\n",
       "      <td>13.0</td>\n",
       "      <td>5.0</td>\n",
       "      <td>3.0</td>\n",
       "      <td>5.0</td>\n",
       "      <td>8.0</td>\n",
       "      <td>8.0</td>\n",
       "    </tr>\n",
       "    <tr>\n",
       "      <th>DRIVING UNDER THE INFLUENCE</th>\n",
       "      <td>6.0</td>\n",
       "      <td>2.0</td>\n",
       "      <td>13.0</td>\n",
       "      <td>3.0</td>\n",
       "      <td>7.0</td>\n",
       "      <td>NaN</td>\n",
       "      <td>1.0</td>\n",
       "    </tr>\n",
       "    <tr>\n",
       "      <th>DRUG/NARCOTIC</th>\n",
       "      <td>53.0</td>\n",
       "      <td>73.0</td>\n",
       "      <td>46.0</td>\n",
       "      <td>52.0</td>\n",
       "      <td>45.0</td>\n",
       "      <td>60.0</td>\n",
       "      <td>67.0</td>\n",
       "    </tr>\n",
       "    <tr>\n",
       "      <th>DRUNKENNESS</th>\n",
       "      <td>8.0</td>\n",
       "      <td>4.0</td>\n",
       "      <td>11.0</td>\n",
       "      <td>6.0</td>\n",
       "      <td>10.0</td>\n",
       "      <td>7.0</td>\n",
       "      <td>5.0</td>\n",
       "    </tr>\n",
       "    <tr>\n",
       "      <th>EMBEZZLEMENT</th>\n",
       "      <td>NaN</td>\n",
       "      <td>NaN</td>\n",
       "      <td>1.0</td>\n",
       "      <td>1.0</td>\n",
       "      <td>2.0</td>\n",
       "      <td>NaN</td>\n",
       "      <td>1.0</td>\n",
       "    </tr>\n",
       "    <tr>\n",
       "      <th>EXTORTION</th>\n",
       "      <td>1.0</td>\n",
       "      <td>2.0</td>\n",
       "      <td>NaN</td>\n",
       "      <td>2.0</td>\n",
       "      <td>NaN</td>\n",
       "      <td>NaN</td>\n",
       "      <td>NaN</td>\n",
       "    </tr>\n",
       "    <tr>\n",
       "      <th>FAMILY OFFENSES</th>\n",
       "      <td>1.0</td>\n",
       "      <td>NaN</td>\n",
       "      <td>NaN</td>\n",
       "      <td>1.0</td>\n",
       "      <td>2.0</td>\n",
       "      <td>NaN</td>\n",
       "      <td>NaN</td>\n",
       "    </tr>\n",
       "    <tr>\n",
       "      <th>FORGERY/COUNTERFEITING</th>\n",
       "      <td>7.0</td>\n",
       "      <td>6.0</td>\n",
       "      <td>6.0</td>\n",
       "      <td>6.0</td>\n",
       "      <td>9.0</td>\n",
       "      <td>9.0</td>\n",
       "      <td>5.0</td>\n",
       "    </tr>\n",
       "    <tr>\n",
       "      <th>FRAUD</th>\n",
       "      <td>29.0</td>\n",
       "      <td>31.0</td>\n",
       "      <td>33.0</td>\n",
       "      <td>22.0</td>\n",
       "      <td>24.0</td>\n",
       "      <td>24.0</td>\n",
       "      <td>25.0</td>\n",
       "    </tr>\n",
       "    <tr>\n",
       "      <th>GAMBLING</th>\n",
       "      <td>NaN</td>\n",
       "      <td>NaN</td>\n",
       "      <td>NaN</td>\n",
       "      <td>NaN</td>\n",
       "      <td>NaN</td>\n",
       "      <td>1.0</td>\n",
       "      <td>NaN</td>\n",
       "    </tr>\n",
       "    <tr>\n",
       "      <th>KIDNAPPING</th>\n",
       "      <td>4.0</td>\n",
       "      <td>NaN</td>\n",
       "      <td>5.0</td>\n",
       "      <td>1.0</td>\n",
       "      <td>3.0</td>\n",
       "      <td>6.0</td>\n",
       "      <td>3.0</td>\n",
       "    </tr>\n",
       "    <tr>\n",
       "      <th>LARCENY/THEFT</th>\n",
       "      <td>286.0</td>\n",
       "      <td>193.0</td>\n",
       "      <td>229.0</td>\n",
       "      <td>190.0</td>\n",
       "      <td>214.0</td>\n",
       "      <td>220.0</td>\n",
       "      <td>234.0</td>\n",
       "    </tr>\n",
       "    <tr>\n",
       "      <th>LIQUOR LAWS</th>\n",
       "      <td>NaN</td>\n",
       "      <td>3.0</td>\n",
       "      <td>2.0</td>\n",
       "      <td>2.0</td>\n",
       "      <td>2.0</td>\n",
       "      <td>NaN</td>\n",
       "      <td>NaN</td>\n",
       "    </tr>\n",
       "    <tr>\n",
       "      <th>LOITERING</th>\n",
       "      <td>NaN</td>\n",
       "      <td>1.0</td>\n",
       "      <td>1.0</td>\n",
       "      <td>NaN</td>\n",
       "      <td>NaN</td>\n",
       "      <td>NaN</td>\n",
       "      <td>NaN</td>\n",
       "    </tr>\n",
       "    <tr>\n",
       "      <th>MISSING PERSON</th>\n",
       "      <td>59.0</td>\n",
       "      <td>58.0</td>\n",
       "      <td>55.0</td>\n",
       "      <td>49.0</td>\n",
       "      <td>43.0</td>\n",
       "      <td>53.0</td>\n",
       "      <td>47.0</td>\n",
       "    </tr>\n",
       "    <tr>\n",
       "      <th>NON-CRIMINAL</th>\n",
       "      <td>202.0</td>\n",
       "      <td>189.0</td>\n",
       "      <td>190.0</td>\n",
       "      <td>163.0</td>\n",
       "      <td>170.0</td>\n",
       "      <td>160.0</td>\n",
       "      <td>168.0</td>\n",
       "    </tr>\n",
       "    <tr>\n",
       "      <th>OTHER OFFENSES</th>\n",
       "      <td>233.0</td>\n",
       "      <td>210.0</td>\n",
       "      <td>199.0</td>\n",
       "      <td>186.0</td>\n",
       "      <td>189.0</td>\n",
       "      <td>220.0</td>\n",
       "      <td>239.0</td>\n",
       "    </tr>\n",
       "    <tr>\n",
       "      <th>PROSTITUTION</th>\n",
       "      <td>10.0</td>\n",
       "      <td>2.0</td>\n",
       "      <td>3.0</td>\n",
       "      <td>2.0</td>\n",
       "      <td>33.0</td>\n",
       "      <td>3.0</td>\n",
       "      <td>6.0</td>\n",
       "    </tr>\n",
       "    <tr>\n",
       "      <th>RECOVERED VEHICLE</th>\n",
       "      <td>12.0</td>\n",
       "      <td>7.0</td>\n",
       "      <td>10.0</td>\n",
       "      <td>11.0</td>\n",
       "      <td>10.0</td>\n",
       "      <td>15.0</td>\n",
       "      <td>12.0</td>\n",
       "    </tr>\n",
       "    <tr>\n",
       "      <th>ROBBERY</th>\n",
       "      <td>52.0</td>\n",
       "      <td>31.0</td>\n",
       "      <td>43.0</td>\n",
       "      <td>40.0</td>\n",
       "      <td>36.0</td>\n",
       "      <td>30.0</td>\n",
       "      <td>36.0</td>\n",
       "    </tr>\n",
       "    <tr>\n",
       "      <th>RUNAWAY</th>\n",
       "      <td>NaN</td>\n",
       "      <td>2.0</td>\n",
       "      <td>4.0</td>\n",
       "      <td>3.0</td>\n",
       "      <td>1.0</td>\n",
       "      <td>3.0</td>\n",
       "      <td>NaN</td>\n",
       "    </tr>\n",
       "    <tr>\n",
       "      <th>SECONDARY CODES</th>\n",
       "      <td>16.0</td>\n",
       "      <td>23.0</td>\n",
       "      <td>18.0</td>\n",
       "      <td>23.0</td>\n",
       "      <td>19.0</td>\n",
       "      <td>22.0</td>\n",
       "      <td>25.0</td>\n",
       "    </tr>\n",
       "    <tr>\n",
       "      <th>SEX OFFENSES, FORCIBLE</th>\n",
       "      <td>12.0</td>\n",
       "      <td>9.0</td>\n",
       "      <td>11.0</td>\n",
       "      <td>14.0</td>\n",
       "      <td>8.0</td>\n",
       "      <td>8.0</td>\n",
       "      <td>12.0</td>\n",
       "    </tr>\n",
       "    <tr>\n",
       "      <th>SEX OFFENSES, NON FORCIBLE</th>\n",
       "      <td>NaN</td>\n",
       "      <td>1.0</td>\n",
       "      <td>NaN</td>\n",
       "      <td>NaN</td>\n",
       "      <td>NaN</td>\n",
       "      <td>NaN</td>\n",
       "      <td>1.0</td>\n",
       "    </tr>\n",
       "    <tr>\n",
       "      <th>STOLEN PROPERTY</th>\n",
       "      <td>14.0</td>\n",
       "      <td>7.0</td>\n",
       "      <td>9.0</td>\n",
       "      <td>5.0</td>\n",
       "      <td>8.0</td>\n",
       "      <td>5.0</td>\n",
       "      <td>7.0</td>\n",
       "    </tr>\n",
       "    <tr>\n",
       "      <th>SUICIDE</th>\n",
       "      <td>NaN</td>\n",
       "      <td>3.0</td>\n",
       "      <td>1.0</td>\n",
       "      <td>2.0</td>\n",
       "      <td>NaN</td>\n",
       "      <td>NaN</td>\n",
       "      <td>NaN</td>\n",
       "    </tr>\n",
       "    <tr>\n",
       "      <th>SUSPICIOUS OCC</th>\n",
       "      <td>71.0</td>\n",
       "      <td>54.0</td>\n",
       "      <td>64.0</td>\n",
       "      <td>74.0</td>\n",
       "      <td>56.0</td>\n",
       "      <td>66.0</td>\n",
       "      <td>58.0</td>\n",
       "    </tr>\n",
       "    <tr>\n",
       "      <th>TRESPASS</th>\n",
       "      <td>25.0</td>\n",
       "      <td>23.0</td>\n",
       "      <td>18.0</td>\n",
       "      <td>13.0</td>\n",
       "      <td>18.0</td>\n",
       "      <td>24.0</td>\n",
       "      <td>25.0</td>\n",
       "    </tr>\n",
       "    <tr>\n",
       "      <th>VANDALISM</th>\n",
       "      <td>66.0</td>\n",
       "      <td>83.0</td>\n",
       "      <td>80.0</td>\n",
       "      <td>69.0</td>\n",
       "      <td>71.0</td>\n",
       "      <td>45.0</td>\n",
       "      <td>61.0</td>\n",
       "    </tr>\n",
       "    <tr>\n",
       "      <th>VEHICLE THEFT</th>\n",
       "      <td>80.0</td>\n",
       "      <td>80.0</td>\n",
       "      <td>74.0</td>\n",
       "      <td>84.0</td>\n",
       "      <td>67.0</td>\n",
       "      <td>79.0</td>\n",
       "      <td>65.0</td>\n",
       "    </tr>\n",
       "    <tr>\n",
       "      <th>WARRANTS</th>\n",
       "      <td>93.0</td>\n",
       "      <td>63.0</td>\n",
       "      <td>75.0</td>\n",
       "      <td>80.0</td>\n",
       "      <td>76.0</td>\n",
       "      <td>90.0</td>\n",
       "      <td>78.0</td>\n",
       "    </tr>\n",
       "    <tr>\n",
       "      <th>WEAPON LAWS</th>\n",
       "      <td>23.0</td>\n",
       "      <td>16.0</td>\n",
       "      <td>22.0</td>\n",
       "      <td>22.0</td>\n",
       "      <td>25.0</td>\n",
       "      <td>18.0</td>\n",
       "      <td>15.0</td>\n",
       "    </tr>\n",
       "  </tbody>\n",
       "</table>\n",
       "</div>"
      ],
      "text/plain": [
       "DayOfWeek                    Friday  Monday  Saturday  Sunday  Thursday  \\\n",
       "Category                                                                  \n",
       "ARSON                           7.0     4.0       3.0     5.0       5.0   \n",
       "ASSAULT                       161.0   157.0     169.0   155.0     137.0   \n",
       "BRIBERY                         2.0     1.0       2.0     3.0       NaN   \n",
       "BURGLARY                       77.0    60.0      55.0    59.0      72.0   \n",
       "DISORDERLY CONDUCT              3.0    13.0       5.0     3.0       5.0   \n",
       "DRIVING UNDER THE INFLUENCE     6.0     2.0      13.0     3.0       7.0   \n",
       "DRUG/NARCOTIC                  53.0    73.0      46.0    52.0      45.0   \n",
       "DRUNKENNESS                     8.0     4.0      11.0     6.0      10.0   \n",
       "EMBEZZLEMENT                    NaN     NaN       1.0     1.0       2.0   \n",
       "EXTORTION                       1.0     2.0       NaN     2.0       NaN   \n",
       "FAMILY OFFENSES                 1.0     NaN       NaN     1.0       2.0   \n",
       "FORGERY/COUNTERFEITING          7.0     6.0       6.0     6.0       9.0   \n",
       "FRAUD                          29.0    31.0      33.0    22.0      24.0   \n",
       "GAMBLING                        NaN     NaN       NaN     NaN       NaN   \n",
       "KIDNAPPING                      4.0     NaN       5.0     1.0       3.0   \n",
       "LARCENY/THEFT                 286.0   193.0     229.0   190.0     214.0   \n",
       "LIQUOR LAWS                     NaN     3.0       2.0     2.0       2.0   \n",
       "LOITERING                       NaN     1.0       1.0     NaN       NaN   \n",
       "MISSING PERSON                 59.0    58.0      55.0    49.0      43.0   \n",
       "NON-CRIMINAL                  202.0   189.0     190.0   163.0     170.0   \n",
       "OTHER OFFENSES                233.0   210.0     199.0   186.0     189.0   \n",
       "PROSTITUTION                   10.0     2.0       3.0     2.0      33.0   \n",
       "RECOVERED VEHICLE              12.0     7.0      10.0    11.0      10.0   \n",
       "ROBBERY                        52.0    31.0      43.0    40.0      36.0   \n",
       "RUNAWAY                         NaN     2.0       4.0     3.0       1.0   \n",
       "SECONDARY CODES                16.0    23.0      18.0    23.0      19.0   \n",
       "SEX OFFENSES, FORCIBLE         12.0     9.0      11.0    14.0       8.0   \n",
       "SEX OFFENSES, NON FORCIBLE      NaN     1.0       NaN     NaN       NaN   \n",
       "STOLEN PROPERTY                14.0     7.0       9.0     5.0       8.0   \n",
       "SUICIDE                         NaN     3.0       1.0     2.0       NaN   \n",
       "SUSPICIOUS OCC                 71.0    54.0      64.0    74.0      56.0   \n",
       "TRESPASS                       25.0    23.0      18.0    13.0      18.0   \n",
       "VANDALISM                      66.0    83.0      80.0    69.0      71.0   \n",
       "VEHICLE THEFT                  80.0    80.0      74.0    84.0      67.0   \n",
       "WARRANTS                       93.0    63.0      75.0    80.0      76.0   \n",
       "WEAPON LAWS                    23.0    16.0      22.0    22.0      25.0   \n",
       "\n",
       "DayOfWeek                    Tuesday  Wednesday  \n",
       "Category                                         \n",
       "ARSON                            1.0        3.0  \n",
       "ASSAULT                        137.0      159.0  \n",
       "BRIBERY                          2.0        3.0  \n",
       "BURGLARY                        74.0       61.0  \n",
       "DISORDERLY CONDUCT               8.0        8.0  \n",
       "DRIVING UNDER THE INFLUENCE      NaN        1.0  \n",
       "DRUG/NARCOTIC                   60.0       67.0  \n",
       "DRUNKENNESS                      7.0        5.0  \n",
       "EMBEZZLEMENT                     NaN        1.0  \n",
       "EXTORTION                        NaN        NaN  \n",
       "FAMILY OFFENSES                  NaN        NaN  \n",
       "FORGERY/COUNTERFEITING           9.0        5.0  \n",
       "FRAUD                           24.0       25.0  \n",
       "GAMBLING                         1.0        NaN  \n",
       "KIDNAPPING                       6.0        3.0  \n",
       "LARCENY/THEFT                  220.0      234.0  \n",
       "LIQUOR LAWS                      NaN        NaN  \n",
       "LOITERING                        NaN        NaN  \n",
       "MISSING PERSON                  53.0       47.0  \n",
       "NON-CRIMINAL                   160.0      168.0  \n",
       "OTHER OFFENSES                 220.0      239.0  \n",
       "PROSTITUTION                     3.0        6.0  \n",
       "RECOVERED VEHICLE               15.0       12.0  \n",
       "ROBBERY                         30.0       36.0  \n",
       "RUNAWAY                          3.0        NaN  \n",
       "SECONDARY CODES                 22.0       25.0  \n",
       "SEX OFFENSES, FORCIBLE           8.0       12.0  \n",
       "SEX OFFENSES, NON FORCIBLE       NaN        1.0  \n",
       "STOLEN PROPERTY                  5.0        7.0  \n",
       "SUICIDE                          NaN        NaN  \n",
       "SUSPICIOUS OCC                  66.0       58.0  \n",
       "TRESPASS                        24.0       25.0  \n",
       "VANDALISM                       45.0       61.0  \n",
       "VEHICLE THEFT                   79.0       65.0  \n",
       "WARRANTS                        90.0       78.0  \n",
       "WEAPON LAWS                     18.0       15.0  "
      ]
     },
     "execution_count": 51,
     "metadata": {},
     "output_type": "execute_result"
    }
   ],
   "source": [
    "df.pivot_table(index='Category',columns='DayOfWeek',values='IncidntNum',aggfunc='count')"
   ]
  },
  {
   "attachments": {},
   "cell_type": "markdown",
   "metadata": {},
   "source": [
    "APPLY A FUNCTION"
   ]
  },
  {
   "cell_type": "code",
   "execution_count": 54,
   "metadata": {},
   "outputs": [
    {
     "data": {
      "text/html": [
       "<div>\n",
       "<style scoped>\n",
       "    .dataframe tbody tr th:only-of-type {\n",
       "        vertical-align: middle;\n",
       "    }\n",
       "\n",
       "    .dataframe tbody tr th {\n",
       "        vertical-align: top;\n",
       "    }\n",
       "\n",
       "    .dataframe thead th {\n",
       "        text-align: right;\n",
       "    }\n",
       "</style>\n",
       "<table border=\"1\" class=\"dataframe\">\n",
       "  <thead>\n",
       "    <tr style=\"text-align: right;\">\n",
       "      <th></th>\n",
       "      <th>IncidntNum</th>\n",
       "      <th>Category</th>\n",
       "      <th>Descript</th>\n",
       "      <th>DayOfWeek</th>\n",
       "      <th>Date</th>\n",
       "      <th>Time</th>\n",
       "      <th>PdDistrict</th>\n",
       "      <th>Resolution</th>\n",
       "      <th>Address</th>\n",
       "      <th>X</th>\n",
       "      <th>Y</th>\n",
       "      <th>Location</th>\n",
       "      <th>PdId</th>\n",
       "    </tr>\n",
       "  </thead>\n",
       "  <tbody>\n",
       "    <tr>\n",
       "      <th>2467</th>\n",
       "      <td>150273337.0</td>\n",
       "      <td>warrants</td>\n",
       "      <td>WARRANT ARREST</td>\n",
       "      <td>Wednesday</td>\n",
       "      <td>2016-12-21</td>\n",
       "      <td>18:17</td>\n",
       "      <td>TENDERLOIN</td>\n",
       "      <td>ARREST, BOOKED</td>\n",
       "      <td>300 Block of JONES ST</td>\n",
       "      <td>-122.412759</td>\n",
       "      <td>37.784400</td>\n",
       "      <td>(37.7843997500192, -122.412758846145)</td>\n",
       "      <td>1.502730e+13</td>\n",
       "    </tr>\n",
       "    <tr>\n",
       "      <th>115</th>\n",
       "      <td>150480366.0</td>\n",
       "      <td>vehicle theft</td>\n",
       "      <td>STOLEN AND RECOVERED VEHICLE</td>\n",
       "      <td>Thursday</td>\n",
       "      <td>2016-12-08</td>\n",
       "      <td>15:00</td>\n",
       "      <td>NORTHERN</td>\n",
       "      <td>ARREST, BOOKED</td>\n",
       "      <td>PINE ST / POLK ST</td>\n",
       "      <td>-122.420497</td>\n",
       "      <td>37.789619</td>\n",
       "      <td>(37.789618819255, -122.42049728879)</td>\n",
       "      <td>1.504800e+13</td>\n",
       "    </tr>\n",
       "    <tr>\n",
       "      <th>116</th>\n",
       "      <td>150480366.0</td>\n",
       "      <td>drunkenness</td>\n",
       "      <td>UNDER INFLUENCE OF ALCOHOL IN A PUBLIC PLACE</td>\n",
       "      <td>Thursday</td>\n",
       "      <td>2016-12-08</td>\n",
       "      <td>15:00</td>\n",
       "      <td>NORTHERN</td>\n",
       "      <td>ARREST, BOOKED</td>\n",
       "      <td>PINE ST / POLK ST</td>\n",
       "      <td>-122.420497</td>\n",
       "      <td>37.789619</td>\n",
       "      <td>(37.789618819255, -122.42049728879)</td>\n",
       "      <td>1.504800e+13</td>\n",
       "    </tr>\n",
       "    <tr>\n",
       "      <th>117</th>\n",
       "      <td>150480366.0</td>\n",
       "      <td>vandalism</td>\n",
       "      <td>MALICIOUS MISCHIEF, VANDALISM</td>\n",
       "      <td>Thursday</td>\n",
       "      <td>2016-12-08</td>\n",
       "      <td>15:00</td>\n",
       "      <td>NORTHERN</td>\n",
       "      <td>ARREST, BOOKED</td>\n",
       "      <td>PINE ST / POLK ST</td>\n",
       "      <td>-122.420497</td>\n",
       "      <td>37.789619</td>\n",
       "      <td>(37.789618819255, -122.42049728879)</td>\n",
       "      <td>1.504800e+13</td>\n",
       "    </tr>\n",
       "    <tr>\n",
       "      <th>118</th>\n",
       "      <td>150480366.0</td>\n",
       "      <td>vandalism</td>\n",
       "      <td>MALICIOUS MISCHIEF, VANDALISM OF VEHICLES</td>\n",
       "      <td>Thursday</td>\n",
       "      <td>2016-12-08</td>\n",
       "      <td>15:00</td>\n",
       "      <td>NORTHERN</td>\n",
       "      <td>ARREST, BOOKED</td>\n",
       "      <td>PINE ST / POLK ST</td>\n",
       "      <td>-122.420497</td>\n",
       "      <td>37.789619</td>\n",
       "      <td>(37.789618819255, -122.42049728879)</td>\n",
       "      <td>1.504800e+13</td>\n",
       "    </tr>\n",
       "  </tbody>\n",
       "</table>\n",
       "</div>"
      ],
      "text/plain": [
       "       IncidntNum       Category  \\\n",
       "2467  150273337.0       warrants   \n",
       "115   150480366.0  vehicle theft   \n",
       "116   150480366.0    drunkenness   \n",
       "117   150480366.0      vandalism   \n",
       "118   150480366.0      vandalism   \n",
       "\n",
       "                                          Descript  DayOfWeek       Date  \\\n",
       "2467                                WARRANT ARREST  Wednesday 2016-12-21   \n",
       "115                   STOLEN AND RECOVERED VEHICLE   Thursday 2016-12-08   \n",
       "116   UNDER INFLUENCE OF ALCOHOL IN A PUBLIC PLACE   Thursday 2016-12-08   \n",
       "117                  MALICIOUS MISCHIEF, VANDALISM   Thursday 2016-12-08   \n",
       "118      MALICIOUS MISCHIEF, VANDALISM OF VEHICLES   Thursday 2016-12-08   \n",
       "\n",
       "       Time  PdDistrict      Resolution                Address           X  \\\n",
       "2467  18:17  TENDERLOIN  ARREST, BOOKED  300 Block of JONES ST -122.412759   \n",
       "115   15:00    NORTHERN  ARREST, BOOKED      PINE ST / POLK ST -122.420497   \n",
       "116   15:00    NORTHERN  ARREST, BOOKED      PINE ST / POLK ST -122.420497   \n",
       "117   15:00    NORTHERN  ARREST, BOOKED      PINE ST / POLK ST -122.420497   \n",
       "118   15:00    NORTHERN  ARREST, BOOKED      PINE ST / POLK ST -122.420497   \n",
       "\n",
       "              Y                               Location          PdId  \n",
       "2467  37.784400  (37.7843997500192, -122.412758846145)  1.502730e+13  \n",
       "115   37.789619    (37.789618819255, -122.42049728879)  1.504800e+13  \n",
       "116   37.789619    (37.789618819255, -122.42049728879)  1.504800e+13  \n",
       "117   37.789619    (37.789618819255, -122.42049728879)  1.504800e+13  \n",
       "118   37.789619    (37.789618819255, -122.42049728879)  1.504800e+13  "
      ]
     },
     "execution_count": 54,
     "metadata": {},
     "output_type": "execute_result"
    }
   ],
   "source": [
    "df['Category'] = df['Category'].apply(lambda val: val.lower())  #convert to lower case\n",
    "df.head()"
   ]
  },
  {
   "cell_type": "code",
   "execution_count": 58,
   "metadata": {},
   "outputs": [
    {
     "data": {
      "text/html": [
       "<div>\n",
       "<style scoped>\n",
       "    .dataframe tbody tr th:only-of-type {\n",
       "        vertical-align: middle;\n",
       "    }\n",
       "\n",
       "    .dataframe tbody tr th {\n",
       "        vertical-align: top;\n",
       "    }\n",
       "\n",
       "    .dataframe thead th {\n",
       "        text-align: right;\n",
       "    }\n",
       "</style>\n",
       "<table border=\"1\" class=\"dataframe\">\n",
       "  <thead>\n",
       "    <tr style=\"text-align: right;\">\n",
       "      <th></th>\n",
       "      <th>total_bill</th>\n",
       "      <th>tip</th>\n",
       "      <th>sex</th>\n",
       "      <th>smoker</th>\n",
       "      <th>day</th>\n",
       "      <th>time</th>\n",
       "      <th>size</th>\n",
       "    </tr>\n",
       "  </thead>\n",
       "  <tbody>\n",
       "    <tr>\n",
       "      <th>0</th>\n",
       "      <td>16.99</td>\n",
       "      <td>1.01</td>\n",
       "      <td>Female</td>\n",
       "      <td>No</td>\n",
       "      <td>Sun</td>\n",
       "      <td>Dinner</td>\n",
       "      <td>2</td>\n",
       "    </tr>\n",
       "    <tr>\n",
       "      <th>1</th>\n",
       "      <td>10.34</td>\n",
       "      <td>1.66</td>\n",
       "      <td>Male</td>\n",
       "      <td>No</td>\n",
       "      <td>Sun</td>\n",
       "      <td>Dinner</td>\n",
       "      <td>3</td>\n",
       "    </tr>\n",
       "    <tr>\n",
       "      <th>2</th>\n",
       "      <td>21.01</td>\n",
       "      <td>3.50</td>\n",
       "      <td>Male</td>\n",
       "      <td>No</td>\n",
       "      <td>Sun</td>\n",
       "      <td>Dinner</td>\n",
       "      <td>3</td>\n",
       "    </tr>\n",
       "    <tr>\n",
       "      <th>3</th>\n",
       "      <td>23.68</td>\n",
       "      <td>3.31</td>\n",
       "      <td>Male</td>\n",
       "      <td>No</td>\n",
       "      <td>Sun</td>\n",
       "      <td>Dinner</td>\n",
       "      <td>2</td>\n",
       "    </tr>\n",
       "    <tr>\n",
       "      <th>4</th>\n",
       "      <td>24.59</td>\n",
       "      <td>3.61</td>\n",
       "      <td>Female</td>\n",
       "      <td>No</td>\n",
       "      <td>Sun</td>\n",
       "      <td>Dinner</td>\n",
       "      <td>4</td>\n",
       "    </tr>\n",
       "  </tbody>\n",
       "</table>\n",
       "</div>"
      ],
      "text/plain": [
       "   total_bill   tip     sex smoker  day    time  size\n",
       "0       16.99  1.01  Female     No  Sun  Dinner     2\n",
       "1       10.34  1.66    Male     No  Sun  Dinner     3\n",
       "2       21.01  3.50    Male     No  Sun  Dinner     3\n",
       "3       23.68  3.31    Male     No  Sun  Dinner     2\n",
       "4       24.59  3.61  Female     No  Sun  Dinner     4"
      ]
     },
     "execution_count": 58,
     "metadata": {},
     "output_type": "execute_result"
    }
   ],
   "source": [
    "tips = px.data.tips() #us restaurant tips dataset\n",
    "tips.head()"
   ]
  },
  {
   "cell_type": "code",
   "execution_count": 59,
   "metadata": {},
   "outputs": [
    {
     "data": {
      "text/plain": [
       "0      15.98\n",
       "1       8.68\n",
       "2      17.51\n",
       "3      20.37\n",
       "4      20.98\n",
       "       ...  \n",
       "239    23.11\n",
       "240    25.18\n",
       "241    20.67\n",
       "242    16.07\n",
       "243    15.78\n",
       "Length: 244, dtype: float64"
      ]
     },
     "execution_count": 59,
     "metadata": {},
     "output_type": "execute_result"
    }
   ],
   "source": [
    "tips.total_bill - tips.tip"
   ]
  },
  {
   "attachments": {},
   "cell_type": "markdown",
   "metadata": {},
   "source": [
    "ADDING A NEW COLUMNS(AUGMENTATION)"
   ]
  },
  {
   "cell_type": "code",
   "execution_count": 60,
   "metadata": {},
   "outputs": [
    {
     "data": {
      "text/html": [
       "<div>\n",
       "<style scoped>\n",
       "    .dataframe tbody tr th:only-of-type {\n",
       "        vertical-align: middle;\n",
       "    }\n",
       "\n",
       "    .dataframe tbody tr th {\n",
       "        vertical-align: top;\n",
       "    }\n",
       "\n",
       "    .dataframe thead th {\n",
       "        text-align: right;\n",
       "    }\n",
       "</style>\n",
       "<table border=\"1\" class=\"dataframe\">\n",
       "  <thead>\n",
       "    <tr style=\"text-align: right;\">\n",
       "      <th></th>\n",
       "      <th>total_bill</th>\n",
       "      <th>tip</th>\n",
       "      <th>sex</th>\n",
       "      <th>smoker</th>\n",
       "      <th>day</th>\n",
       "      <th>time</th>\n",
       "      <th>size</th>\n",
       "      <th>food_bill</th>\n",
       "    </tr>\n",
       "  </thead>\n",
       "  <tbody>\n",
       "    <tr>\n",
       "      <th>0</th>\n",
       "      <td>16.99</td>\n",
       "      <td>1.01</td>\n",
       "      <td>Female</td>\n",
       "      <td>No</td>\n",
       "      <td>Sun</td>\n",
       "      <td>Dinner</td>\n",
       "      <td>2</td>\n",
       "      <td>15.98</td>\n",
       "    </tr>\n",
       "    <tr>\n",
       "      <th>1</th>\n",
       "      <td>10.34</td>\n",
       "      <td>1.66</td>\n",
       "      <td>Male</td>\n",
       "      <td>No</td>\n",
       "      <td>Sun</td>\n",
       "      <td>Dinner</td>\n",
       "      <td>3</td>\n",
       "      <td>8.68</td>\n",
       "    </tr>\n",
       "    <tr>\n",
       "      <th>2</th>\n",
       "      <td>21.01</td>\n",
       "      <td>3.50</td>\n",
       "      <td>Male</td>\n",
       "      <td>No</td>\n",
       "      <td>Sun</td>\n",
       "      <td>Dinner</td>\n",
       "      <td>3</td>\n",
       "      <td>17.51</td>\n",
       "    </tr>\n",
       "    <tr>\n",
       "      <th>3</th>\n",
       "      <td>23.68</td>\n",
       "      <td>3.31</td>\n",
       "      <td>Male</td>\n",
       "      <td>No</td>\n",
       "      <td>Sun</td>\n",
       "      <td>Dinner</td>\n",
       "      <td>2</td>\n",
       "      <td>20.37</td>\n",
       "    </tr>\n",
       "    <tr>\n",
       "      <th>4</th>\n",
       "      <td>24.59</td>\n",
       "      <td>3.61</td>\n",
       "      <td>Female</td>\n",
       "      <td>No</td>\n",
       "      <td>Sun</td>\n",
       "      <td>Dinner</td>\n",
       "      <td>4</td>\n",
       "      <td>20.98</td>\n",
       "    </tr>\n",
       "  </tbody>\n",
       "</table>\n",
       "</div>"
      ],
      "text/plain": [
       "   total_bill   tip     sex smoker  day    time  size  food_bill\n",
       "0       16.99  1.01  Female     No  Sun  Dinner     2      15.98\n",
       "1       10.34  1.66    Male     No  Sun  Dinner     3       8.68\n",
       "2       21.01  3.50    Male     No  Sun  Dinner     3      17.51\n",
       "3       23.68  3.31    Male     No  Sun  Dinner     2      20.37\n",
       "4       24.59  3.61  Female     No  Sun  Dinner     4      20.98"
      ]
     },
     "execution_count": 60,
     "metadata": {},
     "output_type": "execute_result"
    }
   ],
   "source": [
    "tips['food_bill'] = tips.total_bill - tips.tip \n",
    "tips.head()"
   ]
  },
  {
   "cell_type": "code",
   "execution_count": 62,
   "metadata": {},
   "outputs": [
    {
     "data": {
      "text/html": [
       "<div>\n",
       "<style scoped>\n",
       "    .dataframe tbody tr th:only-of-type {\n",
       "        vertical-align: middle;\n",
       "    }\n",
       "\n",
       "    .dataframe tbody tr th {\n",
       "        vertical-align: top;\n",
       "    }\n",
       "\n",
       "    .dataframe thead th {\n",
       "        text-align: right;\n",
       "    }\n",
       "</style>\n",
       "<table border=\"1\" class=\"dataframe\">\n",
       "  <thead>\n",
       "    <tr style=\"text-align: right;\">\n",
       "      <th></th>\n",
       "      <th>total_bill</th>\n",
       "      <th>tip</th>\n",
       "      <th>sex</th>\n",
       "      <th>smoker</th>\n",
       "      <th>day</th>\n",
       "      <th>time</th>\n",
       "      <th>size</th>\n",
       "      <th>food_bill</th>\n",
       "    </tr>\n",
       "  </thead>\n",
       "  <tbody>\n",
       "    <tr>\n",
       "      <th>156</th>\n",
       "      <td>48.17</td>\n",
       "      <td>5.0</td>\n",
       "      <td>Male</td>\n",
       "      <td>No</td>\n",
       "      <td>Sun</td>\n",
       "      <td>Dinner</td>\n",
       "      <td>6</td>\n",
       "      <td>43.17</td>\n",
       "    </tr>\n",
       "    <tr>\n",
       "      <th>182</th>\n",
       "      <td>45.35</td>\n",
       "      <td>3.5</td>\n",
       "      <td>Male</td>\n",
       "      <td>Yes</td>\n",
       "      <td>Sun</td>\n",
       "      <td>Dinner</td>\n",
       "      <td>3</td>\n",
       "      <td>41.85</td>\n",
       "    </tr>\n",
       "  </tbody>\n",
       "</table>\n",
       "</div>"
      ],
      "text/plain": [
       "     total_bill  tip   sex smoker  day    time  size  food_bill\n",
       "156       48.17  5.0  Male     No  Sun  Dinner     6      43.17\n",
       "182       45.35  3.5  Male    Yes  Sun  Dinner     3      41.85"
      ]
     },
     "execution_count": 62,
     "metadata": {},
     "output_type": "execute_result"
    }
   ],
   "source": [
    "tips.sort_values(by='food_bill',ascending=False, inplace=True)\n",
    "tips.head(2)"
   ]
  },
  {
   "cell_type": "code",
   "execution_count": 63,
   "metadata": {},
   "outputs": [
    {
     "data": {
      "text/html": [
       "<div>\n",
       "<style scoped>\n",
       "    .dataframe tbody tr th:only-of-type {\n",
       "        vertical-align: middle;\n",
       "    }\n",
       "\n",
       "    .dataframe tbody tr th {\n",
       "        vertical-align: top;\n",
       "    }\n",
       "\n",
       "    .dataframe thead tr th {\n",
       "        text-align: left;\n",
       "    }\n",
       "\n",
       "    .dataframe thead tr:last-of-type th {\n",
       "        text-align: right;\n",
       "    }\n",
       "</style>\n",
       "<table border=\"1\" class=\"dataframe\">\n",
       "  <thead>\n",
       "    <tr>\n",
       "      <th></th>\n",
       "      <th colspan=\"2\" halign=\"left\">max</th>\n",
       "      <th colspan=\"2\" halign=\"left\">min</th>\n",
       "    </tr>\n",
       "    <tr>\n",
       "      <th>sex</th>\n",
       "      <th>Female</th>\n",
       "      <th>Male</th>\n",
       "      <th>Female</th>\n",
       "      <th>Male</th>\n",
       "    </tr>\n",
       "    <tr>\n",
       "      <th>day</th>\n",
       "      <th></th>\n",
       "      <th></th>\n",
       "      <th></th>\n",
       "      <th></th>\n",
       "    </tr>\n",
       "  </thead>\n",
       "  <tbody>\n",
       "    <tr>\n",
       "      <th>Fri</th>\n",
       "      <td>19.50</td>\n",
       "      <td>35.44</td>\n",
       "      <td>4.75</td>\n",
       "      <td>6.66</td>\n",
       "    </tr>\n",
       "    <tr>\n",
       "      <th>Sat</th>\n",
       "      <td>41.80</td>\n",
       "      <td>41.54</td>\n",
       "      <td>2.07</td>\n",
       "      <td>6.30</td>\n",
       "    </tr>\n",
       "    <tr>\n",
       "      <th>Sun</th>\n",
       "      <td>30.26</td>\n",
       "      <td>43.17</td>\n",
       "      <td>5.60</td>\n",
       "      <td>2.10</td>\n",
       "    </tr>\n",
       "    <tr>\n",
       "      <th>Thur</th>\n",
       "      <td>38.11</td>\n",
       "      <td>36.19</td>\n",
       "      <td>6.85</td>\n",
       "      <td>5.51</td>\n",
       "    </tr>\n",
       "  </tbody>\n",
       "</table>\n",
       "</div>"
      ],
      "text/plain": [
       "        max           min      \n",
       "sex  Female   Male Female  Male\n",
       "day                            \n",
       "Fri   19.50  35.44   4.75  6.66\n",
       "Sat   41.80  41.54   2.07  6.30\n",
       "Sun   30.26  43.17   5.60  2.10\n",
       "Thur  38.11  36.19   6.85  5.51"
      ]
     },
     "execution_count": 63,
     "metadata": {},
     "output_type": "execute_result"
    }
   ],
   "source": [
    "tips.pivot_table(index='day', columns='sex',values='food_bill',aggfunc=['max','min'])"
   ]
  },
  {
   "attachments": {},
   "cell_type": "markdown",
   "metadata": {},
   "source": [
    "general syntex for plotly express\n",
    "px.func(dataframe, colname, othersettings)"
   ]
  },
  {
   "cell_type": "code",
   "execution_count": 66,
   "metadata": {},
   "outputs": [
    {
     "data": {
      "application/vnd.plotly.v1+json": {
       "config": {
        "plotlyServerURL": "https://plot.ly"
       },
       "data": [
        {
         "alignmentgroup": "True",
         "hovertemplate": "variable=total_bill<br>value=%{x}<br>index=%{y}<extra></extra>",
         "legendgroup": "total_bill",
         "marker": {
          "color": "#636efa",
          "pattern": {
           "shape": ""
          }
         },
         "name": "total_bill",
         "offsetgroup": "total_bill",
         "orientation": "h",
         "showlegend": true,
         "textposition": "auto",
         "type": "bar",
         "x": [
          48.17,
          45.35,
          44.3,
          48.27,
          50.81,
          48.33,
          43.11,
          40.55,
          41.19,
          38.73,
          40.17,
          38.01,
          38.07,
          39.42,
          32.83
         ],
         "xaxis": "x",
         "y": [
          156,
          182,
          102,
          59,
          170,
          212,
          197,
          184,
          142,
          207,
          95,
          56,
          112,
          23,
          237
         ],
         "yaxis": "y"
        },
        {
         "alignmentgroup": "True",
         "hovertemplate": "variable=food_bill<br>value=%{x}<br>index=%{y}<extra></extra>",
         "legendgroup": "food_bill",
         "marker": {
          "color": "#EF553B",
          "pattern": {
           "shape": ""
          }
         },
         "name": "food_bill",
         "offsetgroup": "food_bill",
         "orientation": "h",
         "showlegend": true,
         "textposition": "auto",
         "type": "bar",
         "x": [
          43.17,
          41.85,
          41.8,
          41.540000000000006,
          40.81,
          39.33,
          38.11,
          37.55,
          36.19,
          35.73,
          35.44,
          35.01,
          34.07,
          31.840000000000003,
          31.659999999999997
         ],
         "xaxis": "x",
         "y": [
          156,
          182,
          102,
          59,
          170,
          212,
          197,
          184,
          142,
          207,
          95,
          56,
          112,
          23,
          237
         ],
         "yaxis": "y"
        }
       ],
       "layout": {
        "barmode": "relative",
        "legend": {
         "title": {
          "text": "variable"
         },
         "tracegroupgap": 0
        },
        "margin": {
         "t": 60
        },
        "template": {
         "data": {
          "bar": [
           {
            "error_x": {
             "color": "#2a3f5f"
            },
            "error_y": {
             "color": "#2a3f5f"
            },
            "marker": {
             "line": {
              "color": "#E5ECF6",
              "width": 0.5
             },
             "pattern": {
              "fillmode": "overlay",
              "size": 10,
              "solidity": 0.2
             }
            },
            "type": "bar"
           }
          ],
          "barpolar": [
           {
            "marker": {
             "line": {
              "color": "#E5ECF6",
              "width": 0.5
             },
             "pattern": {
              "fillmode": "overlay",
              "size": 10,
              "solidity": 0.2
             }
            },
            "type": "barpolar"
           }
          ],
          "carpet": [
           {
            "aaxis": {
             "endlinecolor": "#2a3f5f",
             "gridcolor": "white",
             "linecolor": "white",
             "minorgridcolor": "white",
             "startlinecolor": "#2a3f5f"
            },
            "baxis": {
             "endlinecolor": "#2a3f5f",
             "gridcolor": "white",
             "linecolor": "white",
             "minorgridcolor": "white",
             "startlinecolor": "#2a3f5f"
            },
            "type": "carpet"
           }
          ],
          "choropleth": [
           {
            "colorbar": {
             "outlinewidth": 0,
             "ticks": ""
            },
            "type": "choropleth"
           }
          ],
          "contour": [
           {
            "colorbar": {
             "outlinewidth": 0,
             "ticks": ""
            },
            "colorscale": [
             [
              0,
              "#0d0887"
             ],
             [
              0.1111111111111111,
              "#46039f"
             ],
             [
              0.2222222222222222,
              "#7201a8"
             ],
             [
              0.3333333333333333,
              "#9c179e"
             ],
             [
              0.4444444444444444,
              "#bd3786"
             ],
             [
              0.5555555555555556,
              "#d8576b"
             ],
             [
              0.6666666666666666,
              "#ed7953"
             ],
             [
              0.7777777777777778,
              "#fb9f3a"
             ],
             [
              0.8888888888888888,
              "#fdca26"
             ],
             [
              1,
              "#f0f921"
             ]
            ],
            "type": "contour"
           }
          ],
          "contourcarpet": [
           {
            "colorbar": {
             "outlinewidth": 0,
             "ticks": ""
            },
            "type": "contourcarpet"
           }
          ],
          "heatmap": [
           {
            "colorbar": {
             "outlinewidth": 0,
             "ticks": ""
            },
            "colorscale": [
             [
              0,
              "#0d0887"
             ],
             [
              0.1111111111111111,
              "#46039f"
             ],
             [
              0.2222222222222222,
              "#7201a8"
             ],
             [
              0.3333333333333333,
              "#9c179e"
             ],
             [
              0.4444444444444444,
              "#bd3786"
             ],
             [
              0.5555555555555556,
              "#d8576b"
             ],
             [
              0.6666666666666666,
              "#ed7953"
             ],
             [
              0.7777777777777778,
              "#fb9f3a"
             ],
             [
              0.8888888888888888,
              "#fdca26"
             ],
             [
              1,
              "#f0f921"
             ]
            ],
            "type": "heatmap"
           }
          ],
          "heatmapgl": [
           {
            "colorbar": {
             "outlinewidth": 0,
             "ticks": ""
            },
            "colorscale": [
             [
              0,
              "#0d0887"
             ],
             [
              0.1111111111111111,
              "#46039f"
             ],
             [
              0.2222222222222222,
              "#7201a8"
             ],
             [
              0.3333333333333333,
              "#9c179e"
             ],
             [
              0.4444444444444444,
              "#bd3786"
             ],
             [
              0.5555555555555556,
              "#d8576b"
             ],
             [
              0.6666666666666666,
              "#ed7953"
             ],
             [
              0.7777777777777778,
              "#fb9f3a"
             ],
             [
              0.8888888888888888,
              "#fdca26"
             ],
             [
              1,
              "#f0f921"
             ]
            ],
            "type": "heatmapgl"
           }
          ],
          "histogram": [
           {
            "marker": {
             "pattern": {
              "fillmode": "overlay",
              "size": 10,
              "solidity": 0.2
             }
            },
            "type": "histogram"
           }
          ],
          "histogram2d": [
           {
            "colorbar": {
             "outlinewidth": 0,
             "ticks": ""
            },
            "colorscale": [
             [
              0,
              "#0d0887"
             ],
             [
              0.1111111111111111,
              "#46039f"
             ],
             [
              0.2222222222222222,
              "#7201a8"
             ],
             [
              0.3333333333333333,
              "#9c179e"
             ],
             [
              0.4444444444444444,
              "#bd3786"
             ],
             [
              0.5555555555555556,
              "#d8576b"
             ],
             [
              0.6666666666666666,
              "#ed7953"
             ],
             [
              0.7777777777777778,
              "#fb9f3a"
             ],
             [
              0.8888888888888888,
              "#fdca26"
             ],
             [
              1,
              "#f0f921"
             ]
            ],
            "type": "histogram2d"
           }
          ],
          "histogram2dcontour": [
           {
            "colorbar": {
             "outlinewidth": 0,
             "ticks": ""
            },
            "colorscale": [
             [
              0,
              "#0d0887"
             ],
             [
              0.1111111111111111,
              "#46039f"
             ],
             [
              0.2222222222222222,
              "#7201a8"
             ],
             [
              0.3333333333333333,
              "#9c179e"
             ],
             [
              0.4444444444444444,
              "#bd3786"
             ],
             [
              0.5555555555555556,
              "#d8576b"
             ],
             [
              0.6666666666666666,
              "#ed7953"
             ],
             [
              0.7777777777777778,
              "#fb9f3a"
             ],
             [
              0.8888888888888888,
              "#fdca26"
             ],
             [
              1,
              "#f0f921"
             ]
            ],
            "type": "histogram2dcontour"
           }
          ],
          "mesh3d": [
           {
            "colorbar": {
             "outlinewidth": 0,
             "ticks": ""
            },
            "type": "mesh3d"
           }
          ],
          "parcoords": [
           {
            "line": {
             "colorbar": {
              "outlinewidth": 0,
              "ticks": ""
             }
            },
            "type": "parcoords"
           }
          ],
          "pie": [
           {
            "automargin": true,
            "type": "pie"
           }
          ],
          "scatter": [
           {
            "fillpattern": {
             "fillmode": "overlay",
             "size": 10,
             "solidity": 0.2
            },
            "type": "scatter"
           }
          ],
          "scatter3d": [
           {
            "line": {
             "colorbar": {
              "outlinewidth": 0,
              "ticks": ""
             }
            },
            "marker": {
             "colorbar": {
              "outlinewidth": 0,
              "ticks": ""
             }
            },
            "type": "scatter3d"
           }
          ],
          "scattercarpet": [
           {
            "marker": {
             "colorbar": {
              "outlinewidth": 0,
              "ticks": ""
             }
            },
            "type": "scattercarpet"
           }
          ],
          "scattergeo": [
           {
            "marker": {
             "colorbar": {
              "outlinewidth": 0,
              "ticks": ""
             }
            },
            "type": "scattergeo"
           }
          ],
          "scattergl": [
           {
            "marker": {
             "colorbar": {
              "outlinewidth": 0,
              "ticks": ""
             }
            },
            "type": "scattergl"
           }
          ],
          "scattermapbox": [
           {
            "marker": {
             "colorbar": {
              "outlinewidth": 0,
              "ticks": ""
             }
            },
            "type": "scattermapbox"
           }
          ],
          "scatterpolar": [
           {
            "marker": {
             "colorbar": {
              "outlinewidth": 0,
              "ticks": ""
             }
            },
            "type": "scatterpolar"
           }
          ],
          "scatterpolargl": [
           {
            "marker": {
             "colorbar": {
              "outlinewidth": 0,
              "ticks": ""
             }
            },
            "type": "scatterpolargl"
           }
          ],
          "scatterternary": [
           {
            "marker": {
             "colorbar": {
              "outlinewidth": 0,
              "ticks": ""
             }
            },
            "type": "scatterternary"
           }
          ],
          "surface": [
           {
            "colorbar": {
             "outlinewidth": 0,
             "ticks": ""
            },
            "colorscale": [
             [
              0,
              "#0d0887"
             ],
             [
              0.1111111111111111,
              "#46039f"
             ],
             [
              0.2222222222222222,
              "#7201a8"
             ],
             [
              0.3333333333333333,
              "#9c179e"
             ],
             [
              0.4444444444444444,
              "#bd3786"
             ],
             [
              0.5555555555555556,
              "#d8576b"
             ],
             [
              0.6666666666666666,
              "#ed7953"
             ],
             [
              0.7777777777777778,
              "#fb9f3a"
             ],
             [
              0.8888888888888888,
              "#fdca26"
             ],
             [
              1,
              "#f0f921"
             ]
            ],
            "type": "surface"
           }
          ],
          "table": [
           {
            "cells": {
             "fill": {
              "color": "#EBF0F8"
             },
             "line": {
              "color": "white"
             }
            },
            "header": {
             "fill": {
              "color": "#C8D4E3"
             },
             "line": {
              "color": "white"
             }
            },
            "type": "table"
           }
          ]
         },
         "layout": {
          "annotationdefaults": {
           "arrowcolor": "#2a3f5f",
           "arrowhead": 0,
           "arrowwidth": 1
          },
          "autotypenumbers": "strict",
          "coloraxis": {
           "colorbar": {
            "outlinewidth": 0,
            "ticks": ""
           }
          },
          "colorscale": {
           "diverging": [
            [
             0,
             "#8e0152"
            ],
            [
             0.1,
             "#c51b7d"
            ],
            [
             0.2,
             "#de77ae"
            ],
            [
             0.3,
             "#f1b6da"
            ],
            [
             0.4,
             "#fde0ef"
            ],
            [
             0.5,
             "#f7f7f7"
            ],
            [
             0.6,
             "#e6f5d0"
            ],
            [
             0.7,
             "#b8e186"
            ],
            [
             0.8,
             "#7fbc41"
            ],
            [
             0.9,
             "#4d9221"
            ],
            [
             1,
             "#276419"
            ]
           ],
           "sequential": [
            [
             0,
             "#0d0887"
            ],
            [
             0.1111111111111111,
             "#46039f"
            ],
            [
             0.2222222222222222,
             "#7201a8"
            ],
            [
             0.3333333333333333,
             "#9c179e"
            ],
            [
             0.4444444444444444,
             "#bd3786"
            ],
            [
             0.5555555555555556,
             "#d8576b"
            ],
            [
             0.6666666666666666,
             "#ed7953"
            ],
            [
             0.7777777777777778,
             "#fb9f3a"
            ],
            [
             0.8888888888888888,
             "#fdca26"
            ],
            [
             1,
             "#f0f921"
            ]
           ],
           "sequentialminus": [
            [
             0,
             "#0d0887"
            ],
            [
             0.1111111111111111,
             "#46039f"
            ],
            [
             0.2222222222222222,
             "#7201a8"
            ],
            [
             0.3333333333333333,
             "#9c179e"
            ],
            [
             0.4444444444444444,
             "#bd3786"
            ],
            [
             0.5555555555555556,
             "#d8576b"
            ],
            [
             0.6666666666666666,
             "#ed7953"
            ],
            [
             0.7777777777777778,
             "#fb9f3a"
            ],
            [
             0.8888888888888888,
             "#fdca26"
            ],
            [
             1,
             "#f0f921"
            ]
           ]
          },
          "colorway": [
           "#636efa",
           "#EF553B",
           "#00cc96",
           "#ab63fa",
           "#FFA15A",
           "#19d3f3",
           "#FF6692",
           "#B6E880",
           "#FF97FF",
           "#FECB52"
          ],
          "font": {
           "color": "#2a3f5f"
          },
          "geo": {
           "bgcolor": "white",
           "lakecolor": "white",
           "landcolor": "#E5ECF6",
           "showlakes": true,
           "showland": true,
           "subunitcolor": "white"
          },
          "hoverlabel": {
           "align": "left"
          },
          "hovermode": "closest",
          "mapbox": {
           "style": "light"
          },
          "paper_bgcolor": "white",
          "plot_bgcolor": "#E5ECF6",
          "polar": {
           "angularaxis": {
            "gridcolor": "white",
            "linecolor": "white",
            "ticks": ""
           },
           "bgcolor": "#E5ECF6",
           "radialaxis": {
            "gridcolor": "white",
            "linecolor": "white",
            "ticks": ""
           }
          },
          "scene": {
           "xaxis": {
            "backgroundcolor": "#E5ECF6",
            "gridcolor": "white",
            "gridwidth": 2,
            "linecolor": "white",
            "showbackground": true,
            "ticks": "",
            "zerolinecolor": "white"
           },
           "yaxis": {
            "backgroundcolor": "#E5ECF6",
            "gridcolor": "white",
            "gridwidth": 2,
            "linecolor": "white",
            "showbackground": true,
            "ticks": "",
            "zerolinecolor": "white"
           },
           "zaxis": {
            "backgroundcolor": "#E5ECF6",
            "gridcolor": "white",
            "gridwidth": 2,
            "linecolor": "white",
            "showbackground": true,
            "ticks": "",
            "zerolinecolor": "white"
           }
          },
          "shapedefaults": {
           "line": {
            "color": "#2a3f5f"
           }
          },
          "ternary": {
           "aaxis": {
            "gridcolor": "white",
            "linecolor": "white",
            "ticks": ""
           },
           "baxis": {
            "gridcolor": "white",
            "linecolor": "white",
            "ticks": ""
           },
           "bgcolor": "#E5ECF6",
           "caxis": {
            "gridcolor": "white",
            "linecolor": "white",
            "ticks": ""
           }
          },
          "title": {
           "x": 0.05
          },
          "xaxis": {
           "automargin": true,
           "gridcolor": "white",
           "linecolor": "white",
           "ticks": "",
           "title": {
            "standoff": 15
           },
           "zerolinecolor": "white",
           "zerolinewidth": 2
          },
          "yaxis": {
           "automargin": true,
           "gridcolor": "white",
           "linecolor": "white",
           "ticks": "",
           "title": {
            "standoff": 15
           },
           "zerolinecolor": "white",
           "zerolinewidth": 2
          }
         }
        },
        "xaxis": {
         "anchor": "y",
         "domain": [
          0,
          1
         ],
         "title": {
          "text": "value"
         }
        },
        "yaxis": {
         "anchor": "x",
         "domain": [
          0,
          1
         ],
         "title": {
          "text": "index"
         }
        }
       }
      }
     },
     "metadata": {},
     "output_type": "display_data"
    }
   ],
   "source": [
    "px.bar(tips.head(15),['total_bill','food_bill'])"
   ]
  },
  {
   "cell_type": "code",
   "execution_count": 67,
   "metadata": {},
   "outputs": [
    {
     "data": {
      "application/vnd.plotly.v1+json": {
       "config": {
        "plotlyServerURL": "https://plot.ly"
       },
       "data": [
        {
         "alignmentgroup": "True",
         "hovertemplate": "total_bill=%{x}<extra></extra>",
         "legendgroup": "",
         "marker": {
          "color": "#636efa"
         },
         "name": "",
         "notched": false,
         "offsetgroup": "",
         "orientation": "h",
         "showlegend": false,
         "type": "box",
         "x": [
          48.17,
          45.35,
          44.3,
          48.27,
          50.81,
          48.33,
          43.11,
          40.55,
          41.19,
          38.73,
          40.17,
          38.01,
          38.07,
          39.42,
          32.83,
          35.83,
          34.63,
          34.65,
          35.26,
          32.9,
          34.83,
          34.81,
          31.85,
          30.46,
          30.06,
          32.68,
          34.3,
          31.71,
          30.14,
          28.55,
          32.4,
          31.27,
          28.97,
          28.44,
          29.8,
          27.18,
          28.15,
          26.41,
          29.93,
          30.4,
          29.85,
          26.88,
          26.86,
          27.28,
          27.2,
          26.59,
          29.03,
          24.55,
          24.27,
          27.05,
          24.01,
          25.71,
          28.17,
          23.95,
          25,
          25.56,
          24.08,
          24.52,
          24.59,
          25.21,
          25.89,
          22.67,
          22.82,
          25.29,
          24.06,
          23.68,
          25.28,
          22.76,
          22.75,
          22.12,
          23.1,
          22.49,
          22.42,
          24.71,
          20.76,
          20.69,
          20.23,
          21.16,
          21.01,
          21.5,
          19.77,
          23.33,
          21.58,
          19.08,
          20.29,
          21.01,
          20.45,
          20.27,
          21.7,
          20.9,
          20.65,
          18.64,
          22.23,
          20.29,
          20.08,
          20.92,
          23.17,
          19.65,
          19.82,
          20.53,
          19.44,
          20.49,
          18.69,
          17.82,
          19.49,
          16.99,
          17.89,
          18.35,
          18.78,
          20.69,
          19.81,
          17.81,
          18.43,
          18.29,
          18.04,
          18.26,
          17.59,
          17.46,
          17.92,
          18.71,
          18.15,
          17.29,
          18.29,
          17.26,
          17.78,
          17.51,
          16.49,
          18.24,
          16.31,
          18.28,
          16.21,
          15.69,
          16.43,
          17.07,
          16,
          16.45,
          17.47,
          15.98,
          15.95,
          16.4,
          16.93,
          15.42,
          17.92,
          17.31,
          16.04,
          16.27,
          15.36,
          15.77,
          16.97,
          15.48,
          16.66,
          16.47,
          15.04,
          15.98,
          15.01,
          16.82,
          15.69,
          15.81,
          16.58,
          16.29,
          14.73,
          15.53,
          14.52,
          14.48,
          15.38,
          14.15,
          15.06,
          16.32,
          13.42,
          14.83,
          13.81,
          13.81,
          12.9,
          14.26,
          13.42,
          12.6,
          14.07,
          14.78,
          13.51,
          13.37,
          13.13,
          13.03,
          13,
          14,
          13,
          12.46,
          13.94,
          13.39,
          13.27,
          12.74,
          12.69,
          12.43,
          13.28,
          12.03,
          12.76,
          13.16,
          14.31,
          12.26,
          11.87,
          12.66,
          11.59,
          12.02,
          12.54,
          12.48,
          12.16,
          13.42,
          11.17,
          11.24,
          11.38,
          11.69,
          10.77,
          10.51,
          10.65,
          11.02,
          10.59,
          11.35,
          10.07,
          10.34,
          10.33,
          10.63,
          10.27,
          9.94,
          9.68,
          10.34,
          10.33,
          10.07,
          11.61,
          9.55,
          10.09,
          9.78,
          10.29,
          8.51,
          8.52,
          8.35,
          8.77,
          8.58,
          7.74,
          7.25,
          7.56,
          9.6,
          7.51,
          5.75,
          7.25,
          3.07
         ],
         "x0": " ",
         "xaxis": "x",
         "y0": " ",
         "yaxis": "y"
        }
       ],
       "layout": {
        "boxmode": "group",
        "legend": {
         "tracegroupgap": 0
        },
        "margin": {
         "t": 60
        },
        "template": {
         "data": {
          "bar": [
           {
            "error_x": {
             "color": "#2a3f5f"
            },
            "error_y": {
             "color": "#2a3f5f"
            },
            "marker": {
             "line": {
              "color": "#E5ECF6",
              "width": 0.5
             },
             "pattern": {
              "fillmode": "overlay",
              "size": 10,
              "solidity": 0.2
             }
            },
            "type": "bar"
           }
          ],
          "barpolar": [
           {
            "marker": {
             "line": {
              "color": "#E5ECF6",
              "width": 0.5
             },
             "pattern": {
              "fillmode": "overlay",
              "size": 10,
              "solidity": 0.2
             }
            },
            "type": "barpolar"
           }
          ],
          "carpet": [
           {
            "aaxis": {
             "endlinecolor": "#2a3f5f",
             "gridcolor": "white",
             "linecolor": "white",
             "minorgridcolor": "white",
             "startlinecolor": "#2a3f5f"
            },
            "baxis": {
             "endlinecolor": "#2a3f5f",
             "gridcolor": "white",
             "linecolor": "white",
             "minorgridcolor": "white",
             "startlinecolor": "#2a3f5f"
            },
            "type": "carpet"
           }
          ],
          "choropleth": [
           {
            "colorbar": {
             "outlinewidth": 0,
             "ticks": ""
            },
            "type": "choropleth"
           }
          ],
          "contour": [
           {
            "colorbar": {
             "outlinewidth": 0,
             "ticks": ""
            },
            "colorscale": [
             [
              0,
              "#0d0887"
             ],
             [
              0.1111111111111111,
              "#46039f"
             ],
             [
              0.2222222222222222,
              "#7201a8"
             ],
             [
              0.3333333333333333,
              "#9c179e"
             ],
             [
              0.4444444444444444,
              "#bd3786"
             ],
             [
              0.5555555555555556,
              "#d8576b"
             ],
             [
              0.6666666666666666,
              "#ed7953"
             ],
             [
              0.7777777777777778,
              "#fb9f3a"
             ],
             [
              0.8888888888888888,
              "#fdca26"
             ],
             [
              1,
              "#f0f921"
             ]
            ],
            "type": "contour"
           }
          ],
          "contourcarpet": [
           {
            "colorbar": {
             "outlinewidth": 0,
             "ticks": ""
            },
            "type": "contourcarpet"
           }
          ],
          "heatmap": [
           {
            "colorbar": {
             "outlinewidth": 0,
             "ticks": ""
            },
            "colorscale": [
             [
              0,
              "#0d0887"
             ],
             [
              0.1111111111111111,
              "#46039f"
             ],
             [
              0.2222222222222222,
              "#7201a8"
             ],
             [
              0.3333333333333333,
              "#9c179e"
             ],
             [
              0.4444444444444444,
              "#bd3786"
             ],
             [
              0.5555555555555556,
              "#d8576b"
             ],
             [
              0.6666666666666666,
              "#ed7953"
             ],
             [
              0.7777777777777778,
              "#fb9f3a"
             ],
             [
              0.8888888888888888,
              "#fdca26"
             ],
             [
              1,
              "#f0f921"
             ]
            ],
            "type": "heatmap"
           }
          ],
          "heatmapgl": [
           {
            "colorbar": {
             "outlinewidth": 0,
             "ticks": ""
            },
            "colorscale": [
             [
              0,
              "#0d0887"
             ],
             [
              0.1111111111111111,
              "#46039f"
             ],
             [
              0.2222222222222222,
              "#7201a8"
             ],
             [
              0.3333333333333333,
              "#9c179e"
             ],
             [
              0.4444444444444444,
              "#bd3786"
             ],
             [
              0.5555555555555556,
              "#d8576b"
             ],
             [
              0.6666666666666666,
              "#ed7953"
             ],
             [
              0.7777777777777778,
              "#fb9f3a"
             ],
             [
              0.8888888888888888,
              "#fdca26"
             ],
             [
              1,
              "#f0f921"
             ]
            ],
            "type": "heatmapgl"
           }
          ],
          "histogram": [
           {
            "marker": {
             "pattern": {
              "fillmode": "overlay",
              "size": 10,
              "solidity": 0.2
             }
            },
            "type": "histogram"
           }
          ],
          "histogram2d": [
           {
            "colorbar": {
             "outlinewidth": 0,
             "ticks": ""
            },
            "colorscale": [
             [
              0,
              "#0d0887"
             ],
             [
              0.1111111111111111,
              "#46039f"
             ],
             [
              0.2222222222222222,
              "#7201a8"
             ],
             [
              0.3333333333333333,
              "#9c179e"
             ],
             [
              0.4444444444444444,
              "#bd3786"
             ],
             [
              0.5555555555555556,
              "#d8576b"
             ],
             [
              0.6666666666666666,
              "#ed7953"
             ],
             [
              0.7777777777777778,
              "#fb9f3a"
             ],
             [
              0.8888888888888888,
              "#fdca26"
             ],
             [
              1,
              "#f0f921"
             ]
            ],
            "type": "histogram2d"
           }
          ],
          "histogram2dcontour": [
           {
            "colorbar": {
             "outlinewidth": 0,
             "ticks": ""
            },
            "colorscale": [
             [
              0,
              "#0d0887"
             ],
             [
              0.1111111111111111,
              "#46039f"
             ],
             [
              0.2222222222222222,
              "#7201a8"
             ],
             [
              0.3333333333333333,
              "#9c179e"
             ],
             [
              0.4444444444444444,
              "#bd3786"
             ],
             [
              0.5555555555555556,
              "#d8576b"
             ],
             [
              0.6666666666666666,
              "#ed7953"
             ],
             [
              0.7777777777777778,
              "#fb9f3a"
             ],
             [
              0.8888888888888888,
              "#fdca26"
             ],
             [
              1,
              "#f0f921"
             ]
            ],
            "type": "histogram2dcontour"
           }
          ],
          "mesh3d": [
           {
            "colorbar": {
             "outlinewidth": 0,
             "ticks": ""
            },
            "type": "mesh3d"
           }
          ],
          "parcoords": [
           {
            "line": {
             "colorbar": {
              "outlinewidth": 0,
              "ticks": ""
             }
            },
            "type": "parcoords"
           }
          ],
          "pie": [
           {
            "automargin": true,
            "type": "pie"
           }
          ],
          "scatter": [
           {
            "fillpattern": {
             "fillmode": "overlay",
             "size": 10,
             "solidity": 0.2
            },
            "type": "scatter"
           }
          ],
          "scatter3d": [
           {
            "line": {
             "colorbar": {
              "outlinewidth": 0,
              "ticks": ""
             }
            },
            "marker": {
             "colorbar": {
              "outlinewidth": 0,
              "ticks": ""
             }
            },
            "type": "scatter3d"
           }
          ],
          "scattercarpet": [
           {
            "marker": {
             "colorbar": {
              "outlinewidth": 0,
              "ticks": ""
             }
            },
            "type": "scattercarpet"
           }
          ],
          "scattergeo": [
           {
            "marker": {
             "colorbar": {
              "outlinewidth": 0,
              "ticks": ""
             }
            },
            "type": "scattergeo"
           }
          ],
          "scattergl": [
           {
            "marker": {
             "colorbar": {
              "outlinewidth": 0,
              "ticks": ""
             }
            },
            "type": "scattergl"
           }
          ],
          "scattermapbox": [
           {
            "marker": {
             "colorbar": {
              "outlinewidth": 0,
              "ticks": ""
             }
            },
            "type": "scattermapbox"
           }
          ],
          "scatterpolar": [
           {
            "marker": {
             "colorbar": {
              "outlinewidth": 0,
              "ticks": ""
             }
            },
            "type": "scatterpolar"
           }
          ],
          "scatterpolargl": [
           {
            "marker": {
             "colorbar": {
              "outlinewidth": 0,
              "ticks": ""
             }
            },
            "type": "scatterpolargl"
           }
          ],
          "scatterternary": [
           {
            "marker": {
             "colorbar": {
              "outlinewidth": 0,
              "ticks": ""
             }
            },
            "type": "scatterternary"
           }
          ],
          "surface": [
           {
            "colorbar": {
             "outlinewidth": 0,
             "ticks": ""
            },
            "colorscale": [
             [
              0,
              "#0d0887"
             ],
             [
              0.1111111111111111,
              "#46039f"
             ],
             [
              0.2222222222222222,
              "#7201a8"
             ],
             [
              0.3333333333333333,
              "#9c179e"
             ],
             [
              0.4444444444444444,
              "#bd3786"
             ],
             [
              0.5555555555555556,
              "#d8576b"
             ],
             [
              0.6666666666666666,
              "#ed7953"
             ],
             [
              0.7777777777777778,
              "#fb9f3a"
             ],
             [
              0.8888888888888888,
              "#fdca26"
             ],
             [
              1,
              "#f0f921"
             ]
            ],
            "type": "surface"
           }
          ],
          "table": [
           {
            "cells": {
             "fill": {
              "color": "#EBF0F8"
             },
             "line": {
              "color": "white"
             }
            },
            "header": {
             "fill": {
              "color": "#C8D4E3"
             },
             "line": {
              "color": "white"
             }
            },
            "type": "table"
           }
          ]
         },
         "layout": {
          "annotationdefaults": {
           "arrowcolor": "#2a3f5f",
           "arrowhead": 0,
           "arrowwidth": 1
          },
          "autotypenumbers": "strict",
          "coloraxis": {
           "colorbar": {
            "outlinewidth": 0,
            "ticks": ""
           }
          },
          "colorscale": {
           "diverging": [
            [
             0,
             "#8e0152"
            ],
            [
             0.1,
             "#c51b7d"
            ],
            [
             0.2,
             "#de77ae"
            ],
            [
             0.3,
             "#f1b6da"
            ],
            [
             0.4,
             "#fde0ef"
            ],
            [
             0.5,
             "#f7f7f7"
            ],
            [
             0.6,
             "#e6f5d0"
            ],
            [
             0.7,
             "#b8e186"
            ],
            [
             0.8,
             "#7fbc41"
            ],
            [
             0.9,
             "#4d9221"
            ],
            [
             1,
             "#276419"
            ]
           ],
           "sequential": [
            [
             0,
             "#0d0887"
            ],
            [
             0.1111111111111111,
             "#46039f"
            ],
            [
             0.2222222222222222,
             "#7201a8"
            ],
            [
             0.3333333333333333,
             "#9c179e"
            ],
            [
             0.4444444444444444,
             "#bd3786"
            ],
            [
             0.5555555555555556,
             "#d8576b"
            ],
            [
             0.6666666666666666,
             "#ed7953"
            ],
            [
             0.7777777777777778,
             "#fb9f3a"
            ],
            [
             0.8888888888888888,
             "#fdca26"
            ],
            [
             1,
             "#f0f921"
            ]
           ],
           "sequentialminus": [
            [
             0,
             "#0d0887"
            ],
            [
             0.1111111111111111,
             "#46039f"
            ],
            [
             0.2222222222222222,
             "#7201a8"
            ],
            [
             0.3333333333333333,
             "#9c179e"
            ],
            [
             0.4444444444444444,
             "#bd3786"
            ],
            [
             0.5555555555555556,
             "#d8576b"
            ],
            [
             0.6666666666666666,
             "#ed7953"
            ],
            [
             0.7777777777777778,
             "#fb9f3a"
            ],
            [
             0.8888888888888888,
             "#fdca26"
            ],
            [
             1,
             "#f0f921"
            ]
           ]
          },
          "colorway": [
           "#636efa",
           "#EF553B",
           "#00cc96",
           "#ab63fa",
           "#FFA15A",
           "#19d3f3",
           "#FF6692",
           "#B6E880",
           "#FF97FF",
           "#FECB52"
          ],
          "font": {
           "color": "#2a3f5f"
          },
          "geo": {
           "bgcolor": "white",
           "lakecolor": "white",
           "landcolor": "#E5ECF6",
           "showlakes": true,
           "showland": true,
           "subunitcolor": "white"
          },
          "hoverlabel": {
           "align": "left"
          },
          "hovermode": "closest",
          "mapbox": {
           "style": "light"
          },
          "paper_bgcolor": "white",
          "plot_bgcolor": "#E5ECF6",
          "polar": {
           "angularaxis": {
            "gridcolor": "white",
            "linecolor": "white",
            "ticks": ""
           },
           "bgcolor": "#E5ECF6",
           "radialaxis": {
            "gridcolor": "white",
            "linecolor": "white",
            "ticks": ""
           }
          },
          "scene": {
           "xaxis": {
            "backgroundcolor": "#E5ECF6",
            "gridcolor": "white",
            "gridwidth": 2,
            "linecolor": "white",
            "showbackground": true,
            "ticks": "",
            "zerolinecolor": "white"
           },
           "yaxis": {
            "backgroundcolor": "#E5ECF6",
            "gridcolor": "white",
            "gridwidth": 2,
            "linecolor": "white",
            "showbackground": true,
            "ticks": "",
            "zerolinecolor": "white"
           },
           "zaxis": {
            "backgroundcolor": "#E5ECF6",
            "gridcolor": "white",
            "gridwidth": 2,
            "linecolor": "white",
            "showbackground": true,
            "ticks": "",
            "zerolinecolor": "white"
           }
          },
          "shapedefaults": {
           "line": {
            "color": "#2a3f5f"
           }
          },
          "ternary": {
           "aaxis": {
            "gridcolor": "white",
            "linecolor": "white",
            "ticks": ""
           },
           "baxis": {
            "gridcolor": "white",
            "linecolor": "white",
            "ticks": ""
           },
           "bgcolor": "#E5ECF6",
           "caxis": {
            "gridcolor": "white",
            "linecolor": "white",
            "ticks": ""
           }
          },
          "title": {
           "x": 0.05
          },
          "xaxis": {
           "automargin": true,
           "gridcolor": "white",
           "linecolor": "white",
           "ticks": "",
           "title": {
            "standoff": 15
           },
           "zerolinecolor": "white",
           "zerolinewidth": 2
          },
          "yaxis": {
           "automargin": true,
           "gridcolor": "white",
           "linecolor": "white",
           "ticks": "",
           "title": {
            "standoff": 15
           },
           "zerolinecolor": "white",
           "zerolinewidth": 2
          }
         }
        },
        "xaxis": {
         "anchor": "y",
         "domain": [
          0,
          1
         ],
         "title": {
          "text": "total_bill"
         }
        },
        "yaxis": {
         "anchor": "x",
         "domain": [
          0,
          1
         ]
        }
       }
      }
     },
     "metadata": {},
     "output_type": "display_data"
    }
   ],
   "source": [
    "px.box(tips,'total_bill')"
   ]
  },
  {
   "cell_type": "code",
   "execution_count": 68,
   "metadata": {},
   "outputs": [
    {
     "data": {
      "application/vnd.plotly.v1+json": {
       "config": {
        "plotlyServerURL": "https://plot.ly"
       },
       "data": [
        {
         "alignmentgroup": "True",
         "hovertemplate": "sex=Male<br>total_bill=%{x}<extra></extra>",
         "legendgroup": "Male",
         "marker": {
          "color": "#636efa"
         },
         "name": "Male",
         "notched": false,
         "offsetgroup": "Male",
         "orientation": "h",
         "showlegend": true,
         "type": "box",
         "x": [
          48.17,
          45.35,
          48.27,
          50.81,
          48.33,
          40.55,
          41.19,
          38.73,
          40.17,
          38.01,
          38.07,
          39.42,
          32.83,
          34.63,
          34.65,
          32.9,
          31.85,
          30.46,
          30.06,
          32.68,
          34.3,
          31.71,
          28.55,
          32.4,
          31.27,
          28.97,
          28.44,
          28.15,
          29.93,
          30.4,
          26.88,
          27.28,
          27.2,
          26.59,
          29.03,
          24.55,
          24.27,
          24.01,
          23.95,
          25.56,
          24.52,
          25.21,
          25.89,
          22.67,
          22.82,
          25.29,
          24.06,
          23.68,
          22.76,
          23.1,
          22.49,
          24.71,
          20.76,
          20.23,
          21.16,
          21.01,
          21.5,
          19.77,
          23.33,
          21.58,
          19.08,
          21.01,
          20.45,
          21.7,
          20.65,
          22.23,
          20.29,
          20.08,
          23.17,
          19.82,
          20.53,
          19.44,
          20.49,
          18.69,
          17.82,
          19.49,
          17.89,
          18.35,
          20.69,
          17.81,
          18.43,
          18.29,
          18.04,
          17.59,
          17.46,
          17.92,
          18.71,
          17.29,
          18.29,
          17.26,
          17.78,
          16.49,
          18.24,
          16.31,
          18.28,
          15.69,
          16,
          15.98,
          15.95,
          15.42,
          17.92,
          16.04,
          15.36,
          15.48,
          16.66,
          15.04,
          15.01,
          16.82,
          15.69,
          15.81,
          16.58,
          16.29,
          15.53,
          14.48,
          13.42,
          13.81,
          13.81,
          14.26,
          12.6,
          14.07,
          14.78,
          13.51,
          13.37,
          13.13,
          13.03,
          14,
          12.46,
          13.94,
          12.69,
          13.28,
          12.03,
          12.66,
          11.59,
          12.02,
          12.54,
          12.16,
          11.24,
          11.69,
          10.77,
          10.51,
          11.02,
          10.07,
          10.34,
          10.27,
          9.94,
          9.68,
          10.34,
          11.61,
          9.55,
          9.78,
          8.52,
          8.77,
          8.58,
          7.74,
          7.56,
          7.51,
          7.25
         ],
         "x0": " ",
         "xaxis": "x",
         "y0": " ",
         "yaxis": "y"
        },
        {
         "alignmentgroup": "True",
         "hovertemplate": "sex=Female<br>total_bill=%{x}<extra></extra>",
         "legendgroup": "Female",
         "marker": {
          "color": "#EF553B"
         },
         "name": "Female",
         "notched": false,
         "offsetgroup": "Female",
         "orientation": "h",
         "showlegend": true,
         "type": "box",
         "x": [
          44.3,
          43.11,
          35.83,
          35.26,
          34.83,
          34.81,
          30.14,
          29.8,
          27.18,
          26.41,
          29.85,
          26.86,
          27.05,
          25.71,
          28.17,
          25,
          24.08,
          24.59,
          25.28,
          22.75,
          22.12,
          22.42,
          20.69,
          20.29,
          20.27,
          20.9,
          18.64,
          20.92,
          19.65,
          16.99,
          18.78,
          19.81,
          18.26,
          18.15,
          17.51,
          16.21,
          16.43,
          17.07,
          16.45,
          17.47,
          16.4,
          16.93,
          17.31,
          16.27,
          15.77,
          16.97,
          16.47,
          15.98,
          14.73,
          14.52,
          15.38,
          14.15,
          15.06,
          16.32,
          14.83,
          12.9,
          13.42,
          13,
          13,
          13.39,
          13.27,
          12.74,
          12.43,
          12.76,
          13.16,
          14.31,
          12.26,
          11.87,
          12.48,
          13.42,
          11.17,
          11.38,
          10.65,
          10.59,
          11.35,
          10.33,
          10.63,
          10.33,
          10.07,
          10.09,
          10.29,
          8.51,
          8.35,
          7.25,
          9.6,
          5.75,
          3.07
         ],
         "x0": " ",
         "xaxis": "x",
         "y0": " ",
         "yaxis": "y"
        }
       ],
       "layout": {
        "boxmode": "group",
        "legend": {
         "title": {
          "text": "sex"
         },
         "tracegroupgap": 0
        },
        "margin": {
         "t": 60
        },
        "template": {
         "data": {
          "bar": [
           {
            "error_x": {
             "color": "#2a3f5f"
            },
            "error_y": {
             "color": "#2a3f5f"
            },
            "marker": {
             "line": {
              "color": "#E5ECF6",
              "width": 0.5
             },
             "pattern": {
              "fillmode": "overlay",
              "size": 10,
              "solidity": 0.2
             }
            },
            "type": "bar"
           }
          ],
          "barpolar": [
           {
            "marker": {
             "line": {
              "color": "#E5ECF6",
              "width": 0.5
             },
             "pattern": {
              "fillmode": "overlay",
              "size": 10,
              "solidity": 0.2
             }
            },
            "type": "barpolar"
           }
          ],
          "carpet": [
           {
            "aaxis": {
             "endlinecolor": "#2a3f5f",
             "gridcolor": "white",
             "linecolor": "white",
             "minorgridcolor": "white",
             "startlinecolor": "#2a3f5f"
            },
            "baxis": {
             "endlinecolor": "#2a3f5f",
             "gridcolor": "white",
             "linecolor": "white",
             "minorgridcolor": "white",
             "startlinecolor": "#2a3f5f"
            },
            "type": "carpet"
           }
          ],
          "choropleth": [
           {
            "colorbar": {
             "outlinewidth": 0,
             "ticks": ""
            },
            "type": "choropleth"
           }
          ],
          "contour": [
           {
            "colorbar": {
             "outlinewidth": 0,
             "ticks": ""
            },
            "colorscale": [
             [
              0,
              "#0d0887"
             ],
             [
              0.1111111111111111,
              "#46039f"
             ],
             [
              0.2222222222222222,
              "#7201a8"
             ],
             [
              0.3333333333333333,
              "#9c179e"
             ],
             [
              0.4444444444444444,
              "#bd3786"
             ],
             [
              0.5555555555555556,
              "#d8576b"
             ],
             [
              0.6666666666666666,
              "#ed7953"
             ],
             [
              0.7777777777777778,
              "#fb9f3a"
             ],
             [
              0.8888888888888888,
              "#fdca26"
             ],
             [
              1,
              "#f0f921"
             ]
            ],
            "type": "contour"
           }
          ],
          "contourcarpet": [
           {
            "colorbar": {
             "outlinewidth": 0,
             "ticks": ""
            },
            "type": "contourcarpet"
           }
          ],
          "heatmap": [
           {
            "colorbar": {
             "outlinewidth": 0,
             "ticks": ""
            },
            "colorscale": [
             [
              0,
              "#0d0887"
             ],
             [
              0.1111111111111111,
              "#46039f"
             ],
             [
              0.2222222222222222,
              "#7201a8"
             ],
             [
              0.3333333333333333,
              "#9c179e"
             ],
             [
              0.4444444444444444,
              "#bd3786"
             ],
             [
              0.5555555555555556,
              "#d8576b"
             ],
             [
              0.6666666666666666,
              "#ed7953"
             ],
             [
              0.7777777777777778,
              "#fb9f3a"
             ],
             [
              0.8888888888888888,
              "#fdca26"
             ],
             [
              1,
              "#f0f921"
             ]
            ],
            "type": "heatmap"
           }
          ],
          "heatmapgl": [
           {
            "colorbar": {
             "outlinewidth": 0,
             "ticks": ""
            },
            "colorscale": [
             [
              0,
              "#0d0887"
             ],
             [
              0.1111111111111111,
              "#46039f"
             ],
             [
              0.2222222222222222,
              "#7201a8"
             ],
             [
              0.3333333333333333,
              "#9c179e"
             ],
             [
              0.4444444444444444,
              "#bd3786"
             ],
             [
              0.5555555555555556,
              "#d8576b"
             ],
             [
              0.6666666666666666,
              "#ed7953"
             ],
             [
              0.7777777777777778,
              "#fb9f3a"
             ],
             [
              0.8888888888888888,
              "#fdca26"
             ],
             [
              1,
              "#f0f921"
             ]
            ],
            "type": "heatmapgl"
           }
          ],
          "histogram": [
           {
            "marker": {
             "pattern": {
              "fillmode": "overlay",
              "size": 10,
              "solidity": 0.2
             }
            },
            "type": "histogram"
           }
          ],
          "histogram2d": [
           {
            "colorbar": {
             "outlinewidth": 0,
             "ticks": ""
            },
            "colorscale": [
             [
              0,
              "#0d0887"
             ],
             [
              0.1111111111111111,
              "#46039f"
             ],
             [
              0.2222222222222222,
              "#7201a8"
             ],
             [
              0.3333333333333333,
              "#9c179e"
             ],
             [
              0.4444444444444444,
              "#bd3786"
             ],
             [
              0.5555555555555556,
              "#d8576b"
             ],
             [
              0.6666666666666666,
              "#ed7953"
             ],
             [
              0.7777777777777778,
              "#fb9f3a"
             ],
             [
              0.8888888888888888,
              "#fdca26"
             ],
             [
              1,
              "#f0f921"
             ]
            ],
            "type": "histogram2d"
           }
          ],
          "histogram2dcontour": [
           {
            "colorbar": {
             "outlinewidth": 0,
             "ticks": ""
            },
            "colorscale": [
             [
              0,
              "#0d0887"
             ],
             [
              0.1111111111111111,
              "#46039f"
             ],
             [
              0.2222222222222222,
              "#7201a8"
             ],
             [
              0.3333333333333333,
              "#9c179e"
             ],
             [
              0.4444444444444444,
              "#bd3786"
             ],
             [
              0.5555555555555556,
              "#d8576b"
             ],
             [
              0.6666666666666666,
              "#ed7953"
             ],
             [
              0.7777777777777778,
              "#fb9f3a"
             ],
             [
              0.8888888888888888,
              "#fdca26"
             ],
             [
              1,
              "#f0f921"
             ]
            ],
            "type": "histogram2dcontour"
           }
          ],
          "mesh3d": [
           {
            "colorbar": {
             "outlinewidth": 0,
             "ticks": ""
            },
            "type": "mesh3d"
           }
          ],
          "parcoords": [
           {
            "line": {
             "colorbar": {
              "outlinewidth": 0,
              "ticks": ""
             }
            },
            "type": "parcoords"
           }
          ],
          "pie": [
           {
            "automargin": true,
            "type": "pie"
           }
          ],
          "scatter": [
           {
            "fillpattern": {
             "fillmode": "overlay",
             "size": 10,
             "solidity": 0.2
            },
            "type": "scatter"
           }
          ],
          "scatter3d": [
           {
            "line": {
             "colorbar": {
              "outlinewidth": 0,
              "ticks": ""
             }
            },
            "marker": {
             "colorbar": {
              "outlinewidth": 0,
              "ticks": ""
             }
            },
            "type": "scatter3d"
           }
          ],
          "scattercarpet": [
           {
            "marker": {
             "colorbar": {
              "outlinewidth": 0,
              "ticks": ""
             }
            },
            "type": "scattercarpet"
           }
          ],
          "scattergeo": [
           {
            "marker": {
             "colorbar": {
              "outlinewidth": 0,
              "ticks": ""
             }
            },
            "type": "scattergeo"
           }
          ],
          "scattergl": [
           {
            "marker": {
             "colorbar": {
              "outlinewidth": 0,
              "ticks": ""
             }
            },
            "type": "scattergl"
           }
          ],
          "scattermapbox": [
           {
            "marker": {
             "colorbar": {
              "outlinewidth": 0,
              "ticks": ""
             }
            },
            "type": "scattermapbox"
           }
          ],
          "scatterpolar": [
           {
            "marker": {
             "colorbar": {
              "outlinewidth": 0,
              "ticks": ""
             }
            },
            "type": "scatterpolar"
           }
          ],
          "scatterpolargl": [
           {
            "marker": {
             "colorbar": {
              "outlinewidth": 0,
              "ticks": ""
             }
            },
            "type": "scatterpolargl"
           }
          ],
          "scatterternary": [
           {
            "marker": {
             "colorbar": {
              "outlinewidth": 0,
              "ticks": ""
             }
            },
            "type": "scatterternary"
           }
          ],
          "surface": [
           {
            "colorbar": {
             "outlinewidth": 0,
             "ticks": ""
            },
            "colorscale": [
             [
              0,
              "#0d0887"
             ],
             [
              0.1111111111111111,
              "#46039f"
             ],
             [
              0.2222222222222222,
              "#7201a8"
             ],
             [
              0.3333333333333333,
              "#9c179e"
             ],
             [
              0.4444444444444444,
              "#bd3786"
             ],
             [
              0.5555555555555556,
              "#d8576b"
             ],
             [
              0.6666666666666666,
              "#ed7953"
             ],
             [
              0.7777777777777778,
              "#fb9f3a"
             ],
             [
              0.8888888888888888,
              "#fdca26"
             ],
             [
              1,
              "#f0f921"
             ]
            ],
            "type": "surface"
           }
          ],
          "table": [
           {
            "cells": {
             "fill": {
              "color": "#EBF0F8"
             },
             "line": {
              "color": "white"
             }
            },
            "header": {
             "fill": {
              "color": "#C8D4E3"
             },
             "line": {
              "color": "white"
             }
            },
            "type": "table"
           }
          ]
         },
         "layout": {
          "annotationdefaults": {
           "arrowcolor": "#2a3f5f",
           "arrowhead": 0,
           "arrowwidth": 1
          },
          "autotypenumbers": "strict",
          "coloraxis": {
           "colorbar": {
            "outlinewidth": 0,
            "ticks": ""
           }
          },
          "colorscale": {
           "diverging": [
            [
             0,
             "#8e0152"
            ],
            [
             0.1,
             "#c51b7d"
            ],
            [
             0.2,
             "#de77ae"
            ],
            [
             0.3,
             "#f1b6da"
            ],
            [
             0.4,
             "#fde0ef"
            ],
            [
             0.5,
             "#f7f7f7"
            ],
            [
             0.6,
             "#e6f5d0"
            ],
            [
             0.7,
             "#b8e186"
            ],
            [
             0.8,
             "#7fbc41"
            ],
            [
             0.9,
             "#4d9221"
            ],
            [
             1,
             "#276419"
            ]
           ],
           "sequential": [
            [
             0,
             "#0d0887"
            ],
            [
             0.1111111111111111,
             "#46039f"
            ],
            [
             0.2222222222222222,
             "#7201a8"
            ],
            [
             0.3333333333333333,
             "#9c179e"
            ],
            [
             0.4444444444444444,
             "#bd3786"
            ],
            [
             0.5555555555555556,
             "#d8576b"
            ],
            [
             0.6666666666666666,
             "#ed7953"
            ],
            [
             0.7777777777777778,
             "#fb9f3a"
            ],
            [
             0.8888888888888888,
             "#fdca26"
            ],
            [
             1,
             "#f0f921"
            ]
           ],
           "sequentialminus": [
            [
             0,
             "#0d0887"
            ],
            [
             0.1111111111111111,
             "#46039f"
            ],
            [
             0.2222222222222222,
             "#7201a8"
            ],
            [
             0.3333333333333333,
             "#9c179e"
            ],
            [
             0.4444444444444444,
             "#bd3786"
            ],
            [
             0.5555555555555556,
             "#d8576b"
            ],
            [
             0.6666666666666666,
             "#ed7953"
            ],
            [
             0.7777777777777778,
             "#fb9f3a"
            ],
            [
             0.8888888888888888,
             "#fdca26"
            ],
            [
             1,
             "#f0f921"
            ]
           ]
          },
          "colorway": [
           "#636efa",
           "#EF553B",
           "#00cc96",
           "#ab63fa",
           "#FFA15A",
           "#19d3f3",
           "#FF6692",
           "#B6E880",
           "#FF97FF",
           "#FECB52"
          ],
          "font": {
           "color": "#2a3f5f"
          },
          "geo": {
           "bgcolor": "white",
           "lakecolor": "white",
           "landcolor": "#E5ECF6",
           "showlakes": true,
           "showland": true,
           "subunitcolor": "white"
          },
          "hoverlabel": {
           "align": "left"
          },
          "hovermode": "closest",
          "mapbox": {
           "style": "light"
          },
          "paper_bgcolor": "white",
          "plot_bgcolor": "#E5ECF6",
          "polar": {
           "angularaxis": {
            "gridcolor": "white",
            "linecolor": "white",
            "ticks": ""
           },
           "bgcolor": "#E5ECF6",
           "radialaxis": {
            "gridcolor": "white",
            "linecolor": "white",
            "ticks": ""
           }
          },
          "scene": {
           "xaxis": {
            "backgroundcolor": "#E5ECF6",
            "gridcolor": "white",
            "gridwidth": 2,
            "linecolor": "white",
            "showbackground": true,
            "ticks": "",
            "zerolinecolor": "white"
           },
           "yaxis": {
            "backgroundcolor": "#E5ECF6",
            "gridcolor": "white",
            "gridwidth": 2,
            "linecolor": "white",
            "showbackground": true,
            "ticks": "",
            "zerolinecolor": "white"
           },
           "zaxis": {
            "backgroundcolor": "#E5ECF6",
            "gridcolor": "white",
            "gridwidth": 2,
            "linecolor": "white",
            "showbackground": true,
            "ticks": "",
            "zerolinecolor": "white"
           }
          },
          "shapedefaults": {
           "line": {
            "color": "#2a3f5f"
           }
          },
          "ternary": {
           "aaxis": {
            "gridcolor": "white",
            "linecolor": "white",
            "ticks": ""
           },
           "baxis": {
            "gridcolor": "white",
            "linecolor": "white",
            "ticks": ""
           },
           "bgcolor": "#E5ECF6",
           "caxis": {
            "gridcolor": "white",
            "linecolor": "white",
            "ticks": ""
           }
          },
          "title": {
           "x": 0.05
          },
          "xaxis": {
           "automargin": true,
           "gridcolor": "white",
           "linecolor": "white",
           "ticks": "",
           "title": {
            "standoff": 15
           },
           "zerolinecolor": "white",
           "zerolinewidth": 2
          },
          "yaxis": {
           "automargin": true,
           "gridcolor": "white",
           "linecolor": "white",
           "ticks": "",
           "title": {
            "standoff": 15
           },
           "zerolinecolor": "white",
           "zerolinewidth": 2
          }
         }
        },
        "xaxis": {
         "anchor": "y",
         "domain": [
          0,
          1
         ],
         "title": {
          "text": "total_bill"
         }
        },
        "yaxis": {
         "anchor": "x",
         "domain": [
          0,
          1
         ]
        }
       }
      }
     },
     "metadata": {},
     "output_type": "display_data"
    }
   ],
   "source": [
    "px.box(tips, 'total_bill',color='sex')"
   ]
  },
  {
   "cell_type": "code",
   "execution_count": 69,
   "metadata": {},
   "outputs": [
    {
     "data": {
      "application/vnd.plotly.v1+json": {
       "config": {
        "plotlyServerURL": "https://plot.ly"
       },
       "data": [
        {
         "alignmentgroup": "True",
         "hovertemplate": "smoker=No<br>total_bill=%{x}<extra></extra>",
         "legendgroup": "No",
         "marker": {
          "color": "#636efa"
         },
         "name": "No",
         "notched": false,
         "offsetgroup": "No",
         "orientation": "h",
         "showlegend": true,
         "type": "box",
         "x": [
          48.17,
          48.27,
          48.33,
          41.19,
          38.07,
          39.42,
          35.83,
          35.26,
          34.83,
          34.81,
          34.3,
          31.71,
          28.55,
          32.4,
          31.27,
          29.8,
          26.41,
          29.93,
          30.4,
          29.85,
          26.88,
          27.2,
          29.03,
          24.55,
          27.05,
          25.71,
          23.95,
          25,
          25.56,
          24.08,
          24.52,
          24.59,
          22.82,
          25.29,
          24.06,
          23.68,
          22.76,
          22.75,
          22.49,
          24.71,
          20.76,
          20.69,
          20.23,
          21.16,
          21.5,
          19.77,
          21.58,
          19.08,
          20.29,
          21.01,
          20.45,
          20.27,
          21.7,
          20.65,
          18.64,
          22.23,
          20.08,
          20.92,
          19.65,
          19.82,
          18.69,
          17.82,
          19.49,
          16.99,
          18.35,
          18.78,
          20.69,
          17.81,
          18.43,
          18.29,
          18.04,
          18.26,
          17.59,
          17.46,
          17.29,
          17.26,
          17.78,
          16.49,
          18.24,
          16.31,
          18.28,
          16.21,
          16.43,
          17.07,
          16.45,
          17.47,
          15.98,
          15.95,
          16.93,
          15.42,
          17.92,
          17.31,
          16.04,
          15.77,
          16.97,
          16.66,
          15.04,
          15.98,
          16.29,
          14.73,
          14.52,
          14.15,
          15.06,
          14.83,
          13.81,
          14.26,
          13.42,
          14.07,
          14.78,
          13.37,
          13.13,
          13.03,
          14,
          12.46,
          13.94,
          13.39,
          12.69,
          12.43,
          13.28,
          13.16,
          12.26,
          11.87,
          12.66,
          12.02,
          12.54,
          12.48,
          11.17,
          11.38,
          11.69,
          10.77,
          10.51,
          10.65,
          10.07,
          10.34,
          10.33,
          10.27,
          9.94,
          9.68,
          10.33,
          10.07,
          11.61,
          9.55,
          9.78,
          10.29,
          8.51,
          8.52,
          8.35,
          8.77,
          7.25,
          7.56,
          7.51
         ],
         "x0": " ",
         "xaxis": "x",
         "y0": " ",
         "yaxis": "y"
        },
        {
         "alignmentgroup": "True",
         "hovertemplate": "smoker=Yes<br>total_bill=%{x}<extra></extra>",
         "legendgroup": "Yes",
         "marker": {
          "color": "#EF553B"
         },
         "name": "Yes",
         "notched": false,
         "offsetgroup": "Yes",
         "orientation": "h",
         "showlegend": true,
         "type": "box",
         "x": [
          45.35,
          44.3,
          50.81,
          43.11,
          40.55,
          38.73,
          40.17,
          38.01,
          32.83,
          34.63,
          34.65,
          32.9,
          31.85,
          30.46,
          30.06,
          32.68,
          30.14,
          28.97,
          28.44,
          27.18,
          28.15,
          26.86,
          27.28,
          26.59,
          24.27,
          24.01,
          28.17,
          25.21,
          25.89,
          22.67,
          25.28,
          22.12,
          23.1,
          22.42,
          21.01,
          23.33,
          20.9,
          20.29,
          23.17,
          20.53,
          19.44,
          20.49,
          17.89,
          19.81,
          17.92,
          18.71,
          18.15,
          18.29,
          17.51,
          15.69,
          16,
          16.4,
          16.27,
          15.36,
          15.48,
          16.47,
          15.01,
          16.82,
          15.69,
          15.81,
          16.58,
          15.53,
          14.48,
          15.38,
          16.32,
          13.42,
          13.81,
          12.9,
          12.6,
          13.51,
          13,
          13,
          13.27,
          12.74,
          12.03,
          12.76,
          14.31,
          11.59,
          12.16,
          13.42,
          11.24,
          11.02,
          10.59,
          11.35,
          10.63,
          10.34,
          10.09,
          8.58,
          7.74,
          9.6,
          5.75,
          7.25,
          3.07
         ],
         "x0": " ",
         "xaxis": "x",
         "y0": " ",
         "yaxis": "y"
        }
       ],
       "layout": {
        "boxmode": "group",
        "legend": {
         "title": {
          "text": "smoker"
         },
         "tracegroupgap": 0
        },
        "margin": {
         "t": 60
        },
        "template": {
         "data": {
          "bar": [
           {
            "error_x": {
             "color": "#2a3f5f"
            },
            "error_y": {
             "color": "#2a3f5f"
            },
            "marker": {
             "line": {
              "color": "#E5ECF6",
              "width": 0.5
             },
             "pattern": {
              "fillmode": "overlay",
              "size": 10,
              "solidity": 0.2
             }
            },
            "type": "bar"
           }
          ],
          "barpolar": [
           {
            "marker": {
             "line": {
              "color": "#E5ECF6",
              "width": 0.5
             },
             "pattern": {
              "fillmode": "overlay",
              "size": 10,
              "solidity": 0.2
             }
            },
            "type": "barpolar"
           }
          ],
          "carpet": [
           {
            "aaxis": {
             "endlinecolor": "#2a3f5f",
             "gridcolor": "white",
             "linecolor": "white",
             "minorgridcolor": "white",
             "startlinecolor": "#2a3f5f"
            },
            "baxis": {
             "endlinecolor": "#2a3f5f",
             "gridcolor": "white",
             "linecolor": "white",
             "minorgridcolor": "white",
             "startlinecolor": "#2a3f5f"
            },
            "type": "carpet"
           }
          ],
          "choropleth": [
           {
            "colorbar": {
             "outlinewidth": 0,
             "ticks": ""
            },
            "type": "choropleth"
           }
          ],
          "contour": [
           {
            "colorbar": {
             "outlinewidth": 0,
             "ticks": ""
            },
            "colorscale": [
             [
              0,
              "#0d0887"
             ],
             [
              0.1111111111111111,
              "#46039f"
             ],
             [
              0.2222222222222222,
              "#7201a8"
             ],
             [
              0.3333333333333333,
              "#9c179e"
             ],
             [
              0.4444444444444444,
              "#bd3786"
             ],
             [
              0.5555555555555556,
              "#d8576b"
             ],
             [
              0.6666666666666666,
              "#ed7953"
             ],
             [
              0.7777777777777778,
              "#fb9f3a"
             ],
             [
              0.8888888888888888,
              "#fdca26"
             ],
             [
              1,
              "#f0f921"
             ]
            ],
            "type": "contour"
           }
          ],
          "contourcarpet": [
           {
            "colorbar": {
             "outlinewidth": 0,
             "ticks": ""
            },
            "type": "contourcarpet"
           }
          ],
          "heatmap": [
           {
            "colorbar": {
             "outlinewidth": 0,
             "ticks": ""
            },
            "colorscale": [
             [
              0,
              "#0d0887"
             ],
             [
              0.1111111111111111,
              "#46039f"
             ],
             [
              0.2222222222222222,
              "#7201a8"
             ],
             [
              0.3333333333333333,
              "#9c179e"
             ],
             [
              0.4444444444444444,
              "#bd3786"
             ],
             [
              0.5555555555555556,
              "#d8576b"
             ],
             [
              0.6666666666666666,
              "#ed7953"
             ],
             [
              0.7777777777777778,
              "#fb9f3a"
             ],
             [
              0.8888888888888888,
              "#fdca26"
             ],
             [
              1,
              "#f0f921"
             ]
            ],
            "type": "heatmap"
           }
          ],
          "heatmapgl": [
           {
            "colorbar": {
             "outlinewidth": 0,
             "ticks": ""
            },
            "colorscale": [
             [
              0,
              "#0d0887"
             ],
             [
              0.1111111111111111,
              "#46039f"
             ],
             [
              0.2222222222222222,
              "#7201a8"
             ],
             [
              0.3333333333333333,
              "#9c179e"
             ],
             [
              0.4444444444444444,
              "#bd3786"
             ],
             [
              0.5555555555555556,
              "#d8576b"
             ],
             [
              0.6666666666666666,
              "#ed7953"
             ],
             [
              0.7777777777777778,
              "#fb9f3a"
             ],
             [
              0.8888888888888888,
              "#fdca26"
             ],
             [
              1,
              "#f0f921"
             ]
            ],
            "type": "heatmapgl"
           }
          ],
          "histogram": [
           {
            "marker": {
             "pattern": {
              "fillmode": "overlay",
              "size": 10,
              "solidity": 0.2
             }
            },
            "type": "histogram"
           }
          ],
          "histogram2d": [
           {
            "colorbar": {
             "outlinewidth": 0,
             "ticks": ""
            },
            "colorscale": [
             [
              0,
              "#0d0887"
             ],
             [
              0.1111111111111111,
              "#46039f"
             ],
             [
              0.2222222222222222,
              "#7201a8"
             ],
             [
              0.3333333333333333,
              "#9c179e"
             ],
             [
              0.4444444444444444,
              "#bd3786"
             ],
             [
              0.5555555555555556,
              "#d8576b"
             ],
             [
              0.6666666666666666,
              "#ed7953"
             ],
             [
              0.7777777777777778,
              "#fb9f3a"
             ],
             [
              0.8888888888888888,
              "#fdca26"
             ],
             [
              1,
              "#f0f921"
             ]
            ],
            "type": "histogram2d"
           }
          ],
          "histogram2dcontour": [
           {
            "colorbar": {
             "outlinewidth": 0,
             "ticks": ""
            },
            "colorscale": [
             [
              0,
              "#0d0887"
             ],
             [
              0.1111111111111111,
              "#46039f"
             ],
             [
              0.2222222222222222,
              "#7201a8"
             ],
             [
              0.3333333333333333,
              "#9c179e"
             ],
             [
              0.4444444444444444,
              "#bd3786"
             ],
             [
              0.5555555555555556,
              "#d8576b"
             ],
             [
              0.6666666666666666,
              "#ed7953"
             ],
             [
              0.7777777777777778,
              "#fb9f3a"
             ],
             [
              0.8888888888888888,
              "#fdca26"
             ],
             [
              1,
              "#f0f921"
             ]
            ],
            "type": "histogram2dcontour"
           }
          ],
          "mesh3d": [
           {
            "colorbar": {
             "outlinewidth": 0,
             "ticks": ""
            },
            "type": "mesh3d"
           }
          ],
          "parcoords": [
           {
            "line": {
             "colorbar": {
              "outlinewidth": 0,
              "ticks": ""
             }
            },
            "type": "parcoords"
           }
          ],
          "pie": [
           {
            "automargin": true,
            "type": "pie"
           }
          ],
          "scatter": [
           {
            "fillpattern": {
             "fillmode": "overlay",
             "size": 10,
             "solidity": 0.2
            },
            "type": "scatter"
           }
          ],
          "scatter3d": [
           {
            "line": {
             "colorbar": {
              "outlinewidth": 0,
              "ticks": ""
             }
            },
            "marker": {
             "colorbar": {
              "outlinewidth": 0,
              "ticks": ""
             }
            },
            "type": "scatter3d"
           }
          ],
          "scattercarpet": [
           {
            "marker": {
             "colorbar": {
              "outlinewidth": 0,
              "ticks": ""
             }
            },
            "type": "scattercarpet"
           }
          ],
          "scattergeo": [
           {
            "marker": {
             "colorbar": {
              "outlinewidth": 0,
              "ticks": ""
             }
            },
            "type": "scattergeo"
           }
          ],
          "scattergl": [
           {
            "marker": {
             "colorbar": {
              "outlinewidth": 0,
              "ticks": ""
             }
            },
            "type": "scattergl"
           }
          ],
          "scattermapbox": [
           {
            "marker": {
             "colorbar": {
              "outlinewidth": 0,
              "ticks": ""
             }
            },
            "type": "scattermapbox"
           }
          ],
          "scatterpolar": [
           {
            "marker": {
             "colorbar": {
              "outlinewidth": 0,
              "ticks": ""
             }
            },
            "type": "scatterpolar"
           }
          ],
          "scatterpolargl": [
           {
            "marker": {
             "colorbar": {
              "outlinewidth": 0,
              "ticks": ""
             }
            },
            "type": "scatterpolargl"
           }
          ],
          "scatterternary": [
           {
            "marker": {
             "colorbar": {
              "outlinewidth": 0,
              "ticks": ""
             }
            },
            "type": "scatterternary"
           }
          ],
          "surface": [
           {
            "colorbar": {
             "outlinewidth": 0,
             "ticks": ""
            },
            "colorscale": [
             [
              0,
              "#0d0887"
             ],
             [
              0.1111111111111111,
              "#46039f"
             ],
             [
              0.2222222222222222,
              "#7201a8"
             ],
             [
              0.3333333333333333,
              "#9c179e"
             ],
             [
              0.4444444444444444,
              "#bd3786"
             ],
             [
              0.5555555555555556,
              "#d8576b"
             ],
             [
              0.6666666666666666,
              "#ed7953"
             ],
             [
              0.7777777777777778,
              "#fb9f3a"
             ],
             [
              0.8888888888888888,
              "#fdca26"
             ],
             [
              1,
              "#f0f921"
             ]
            ],
            "type": "surface"
           }
          ],
          "table": [
           {
            "cells": {
             "fill": {
              "color": "#EBF0F8"
             },
             "line": {
              "color": "white"
             }
            },
            "header": {
             "fill": {
              "color": "#C8D4E3"
             },
             "line": {
              "color": "white"
             }
            },
            "type": "table"
           }
          ]
         },
         "layout": {
          "annotationdefaults": {
           "arrowcolor": "#2a3f5f",
           "arrowhead": 0,
           "arrowwidth": 1
          },
          "autotypenumbers": "strict",
          "coloraxis": {
           "colorbar": {
            "outlinewidth": 0,
            "ticks": ""
           }
          },
          "colorscale": {
           "diverging": [
            [
             0,
             "#8e0152"
            ],
            [
             0.1,
             "#c51b7d"
            ],
            [
             0.2,
             "#de77ae"
            ],
            [
             0.3,
             "#f1b6da"
            ],
            [
             0.4,
             "#fde0ef"
            ],
            [
             0.5,
             "#f7f7f7"
            ],
            [
             0.6,
             "#e6f5d0"
            ],
            [
             0.7,
             "#b8e186"
            ],
            [
             0.8,
             "#7fbc41"
            ],
            [
             0.9,
             "#4d9221"
            ],
            [
             1,
             "#276419"
            ]
           ],
           "sequential": [
            [
             0,
             "#0d0887"
            ],
            [
             0.1111111111111111,
             "#46039f"
            ],
            [
             0.2222222222222222,
             "#7201a8"
            ],
            [
             0.3333333333333333,
             "#9c179e"
            ],
            [
             0.4444444444444444,
             "#bd3786"
            ],
            [
             0.5555555555555556,
             "#d8576b"
            ],
            [
             0.6666666666666666,
             "#ed7953"
            ],
            [
             0.7777777777777778,
             "#fb9f3a"
            ],
            [
             0.8888888888888888,
             "#fdca26"
            ],
            [
             1,
             "#f0f921"
            ]
           ],
           "sequentialminus": [
            [
             0,
             "#0d0887"
            ],
            [
             0.1111111111111111,
             "#46039f"
            ],
            [
             0.2222222222222222,
             "#7201a8"
            ],
            [
             0.3333333333333333,
             "#9c179e"
            ],
            [
             0.4444444444444444,
             "#bd3786"
            ],
            [
             0.5555555555555556,
             "#d8576b"
            ],
            [
             0.6666666666666666,
             "#ed7953"
            ],
            [
             0.7777777777777778,
             "#fb9f3a"
            ],
            [
             0.8888888888888888,
             "#fdca26"
            ],
            [
             1,
             "#f0f921"
            ]
           ]
          },
          "colorway": [
           "#636efa",
           "#EF553B",
           "#00cc96",
           "#ab63fa",
           "#FFA15A",
           "#19d3f3",
           "#FF6692",
           "#B6E880",
           "#FF97FF",
           "#FECB52"
          ],
          "font": {
           "color": "#2a3f5f"
          },
          "geo": {
           "bgcolor": "white",
           "lakecolor": "white",
           "landcolor": "#E5ECF6",
           "showlakes": true,
           "showland": true,
           "subunitcolor": "white"
          },
          "hoverlabel": {
           "align": "left"
          },
          "hovermode": "closest",
          "mapbox": {
           "style": "light"
          },
          "paper_bgcolor": "white",
          "plot_bgcolor": "#E5ECF6",
          "polar": {
           "angularaxis": {
            "gridcolor": "white",
            "linecolor": "white",
            "ticks": ""
           },
           "bgcolor": "#E5ECF6",
           "radialaxis": {
            "gridcolor": "white",
            "linecolor": "white",
            "ticks": ""
           }
          },
          "scene": {
           "xaxis": {
            "backgroundcolor": "#E5ECF6",
            "gridcolor": "white",
            "gridwidth": 2,
            "linecolor": "white",
            "showbackground": true,
            "ticks": "",
            "zerolinecolor": "white"
           },
           "yaxis": {
            "backgroundcolor": "#E5ECF6",
            "gridcolor": "white",
            "gridwidth": 2,
            "linecolor": "white",
            "showbackground": true,
            "ticks": "",
            "zerolinecolor": "white"
           },
           "zaxis": {
            "backgroundcolor": "#E5ECF6",
            "gridcolor": "white",
            "gridwidth": 2,
            "linecolor": "white",
            "showbackground": true,
            "ticks": "",
            "zerolinecolor": "white"
           }
          },
          "shapedefaults": {
           "line": {
            "color": "#2a3f5f"
           }
          },
          "ternary": {
           "aaxis": {
            "gridcolor": "white",
            "linecolor": "white",
            "ticks": ""
           },
           "baxis": {
            "gridcolor": "white",
            "linecolor": "white",
            "ticks": ""
           },
           "bgcolor": "#E5ECF6",
           "caxis": {
            "gridcolor": "white",
            "linecolor": "white",
            "ticks": ""
           }
          },
          "title": {
           "x": 0.05
          },
          "xaxis": {
           "automargin": true,
           "gridcolor": "white",
           "linecolor": "white",
           "ticks": "",
           "title": {
            "standoff": 15
           },
           "zerolinecolor": "white",
           "zerolinewidth": 2
          },
          "yaxis": {
           "automargin": true,
           "gridcolor": "white",
           "linecolor": "white",
           "ticks": "",
           "title": {
            "standoff": 15
           },
           "zerolinecolor": "white",
           "zerolinewidth": 2
          }
         }
        },
        "xaxis": {
         "anchor": "y",
         "domain": [
          0,
          1
         ],
         "title": {
          "text": "total_bill"
         }
        },
        "yaxis": {
         "anchor": "x",
         "domain": [
          0,
          1
         ]
        }
       }
      }
     },
     "metadata": {},
     "output_type": "display_data"
    }
   ],
   "source": [
    "px.box(tips, 'total_bill', color='smoker')"
   ]
  },
  {
   "cell_type": "code",
   "execution_count": 71,
   "metadata": {},
   "outputs": [
    {
     "data": {
      "application/vnd.plotly.v1+json": {
       "config": {
        "plotlyServerURL": "https://plot.ly"
       },
       "data": [
        {
         "alignmentgroup": "True",
         "box": {
          "visible": false
         },
         "hovertemplate": "sex=Male<br>tip=%{x}<extra></extra>",
         "legendgroup": "Male",
         "marker": {
          "color": "#636efa"
         },
         "name": "Male",
         "offsetgroup": "Male",
         "orientation": "h",
         "scalegroup": "True",
         "showlegend": true,
         "type": "violin",
         "x": [
          5,
          3.5,
          6.73,
          10,
          9,
          3,
          5,
          3,
          4.73,
          3,
          4,
          7.58,
          1.17,
          3.55,
          3.68,
          3.11,
          3.18,
          2,
          2,
          5,
          6.7,
          4.5,
          2.05,
          6,
          5,
          3,
          2.56,
          3,
          5.07,
          5.6,
          3.12,
          4,
          4,
          3.41,
          5.92,
          2,
          2.03,
          2,
          2.55,
          4.34,
          3.48,
          4.29,
          5.16,
          2,
          2.18,
          4.71,
          3.6,
          3.31,
          3,
          4,
          3.5,
          5.85,
          2.24,
          2.01,
          3,
          3,
          3.5,
          2,
          5.65,
          3.92,
          1.5,
          3.5,
          3,
          4.3,
          3.35,
          5,
          3.21,
          3.15,
          6.5,
          3.18,
          4,
          3,
          4.06,
          2.31,
          1.75,
          3.51,
          2,
          2.5,
          5,
          2.34,
          3,
          3,
          3,
          2.64,
          2.54,
          3.08,
          4,
          2.71,
          3.76,
          2.74,
          3.27,
          2,
          3.76,
          2,
          4,
          1.5,
          2,
          2.03,
          2,
          1.57,
          4.08,
          2.24,
          1.64,
          2.02,
          3.4,
          1.96,
          2.09,
          4,
          3,
          3.16,
          4,
          3.71,
          3,
          2,
          1.58,
          2,
          2,
          2.5,
          1,
          2.5,
          3.23,
          2,
          2,
          2,
          2,
          3,
          1.5,
          3.06,
          2,
          2.72,
          1.5,
          2.5,
          1.5,
          1.97,
          2.5,
          2.2,
          1.76,
          2.31,
          1.47,
          1.25,
          1.98,
          1.25,
          1.66,
          1.71,
          1.56,
          1.32,
          2,
          3.39,
          1.45,
          1.73,
          1.48,
          2,
          1.92,
          1.44,
          1.44,
          2,
          5.15
         ],
         "x0": " ",
         "xaxis": "x",
         "y0": " ",
         "yaxis": "y"
        },
        {
         "alignmentgroup": "True",
         "box": {
          "visible": false
         },
         "hovertemplate": "sex=Female<br>tip=%{x}<extra></extra>",
         "legendgroup": "Female",
         "marker": {
          "color": "#EF553B"
         },
         "name": "Female",
         "offsetgroup": "Female",
         "orientation": "h",
         "scalegroup": "True",
         "showlegend": true,
         "type": "violin",
         "x": [
          2.5,
          5,
          4.67,
          5,
          5.17,
          5.2,
          3.09,
          4.2,
          2,
          1.5,
          5.14,
          3.14,
          5,
          4,
          6.5,
          3.75,
          2.92,
          3.61,
          5,
          3.25,
          2.88,
          3.48,
          2.45,
          2.75,
          2.83,
          3.5,
          1.36,
          4.08,
          3,
          1.01,
          3,
          4.19,
          3.25,
          3.5,
          3,
          2,
          2.3,
          3,
          2.47,
          3.5,
          2.5,
          3.07,
          3.5,
          2.5,
          2.23,
          3.5,
          3.23,
          3,
          2.2,
          2,
          3,
          2,
          3,
          4.3,
          3.02,
          1.1,
          1.68,
          2,
          2,
          2.61,
          2.5,
          2.01,
          1.8,
          2.23,
          2.75,
          4,
          2,
          1.63,
          2.52,
          3.48,
          1.5,
          2,
          1.5,
          1.61,
          2.5,
          1.67,
          2,
          2,
          1.83,
          2,
          2.6,
          1.25,
          1.5,
          1,
          4,
          1,
          1
         ],
         "x0": " ",
         "xaxis": "x",
         "y0": " ",
         "yaxis": "y"
        }
       ],
       "layout": {
        "legend": {
         "title": {
          "text": "sex"
         },
         "tracegroupgap": 0
        },
        "margin": {
         "t": 60
        },
        "template": {
         "data": {
          "bar": [
           {
            "error_x": {
             "color": "#2a3f5f"
            },
            "error_y": {
             "color": "#2a3f5f"
            },
            "marker": {
             "line": {
              "color": "#E5ECF6",
              "width": 0.5
             },
             "pattern": {
              "fillmode": "overlay",
              "size": 10,
              "solidity": 0.2
             }
            },
            "type": "bar"
           }
          ],
          "barpolar": [
           {
            "marker": {
             "line": {
              "color": "#E5ECF6",
              "width": 0.5
             },
             "pattern": {
              "fillmode": "overlay",
              "size": 10,
              "solidity": 0.2
             }
            },
            "type": "barpolar"
           }
          ],
          "carpet": [
           {
            "aaxis": {
             "endlinecolor": "#2a3f5f",
             "gridcolor": "white",
             "linecolor": "white",
             "minorgridcolor": "white",
             "startlinecolor": "#2a3f5f"
            },
            "baxis": {
             "endlinecolor": "#2a3f5f",
             "gridcolor": "white",
             "linecolor": "white",
             "minorgridcolor": "white",
             "startlinecolor": "#2a3f5f"
            },
            "type": "carpet"
           }
          ],
          "choropleth": [
           {
            "colorbar": {
             "outlinewidth": 0,
             "ticks": ""
            },
            "type": "choropleth"
           }
          ],
          "contour": [
           {
            "colorbar": {
             "outlinewidth": 0,
             "ticks": ""
            },
            "colorscale": [
             [
              0,
              "#0d0887"
             ],
             [
              0.1111111111111111,
              "#46039f"
             ],
             [
              0.2222222222222222,
              "#7201a8"
             ],
             [
              0.3333333333333333,
              "#9c179e"
             ],
             [
              0.4444444444444444,
              "#bd3786"
             ],
             [
              0.5555555555555556,
              "#d8576b"
             ],
             [
              0.6666666666666666,
              "#ed7953"
             ],
             [
              0.7777777777777778,
              "#fb9f3a"
             ],
             [
              0.8888888888888888,
              "#fdca26"
             ],
             [
              1,
              "#f0f921"
             ]
            ],
            "type": "contour"
           }
          ],
          "contourcarpet": [
           {
            "colorbar": {
             "outlinewidth": 0,
             "ticks": ""
            },
            "type": "contourcarpet"
           }
          ],
          "heatmap": [
           {
            "colorbar": {
             "outlinewidth": 0,
             "ticks": ""
            },
            "colorscale": [
             [
              0,
              "#0d0887"
             ],
             [
              0.1111111111111111,
              "#46039f"
             ],
             [
              0.2222222222222222,
              "#7201a8"
             ],
             [
              0.3333333333333333,
              "#9c179e"
             ],
             [
              0.4444444444444444,
              "#bd3786"
             ],
             [
              0.5555555555555556,
              "#d8576b"
             ],
             [
              0.6666666666666666,
              "#ed7953"
             ],
             [
              0.7777777777777778,
              "#fb9f3a"
             ],
             [
              0.8888888888888888,
              "#fdca26"
             ],
             [
              1,
              "#f0f921"
             ]
            ],
            "type": "heatmap"
           }
          ],
          "heatmapgl": [
           {
            "colorbar": {
             "outlinewidth": 0,
             "ticks": ""
            },
            "colorscale": [
             [
              0,
              "#0d0887"
             ],
             [
              0.1111111111111111,
              "#46039f"
             ],
             [
              0.2222222222222222,
              "#7201a8"
             ],
             [
              0.3333333333333333,
              "#9c179e"
             ],
             [
              0.4444444444444444,
              "#bd3786"
             ],
             [
              0.5555555555555556,
              "#d8576b"
             ],
             [
              0.6666666666666666,
              "#ed7953"
             ],
             [
              0.7777777777777778,
              "#fb9f3a"
             ],
             [
              0.8888888888888888,
              "#fdca26"
             ],
             [
              1,
              "#f0f921"
             ]
            ],
            "type": "heatmapgl"
           }
          ],
          "histogram": [
           {
            "marker": {
             "pattern": {
              "fillmode": "overlay",
              "size": 10,
              "solidity": 0.2
             }
            },
            "type": "histogram"
           }
          ],
          "histogram2d": [
           {
            "colorbar": {
             "outlinewidth": 0,
             "ticks": ""
            },
            "colorscale": [
             [
              0,
              "#0d0887"
             ],
             [
              0.1111111111111111,
              "#46039f"
             ],
             [
              0.2222222222222222,
              "#7201a8"
             ],
             [
              0.3333333333333333,
              "#9c179e"
             ],
             [
              0.4444444444444444,
              "#bd3786"
             ],
             [
              0.5555555555555556,
              "#d8576b"
             ],
             [
              0.6666666666666666,
              "#ed7953"
             ],
             [
              0.7777777777777778,
              "#fb9f3a"
             ],
             [
              0.8888888888888888,
              "#fdca26"
             ],
             [
              1,
              "#f0f921"
             ]
            ],
            "type": "histogram2d"
           }
          ],
          "histogram2dcontour": [
           {
            "colorbar": {
             "outlinewidth": 0,
             "ticks": ""
            },
            "colorscale": [
             [
              0,
              "#0d0887"
             ],
             [
              0.1111111111111111,
              "#46039f"
             ],
             [
              0.2222222222222222,
              "#7201a8"
             ],
             [
              0.3333333333333333,
              "#9c179e"
             ],
             [
              0.4444444444444444,
              "#bd3786"
             ],
             [
              0.5555555555555556,
              "#d8576b"
             ],
             [
              0.6666666666666666,
              "#ed7953"
             ],
             [
              0.7777777777777778,
              "#fb9f3a"
             ],
             [
              0.8888888888888888,
              "#fdca26"
             ],
             [
              1,
              "#f0f921"
             ]
            ],
            "type": "histogram2dcontour"
           }
          ],
          "mesh3d": [
           {
            "colorbar": {
             "outlinewidth": 0,
             "ticks": ""
            },
            "type": "mesh3d"
           }
          ],
          "parcoords": [
           {
            "line": {
             "colorbar": {
              "outlinewidth": 0,
              "ticks": ""
             }
            },
            "type": "parcoords"
           }
          ],
          "pie": [
           {
            "automargin": true,
            "type": "pie"
           }
          ],
          "scatter": [
           {
            "fillpattern": {
             "fillmode": "overlay",
             "size": 10,
             "solidity": 0.2
            },
            "type": "scatter"
           }
          ],
          "scatter3d": [
           {
            "line": {
             "colorbar": {
              "outlinewidth": 0,
              "ticks": ""
             }
            },
            "marker": {
             "colorbar": {
              "outlinewidth": 0,
              "ticks": ""
             }
            },
            "type": "scatter3d"
           }
          ],
          "scattercarpet": [
           {
            "marker": {
             "colorbar": {
              "outlinewidth": 0,
              "ticks": ""
             }
            },
            "type": "scattercarpet"
           }
          ],
          "scattergeo": [
           {
            "marker": {
             "colorbar": {
              "outlinewidth": 0,
              "ticks": ""
             }
            },
            "type": "scattergeo"
           }
          ],
          "scattergl": [
           {
            "marker": {
             "colorbar": {
              "outlinewidth": 0,
              "ticks": ""
             }
            },
            "type": "scattergl"
           }
          ],
          "scattermapbox": [
           {
            "marker": {
             "colorbar": {
              "outlinewidth": 0,
              "ticks": ""
             }
            },
            "type": "scattermapbox"
           }
          ],
          "scatterpolar": [
           {
            "marker": {
             "colorbar": {
              "outlinewidth": 0,
              "ticks": ""
             }
            },
            "type": "scatterpolar"
           }
          ],
          "scatterpolargl": [
           {
            "marker": {
             "colorbar": {
              "outlinewidth": 0,
              "ticks": ""
             }
            },
            "type": "scatterpolargl"
           }
          ],
          "scatterternary": [
           {
            "marker": {
             "colorbar": {
              "outlinewidth": 0,
              "ticks": ""
             }
            },
            "type": "scatterternary"
           }
          ],
          "surface": [
           {
            "colorbar": {
             "outlinewidth": 0,
             "ticks": ""
            },
            "colorscale": [
             [
              0,
              "#0d0887"
             ],
             [
              0.1111111111111111,
              "#46039f"
             ],
             [
              0.2222222222222222,
              "#7201a8"
             ],
             [
              0.3333333333333333,
              "#9c179e"
             ],
             [
              0.4444444444444444,
              "#bd3786"
             ],
             [
              0.5555555555555556,
              "#d8576b"
             ],
             [
              0.6666666666666666,
              "#ed7953"
             ],
             [
              0.7777777777777778,
              "#fb9f3a"
             ],
             [
              0.8888888888888888,
              "#fdca26"
             ],
             [
              1,
              "#f0f921"
             ]
            ],
            "type": "surface"
           }
          ],
          "table": [
           {
            "cells": {
             "fill": {
              "color": "#EBF0F8"
             },
             "line": {
              "color": "white"
             }
            },
            "header": {
             "fill": {
              "color": "#C8D4E3"
             },
             "line": {
              "color": "white"
             }
            },
            "type": "table"
           }
          ]
         },
         "layout": {
          "annotationdefaults": {
           "arrowcolor": "#2a3f5f",
           "arrowhead": 0,
           "arrowwidth": 1
          },
          "autotypenumbers": "strict",
          "coloraxis": {
           "colorbar": {
            "outlinewidth": 0,
            "ticks": ""
           }
          },
          "colorscale": {
           "diverging": [
            [
             0,
             "#8e0152"
            ],
            [
             0.1,
             "#c51b7d"
            ],
            [
             0.2,
             "#de77ae"
            ],
            [
             0.3,
             "#f1b6da"
            ],
            [
             0.4,
             "#fde0ef"
            ],
            [
             0.5,
             "#f7f7f7"
            ],
            [
             0.6,
             "#e6f5d0"
            ],
            [
             0.7,
             "#b8e186"
            ],
            [
             0.8,
             "#7fbc41"
            ],
            [
             0.9,
             "#4d9221"
            ],
            [
             1,
             "#276419"
            ]
           ],
           "sequential": [
            [
             0,
             "#0d0887"
            ],
            [
             0.1111111111111111,
             "#46039f"
            ],
            [
             0.2222222222222222,
             "#7201a8"
            ],
            [
             0.3333333333333333,
             "#9c179e"
            ],
            [
             0.4444444444444444,
             "#bd3786"
            ],
            [
             0.5555555555555556,
             "#d8576b"
            ],
            [
             0.6666666666666666,
             "#ed7953"
            ],
            [
             0.7777777777777778,
             "#fb9f3a"
            ],
            [
             0.8888888888888888,
             "#fdca26"
            ],
            [
             1,
             "#f0f921"
            ]
           ],
           "sequentialminus": [
            [
             0,
             "#0d0887"
            ],
            [
             0.1111111111111111,
             "#46039f"
            ],
            [
             0.2222222222222222,
             "#7201a8"
            ],
            [
             0.3333333333333333,
             "#9c179e"
            ],
            [
             0.4444444444444444,
             "#bd3786"
            ],
            [
             0.5555555555555556,
             "#d8576b"
            ],
            [
             0.6666666666666666,
             "#ed7953"
            ],
            [
             0.7777777777777778,
             "#fb9f3a"
            ],
            [
             0.8888888888888888,
             "#fdca26"
            ],
            [
             1,
             "#f0f921"
            ]
           ]
          },
          "colorway": [
           "#636efa",
           "#EF553B",
           "#00cc96",
           "#ab63fa",
           "#FFA15A",
           "#19d3f3",
           "#FF6692",
           "#B6E880",
           "#FF97FF",
           "#FECB52"
          ],
          "font": {
           "color": "#2a3f5f"
          },
          "geo": {
           "bgcolor": "white",
           "lakecolor": "white",
           "landcolor": "#E5ECF6",
           "showlakes": true,
           "showland": true,
           "subunitcolor": "white"
          },
          "hoverlabel": {
           "align": "left"
          },
          "hovermode": "closest",
          "mapbox": {
           "style": "light"
          },
          "paper_bgcolor": "white",
          "plot_bgcolor": "#E5ECF6",
          "polar": {
           "angularaxis": {
            "gridcolor": "white",
            "linecolor": "white",
            "ticks": ""
           },
           "bgcolor": "#E5ECF6",
           "radialaxis": {
            "gridcolor": "white",
            "linecolor": "white",
            "ticks": ""
           }
          },
          "scene": {
           "xaxis": {
            "backgroundcolor": "#E5ECF6",
            "gridcolor": "white",
            "gridwidth": 2,
            "linecolor": "white",
            "showbackground": true,
            "ticks": "",
            "zerolinecolor": "white"
           },
           "yaxis": {
            "backgroundcolor": "#E5ECF6",
            "gridcolor": "white",
            "gridwidth": 2,
            "linecolor": "white",
            "showbackground": true,
            "ticks": "",
            "zerolinecolor": "white"
           },
           "zaxis": {
            "backgroundcolor": "#E5ECF6",
            "gridcolor": "white",
            "gridwidth": 2,
            "linecolor": "white",
            "showbackground": true,
            "ticks": "",
            "zerolinecolor": "white"
           }
          },
          "shapedefaults": {
           "line": {
            "color": "#2a3f5f"
           }
          },
          "ternary": {
           "aaxis": {
            "gridcolor": "white",
            "linecolor": "white",
            "ticks": ""
           },
           "baxis": {
            "gridcolor": "white",
            "linecolor": "white",
            "ticks": ""
           },
           "bgcolor": "#E5ECF6",
           "caxis": {
            "gridcolor": "white",
            "linecolor": "white",
            "ticks": ""
           }
          },
          "title": {
           "x": 0.05
          },
          "xaxis": {
           "automargin": true,
           "gridcolor": "white",
           "linecolor": "white",
           "ticks": "",
           "title": {
            "standoff": 15
           },
           "zerolinecolor": "white",
           "zerolinewidth": 2
          },
          "yaxis": {
           "automargin": true,
           "gridcolor": "white",
           "linecolor": "white",
           "ticks": "",
           "title": {
            "standoff": 15
           },
           "zerolinecolor": "white",
           "zerolinewidth": 2
          }
         }
        },
        "violinmode": "group",
        "xaxis": {
         "anchor": "y",
         "domain": [
          0,
          1
         ],
         "title": {
          "text": "tip"
         }
        },
        "yaxis": {
         "anchor": "x",
         "domain": [
          0,
          1
         ]
        }
       }
      }
     },
     "metadata": {},
     "output_type": "display_data"
    }
   ],
   "source": [
    "px.violin(tips, 'tip' ,  color='sex')"
   ]
  },
  {
   "cell_type": "code",
   "execution_count": 72,
   "metadata": {},
   "outputs": [
    {
     "data": {
      "application/vnd.plotly.v1+json": {
       "config": {
        "plotlyServerURL": "https://plot.ly"
       },
       "data": [
        {
         "hovertemplate": "sex=Male<br>day=Sun<br>total_bill=%{x}<br>tip=%{y}<extra></extra>",
         "legendgroup": "Male",
         "marker": {
          "color": "#636efa",
          "symbol": "circle"
         },
         "mode": "markers",
         "name": "Male",
         "orientation": "v",
         "showlegend": true,
         "type": "scatter",
         "x": [
          48.17,
          45.35,
          40.55,
          38.07,
          34.63,
          34.65,
          32.9,
          31.85,
          30.46,
          31.71,
          28.55,
          32.4,
          29.93,
          30.4,
          26.88,
          24.55,
          23.95,
          25.56,
          24.52,
          25.29,
          23.68,
          23.1,
          20.76,
          21.5,
          19.77,
          23.33,
          21.58,
          21.01,
          22.23,
          23.17,
          19.49,
          17.89,
          20.69,
          18.43,
          18.29,
          18.04,
          17.46,
          17.26,
          16.49,
          15.69,
          15.42,
          15.04,
          16.82,
          16.29,
          14.48,
          13.81,
          14.07,
          14.78,
          13.13,
          13.94,
          12.66,
          12.54,
          10.34,
          10.27,
          9.94,
          9.68,
          8.77,
          7.25
         ],
         "xaxis": "x",
         "y": [
          5,
          3.5,
          3,
          4,
          3.55,
          3.68,
          3.11,
          3.18,
          2,
          4.5,
          2.05,
          6,
          5.07,
          5.6,
          3.12,
          2,
          2.55,
          4.34,
          3.48,
          4.71,
          3.31,
          4,
          2.24,
          3.5,
          2,
          5.65,
          3.92,
          3.5,
          5,
          6.5,
          3.51,
          2,
          5,
          3,
          3,
          3,
          2.54,
          2.74,
          2,
          1.5,
          1.57,
          1.96,
          4,
          3.71,
          2,
          2,
          2.5,
          3.23,
          2,
          3.06,
          2.5,
          2.5,
          1.66,
          1.71,
          1.56,
          1.32,
          2,
          5.15
         ],
         "yaxis": "y"
        },
        {
         "hovertemplate": "sex=Male<br>day=Sat<br>total_bill=%{x}<br>tip=%{y}<extra></extra>",
         "legendgroup": "Male",
         "marker": {
          "color": "#636efa",
          "symbol": "circle"
         },
         "mode": "markers",
         "name": "Male",
         "orientation": "v",
         "showlegend": false,
         "type": "scatter",
         "x": [
          48.27,
          50.81,
          48.33,
          38.73,
          38.01,
          39.42,
          32.83,
          30.06,
          31.27,
          28.15,
          26.59,
          29.03,
          24.27,
          24.01,
          25.21,
          25.89,
          22.67,
          24.06,
          20.23,
          20.45,
          21.7,
          20.65,
          20.29,
          20.08,
          19.82,
          20.49,
          18.69,
          17.82,
          18.35,
          17.81,
          17.59,
          17.92,
          18.29,
          17.78,
          18.24,
          16.31,
          17.92,
          16.04,
          15.36,
          15.01,
          15.69,
          15.81,
          15.53,
          13.81,
          12.6,
          13.37,
          14,
          12.69,
          13.28,
          11.59,
          12.02,
          11.24,
          10.77,
          10.51,
          11.02,
          10.07,
          11.61,
          9.55,
          7.74
         ],
         "xaxis": "x2",
         "y": [
          6.73,
          10,
          9,
          3,
          3,
          7.58,
          1.17,
          2,
          5,
          3,
          3.41,
          5.92,
          2.03,
          2,
          4.29,
          5.16,
          2,
          3.6,
          2.01,
          3,
          4.3,
          3.35,
          3.21,
          3.15,
          3.18,
          4.06,
          2.31,
          1.75,
          2.5,
          2.34,
          2.64,
          3.08,
          3.76,
          3.27,
          3.76,
          2,
          4.08,
          2.24,
          1.64,
          2.09,
          3,
          3.16,
          3,
          2,
          1,
          2,
          3,
          2,
          2.72,
          1.5,
          1.97,
          1.76,
          1.47,
          1.25,
          1.98,
          1.25,
          3.39,
          1.45,
          1.44
         ],
         "yaxis": "y2"
        },
        {
         "hovertemplate": "sex=Male<br>day=Thur<br>total_bill=%{x}<br>tip=%{y}<extra></extra>",
         "legendgroup": "Male",
         "marker": {
          "color": "#636efa",
          "symbol": "circle"
         },
         "mode": "markers",
         "name": "Male",
         "orientation": "v",
         "showlegend": false,
         "type": "scatter",
         "x": [
          41.19,
          32.68,
          34.3,
          28.44,
          27.2,
          22.82,
          22.76,
          24.71,
          21.16,
          19.08,
          20.53,
          19.44,
          18.71,
          17.29,
          18.28,
          16,
          15.98,
          15.95,
          15.48,
          16.66,
          16.58,
          14.26,
          13.51,
          13.03,
          11.69,
          10.34,
          9.78,
          8.52,
          7.56,
          7.51
         ],
         "xaxis": "x3",
         "y": [
          5,
          5,
          6.7,
          2.56,
          4,
          2.18,
          3,
          5.85,
          3,
          1.5,
          4,
          3,
          4,
          2.71,
          4,
          2,
          2.03,
          2,
          2.02,
          3.4,
          4,
          2.5,
          2,
          2,
          2.31,
          2,
          1.73,
          1.48,
          1.44,
          2
         ],
         "yaxis": "y3"
        },
        {
         "hovertemplate": "sex=Male<br>day=Fri<br>total_bill=%{x}<br>tip=%{y}<extra></extra>",
         "legendgroup": "Male",
         "marker": {
          "color": "#636efa",
          "symbol": "circle"
         },
         "mode": "markers",
         "name": "Male",
         "orientation": "v",
         "showlegend": false,
         "type": "scatter",
         "x": [
          40.17,
          28.97,
          27.28,
          22.49,
          21.01,
          13.42,
          12.46,
          12.03,
          12.16,
          8.58
         ],
         "xaxis": "x4",
         "y": [
          4.73,
          3,
          4,
          3.5,
          3,
          1.58,
          1.5,
          1.5,
          2.2,
          1.92
         ],
         "yaxis": "y4"
        },
        {
         "hovertemplate": "sex=Female<br>day=Sun<br>total_bill=%{x}<br>tip=%{y}<extra></extra>",
         "legendgroup": "Female",
         "marker": {
          "color": "#EF553B",
          "symbol": "circle"
         },
         "mode": "markers",
         "name": "Female",
         "orientation": "v",
         "showlegend": true,
         "type": "scatter",
         "x": [
          35.26,
          34.81,
          29.85,
          25.71,
          25,
          24.59,
          20.9,
          16.99,
          18.15,
          17.51,
          16.21,
          17.31,
          16.97,
          14.83,
          13.39,
          10.33,
          10.29,
          9.6
         ],
         "xaxis": "x",
         "y": [
          5,
          5.2,
          5.14,
          4,
          3.75,
          3.61,
          3.5,
          1.01,
          3.5,
          3,
          2,
          3.5,
          3.5,
          3.02,
          2.61,
          1.67,
          2.6,
          4
         ],
         "yaxis": "y"
        },
        {
         "hovertemplate": "sex=Female<br>day=Sat<br>total_bill=%{x}<br>tip=%{y}<extra></extra>",
         "legendgroup": "Female",
         "marker": {
          "color": "#EF553B",
          "symbol": "circle"
         },
         "mode": "markers",
         "name": "Female",
         "orientation": "v",
         "showlegend": false,
         "type": "scatter",
         "x": [
          44.3,
          35.83,
          30.14,
          27.18,
          26.41,
          26.86,
          28.17,
          25.28,
          22.12,
          22.42,
          20.69,
          20.29,
          20.92,
          19.65,
          17.07,
          16.45,
          16.93,
          15.77,
          14.73,
          15.06,
          12.9,
          13.27,
          12.76,
          14.31,
          10.59,
          10.63,
          7.25,
          3.07
         ],
         "xaxis": "x2",
         "y": [
          2.5,
          4.67,
          3.09,
          2,
          1.5,
          3.14,
          6.5,
          5,
          2.88,
          3.48,
          2.45,
          2.75,
          4.08,
          3,
          3,
          2.47,
          3.07,
          2.23,
          2.2,
          3,
          1.1,
          2.5,
          2.23,
          4,
          1.61,
          2,
          1,
          1
         ],
         "yaxis": "y2"
        },
        {
         "hovertemplate": "sex=Female<br>day=Thur<br>total_bill=%{x}<br>tip=%{y}<extra></extra>",
         "legendgroup": "Female",
         "marker": {
          "color": "#EF553B",
          "symbol": "circle"
         },
         "mode": "markers",
         "name": "Female",
         "orientation": "v",
         "showlegend": false,
         "type": "scatter",
         "x": [
          43.11,
          34.83,
          29.8,
          27.05,
          24.08,
          20.27,
          18.64,
          18.78,
          19.81,
          18.26,
          16.43,
          17.47,
          16.4,
          16.47,
          14.52,
          14.15,
          13.42,
          13,
          13,
          12.74,
          12.43,
          13.16,
          12.26,
          11.87,
          12.48,
          11.17,
          11.38,
          10.65,
          10.33,
          10.07,
          8.51,
          8.35
         ],
         "xaxis": "x3",
         "y": [
          5,
          5.17,
          4.2,
          5,
          2.92,
          2.83,
          1.36,
          3,
          4.19,
          3.25,
          2.3,
          3.5,
          2.5,
          3.23,
          2,
          2,
          1.68,
          2,
          2,
          2.01,
          1.8,
          2.75,
          2,
          1.63,
          2.52,
          1.5,
          2,
          1.5,
          2,
          1.83,
          1.25,
          1.5
         ],
         "yaxis": "y3"
        },
        {
         "hovertemplate": "sex=Female<br>day=Fri<br>total_bill=%{x}<br>tip=%{y}<extra></extra>",
         "legendgroup": "Female",
         "marker": {
          "color": "#EF553B",
          "symbol": "circle"
         },
         "mode": "markers",
         "name": "Female",
         "orientation": "v",
         "showlegend": false,
         "type": "scatter",
         "x": [
          22.75,
          16.27,
          15.98,
          15.38,
          16.32,
          13.42,
          11.35,
          10.09,
          5.75
         ],
         "xaxis": "x4",
         "y": [
          3.25,
          2.5,
          3,
          3,
          4.3,
          3.48,
          2.5,
          2,
          1
         ],
         "yaxis": "y4"
        }
       ],
       "layout": {
        "annotations": [
         {
          "font": {},
          "showarrow": false,
          "text": "day=Sun",
          "x": 0.1175,
          "xanchor": "center",
          "xref": "paper",
          "y": 1,
          "yanchor": "bottom",
          "yref": "paper"
         },
         {
          "font": {},
          "showarrow": false,
          "text": "day=Sat",
          "x": 0.3725,
          "xanchor": "center",
          "xref": "paper",
          "y": 1,
          "yanchor": "bottom",
          "yref": "paper"
         },
         {
          "font": {},
          "showarrow": false,
          "text": "day=Thur",
          "x": 0.6275,
          "xanchor": "center",
          "xref": "paper",
          "y": 1,
          "yanchor": "bottom",
          "yref": "paper"
         },
         {
          "font": {},
          "showarrow": false,
          "text": "day=Fri",
          "x": 0.8824999999999998,
          "xanchor": "center",
          "xref": "paper",
          "y": 1,
          "yanchor": "bottom",
          "yref": "paper"
         }
        ],
        "legend": {
         "title": {
          "text": "sex"
         },
         "tracegroupgap": 0
        },
        "margin": {
         "t": 60
        },
        "template": {
         "data": {
          "bar": [
           {
            "error_x": {
             "color": "#2a3f5f"
            },
            "error_y": {
             "color": "#2a3f5f"
            },
            "marker": {
             "line": {
              "color": "#E5ECF6",
              "width": 0.5
             },
             "pattern": {
              "fillmode": "overlay",
              "size": 10,
              "solidity": 0.2
             }
            },
            "type": "bar"
           }
          ],
          "barpolar": [
           {
            "marker": {
             "line": {
              "color": "#E5ECF6",
              "width": 0.5
             },
             "pattern": {
              "fillmode": "overlay",
              "size": 10,
              "solidity": 0.2
             }
            },
            "type": "barpolar"
           }
          ],
          "carpet": [
           {
            "aaxis": {
             "endlinecolor": "#2a3f5f",
             "gridcolor": "white",
             "linecolor": "white",
             "minorgridcolor": "white",
             "startlinecolor": "#2a3f5f"
            },
            "baxis": {
             "endlinecolor": "#2a3f5f",
             "gridcolor": "white",
             "linecolor": "white",
             "minorgridcolor": "white",
             "startlinecolor": "#2a3f5f"
            },
            "type": "carpet"
           }
          ],
          "choropleth": [
           {
            "colorbar": {
             "outlinewidth": 0,
             "ticks": ""
            },
            "type": "choropleth"
           }
          ],
          "contour": [
           {
            "colorbar": {
             "outlinewidth": 0,
             "ticks": ""
            },
            "colorscale": [
             [
              0,
              "#0d0887"
             ],
             [
              0.1111111111111111,
              "#46039f"
             ],
             [
              0.2222222222222222,
              "#7201a8"
             ],
             [
              0.3333333333333333,
              "#9c179e"
             ],
             [
              0.4444444444444444,
              "#bd3786"
             ],
             [
              0.5555555555555556,
              "#d8576b"
             ],
             [
              0.6666666666666666,
              "#ed7953"
             ],
             [
              0.7777777777777778,
              "#fb9f3a"
             ],
             [
              0.8888888888888888,
              "#fdca26"
             ],
             [
              1,
              "#f0f921"
             ]
            ],
            "type": "contour"
           }
          ],
          "contourcarpet": [
           {
            "colorbar": {
             "outlinewidth": 0,
             "ticks": ""
            },
            "type": "contourcarpet"
           }
          ],
          "heatmap": [
           {
            "colorbar": {
             "outlinewidth": 0,
             "ticks": ""
            },
            "colorscale": [
             [
              0,
              "#0d0887"
             ],
             [
              0.1111111111111111,
              "#46039f"
             ],
             [
              0.2222222222222222,
              "#7201a8"
             ],
             [
              0.3333333333333333,
              "#9c179e"
             ],
             [
              0.4444444444444444,
              "#bd3786"
             ],
             [
              0.5555555555555556,
              "#d8576b"
             ],
             [
              0.6666666666666666,
              "#ed7953"
             ],
             [
              0.7777777777777778,
              "#fb9f3a"
             ],
             [
              0.8888888888888888,
              "#fdca26"
             ],
             [
              1,
              "#f0f921"
             ]
            ],
            "type": "heatmap"
           }
          ],
          "heatmapgl": [
           {
            "colorbar": {
             "outlinewidth": 0,
             "ticks": ""
            },
            "colorscale": [
             [
              0,
              "#0d0887"
             ],
             [
              0.1111111111111111,
              "#46039f"
             ],
             [
              0.2222222222222222,
              "#7201a8"
             ],
             [
              0.3333333333333333,
              "#9c179e"
             ],
             [
              0.4444444444444444,
              "#bd3786"
             ],
             [
              0.5555555555555556,
              "#d8576b"
             ],
             [
              0.6666666666666666,
              "#ed7953"
             ],
             [
              0.7777777777777778,
              "#fb9f3a"
             ],
             [
              0.8888888888888888,
              "#fdca26"
             ],
             [
              1,
              "#f0f921"
             ]
            ],
            "type": "heatmapgl"
           }
          ],
          "histogram": [
           {
            "marker": {
             "pattern": {
              "fillmode": "overlay",
              "size": 10,
              "solidity": 0.2
             }
            },
            "type": "histogram"
           }
          ],
          "histogram2d": [
           {
            "colorbar": {
             "outlinewidth": 0,
             "ticks": ""
            },
            "colorscale": [
             [
              0,
              "#0d0887"
             ],
             [
              0.1111111111111111,
              "#46039f"
             ],
             [
              0.2222222222222222,
              "#7201a8"
             ],
             [
              0.3333333333333333,
              "#9c179e"
             ],
             [
              0.4444444444444444,
              "#bd3786"
             ],
             [
              0.5555555555555556,
              "#d8576b"
             ],
             [
              0.6666666666666666,
              "#ed7953"
             ],
             [
              0.7777777777777778,
              "#fb9f3a"
             ],
             [
              0.8888888888888888,
              "#fdca26"
             ],
             [
              1,
              "#f0f921"
             ]
            ],
            "type": "histogram2d"
           }
          ],
          "histogram2dcontour": [
           {
            "colorbar": {
             "outlinewidth": 0,
             "ticks": ""
            },
            "colorscale": [
             [
              0,
              "#0d0887"
             ],
             [
              0.1111111111111111,
              "#46039f"
             ],
             [
              0.2222222222222222,
              "#7201a8"
             ],
             [
              0.3333333333333333,
              "#9c179e"
             ],
             [
              0.4444444444444444,
              "#bd3786"
             ],
             [
              0.5555555555555556,
              "#d8576b"
             ],
             [
              0.6666666666666666,
              "#ed7953"
             ],
             [
              0.7777777777777778,
              "#fb9f3a"
             ],
             [
              0.8888888888888888,
              "#fdca26"
             ],
             [
              1,
              "#f0f921"
             ]
            ],
            "type": "histogram2dcontour"
           }
          ],
          "mesh3d": [
           {
            "colorbar": {
             "outlinewidth": 0,
             "ticks": ""
            },
            "type": "mesh3d"
           }
          ],
          "parcoords": [
           {
            "line": {
             "colorbar": {
              "outlinewidth": 0,
              "ticks": ""
             }
            },
            "type": "parcoords"
           }
          ],
          "pie": [
           {
            "automargin": true,
            "type": "pie"
           }
          ],
          "scatter": [
           {
            "fillpattern": {
             "fillmode": "overlay",
             "size": 10,
             "solidity": 0.2
            },
            "type": "scatter"
           }
          ],
          "scatter3d": [
           {
            "line": {
             "colorbar": {
              "outlinewidth": 0,
              "ticks": ""
             }
            },
            "marker": {
             "colorbar": {
              "outlinewidth": 0,
              "ticks": ""
             }
            },
            "type": "scatter3d"
           }
          ],
          "scattercarpet": [
           {
            "marker": {
             "colorbar": {
              "outlinewidth": 0,
              "ticks": ""
             }
            },
            "type": "scattercarpet"
           }
          ],
          "scattergeo": [
           {
            "marker": {
             "colorbar": {
              "outlinewidth": 0,
              "ticks": ""
             }
            },
            "type": "scattergeo"
           }
          ],
          "scattergl": [
           {
            "marker": {
             "colorbar": {
              "outlinewidth": 0,
              "ticks": ""
             }
            },
            "type": "scattergl"
           }
          ],
          "scattermapbox": [
           {
            "marker": {
             "colorbar": {
              "outlinewidth": 0,
              "ticks": ""
             }
            },
            "type": "scattermapbox"
           }
          ],
          "scatterpolar": [
           {
            "marker": {
             "colorbar": {
              "outlinewidth": 0,
              "ticks": ""
             }
            },
            "type": "scatterpolar"
           }
          ],
          "scatterpolargl": [
           {
            "marker": {
             "colorbar": {
              "outlinewidth": 0,
              "ticks": ""
             }
            },
            "type": "scatterpolargl"
           }
          ],
          "scatterternary": [
           {
            "marker": {
             "colorbar": {
              "outlinewidth": 0,
              "ticks": ""
             }
            },
            "type": "scatterternary"
           }
          ],
          "surface": [
           {
            "colorbar": {
             "outlinewidth": 0,
             "ticks": ""
            },
            "colorscale": [
             [
              0,
              "#0d0887"
             ],
             [
              0.1111111111111111,
              "#46039f"
             ],
             [
              0.2222222222222222,
              "#7201a8"
             ],
             [
              0.3333333333333333,
              "#9c179e"
             ],
             [
              0.4444444444444444,
              "#bd3786"
             ],
             [
              0.5555555555555556,
              "#d8576b"
             ],
             [
              0.6666666666666666,
              "#ed7953"
             ],
             [
              0.7777777777777778,
              "#fb9f3a"
             ],
             [
              0.8888888888888888,
              "#fdca26"
             ],
             [
              1,
              "#f0f921"
             ]
            ],
            "type": "surface"
           }
          ],
          "table": [
           {
            "cells": {
             "fill": {
              "color": "#EBF0F8"
             },
             "line": {
              "color": "white"
             }
            },
            "header": {
             "fill": {
              "color": "#C8D4E3"
             },
             "line": {
              "color": "white"
             }
            },
            "type": "table"
           }
          ]
         },
         "layout": {
          "annotationdefaults": {
           "arrowcolor": "#2a3f5f",
           "arrowhead": 0,
           "arrowwidth": 1
          },
          "autotypenumbers": "strict",
          "coloraxis": {
           "colorbar": {
            "outlinewidth": 0,
            "ticks": ""
           }
          },
          "colorscale": {
           "diverging": [
            [
             0,
             "#8e0152"
            ],
            [
             0.1,
             "#c51b7d"
            ],
            [
             0.2,
             "#de77ae"
            ],
            [
             0.3,
             "#f1b6da"
            ],
            [
             0.4,
             "#fde0ef"
            ],
            [
             0.5,
             "#f7f7f7"
            ],
            [
             0.6,
             "#e6f5d0"
            ],
            [
             0.7,
             "#b8e186"
            ],
            [
             0.8,
             "#7fbc41"
            ],
            [
             0.9,
             "#4d9221"
            ],
            [
             1,
             "#276419"
            ]
           ],
           "sequential": [
            [
             0,
             "#0d0887"
            ],
            [
             0.1111111111111111,
             "#46039f"
            ],
            [
             0.2222222222222222,
             "#7201a8"
            ],
            [
             0.3333333333333333,
             "#9c179e"
            ],
            [
             0.4444444444444444,
             "#bd3786"
            ],
            [
             0.5555555555555556,
             "#d8576b"
            ],
            [
             0.6666666666666666,
             "#ed7953"
            ],
            [
             0.7777777777777778,
             "#fb9f3a"
            ],
            [
             0.8888888888888888,
             "#fdca26"
            ],
            [
             1,
             "#f0f921"
            ]
           ],
           "sequentialminus": [
            [
             0,
             "#0d0887"
            ],
            [
             0.1111111111111111,
             "#46039f"
            ],
            [
             0.2222222222222222,
             "#7201a8"
            ],
            [
             0.3333333333333333,
             "#9c179e"
            ],
            [
             0.4444444444444444,
             "#bd3786"
            ],
            [
             0.5555555555555556,
             "#d8576b"
            ],
            [
             0.6666666666666666,
             "#ed7953"
            ],
            [
             0.7777777777777778,
             "#fb9f3a"
            ],
            [
             0.8888888888888888,
             "#fdca26"
            ],
            [
             1,
             "#f0f921"
            ]
           ]
          },
          "colorway": [
           "#636efa",
           "#EF553B",
           "#00cc96",
           "#ab63fa",
           "#FFA15A",
           "#19d3f3",
           "#FF6692",
           "#B6E880",
           "#FF97FF",
           "#FECB52"
          ],
          "font": {
           "color": "#2a3f5f"
          },
          "geo": {
           "bgcolor": "white",
           "lakecolor": "white",
           "landcolor": "#E5ECF6",
           "showlakes": true,
           "showland": true,
           "subunitcolor": "white"
          },
          "hoverlabel": {
           "align": "left"
          },
          "hovermode": "closest",
          "mapbox": {
           "style": "light"
          },
          "paper_bgcolor": "white",
          "plot_bgcolor": "#E5ECF6",
          "polar": {
           "angularaxis": {
            "gridcolor": "white",
            "linecolor": "white",
            "ticks": ""
           },
           "bgcolor": "#E5ECF6",
           "radialaxis": {
            "gridcolor": "white",
            "linecolor": "white",
            "ticks": ""
           }
          },
          "scene": {
           "xaxis": {
            "backgroundcolor": "#E5ECF6",
            "gridcolor": "white",
            "gridwidth": 2,
            "linecolor": "white",
            "showbackground": true,
            "ticks": "",
            "zerolinecolor": "white"
           },
           "yaxis": {
            "backgroundcolor": "#E5ECF6",
            "gridcolor": "white",
            "gridwidth": 2,
            "linecolor": "white",
            "showbackground": true,
            "ticks": "",
            "zerolinecolor": "white"
           },
           "zaxis": {
            "backgroundcolor": "#E5ECF6",
            "gridcolor": "white",
            "gridwidth": 2,
            "linecolor": "white",
            "showbackground": true,
            "ticks": "",
            "zerolinecolor": "white"
           }
          },
          "shapedefaults": {
           "line": {
            "color": "#2a3f5f"
           }
          },
          "ternary": {
           "aaxis": {
            "gridcolor": "white",
            "linecolor": "white",
            "ticks": ""
           },
           "baxis": {
            "gridcolor": "white",
            "linecolor": "white",
            "ticks": ""
           },
           "bgcolor": "#E5ECF6",
           "caxis": {
            "gridcolor": "white",
            "linecolor": "white",
            "ticks": ""
           }
          },
          "title": {
           "x": 0.05
          },
          "xaxis": {
           "automargin": true,
           "gridcolor": "white",
           "linecolor": "white",
           "ticks": "",
           "title": {
            "standoff": 15
           },
           "zerolinecolor": "white",
           "zerolinewidth": 2
          },
          "yaxis": {
           "automargin": true,
           "gridcolor": "white",
           "linecolor": "white",
           "ticks": "",
           "title": {
            "standoff": 15
           },
           "zerolinecolor": "white",
           "zerolinewidth": 2
          }
         }
        },
        "xaxis": {
         "anchor": "y",
         "domain": [
          0,
          0.235
         ],
         "title": {
          "text": "total_bill"
         }
        },
        "xaxis2": {
         "anchor": "y2",
         "domain": [
          0.255,
          0.49
         ],
         "matches": "x",
         "title": {
          "text": "total_bill"
         }
        },
        "xaxis3": {
         "anchor": "y3",
         "domain": [
          0.51,
          0.745
         ],
         "matches": "x",
         "title": {
          "text": "total_bill"
         }
        },
        "xaxis4": {
         "anchor": "y4",
         "domain": [
          0.7649999999999999,
          0.9999999999999999
         ],
         "matches": "x",
         "title": {
          "text": "total_bill"
         }
        },
        "yaxis": {
         "anchor": "x",
         "domain": [
          0,
          1
         ],
         "title": {
          "text": "tip"
         }
        },
        "yaxis2": {
         "anchor": "x2",
         "domain": [
          0,
          1
         ],
         "matches": "y",
         "showticklabels": false
        },
        "yaxis3": {
         "anchor": "x3",
         "domain": [
          0,
          1
         ],
         "matches": "y",
         "showticklabels": false
        },
        "yaxis4": {
         "anchor": "x4",
         "domain": [
          0,
          1
         ],
         "matches": "y",
         "showticklabels": false
        }
       }
      }
     },
     "metadata": {},
     "output_type": "display_data"
    }
   ],
   "source": [
    "px.scatter(tips, 'total_bill','tip', color='sex', facet_col='day')"
   ]
  },
  {
   "cell_type": "code",
   "execution_count": 73,
   "metadata": {},
   "outputs": [
    {
     "data": {
      "text/html": [
       "<div>\n",
       "<style scoped>\n",
       "    .dataframe tbody tr th:only-of-type {\n",
       "        vertical-align: middle;\n",
       "    }\n",
       "\n",
       "    .dataframe tbody tr th {\n",
       "        vertical-align: top;\n",
       "    }\n",
       "\n",
       "    .dataframe thead th {\n",
       "        text-align: right;\n",
       "    }\n",
       "</style>\n",
       "<table border=\"1\" class=\"dataframe\">\n",
       "  <thead>\n",
       "    <tr style=\"text-align: right;\">\n",
       "      <th></th>\n",
       "      <th>country</th>\n",
       "      <th>continent</th>\n",
       "      <th>year</th>\n",
       "      <th>lifeExp</th>\n",
       "      <th>pop</th>\n",
       "      <th>gdpPercap</th>\n",
       "      <th>iso_alpha</th>\n",
       "      <th>iso_num</th>\n",
       "    </tr>\n",
       "  </thead>\n",
       "  <tbody>\n",
       "    <tr>\n",
       "      <th>0</th>\n",
       "      <td>Afghanistan</td>\n",
       "      <td>Asia</td>\n",
       "      <td>1952</td>\n",
       "      <td>28.801</td>\n",
       "      <td>8425333</td>\n",
       "      <td>779.445314</td>\n",
       "      <td>AFG</td>\n",
       "      <td>4</td>\n",
       "    </tr>\n",
       "    <tr>\n",
       "      <th>1</th>\n",
       "      <td>Afghanistan</td>\n",
       "      <td>Asia</td>\n",
       "      <td>1957</td>\n",
       "      <td>30.332</td>\n",
       "      <td>9240934</td>\n",
       "      <td>820.853030</td>\n",
       "      <td>AFG</td>\n",
       "      <td>4</td>\n",
       "    </tr>\n",
       "    <tr>\n",
       "      <th>2</th>\n",
       "      <td>Afghanistan</td>\n",
       "      <td>Asia</td>\n",
       "      <td>1962</td>\n",
       "      <td>31.997</td>\n",
       "      <td>10267083</td>\n",
       "      <td>853.100710</td>\n",
       "      <td>AFG</td>\n",
       "      <td>4</td>\n",
       "    </tr>\n",
       "    <tr>\n",
       "      <th>3</th>\n",
       "      <td>Afghanistan</td>\n",
       "      <td>Asia</td>\n",
       "      <td>1967</td>\n",
       "      <td>34.020</td>\n",
       "      <td>11537966</td>\n",
       "      <td>836.197138</td>\n",
       "      <td>AFG</td>\n",
       "      <td>4</td>\n",
       "    </tr>\n",
       "    <tr>\n",
       "      <th>4</th>\n",
       "      <td>Afghanistan</td>\n",
       "      <td>Asia</td>\n",
       "      <td>1972</td>\n",
       "      <td>36.088</td>\n",
       "      <td>13079460</td>\n",
       "      <td>739.981106</td>\n",
       "      <td>AFG</td>\n",
       "      <td>4</td>\n",
       "    </tr>\n",
       "    <tr>\n",
       "      <th>...</th>\n",
       "      <td>...</td>\n",
       "      <td>...</td>\n",
       "      <td>...</td>\n",
       "      <td>...</td>\n",
       "      <td>...</td>\n",
       "      <td>...</td>\n",
       "      <td>...</td>\n",
       "      <td>...</td>\n",
       "    </tr>\n",
       "    <tr>\n",
       "      <th>1699</th>\n",
       "      <td>Zimbabwe</td>\n",
       "      <td>Africa</td>\n",
       "      <td>1987</td>\n",
       "      <td>62.351</td>\n",
       "      <td>9216418</td>\n",
       "      <td>706.157306</td>\n",
       "      <td>ZWE</td>\n",
       "      <td>716</td>\n",
       "    </tr>\n",
       "    <tr>\n",
       "      <th>1700</th>\n",
       "      <td>Zimbabwe</td>\n",
       "      <td>Africa</td>\n",
       "      <td>1992</td>\n",
       "      <td>60.377</td>\n",
       "      <td>10704340</td>\n",
       "      <td>693.420786</td>\n",
       "      <td>ZWE</td>\n",
       "      <td>716</td>\n",
       "    </tr>\n",
       "    <tr>\n",
       "      <th>1701</th>\n",
       "      <td>Zimbabwe</td>\n",
       "      <td>Africa</td>\n",
       "      <td>1997</td>\n",
       "      <td>46.809</td>\n",
       "      <td>11404948</td>\n",
       "      <td>792.449960</td>\n",
       "      <td>ZWE</td>\n",
       "      <td>716</td>\n",
       "    </tr>\n",
       "    <tr>\n",
       "      <th>1702</th>\n",
       "      <td>Zimbabwe</td>\n",
       "      <td>Africa</td>\n",
       "      <td>2002</td>\n",
       "      <td>39.989</td>\n",
       "      <td>11926563</td>\n",
       "      <td>672.038623</td>\n",
       "      <td>ZWE</td>\n",
       "      <td>716</td>\n",
       "    </tr>\n",
       "    <tr>\n",
       "      <th>1703</th>\n",
       "      <td>Zimbabwe</td>\n",
       "      <td>Africa</td>\n",
       "      <td>2007</td>\n",
       "      <td>43.487</td>\n",
       "      <td>12311143</td>\n",
       "      <td>469.709298</td>\n",
       "      <td>ZWE</td>\n",
       "      <td>716</td>\n",
       "    </tr>\n",
       "  </tbody>\n",
       "</table>\n",
       "<p>1704 rows × 8 columns</p>\n",
       "</div>"
      ],
      "text/plain": [
       "          country continent  year  lifeExp       pop   gdpPercap iso_alpha  \\\n",
       "0     Afghanistan      Asia  1952   28.801   8425333  779.445314       AFG   \n",
       "1     Afghanistan      Asia  1957   30.332   9240934  820.853030       AFG   \n",
       "2     Afghanistan      Asia  1962   31.997  10267083  853.100710       AFG   \n",
       "3     Afghanistan      Asia  1967   34.020  11537966  836.197138       AFG   \n",
       "4     Afghanistan      Asia  1972   36.088  13079460  739.981106       AFG   \n",
       "...           ...       ...   ...      ...       ...         ...       ...   \n",
       "1699     Zimbabwe    Africa  1987   62.351   9216418  706.157306       ZWE   \n",
       "1700     Zimbabwe    Africa  1992   60.377  10704340  693.420786       ZWE   \n",
       "1701     Zimbabwe    Africa  1997   46.809  11404948  792.449960       ZWE   \n",
       "1702     Zimbabwe    Africa  2002   39.989  11926563  672.038623       ZWE   \n",
       "1703     Zimbabwe    Africa  2007   43.487  12311143  469.709298       ZWE   \n",
       "\n",
       "      iso_num  \n",
       "0           4  \n",
       "1           4  \n",
       "2           4  \n",
       "3           4  \n",
       "4           4  \n",
       "...       ...  \n",
       "1699      716  \n",
       "1700      716  \n",
       "1701      716  \n",
       "1702      716  \n",
       "1703      716  \n",
       "\n",
       "[1704 rows x 8 columns]"
      ]
     },
     "execution_count": 73,
     "metadata": {},
     "output_type": "execute_result"
    }
   ],
   "source": [
    "df = px.data.gapminder()\n",
    "df"
   ]
  },
  {
   "cell_type": "code",
   "execution_count": 74,
   "metadata": {},
   "outputs": [
    {
     "data": {
      "text/plain": [
       "array(['Afghanistan', 'Albania', 'Algeria', 'Angola', 'Argentina',\n",
       "       'Australia', 'Austria', 'Bahrain', 'Bangladesh', 'Belgium',\n",
       "       'Benin', 'Bolivia', 'Bosnia and Herzegovina', 'Botswana', 'Brazil',\n",
       "       'Bulgaria', 'Burkina Faso', 'Burundi', 'Cambodia', 'Cameroon',\n",
       "       'Canada', 'Central African Republic', 'Chad', 'Chile', 'China',\n",
       "       'Colombia', 'Comoros', 'Congo, Dem. Rep.', 'Congo, Rep.',\n",
       "       'Costa Rica', \"Cote d'Ivoire\", 'Croatia', 'Cuba', 'Czech Republic',\n",
       "       'Denmark', 'Djibouti', 'Dominican Republic', 'Ecuador', 'Egypt',\n",
       "       'El Salvador', 'Equatorial Guinea', 'Eritrea', 'Ethiopia',\n",
       "       'Finland', 'France', 'Gabon', 'Gambia', 'Germany', 'Ghana',\n",
       "       'Greece', 'Guatemala', 'Guinea', 'Guinea-Bissau', 'Haiti',\n",
       "       'Honduras', 'Hong Kong, China', 'Hungary', 'Iceland', 'India',\n",
       "       'Indonesia', 'Iran', 'Iraq', 'Ireland', 'Israel', 'Italy',\n",
       "       'Jamaica', 'Japan', 'Jordan', 'Kenya', 'Korea, Dem. Rep.',\n",
       "       'Korea, Rep.', 'Kuwait', 'Lebanon', 'Lesotho', 'Liberia', 'Libya',\n",
       "       'Madagascar', 'Malawi', 'Malaysia', 'Mali', 'Mauritania',\n",
       "       'Mauritius', 'Mexico', 'Mongolia', 'Montenegro', 'Morocco',\n",
       "       'Mozambique', 'Myanmar', 'Namibia', 'Nepal', 'Netherlands',\n",
       "       'New Zealand', 'Nicaragua', 'Niger', 'Nigeria', 'Norway', 'Oman',\n",
       "       'Pakistan', 'Panama', 'Paraguay', 'Peru', 'Philippines', 'Poland',\n",
       "       'Portugal', 'Puerto Rico', 'Reunion', 'Romania', 'Rwanda',\n",
       "       'Sao Tome and Principe', 'Saudi Arabia', 'Senegal', 'Serbia',\n",
       "       'Sierra Leone', 'Singapore', 'Slovak Republic', 'Slovenia',\n",
       "       'Somalia', 'South Africa', 'Spain', 'Sri Lanka', 'Sudan',\n",
       "       'Swaziland', 'Sweden', 'Switzerland', 'Syria', 'Taiwan',\n",
       "       'Tanzania', 'Thailand', 'Togo', 'Trinidad and Tobago', 'Tunisia',\n",
       "       'Turkey', 'Uganda', 'United Kingdom', 'United States', 'Uruguay',\n",
       "       'Venezuela', 'Vietnam', 'West Bank and Gaza', 'Yemen, Rep.',\n",
       "       'Zambia', 'Zimbabwe'], dtype=object)"
      ]
     },
     "execution_count": 74,
     "metadata": {},
     "output_type": "execute_result"
    }
   ],
   "source": [
    "df.country.unique()"
   ]
  },
  {
   "cell_type": "code",
   "execution_count": 78,
   "metadata": {},
   "outputs": [],
   "source": [
    "dfc = df[df.country == 'India']"
   ]
  },
  {
   "cell_type": "code",
   "execution_count": 79,
   "metadata": {},
   "outputs": [
    {
     "data": {
      "application/vnd.plotly.v1+json": {
       "config": {
        "plotlyServerURL": "https://plot.ly"
       },
       "data": [
        {
         "alignmentgroup": "True",
         "hovertemplate": "year=%{x}<br>lifeExp=%{y}<extra></extra>",
         "legendgroup": "",
         "marker": {
          "color": "#636efa",
          "pattern": {
           "shape": ""
          }
         },
         "name": "",
         "offsetgroup": "",
         "orientation": "v",
         "showlegend": false,
         "textposition": "auto",
         "type": "bar",
         "x": [
          1952,
          1957,
          1962,
          1967,
          1972,
          1977,
          1982,
          1987,
          1992,
          1997,
          2002,
          2007
         ],
         "xaxis": "x",
         "y": [
          37.37300000000001,
          40.249,
          43.605,
          47.19300000000001,
          50.651,
          54.208,
          56.596,
          58.553,
          60.223,
          61.765,
          62.879,
          64.69800000000001
         ],
         "yaxis": "y"
        }
       ],
       "layout": {
        "barmode": "relative",
        "legend": {
         "tracegroupgap": 0
        },
        "margin": {
         "t": 60
        },
        "template": {
         "data": {
          "bar": [
           {
            "error_x": {
             "color": "#2a3f5f"
            },
            "error_y": {
             "color": "#2a3f5f"
            },
            "marker": {
             "line": {
              "color": "#E5ECF6",
              "width": 0.5
             },
             "pattern": {
              "fillmode": "overlay",
              "size": 10,
              "solidity": 0.2
             }
            },
            "type": "bar"
           }
          ],
          "barpolar": [
           {
            "marker": {
             "line": {
              "color": "#E5ECF6",
              "width": 0.5
             },
             "pattern": {
              "fillmode": "overlay",
              "size": 10,
              "solidity": 0.2
             }
            },
            "type": "barpolar"
           }
          ],
          "carpet": [
           {
            "aaxis": {
             "endlinecolor": "#2a3f5f",
             "gridcolor": "white",
             "linecolor": "white",
             "minorgridcolor": "white",
             "startlinecolor": "#2a3f5f"
            },
            "baxis": {
             "endlinecolor": "#2a3f5f",
             "gridcolor": "white",
             "linecolor": "white",
             "minorgridcolor": "white",
             "startlinecolor": "#2a3f5f"
            },
            "type": "carpet"
           }
          ],
          "choropleth": [
           {
            "colorbar": {
             "outlinewidth": 0,
             "ticks": ""
            },
            "type": "choropleth"
           }
          ],
          "contour": [
           {
            "colorbar": {
             "outlinewidth": 0,
             "ticks": ""
            },
            "colorscale": [
             [
              0,
              "#0d0887"
             ],
             [
              0.1111111111111111,
              "#46039f"
             ],
             [
              0.2222222222222222,
              "#7201a8"
             ],
             [
              0.3333333333333333,
              "#9c179e"
             ],
             [
              0.4444444444444444,
              "#bd3786"
             ],
             [
              0.5555555555555556,
              "#d8576b"
             ],
             [
              0.6666666666666666,
              "#ed7953"
             ],
             [
              0.7777777777777778,
              "#fb9f3a"
             ],
             [
              0.8888888888888888,
              "#fdca26"
             ],
             [
              1,
              "#f0f921"
             ]
            ],
            "type": "contour"
           }
          ],
          "contourcarpet": [
           {
            "colorbar": {
             "outlinewidth": 0,
             "ticks": ""
            },
            "type": "contourcarpet"
           }
          ],
          "heatmap": [
           {
            "colorbar": {
             "outlinewidth": 0,
             "ticks": ""
            },
            "colorscale": [
             [
              0,
              "#0d0887"
             ],
             [
              0.1111111111111111,
              "#46039f"
             ],
             [
              0.2222222222222222,
              "#7201a8"
             ],
             [
              0.3333333333333333,
              "#9c179e"
             ],
             [
              0.4444444444444444,
              "#bd3786"
             ],
             [
              0.5555555555555556,
              "#d8576b"
             ],
             [
              0.6666666666666666,
              "#ed7953"
             ],
             [
              0.7777777777777778,
              "#fb9f3a"
             ],
             [
              0.8888888888888888,
              "#fdca26"
             ],
             [
              1,
              "#f0f921"
             ]
            ],
            "type": "heatmap"
           }
          ],
          "heatmapgl": [
           {
            "colorbar": {
             "outlinewidth": 0,
             "ticks": ""
            },
            "colorscale": [
             [
              0,
              "#0d0887"
             ],
             [
              0.1111111111111111,
              "#46039f"
             ],
             [
              0.2222222222222222,
              "#7201a8"
             ],
             [
              0.3333333333333333,
              "#9c179e"
             ],
             [
              0.4444444444444444,
              "#bd3786"
             ],
             [
              0.5555555555555556,
              "#d8576b"
             ],
             [
              0.6666666666666666,
              "#ed7953"
             ],
             [
              0.7777777777777778,
              "#fb9f3a"
             ],
             [
              0.8888888888888888,
              "#fdca26"
             ],
             [
              1,
              "#f0f921"
             ]
            ],
            "type": "heatmapgl"
           }
          ],
          "histogram": [
           {
            "marker": {
             "pattern": {
              "fillmode": "overlay",
              "size": 10,
              "solidity": 0.2
             }
            },
            "type": "histogram"
           }
          ],
          "histogram2d": [
           {
            "colorbar": {
             "outlinewidth": 0,
             "ticks": ""
            },
            "colorscale": [
             [
              0,
              "#0d0887"
             ],
             [
              0.1111111111111111,
              "#46039f"
             ],
             [
              0.2222222222222222,
              "#7201a8"
             ],
             [
              0.3333333333333333,
              "#9c179e"
             ],
             [
              0.4444444444444444,
              "#bd3786"
             ],
             [
              0.5555555555555556,
              "#d8576b"
             ],
             [
              0.6666666666666666,
              "#ed7953"
             ],
             [
              0.7777777777777778,
              "#fb9f3a"
             ],
             [
              0.8888888888888888,
              "#fdca26"
             ],
             [
              1,
              "#f0f921"
             ]
            ],
            "type": "histogram2d"
           }
          ],
          "histogram2dcontour": [
           {
            "colorbar": {
             "outlinewidth": 0,
             "ticks": ""
            },
            "colorscale": [
             [
              0,
              "#0d0887"
             ],
             [
              0.1111111111111111,
              "#46039f"
             ],
             [
              0.2222222222222222,
              "#7201a8"
             ],
             [
              0.3333333333333333,
              "#9c179e"
             ],
             [
              0.4444444444444444,
              "#bd3786"
             ],
             [
              0.5555555555555556,
              "#d8576b"
             ],
             [
              0.6666666666666666,
              "#ed7953"
             ],
             [
              0.7777777777777778,
              "#fb9f3a"
             ],
             [
              0.8888888888888888,
              "#fdca26"
             ],
             [
              1,
              "#f0f921"
             ]
            ],
            "type": "histogram2dcontour"
           }
          ],
          "mesh3d": [
           {
            "colorbar": {
             "outlinewidth": 0,
             "ticks": ""
            },
            "type": "mesh3d"
           }
          ],
          "parcoords": [
           {
            "line": {
             "colorbar": {
              "outlinewidth": 0,
              "ticks": ""
             }
            },
            "type": "parcoords"
           }
          ],
          "pie": [
           {
            "automargin": true,
            "type": "pie"
           }
          ],
          "scatter": [
           {
            "fillpattern": {
             "fillmode": "overlay",
             "size": 10,
             "solidity": 0.2
            },
            "type": "scatter"
           }
          ],
          "scatter3d": [
           {
            "line": {
             "colorbar": {
              "outlinewidth": 0,
              "ticks": ""
             }
            },
            "marker": {
             "colorbar": {
              "outlinewidth": 0,
              "ticks": ""
             }
            },
            "type": "scatter3d"
           }
          ],
          "scattercarpet": [
           {
            "marker": {
             "colorbar": {
              "outlinewidth": 0,
              "ticks": ""
             }
            },
            "type": "scattercarpet"
           }
          ],
          "scattergeo": [
           {
            "marker": {
             "colorbar": {
              "outlinewidth": 0,
              "ticks": ""
             }
            },
            "type": "scattergeo"
           }
          ],
          "scattergl": [
           {
            "marker": {
             "colorbar": {
              "outlinewidth": 0,
              "ticks": ""
             }
            },
            "type": "scattergl"
           }
          ],
          "scattermapbox": [
           {
            "marker": {
             "colorbar": {
              "outlinewidth": 0,
              "ticks": ""
             }
            },
            "type": "scattermapbox"
           }
          ],
          "scatterpolar": [
           {
            "marker": {
             "colorbar": {
              "outlinewidth": 0,
              "ticks": ""
             }
            },
            "type": "scatterpolar"
           }
          ],
          "scatterpolargl": [
           {
            "marker": {
             "colorbar": {
              "outlinewidth": 0,
              "ticks": ""
             }
            },
            "type": "scatterpolargl"
           }
          ],
          "scatterternary": [
           {
            "marker": {
             "colorbar": {
              "outlinewidth": 0,
              "ticks": ""
             }
            },
            "type": "scatterternary"
           }
          ],
          "surface": [
           {
            "colorbar": {
             "outlinewidth": 0,
             "ticks": ""
            },
            "colorscale": [
             [
              0,
              "#0d0887"
             ],
             [
              0.1111111111111111,
              "#46039f"
             ],
             [
              0.2222222222222222,
              "#7201a8"
             ],
             [
              0.3333333333333333,
              "#9c179e"
             ],
             [
              0.4444444444444444,
              "#bd3786"
             ],
             [
              0.5555555555555556,
              "#d8576b"
             ],
             [
              0.6666666666666666,
              "#ed7953"
             ],
             [
              0.7777777777777778,
              "#fb9f3a"
             ],
             [
              0.8888888888888888,
              "#fdca26"
             ],
             [
              1,
              "#f0f921"
             ]
            ],
            "type": "surface"
           }
          ],
          "table": [
           {
            "cells": {
             "fill": {
              "color": "#EBF0F8"
             },
             "line": {
              "color": "white"
             }
            },
            "header": {
             "fill": {
              "color": "#C8D4E3"
             },
             "line": {
              "color": "white"
             }
            },
            "type": "table"
           }
          ]
         },
         "layout": {
          "annotationdefaults": {
           "arrowcolor": "#2a3f5f",
           "arrowhead": 0,
           "arrowwidth": 1
          },
          "autotypenumbers": "strict",
          "coloraxis": {
           "colorbar": {
            "outlinewidth": 0,
            "ticks": ""
           }
          },
          "colorscale": {
           "diverging": [
            [
             0,
             "#8e0152"
            ],
            [
             0.1,
             "#c51b7d"
            ],
            [
             0.2,
             "#de77ae"
            ],
            [
             0.3,
             "#f1b6da"
            ],
            [
             0.4,
             "#fde0ef"
            ],
            [
             0.5,
             "#f7f7f7"
            ],
            [
             0.6,
             "#e6f5d0"
            ],
            [
             0.7,
             "#b8e186"
            ],
            [
             0.8,
             "#7fbc41"
            ],
            [
             0.9,
             "#4d9221"
            ],
            [
             1,
             "#276419"
            ]
           ],
           "sequential": [
            [
             0,
             "#0d0887"
            ],
            [
             0.1111111111111111,
             "#46039f"
            ],
            [
             0.2222222222222222,
             "#7201a8"
            ],
            [
             0.3333333333333333,
             "#9c179e"
            ],
            [
             0.4444444444444444,
             "#bd3786"
            ],
            [
             0.5555555555555556,
             "#d8576b"
            ],
            [
             0.6666666666666666,
             "#ed7953"
            ],
            [
             0.7777777777777778,
             "#fb9f3a"
            ],
            [
             0.8888888888888888,
             "#fdca26"
            ],
            [
             1,
             "#f0f921"
            ]
           ],
           "sequentialminus": [
            [
             0,
             "#0d0887"
            ],
            [
             0.1111111111111111,
             "#46039f"
            ],
            [
             0.2222222222222222,
             "#7201a8"
            ],
            [
             0.3333333333333333,
             "#9c179e"
            ],
            [
             0.4444444444444444,
             "#bd3786"
            ],
            [
             0.5555555555555556,
             "#d8576b"
            ],
            [
             0.6666666666666666,
             "#ed7953"
            ],
            [
             0.7777777777777778,
             "#fb9f3a"
            ],
            [
             0.8888888888888888,
             "#fdca26"
            ],
            [
             1,
             "#f0f921"
            ]
           ]
          },
          "colorway": [
           "#636efa",
           "#EF553B",
           "#00cc96",
           "#ab63fa",
           "#FFA15A",
           "#19d3f3",
           "#FF6692",
           "#B6E880",
           "#FF97FF",
           "#FECB52"
          ],
          "font": {
           "color": "#2a3f5f"
          },
          "geo": {
           "bgcolor": "white",
           "lakecolor": "white",
           "landcolor": "#E5ECF6",
           "showlakes": true,
           "showland": true,
           "subunitcolor": "white"
          },
          "hoverlabel": {
           "align": "left"
          },
          "hovermode": "closest",
          "mapbox": {
           "style": "light"
          },
          "paper_bgcolor": "white",
          "plot_bgcolor": "#E5ECF6",
          "polar": {
           "angularaxis": {
            "gridcolor": "white",
            "linecolor": "white",
            "ticks": ""
           },
           "bgcolor": "#E5ECF6",
           "radialaxis": {
            "gridcolor": "white",
            "linecolor": "white",
            "ticks": ""
           }
          },
          "scene": {
           "xaxis": {
            "backgroundcolor": "#E5ECF6",
            "gridcolor": "white",
            "gridwidth": 2,
            "linecolor": "white",
            "showbackground": true,
            "ticks": "",
            "zerolinecolor": "white"
           },
           "yaxis": {
            "backgroundcolor": "#E5ECF6",
            "gridcolor": "white",
            "gridwidth": 2,
            "linecolor": "white",
            "showbackground": true,
            "ticks": "",
            "zerolinecolor": "white"
           },
           "zaxis": {
            "backgroundcolor": "#E5ECF6",
            "gridcolor": "white",
            "gridwidth": 2,
            "linecolor": "white",
            "showbackground": true,
            "ticks": "",
            "zerolinecolor": "white"
           }
          },
          "shapedefaults": {
           "line": {
            "color": "#2a3f5f"
           }
          },
          "ternary": {
           "aaxis": {
            "gridcolor": "white",
            "linecolor": "white",
            "ticks": ""
           },
           "baxis": {
            "gridcolor": "white",
            "linecolor": "white",
            "ticks": ""
           },
           "bgcolor": "#E5ECF6",
           "caxis": {
            "gridcolor": "white",
            "linecolor": "white",
            "ticks": ""
           }
          },
          "title": {
           "x": 0.05
          },
          "xaxis": {
           "automargin": true,
           "gridcolor": "white",
           "linecolor": "white",
           "ticks": "",
           "title": {
            "standoff": 15
           },
           "zerolinecolor": "white",
           "zerolinewidth": 2
          },
          "yaxis": {
           "automargin": true,
           "gridcolor": "white",
           "linecolor": "white",
           "ticks": "",
           "title": {
            "standoff": 15
           },
           "zerolinecolor": "white",
           "zerolinewidth": 2
          }
         }
        },
        "xaxis": {
         "anchor": "y",
         "domain": [
          0,
          1
         ],
         "title": {
          "text": "year"
         }
        },
        "yaxis": {
         "anchor": "x",
         "domain": [
          0,
          1
         ],
         "title": {
          "text": "lifeExp"
         }
        }
       }
      }
     },
     "metadata": {},
     "output_type": "display_data"
    }
   ],
   "source": [
    "px.bar(dfc, 'year', 'lifeExp')"
   ]
  },
  {
   "cell_type": "code",
   "execution_count": 80,
   "metadata": {},
   "outputs": [
    {
     "data": {
      "application/vnd.plotly.v1+json": {
       "config": {
        "plotlyServerURL": "https://plot.ly"
       },
       "data": [
        {
         "hovertemplate": "year=%{x}<br>lifeExp=%{y}<extra></extra>",
         "legendgroup": "",
         "marker": {
          "color": "#636efa"
         },
         "name": "",
         "orientation": "v",
         "showlegend": false,
         "type": "funnel",
         "x": [
          1952,
          1957,
          1962,
          1967,
          1972,
          1977,
          1982,
          1987,
          1992,
          1997,
          2002,
          2007
         ],
         "xaxis": "x",
         "y": [
          37.37300000000001,
          40.249,
          43.605,
          47.19300000000001,
          50.651,
          54.208,
          56.596,
          58.553,
          60.223,
          61.765,
          62.879,
          64.69800000000001
         ],
         "yaxis": "y"
        }
       ],
       "layout": {
        "legend": {
         "tracegroupgap": 0
        },
        "template": {
         "data": {
          "bar": [
           {
            "error_x": {
             "color": "#2a3f5f"
            },
            "error_y": {
             "color": "#2a3f5f"
            },
            "marker": {
             "line": {
              "color": "#E5ECF6",
              "width": 0.5
             },
             "pattern": {
              "fillmode": "overlay",
              "size": 10,
              "solidity": 0.2
             }
            },
            "type": "bar"
           }
          ],
          "barpolar": [
           {
            "marker": {
             "line": {
              "color": "#E5ECF6",
              "width": 0.5
             },
             "pattern": {
              "fillmode": "overlay",
              "size": 10,
              "solidity": 0.2
             }
            },
            "type": "barpolar"
           }
          ],
          "carpet": [
           {
            "aaxis": {
             "endlinecolor": "#2a3f5f",
             "gridcolor": "white",
             "linecolor": "white",
             "minorgridcolor": "white",
             "startlinecolor": "#2a3f5f"
            },
            "baxis": {
             "endlinecolor": "#2a3f5f",
             "gridcolor": "white",
             "linecolor": "white",
             "minorgridcolor": "white",
             "startlinecolor": "#2a3f5f"
            },
            "type": "carpet"
           }
          ],
          "choropleth": [
           {
            "colorbar": {
             "outlinewidth": 0,
             "ticks": ""
            },
            "type": "choropleth"
           }
          ],
          "contour": [
           {
            "colorbar": {
             "outlinewidth": 0,
             "ticks": ""
            },
            "colorscale": [
             [
              0,
              "#0d0887"
             ],
             [
              0.1111111111111111,
              "#46039f"
             ],
             [
              0.2222222222222222,
              "#7201a8"
             ],
             [
              0.3333333333333333,
              "#9c179e"
             ],
             [
              0.4444444444444444,
              "#bd3786"
             ],
             [
              0.5555555555555556,
              "#d8576b"
             ],
             [
              0.6666666666666666,
              "#ed7953"
             ],
             [
              0.7777777777777778,
              "#fb9f3a"
             ],
             [
              0.8888888888888888,
              "#fdca26"
             ],
             [
              1,
              "#f0f921"
             ]
            ],
            "type": "contour"
           }
          ],
          "contourcarpet": [
           {
            "colorbar": {
             "outlinewidth": 0,
             "ticks": ""
            },
            "type": "contourcarpet"
           }
          ],
          "heatmap": [
           {
            "colorbar": {
             "outlinewidth": 0,
             "ticks": ""
            },
            "colorscale": [
             [
              0,
              "#0d0887"
             ],
             [
              0.1111111111111111,
              "#46039f"
             ],
             [
              0.2222222222222222,
              "#7201a8"
             ],
             [
              0.3333333333333333,
              "#9c179e"
             ],
             [
              0.4444444444444444,
              "#bd3786"
             ],
             [
              0.5555555555555556,
              "#d8576b"
             ],
             [
              0.6666666666666666,
              "#ed7953"
             ],
             [
              0.7777777777777778,
              "#fb9f3a"
             ],
             [
              0.8888888888888888,
              "#fdca26"
             ],
             [
              1,
              "#f0f921"
             ]
            ],
            "type": "heatmap"
           }
          ],
          "heatmapgl": [
           {
            "colorbar": {
             "outlinewidth": 0,
             "ticks": ""
            },
            "colorscale": [
             [
              0,
              "#0d0887"
             ],
             [
              0.1111111111111111,
              "#46039f"
             ],
             [
              0.2222222222222222,
              "#7201a8"
             ],
             [
              0.3333333333333333,
              "#9c179e"
             ],
             [
              0.4444444444444444,
              "#bd3786"
             ],
             [
              0.5555555555555556,
              "#d8576b"
             ],
             [
              0.6666666666666666,
              "#ed7953"
             ],
             [
              0.7777777777777778,
              "#fb9f3a"
             ],
             [
              0.8888888888888888,
              "#fdca26"
             ],
             [
              1,
              "#f0f921"
             ]
            ],
            "type": "heatmapgl"
           }
          ],
          "histogram": [
           {
            "marker": {
             "pattern": {
              "fillmode": "overlay",
              "size": 10,
              "solidity": 0.2
             }
            },
            "type": "histogram"
           }
          ],
          "histogram2d": [
           {
            "colorbar": {
             "outlinewidth": 0,
             "ticks": ""
            },
            "colorscale": [
             [
              0,
              "#0d0887"
             ],
             [
              0.1111111111111111,
              "#46039f"
             ],
             [
              0.2222222222222222,
              "#7201a8"
             ],
             [
              0.3333333333333333,
              "#9c179e"
             ],
             [
              0.4444444444444444,
              "#bd3786"
             ],
             [
              0.5555555555555556,
              "#d8576b"
             ],
             [
              0.6666666666666666,
              "#ed7953"
             ],
             [
              0.7777777777777778,
              "#fb9f3a"
             ],
             [
              0.8888888888888888,
              "#fdca26"
             ],
             [
              1,
              "#f0f921"
             ]
            ],
            "type": "histogram2d"
           }
          ],
          "histogram2dcontour": [
           {
            "colorbar": {
             "outlinewidth": 0,
             "ticks": ""
            },
            "colorscale": [
             [
              0,
              "#0d0887"
             ],
             [
              0.1111111111111111,
              "#46039f"
             ],
             [
              0.2222222222222222,
              "#7201a8"
             ],
             [
              0.3333333333333333,
              "#9c179e"
             ],
             [
              0.4444444444444444,
              "#bd3786"
             ],
             [
              0.5555555555555556,
              "#d8576b"
             ],
             [
              0.6666666666666666,
              "#ed7953"
             ],
             [
              0.7777777777777778,
              "#fb9f3a"
             ],
             [
              0.8888888888888888,
              "#fdca26"
             ],
             [
              1,
              "#f0f921"
             ]
            ],
            "type": "histogram2dcontour"
           }
          ],
          "mesh3d": [
           {
            "colorbar": {
             "outlinewidth": 0,
             "ticks": ""
            },
            "type": "mesh3d"
           }
          ],
          "parcoords": [
           {
            "line": {
             "colorbar": {
              "outlinewidth": 0,
              "ticks": ""
             }
            },
            "type": "parcoords"
           }
          ],
          "pie": [
           {
            "automargin": true,
            "type": "pie"
           }
          ],
          "scatter": [
           {
            "fillpattern": {
             "fillmode": "overlay",
             "size": 10,
             "solidity": 0.2
            },
            "type": "scatter"
           }
          ],
          "scatter3d": [
           {
            "line": {
             "colorbar": {
              "outlinewidth": 0,
              "ticks": ""
             }
            },
            "marker": {
             "colorbar": {
              "outlinewidth": 0,
              "ticks": ""
             }
            },
            "type": "scatter3d"
           }
          ],
          "scattercarpet": [
           {
            "marker": {
             "colorbar": {
              "outlinewidth": 0,
              "ticks": ""
             }
            },
            "type": "scattercarpet"
           }
          ],
          "scattergeo": [
           {
            "marker": {
             "colorbar": {
              "outlinewidth": 0,
              "ticks": ""
             }
            },
            "type": "scattergeo"
           }
          ],
          "scattergl": [
           {
            "marker": {
             "colorbar": {
              "outlinewidth": 0,
              "ticks": ""
             }
            },
            "type": "scattergl"
           }
          ],
          "scattermapbox": [
           {
            "marker": {
             "colorbar": {
              "outlinewidth": 0,
              "ticks": ""
             }
            },
            "type": "scattermapbox"
           }
          ],
          "scatterpolar": [
           {
            "marker": {
             "colorbar": {
              "outlinewidth": 0,
              "ticks": ""
             }
            },
            "type": "scatterpolar"
           }
          ],
          "scatterpolargl": [
           {
            "marker": {
             "colorbar": {
              "outlinewidth": 0,
              "ticks": ""
             }
            },
            "type": "scatterpolargl"
           }
          ],
          "scatterternary": [
           {
            "marker": {
             "colorbar": {
              "outlinewidth": 0,
              "ticks": ""
             }
            },
            "type": "scatterternary"
           }
          ],
          "surface": [
           {
            "colorbar": {
             "outlinewidth": 0,
             "ticks": ""
            },
            "colorscale": [
             [
              0,
              "#0d0887"
             ],
             [
              0.1111111111111111,
              "#46039f"
             ],
             [
              0.2222222222222222,
              "#7201a8"
             ],
             [
              0.3333333333333333,
              "#9c179e"
             ],
             [
              0.4444444444444444,
              "#bd3786"
             ],
             [
              0.5555555555555556,
              "#d8576b"
             ],
             [
              0.6666666666666666,
              "#ed7953"
             ],
             [
              0.7777777777777778,
              "#fb9f3a"
             ],
             [
              0.8888888888888888,
              "#fdca26"
             ],
             [
              1,
              "#f0f921"
             ]
            ],
            "type": "surface"
           }
          ],
          "table": [
           {
            "cells": {
             "fill": {
              "color": "#EBF0F8"
             },
             "line": {
              "color": "white"
             }
            },
            "header": {
             "fill": {
              "color": "#C8D4E3"
             },
             "line": {
              "color": "white"
             }
            },
            "type": "table"
           }
          ]
         },
         "layout": {
          "annotationdefaults": {
           "arrowcolor": "#2a3f5f",
           "arrowhead": 0,
           "arrowwidth": 1
          },
          "autotypenumbers": "strict",
          "coloraxis": {
           "colorbar": {
            "outlinewidth": 0,
            "ticks": ""
           }
          },
          "colorscale": {
           "diverging": [
            [
             0,
             "#8e0152"
            ],
            [
             0.1,
             "#c51b7d"
            ],
            [
             0.2,
             "#de77ae"
            ],
            [
             0.3,
             "#f1b6da"
            ],
            [
             0.4,
             "#fde0ef"
            ],
            [
             0.5,
             "#f7f7f7"
            ],
            [
             0.6,
             "#e6f5d0"
            ],
            [
             0.7,
             "#b8e186"
            ],
            [
             0.8,
             "#7fbc41"
            ],
            [
             0.9,
             "#4d9221"
            ],
            [
             1,
             "#276419"
            ]
           ],
           "sequential": [
            [
             0,
             "#0d0887"
            ],
            [
             0.1111111111111111,
             "#46039f"
            ],
            [
             0.2222222222222222,
             "#7201a8"
            ],
            [
             0.3333333333333333,
             "#9c179e"
            ],
            [
             0.4444444444444444,
             "#bd3786"
            ],
            [
             0.5555555555555556,
             "#d8576b"
            ],
            [
             0.6666666666666666,
             "#ed7953"
            ],
            [
             0.7777777777777778,
             "#fb9f3a"
            ],
            [
             0.8888888888888888,
             "#fdca26"
            ],
            [
             1,
             "#f0f921"
            ]
           ],
           "sequentialminus": [
            [
             0,
             "#0d0887"
            ],
            [
             0.1111111111111111,
             "#46039f"
            ],
            [
             0.2222222222222222,
             "#7201a8"
            ],
            [
             0.3333333333333333,
             "#9c179e"
            ],
            [
             0.4444444444444444,
             "#bd3786"
            ],
            [
             0.5555555555555556,
             "#d8576b"
            ],
            [
             0.6666666666666666,
             "#ed7953"
            ],
            [
             0.7777777777777778,
             "#fb9f3a"
            ],
            [
             0.8888888888888888,
             "#fdca26"
            ],
            [
             1,
             "#f0f921"
            ]
           ]
          },
          "colorway": [
           "#636efa",
           "#EF553B",
           "#00cc96",
           "#ab63fa",
           "#FFA15A",
           "#19d3f3",
           "#FF6692",
           "#B6E880",
           "#FF97FF",
           "#FECB52"
          ],
          "font": {
           "color": "#2a3f5f"
          },
          "geo": {
           "bgcolor": "white",
           "lakecolor": "white",
           "landcolor": "#E5ECF6",
           "showlakes": true,
           "showland": true,
           "subunitcolor": "white"
          },
          "hoverlabel": {
           "align": "left"
          },
          "hovermode": "closest",
          "mapbox": {
           "style": "light"
          },
          "paper_bgcolor": "white",
          "plot_bgcolor": "#E5ECF6",
          "polar": {
           "angularaxis": {
            "gridcolor": "white",
            "linecolor": "white",
            "ticks": ""
           },
           "bgcolor": "#E5ECF6",
           "radialaxis": {
            "gridcolor": "white",
            "linecolor": "white",
            "ticks": ""
           }
          },
          "scene": {
           "xaxis": {
            "backgroundcolor": "#E5ECF6",
            "gridcolor": "white",
            "gridwidth": 2,
            "linecolor": "white",
            "showbackground": true,
            "ticks": "",
            "zerolinecolor": "white"
           },
           "yaxis": {
            "backgroundcolor": "#E5ECF6",
            "gridcolor": "white",
            "gridwidth": 2,
            "linecolor": "white",
            "showbackground": true,
            "ticks": "",
            "zerolinecolor": "white"
           },
           "zaxis": {
            "backgroundcolor": "#E5ECF6",
            "gridcolor": "white",
            "gridwidth": 2,
            "linecolor": "white",
            "showbackground": true,
            "ticks": "",
            "zerolinecolor": "white"
           }
          },
          "shapedefaults": {
           "line": {
            "color": "#2a3f5f"
           }
          },
          "ternary": {
           "aaxis": {
            "gridcolor": "white",
            "linecolor": "white",
            "ticks": ""
           },
           "baxis": {
            "gridcolor": "white",
            "linecolor": "white",
            "ticks": ""
           },
           "bgcolor": "#E5ECF6",
           "caxis": {
            "gridcolor": "white",
            "linecolor": "white",
            "ticks": ""
           }
          },
          "title": {
           "x": 0.05
          },
          "xaxis": {
           "automargin": true,
           "gridcolor": "white",
           "linecolor": "white",
           "ticks": "",
           "title": {
            "standoff": 15
           },
           "zerolinecolor": "white",
           "zerolinewidth": 2
          },
          "yaxis": {
           "automargin": true,
           "gridcolor": "white",
           "linecolor": "white",
           "ticks": "",
           "title": {
            "standoff": 15
           },
           "zerolinecolor": "white",
           "zerolinewidth": 2
          }
         }
        },
        "title": {
         "text": "India life expectancy"
        },
        "xaxis": {
         "anchor": "y",
         "domain": [
          0,
          1
         ],
         "title": {
          "text": "year"
         }
        },
        "yaxis": {
         "anchor": "x",
         "domain": [
          0,
          1
         ],
         "title": {
          "text": "lifeExp"
         }
        }
       }
      }
     },
     "metadata": {},
     "output_type": "display_data"
    }
   ],
   "source": [
    "px.funnel(dfc,'year','lifeExp', title= 'India life expectancy')"
   ]
  },
  {
   "cell_type": "code",
   "execution_count": 84,
   "metadata": {},
   "outputs": [
    {
     "data": {
      "application/vnd.plotly.v1+json": {
       "config": {
        "plotlyServerURL": "https://plot.ly"
       },
       "data": [
        {
         "customdata": [
          [
           "Afghanistan"
          ],
          [
           "Afghanistan"
          ],
          [
           "Afghanistan"
          ],
          [
           "Afghanistan"
          ],
          [
           "Afghanistan"
          ],
          [
           "Afghanistan"
          ],
          [
           "Afghanistan"
          ],
          [
           "Afghanistan"
          ],
          [
           "Afghanistan"
          ],
          [
           "Afghanistan"
          ],
          [
           "Afghanistan"
          ],
          [
           "Afghanistan"
          ],
          [
           "Bahrain"
          ],
          [
           "Bahrain"
          ],
          [
           "Bahrain"
          ],
          [
           "Bahrain"
          ],
          [
           "Bahrain"
          ],
          [
           "Bahrain"
          ],
          [
           "Bahrain"
          ],
          [
           "Bahrain"
          ],
          [
           "Bahrain"
          ],
          [
           "Bahrain"
          ],
          [
           "Bahrain"
          ],
          [
           "Bahrain"
          ],
          [
           "Bangladesh"
          ],
          [
           "Bangladesh"
          ],
          [
           "Bangladesh"
          ],
          [
           "Bangladesh"
          ],
          [
           "Bangladesh"
          ],
          [
           "Bangladesh"
          ],
          [
           "Bangladesh"
          ],
          [
           "Bangladesh"
          ],
          [
           "Bangladesh"
          ],
          [
           "Bangladesh"
          ],
          [
           "Bangladesh"
          ],
          [
           "Bangladesh"
          ],
          [
           "Cambodia"
          ],
          [
           "Cambodia"
          ],
          [
           "Cambodia"
          ],
          [
           "Cambodia"
          ],
          [
           "Cambodia"
          ],
          [
           "Cambodia"
          ],
          [
           "Cambodia"
          ],
          [
           "Cambodia"
          ],
          [
           "Cambodia"
          ],
          [
           "Cambodia"
          ],
          [
           "Cambodia"
          ],
          [
           "Cambodia"
          ],
          [
           "China"
          ],
          [
           "China"
          ],
          [
           "China"
          ],
          [
           "China"
          ],
          [
           "China"
          ],
          [
           "China"
          ],
          [
           "China"
          ],
          [
           "China"
          ],
          [
           "China"
          ],
          [
           "China"
          ],
          [
           "China"
          ],
          [
           "China"
          ],
          [
           "Hong Kong, China"
          ],
          [
           "Hong Kong, China"
          ],
          [
           "Hong Kong, China"
          ],
          [
           "Hong Kong, China"
          ],
          [
           "Hong Kong, China"
          ],
          [
           "Hong Kong, China"
          ],
          [
           "Hong Kong, China"
          ],
          [
           "Hong Kong, China"
          ],
          [
           "Hong Kong, China"
          ],
          [
           "Hong Kong, China"
          ],
          [
           "Hong Kong, China"
          ],
          [
           "Hong Kong, China"
          ],
          [
           "India"
          ],
          [
           "India"
          ],
          [
           "India"
          ],
          [
           "India"
          ],
          [
           "India"
          ],
          [
           "India"
          ],
          [
           "India"
          ],
          [
           "India"
          ],
          [
           "India"
          ],
          [
           "India"
          ],
          [
           "India"
          ],
          [
           "India"
          ],
          [
           "Indonesia"
          ],
          [
           "Indonesia"
          ],
          [
           "Indonesia"
          ],
          [
           "Indonesia"
          ],
          [
           "Indonesia"
          ],
          [
           "Indonesia"
          ],
          [
           "Indonesia"
          ],
          [
           "Indonesia"
          ],
          [
           "Indonesia"
          ],
          [
           "Indonesia"
          ],
          [
           "Indonesia"
          ],
          [
           "Indonesia"
          ],
          [
           "Iran"
          ],
          [
           "Iran"
          ],
          [
           "Iran"
          ],
          [
           "Iran"
          ],
          [
           "Iran"
          ],
          [
           "Iran"
          ],
          [
           "Iran"
          ],
          [
           "Iran"
          ],
          [
           "Iran"
          ],
          [
           "Iran"
          ],
          [
           "Iran"
          ],
          [
           "Iran"
          ],
          [
           "Iraq"
          ],
          [
           "Iraq"
          ],
          [
           "Iraq"
          ],
          [
           "Iraq"
          ],
          [
           "Iraq"
          ],
          [
           "Iraq"
          ],
          [
           "Iraq"
          ],
          [
           "Iraq"
          ],
          [
           "Iraq"
          ],
          [
           "Iraq"
          ],
          [
           "Iraq"
          ],
          [
           "Iraq"
          ],
          [
           "Israel"
          ],
          [
           "Israel"
          ],
          [
           "Israel"
          ],
          [
           "Israel"
          ],
          [
           "Israel"
          ],
          [
           "Israel"
          ],
          [
           "Israel"
          ],
          [
           "Israel"
          ],
          [
           "Israel"
          ],
          [
           "Israel"
          ],
          [
           "Israel"
          ],
          [
           "Israel"
          ],
          [
           "Japan"
          ],
          [
           "Japan"
          ],
          [
           "Japan"
          ],
          [
           "Japan"
          ],
          [
           "Japan"
          ],
          [
           "Japan"
          ],
          [
           "Japan"
          ],
          [
           "Japan"
          ],
          [
           "Japan"
          ],
          [
           "Japan"
          ],
          [
           "Japan"
          ],
          [
           "Japan"
          ],
          [
           "Jordan"
          ],
          [
           "Jordan"
          ],
          [
           "Jordan"
          ],
          [
           "Jordan"
          ],
          [
           "Jordan"
          ],
          [
           "Jordan"
          ],
          [
           "Jordan"
          ],
          [
           "Jordan"
          ],
          [
           "Jordan"
          ],
          [
           "Jordan"
          ],
          [
           "Jordan"
          ],
          [
           "Jordan"
          ],
          [
           "Korea, Dem. Rep."
          ],
          [
           "Korea, Dem. Rep."
          ],
          [
           "Korea, Dem. Rep."
          ],
          [
           "Korea, Dem. Rep."
          ],
          [
           "Korea, Dem. Rep."
          ],
          [
           "Korea, Dem. Rep."
          ],
          [
           "Korea, Dem. Rep."
          ],
          [
           "Korea, Dem. Rep."
          ],
          [
           "Korea, Dem. Rep."
          ],
          [
           "Korea, Dem. Rep."
          ],
          [
           "Korea, Dem. Rep."
          ],
          [
           "Korea, Dem. Rep."
          ],
          [
           "Korea, Rep."
          ],
          [
           "Korea, Rep."
          ],
          [
           "Korea, Rep."
          ],
          [
           "Korea, Rep."
          ],
          [
           "Korea, Rep."
          ],
          [
           "Korea, Rep."
          ],
          [
           "Korea, Rep."
          ],
          [
           "Korea, Rep."
          ],
          [
           "Korea, Rep."
          ],
          [
           "Korea, Rep."
          ],
          [
           "Korea, Rep."
          ],
          [
           "Korea, Rep."
          ],
          [
           "Kuwait"
          ],
          [
           "Kuwait"
          ],
          [
           "Kuwait"
          ],
          [
           "Kuwait"
          ],
          [
           "Kuwait"
          ],
          [
           "Kuwait"
          ],
          [
           "Kuwait"
          ],
          [
           "Kuwait"
          ],
          [
           "Kuwait"
          ],
          [
           "Kuwait"
          ],
          [
           "Kuwait"
          ],
          [
           "Kuwait"
          ],
          [
           "Lebanon"
          ],
          [
           "Lebanon"
          ],
          [
           "Lebanon"
          ],
          [
           "Lebanon"
          ],
          [
           "Lebanon"
          ],
          [
           "Lebanon"
          ],
          [
           "Lebanon"
          ],
          [
           "Lebanon"
          ],
          [
           "Lebanon"
          ],
          [
           "Lebanon"
          ],
          [
           "Lebanon"
          ],
          [
           "Lebanon"
          ],
          [
           "Malaysia"
          ],
          [
           "Malaysia"
          ],
          [
           "Malaysia"
          ],
          [
           "Malaysia"
          ],
          [
           "Malaysia"
          ],
          [
           "Malaysia"
          ],
          [
           "Malaysia"
          ],
          [
           "Malaysia"
          ],
          [
           "Malaysia"
          ],
          [
           "Malaysia"
          ],
          [
           "Malaysia"
          ],
          [
           "Malaysia"
          ],
          [
           "Mongolia"
          ],
          [
           "Mongolia"
          ],
          [
           "Mongolia"
          ],
          [
           "Mongolia"
          ],
          [
           "Mongolia"
          ],
          [
           "Mongolia"
          ],
          [
           "Mongolia"
          ],
          [
           "Mongolia"
          ],
          [
           "Mongolia"
          ],
          [
           "Mongolia"
          ],
          [
           "Mongolia"
          ],
          [
           "Mongolia"
          ],
          [
           "Myanmar"
          ],
          [
           "Myanmar"
          ],
          [
           "Myanmar"
          ],
          [
           "Myanmar"
          ],
          [
           "Myanmar"
          ],
          [
           "Myanmar"
          ],
          [
           "Myanmar"
          ],
          [
           "Myanmar"
          ],
          [
           "Myanmar"
          ],
          [
           "Myanmar"
          ],
          [
           "Myanmar"
          ],
          [
           "Myanmar"
          ],
          [
           "Nepal"
          ],
          [
           "Nepal"
          ],
          [
           "Nepal"
          ],
          [
           "Nepal"
          ],
          [
           "Nepal"
          ],
          [
           "Nepal"
          ],
          [
           "Nepal"
          ],
          [
           "Nepal"
          ],
          [
           "Nepal"
          ],
          [
           "Nepal"
          ],
          [
           "Nepal"
          ],
          [
           "Nepal"
          ],
          [
           "Oman"
          ],
          [
           "Oman"
          ],
          [
           "Oman"
          ],
          [
           "Oman"
          ],
          [
           "Oman"
          ],
          [
           "Oman"
          ],
          [
           "Oman"
          ],
          [
           "Oman"
          ],
          [
           "Oman"
          ],
          [
           "Oman"
          ],
          [
           "Oman"
          ],
          [
           "Oman"
          ],
          [
           "Pakistan"
          ],
          [
           "Pakistan"
          ],
          [
           "Pakistan"
          ],
          [
           "Pakistan"
          ],
          [
           "Pakistan"
          ],
          [
           "Pakistan"
          ],
          [
           "Pakistan"
          ],
          [
           "Pakistan"
          ],
          [
           "Pakistan"
          ],
          [
           "Pakistan"
          ],
          [
           "Pakistan"
          ],
          [
           "Pakistan"
          ],
          [
           "Philippines"
          ],
          [
           "Philippines"
          ],
          [
           "Philippines"
          ],
          [
           "Philippines"
          ],
          [
           "Philippines"
          ],
          [
           "Philippines"
          ],
          [
           "Philippines"
          ],
          [
           "Philippines"
          ],
          [
           "Philippines"
          ],
          [
           "Philippines"
          ],
          [
           "Philippines"
          ],
          [
           "Philippines"
          ],
          [
           "Saudi Arabia"
          ],
          [
           "Saudi Arabia"
          ],
          [
           "Saudi Arabia"
          ],
          [
           "Saudi Arabia"
          ],
          [
           "Saudi Arabia"
          ],
          [
           "Saudi Arabia"
          ],
          [
           "Saudi Arabia"
          ],
          [
           "Saudi Arabia"
          ],
          [
           "Saudi Arabia"
          ],
          [
           "Saudi Arabia"
          ],
          [
           "Saudi Arabia"
          ],
          [
           "Saudi Arabia"
          ],
          [
           "Singapore"
          ],
          [
           "Singapore"
          ],
          [
           "Singapore"
          ],
          [
           "Singapore"
          ],
          [
           "Singapore"
          ],
          [
           "Singapore"
          ],
          [
           "Singapore"
          ],
          [
           "Singapore"
          ],
          [
           "Singapore"
          ],
          [
           "Singapore"
          ],
          [
           "Singapore"
          ],
          [
           "Singapore"
          ],
          [
           "Sri Lanka"
          ],
          [
           "Sri Lanka"
          ],
          [
           "Sri Lanka"
          ],
          [
           "Sri Lanka"
          ],
          [
           "Sri Lanka"
          ],
          [
           "Sri Lanka"
          ],
          [
           "Sri Lanka"
          ],
          [
           "Sri Lanka"
          ],
          [
           "Sri Lanka"
          ],
          [
           "Sri Lanka"
          ],
          [
           "Sri Lanka"
          ],
          [
           "Sri Lanka"
          ],
          [
           "Syria"
          ],
          [
           "Syria"
          ],
          [
           "Syria"
          ],
          [
           "Syria"
          ],
          [
           "Syria"
          ],
          [
           "Syria"
          ],
          [
           "Syria"
          ],
          [
           "Syria"
          ],
          [
           "Syria"
          ],
          [
           "Syria"
          ],
          [
           "Syria"
          ],
          [
           "Syria"
          ],
          [
           "Taiwan"
          ],
          [
           "Taiwan"
          ],
          [
           "Taiwan"
          ],
          [
           "Taiwan"
          ],
          [
           "Taiwan"
          ],
          [
           "Taiwan"
          ],
          [
           "Taiwan"
          ],
          [
           "Taiwan"
          ],
          [
           "Taiwan"
          ],
          [
           "Taiwan"
          ],
          [
           "Taiwan"
          ],
          [
           "Taiwan"
          ],
          [
           "Thailand"
          ],
          [
           "Thailand"
          ],
          [
           "Thailand"
          ],
          [
           "Thailand"
          ],
          [
           "Thailand"
          ],
          [
           "Thailand"
          ],
          [
           "Thailand"
          ],
          [
           "Thailand"
          ],
          [
           "Thailand"
          ],
          [
           "Thailand"
          ],
          [
           "Thailand"
          ],
          [
           "Thailand"
          ],
          [
           "Vietnam"
          ],
          [
           "Vietnam"
          ],
          [
           "Vietnam"
          ],
          [
           "Vietnam"
          ],
          [
           "Vietnam"
          ],
          [
           "Vietnam"
          ],
          [
           "Vietnam"
          ],
          [
           "Vietnam"
          ],
          [
           "Vietnam"
          ],
          [
           "Vietnam"
          ],
          [
           "Vietnam"
          ],
          [
           "Vietnam"
          ],
          [
           "West Bank and Gaza"
          ],
          [
           "West Bank and Gaza"
          ],
          [
           "West Bank and Gaza"
          ],
          [
           "West Bank and Gaza"
          ],
          [
           "West Bank and Gaza"
          ],
          [
           "West Bank and Gaza"
          ],
          [
           "West Bank and Gaza"
          ],
          [
           "West Bank and Gaza"
          ],
          [
           "West Bank and Gaza"
          ],
          [
           "West Bank and Gaza"
          ],
          [
           "West Bank and Gaza"
          ],
          [
           "West Bank and Gaza"
          ],
          [
           "Yemen, Rep."
          ],
          [
           "Yemen, Rep."
          ],
          [
           "Yemen, Rep."
          ],
          [
           "Yemen, Rep."
          ],
          [
           "Yemen, Rep."
          ],
          [
           "Yemen, Rep."
          ],
          [
           "Yemen, Rep."
          ],
          [
           "Yemen, Rep."
          ],
          [
           "Yemen, Rep."
          ],
          [
           "Yemen, Rep."
          ],
          [
           "Yemen, Rep."
          ],
          [
           "Yemen, Rep."
          ]
         ],
         "hovertemplate": "continent=Asia<br>year=%{x}<br>lifeExp=%{y}<br>pop=%{marker.size}<br>country=%{customdata[0]}<extra></extra>",
         "legendgroup": "Asia",
         "marker": {
          "color": "#636efa",
          "size": [
           8425333,
           9240934,
           10267083,
           11537966,
           13079460,
           14880372,
           12881816,
           13867957,
           16317921,
           22227415,
           25268405,
           31889923,
           120447,
           138655,
           171863,
           202182,
           230800,
           297410,
           377967,
           454612,
           529491,
           598561,
           656397,
           708573,
           46886859,
           51365468,
           56839289,
           62821884,
           70759295,
           80428306,
           93074406,
           103764241,
           113704579,
           123315288,
           135656790,
           150448339,
           4693836,
           5322536,
           6083619,
           6960067,
           7450606,
           6978607,
           7272485,
           8371791,
           10150094,
           11782962,
           12926707,
           14131858,
           556263527,
           637408000,
           665770000,
           754550000,
           862030000,
           943455000,
           1000281000,
           1084035000,
           1164970000,
           1230075000,
           1280400000,
           1318683096,
           2125900,
           2736300,
           3305200,
           3722800,
           4115700,
           4583700,
           5264500,
           5584510,
           5829696,
           6495918,
           6762476,
           6980412,
           372000000,
           409000000,
           454000000,
           506000000,
           567000000,
           634000000,
           708000000,
           788000000,
           872000000,
           959000000,
           1034172547,
           1110396331,
           82052000,
           90124000,
           99028000,
           109343000,
           121282000,
           136725000,
           153343000,
           169276000,
           184816000,
           199278000,
           211060000,
           223547000,
           17272000,
           19792000,
           22874000,
           26538000,
           30614000,
           35480679,
           43072751,
           51889696,
           60397973,
           63327987,
           66907826,
           69453570,
           5441766,
           6248643,
           7240260,
           8519282,
           10061506,
           11882916,
           14173318,
           16543189,
           17861905,
           20775703,
           24001816,
           27499638,
           1620914,
           1944401,
           2310904,
           2693585,
           3095893,
           3495918,
           3858421,
           4203148,
           4936550,
           5531387,
           6029529,
           6426679,
           86459025,
           91563009,
           95831757,
           100825279,
           107188273,
           113872473,
           118454974,
           122091325,
           124329269,
           125956499,
           127065841,
           127467972,
           607914,
           746559,
           933559,
           1255058,
           1613551,
           1937652,
           2347031,
           2820042,
           3867409,
           4526235,
           5307470,
           6053193,
           8865488,
           9411381,
           10917494,
           12617009,
           14781241,
           16325320,
           17647518,
           19067554,
           20711375,
           21585105,
           22215365,
           23301725,
           20947571,
           22611552,
           26420307,
           30131000,
           33505000,
           36436000,
           39326000,
           41622000,
           43805450,
           46173816,
           47969150,
           49044790,
           160000,
           212846,
           358266,
           575003,
           841934,
           1140357,
           1497494,
           1891487,
           1418095,
           1765345,
           2111561,
           2505559,
           1439529,
           1647412,
           1886848,
           2186894,
           2680018,
           3115787,
           3086876,
           3089353,
           3219994,
           3430388,
           3677780,
           3921278,
           6748378,
           7739235,
           8906385,
           10154878,
           11441462,
           12845381,
           14441916,
           16331785,
           18319502,
           20476091,
           22662365,
           24821286,
           800663,
           882134,
           1010280,
           1149500,
           1320500,
           1528000,
           1756032,
           2015133,
           2312802,
           2494803,
           2674234,
           2874127,
           20092996,
           21731844,
           23634436,
           25870271,
           28466390,
           31528087,
           34680442,
           38028578,
           40546538,
           43247867,
           45598081,
           47761980,
           9182536,
           9682338,
           10332057,
           11261690,
           12412593,
           13933198,
           15796314,
           17917180,
           20326209,
           23001113,
           25873917,
           28901790,
           507833,
           561977,
           628164,
           714775,
           829050,
           1004533,
           1301048,
           1593882,
           1915208,
           2283635,
           2713462,
           3204897,
           41346560,
           46679944,
           53100671,
           60641899,
           69325921,
           78152686,
           91462088,
           105186881,
           120065004,
           135564834,
           153403524,
           169270617,
           22438691,
           26072194,
           30325264,
           35356600,
           40850141,
           46850962,
           53456774,
           60017788,
           67185766,
           75012988,
           82995088,
           91077287,
           4005677,
           4419650,
           4943029,
           5618198,
           6472756,
           8128505,
           11254672,
           14619745,
           16945857,
           21229759,
           24501530,
           27601038,
           1127000,
           1445929,
           1750200,
           1977600,
           2152400,
           2325300,
           2651869,
           2794552,
           3235865,
           3802309,
           4197776,
           4553009,
           7982342,
           9128546,
           10421936,
           11737396,
           13016733,
           14116836,
           15410151,
           16495304,
           17587060,
           18698655,
           19576783,
           20378239,
           3661549,
           4149908,
           4834621,
           5680812,
           6701172,
           7932503,
           9410494,
           11242847,
           13219062,
           15081016,
           17155814,
           19314747,
           8550362,
           10164215,
           11918938,
           13648692,
           15226039,
           16785196,
           18501390,
           19757799,
           20686918,
           21628605,
           22454239,
           23174294,
           21289402,
           25041917,
           29263397,
           34024249,
           39276153,
           44148285,
           48827160,
           52910342,
           56667095,
           60216677,
           62806748,
           65068149,
           26246839,
           28998543,
           33796140,
           39463910,
           44655014,
           50533506,
           56142181,
           62826491,
           69940728,
           76048996,
           80908147,
           85262356,
           1030585,
           1070439,
           1133134,
           1142636,
           1089572,
           1261091,
           1425876,
           1691210,
           2104779,
           2826046,
           3389578,
           4018332,
           4963829,
           5498090,
           6120081,
           6740785,
           7407075,
           8403990,
           9657618,
           11219340,
           13367997,
           15826497,
           18701257,
           22211743
          ],
          "sizemode": "area",
          "sizeref": 3296707.74,
          "symbol": "circle"
         },
         "mode": "markers",
         "name": "Asia",
         "scene": "scene",
         "showlegend": true,
         "type": "scatter3d",
         "x": [
          1952,
          1957,
          1962,
          1967,
          1972,
          1977,
          1982,
          1987,
          1992,
          1997,
          2002,
          2007,
          1952,
          1957,
          1962,
          1967,
          1972,
          1977,
          1982,
          1987,
          1992,
          1997,
          2002,
          2007,
          1952,
          1957,
          1962,
          1967,
          1972,
          1977,
          1982,
          1987,
          1992,
          1997,
          2002,
          2007,
          1952,
          1957,
          1962,
          1967,
          1972,
          1977,
          1982,
          1987,
          1992,
          1997,
          2002,
          2007,
          1952,
          1957,
          1962,
          1967,
          1972,
          1977,
          1982,
          1987,
          1992,
          1997,
          2002,
          2007,
          1952,
          1957,
          1962,
          1967,
          1972,
          1977,
          1982,
          1987,
          1992,
          1997,
          2002,
          2007,
          1952,
          1957,
          1962,
          1967,
          1972,
          1977,
          1982,
          1987,
          1992,
          1997,
          2002,
          2007,
          1952,
          1957,
          1962,
          1967,
          1972,
          1977,
          1982,
          1987,
          1992,
          1997,
          2002,
          2007,
          1952,
          1957,
          1962,
          1967,
          1972,
          1977,
          1982,
          1987,
          1992,
          1997,
          2002,
          2007,
          1952,
          1957,
          1962,
          1967,
          1972,
          1977,
          1982,
          1987,
          1992,
          1997,
          2002,
          2007,
          1952,
          1957,
          1962,
          1967,
          1972,
          1977,
          1982,
          1987,
          1992,
          1997,
          2002,
          2007,
          1952,
          1957,
          1962,
          1967,
          1972,
          1977,
          1982,
          1987,
          1992,
          1997,
          2002,
          2007,
          1952,
          1957,
          1962,
          1967,
          1972,
          1977,
          1982,
          1987,
          1992,
          1997,
          2002,
          2007,
          1952,
          1957,
          1962,
          1967,
          1972,
          1977,
          1982,
          1987,
          1992,
          1997,
          2002,
          2007,
          1952,
          1957,
          1962,
          1967,
          1972,
          1977,
          1982,
          1987,
          1992,
          1997,
          2002,
          2007,
          1952,
          1957,
          1962,
          1967,
          1972,
          1977,
          1982,
          1987,
          1992,
          1997,
          2002,
          2007,
          1952,
          1957,
          1962,
          1967,
          1972,
          1977,
          1982,
          1987,
          1992,
          1997,
          2002,
          2007,
          1952,
          1957,
          1962,
          1967,
          1972,
          1977,
          1982,
          1987,
          1992,
          1997,
          2002,
          2007,
          1952,
          1957,
          1962,
          1967,
          1972,
          1977,
          1982,
          1987,
          1992,
          1997,
          2002,
          2007,
          1952,
          1957,
          1962,
          1967,
          1972,
          1977,
          1982,
          1987,
          1992,
          1997,
          2002,
          2007,
          1952,
          1957,
          1962,
          1967,
          1972,
          1977,
          1982,
          1987,
          1992,
          1997,
          2002,
          2007,
          1952,
          1957,
          1962,
          1967,
          1972,
          1977,
          1982,
          1987,
          1992,
          1997,
          2002,
          2007,
          1952,
          1957,
          1962,
          1967,
          1972,
          1977,
          1982,
          1987,
          1992,
          1997,
          2002,
          2007,
          1952,
          1957,
          1962,
          1967,
          1972,
          1977,
          1982,
          1987,
          1992,
          1997,
          2002,
          2007,
          1952,
          1957,
          1962,
          1967,
          1972,
          1977,
          1982,
          1987,
          1992,
          1997,
          2002,
          2007,
          1952,
          1957,
          1962,
          1967,
          1972,
          1977,
          1982,
          1987,
          1992,
          1997,
          2002,
          2007,
          1952,
          1957,
          1962,
          1967,
          1972,
          1977,
          1982,
          1987,
          1992,
          1997,
          2002,
          2007,
          1952,
          1957,
          1962,
          1967,
          1972,
          1977,
          1982,
          1987,
          1992,
          1997,
          2002,
          2007,
          1952,
          1957,
          1962,
          1967,
          1972,
          1977,
          1982,
          1987,
          1992,
          1997,
          2002,
          2007,
          1952,
          1957,
          1962,
          1967,
          1972,
          1977,
          1982,
          1987,
          1992,
          1997,
          2002,
          2007,
          1952,
          1957,
          1962,
          1967,
          1972,
          1977,
          1982,
          1987,
          1992,
          1997,
          2002,
          2007,
          1952,
          1957,
          1962,
          1967,
          1972,
          1977,
          1982,
          1987,
          1992,
          1997,
          2002,
          2007,
          1952,
          1957,
          1962,
          1967,
          1972,
          1977,
          1982,
          1987,
          1992,
          1997,
          2002,
          2007
         ],
         "y": [
          28.801,
          30.332,
          31.997,
          34.02,
          36.088,
          38.438,
          39.854,
          40.822,
          41.674,
          41.76300000000001,
          42.129,
          43.828,
          50.93899999999999,
          53.832,
          56.923,
          59.923,
          63.3,
          65.593,
          69.05199999999999,
          70.75,
          72.601,
          73.925,
          74.795,
          75.635,
          37.484,
          39.348,
          41.216,
          43.453,
          45.252,
          46.923,
          50.00899999999999,
          52.819,
          56.018,
          59.412,
          62.01300000000001,
          64.062,
          39.417,
          41.36600000000001,
          43.415,
          45.415,
          40.317,
          31.22,
          50.957,
          53.914,
          55.803,
          56.534,
          56.752,
          59.723,
          44,
          50.54896,
          44.50136,
          58.38112,
          63.11888,
          63.96736,
          65.525,
          67.274,
          68.69,
          70.426,
          72.028,
          72.961,
          60.96,
          64.75,
          67.65,
          70,
          72,
          73.6,
          75.45,
          76.2,
          77.601,
          80,
          81.495,
          82.208,
          37.37300000000001,
          40.249,
          43.605,
          47.19300000000001,
          50.651,
          54.208,
          56.596,
          58.553,
          60.223,
          61.765,
          62.879,
          64.69800000000001,
          37.468,
          39.918,
          42.518,
          45.964,
          49.203,
          52.702,
          56.159,
          60.137,
          62.681,
          66.041,
          68.58800000000001,
          70.65,
          44.869,
          47.181,
          49.325,
          52.469,
          55.234,
          57.702,
          59.62,
          63.04,
          65.742,
          68.042,
          69.45100000000001,
          70.964,
          45.32,
          48.437,
          51.457,
          54.459,
          56.95,
          60.413,
          62.038,
          65.044,
          59.46100000000001,
          58.81100000000001,
          57.04600000000001,
          59.545,
          65.39,
          67.84,
          69.39,
          70.75,
          71.63,
          73.06,
          74.45,
          75.6,
          76.93,
          78.26899999999998,
          79.696,
          80.745,
          63.03,
          65.5,
          68.73,
          71.43,
          73.42,
          75.38,
          77.11,
          78.67,
          79.36,
          80.69,
          82,
          82.603,
          43.158,
          45.669,
          48.12600000000001,
          51.629,
          56.528,
          61.13399999999999,
          63.739,
          65.869,
          68.015,
          69.77199999999999,
          71.263,
          72.535,
          50.056,
          54.081,
          56.65600000000001,
          59.942,
          63.983,
          67.15899999999999,
          69.1,
          70.64699999999998,
          69.97800000000001,
          67.727,
          66.66199999999999,
          67.297,
          47.453,
          52.681,
          55.292,
          57.716,
          62.612,
          64.766,
          67.123,
          69.81,
          72.244,
          74.64699999999998,
          77.045,
          78.623,
          55.565,
          58.033,
          60.47,
          64.624,
          67.712,
          69.343,
          71.309,
          74.17399999999998,
          75.19,
          76.156,
          76.904,
          77.58800000000002,
          55.928,
          59.489,
          62.094,
          63.87,
          65.421,
          66.09899999999999,
          66.983,
          67.926,
          69.292,
          70.265,
          71.028,
          71.993,
          48.463,
          52.102,
          55.737,
          59.371,
          63.01,
          65.256,
          68,
          69.5,
          70.693,
          71.938,
          73.044,
          74.241,
          42.244,
          45.24800000000001,
          48.25100000000001,
          51.253,
          53.754,
          55.49100000000001,
          57.489,
          60.222,
          61.271,
          63.625,
          65.033,
          66.803,
          36.319,
          41.905,
          45.108,
          49.379,
          53.07,
          56.059,
          58.056,
          58.339,
          59.32,
          60.328,
          59.908,
          62.069,
          36.157,
          37.686,
          39.393,
          41.472,
          43.971,
          46.74800000000001,
          49.594,
          52.537,
          55.727,
          59.426,
          61.34,
          63.785,
          37.578,
          40.08,
          43.165,
          46.988,
          52.143,
          57.367,
          62.728,
          67.734,
          71.197,
          72.499,
          74.193,
          75.64,
          43.43600000000001,
          45.557,
          47.67,
          49.8,
          51.929,
          54.043,
          56.158,
          58.245,
          60.838,
          61.81800000000001,
          63.61,
          65.483,
          47.752,
          51.334,
          54.757,
          56.393,
          58.065,
          60.06,
          62.082,
          64.15100000000001,
          66.458,
          68.564,
          70.303,
          71.688,
          39.875,
          42.868,
          45.914,
          49.901,
          53.886,
          58.69,
          63.012,
          66.295,
          68.768,
          70.533,
          71.626,
          72.777,
          60.396,
          63.179,
          65.798,
          67.946,
          69.521,
          70.795,
          71.76,
          73.56,
          75.788,
          77.158,
          78.77,
          79.972,
          57.593,
          61.456,
          62.192,
          64.266,
          65.042,
          65.949,
          68.757,
          69.01100000000001,
          70.37899999999998,
          70.457,
          70.815,
          72.396,
          45.883,
          48.284,
          50.305,
          53.655,
          57.29600000000001,
          61.195,
          64.59,
          66.97399999999999,
          69.249,
          71.527,
          73.053,
          74.143,
          58.5,
          62.4,
          65.2,
          67.5,
          69.39,
          70.59,
          72.16,
          73.4,
          74.26,
          75.25,
          76.99,
          78.4,
          50.848,
          53.63,
          56.06100000000001,
          58.285,
          60.405,
          62.494,
          64.597,
          66.084,
          67.298,
          67.521,
          68.564,
          70.616,
          40.412,
          42.887,
          45.363,
          47.838,
          50.254,
          55.764,
          58.816,
          62.82,
          67.66199999999999,
          70.672,
          73.017,
          74.249,
          43.16,
          45.67100000000001,
          48.127,
          51.631,
          56.532,
          60.765,
          64.406,
          67.046,
          69.718,
          71.096,
          72.37,
          73.422,
          32.548,
          33.97,
          35.18,
          36.984,
          39.848,
          44.175,
          49.113,
          52.922,
          55.599,
          58.02,
          60.308,
          62.698
         ],
         "z": [
          8425333,
          9240934,
          10267083,
          11537966,
          13079460,
          14880372,
          12881816,
          13867957,
          16317921,
          22227415,
          25268405,
          31889923,
          120447,
          138655,
          171863,
          202182,
          230800,
          297410,
          377967,
          454612,
          529491,
          598561,
          656397,
          708573,
          46886859,
          51365468,
          56839289,
          62821884,
          70759295,
          80428306,
          93074406,
          103764241,
          113704579,
          123315288,
          135656790,
          150448339,
          4693836,
          5322536,
          6083619,
          6960067,
          7450606,
          6978607,
          7272485,
          8371791,
          10150094,
          11782962,
          12926707,
          14131858,
          556263527,
          637408000,
          665770000,
          754550000,
          862030000,
          943455000,
          1000281000,
          1084035000,
          1164970000,
          1230075000,
          1280400000,
          1318683096,
          2125900,
          2736300,
          3305200,
          3722800,
          4115700,
          4583700,
          5264500,
          5584510,
          5829696,
          6495918,
          6762476,
          6980412,
          372000000,
          409000000,
          454000000,
          506000000,
          567000000,
          634000000,
          708000000,
          788000000,
          872000000,
          959000000,
          1034172547,
          1110396331,
          82052000,
          90124000,
          99028000,
          109343000,
          121282000,
          136725000,
          153343000,
          169276000,
          184816000,
          199278000,
          211060000,
          223547000,
          17272000,
          19792000,
          22874000,
          26538000,
          30614000,
          35480679,
          43072751,
          51889696,
          60397973,
          63327987,
          66907826,
          69453570,
          5441766,
          6248643,
          7240260,
          8519282,
          10061506,
          11882916,
          14173318,
          16543189,
          17861905,
          20775703,
          24001816,
          27499638,
          1620914,
          1944401,
          2310904,
          2693585,
          3095893,
          3495918,
          3858421,
          4203148,
          4936550,
          5531387,
          6029529,
          6426679,
          86459025,
          91563009,
          95831757,
          100825279,
          107188273,
          113872473,
          118454974,
          122091325,
          124329269,
          125956499,
          127065841,
          127467972,
          607914,
          746559,
          933559,
          1255058,
          1613551,
          1937652,
          2347031,
          2820042,
          3867409,
          4526235,
          5307470,
          6053193,
          8865488,
          9411381,
          10917494,
          12617009,
          14781241,
          16325320,
          17647518,
          19067554,
          20711375,
          21585105,
          22215365,
          23301725,
          20947571,
          22611552,
          26420307,
          30131000,
          33505000,
          36436000,
          39326000,
          41622000,
          43805450,
          46173816,
          47969150,
          49044790,
          160000,
          212846,
          358266,
          575003,
          841934,
          1140357,
          1497494,
          1891487,
          1418095,
          1765345,
          2111561,
          2505559,
          1439529,
          1647412,
          1886848,
          2186894,
          2680018,
          3115787,
          3086876,
          3089353,
          3219994,
          3430388,
          3677780,
          3921278,
          6748378,
          7739235,
          8906385,
          10154878,
          11441462,
          12845381,
          14441916,
          16331785,
          18319502,
          20476091,
          22662365,
          24821286,
          800663,
          882134,
          1010280,
          1149500,
          1320500,
          1528000,
          1756032,
          2015133,
          2312802,
          2494803,
          2674234,
          2874127,
          20092996,
          21731844,
          23634436,
          25870271,
          28466390,
          31528087,
          34680442,
          38028578,
          40546538,
          43247867,
          45598081,
          47761980,
          9182536,
          9682338,
          10332057,
          11261690,
          12412593,
          13933198,
          15796314,
          17917180,
          20326209,
          23001113,
          25873917,
          28901790,
          507833,
          561977,
          628164,
          714775,
          829050,
          1004533,
          1301048,
          1593882,
          1915208,
          2283635,
          2713462,
          3204897,
          41346560,
          46679944,
          53100671,
          60641899,
          69325921,
          78152686,
          91462088,
          105186881,
          120065004,
          135564834,
          153403524,
          169270617,
          22438691,
          26072194,
          30325264,
          35356600,
          40850141,
          46850962,
          53456774,
          60017788,
          67185766,
          75012988,
          82995088,
          91077287,
          4005677,
          4419650,
          4943029,
          5618198,
          6472756,
          8128505,
          11254672,
          14619745,
          16945857,
          21229759,
          24501530,
          27601038,
          1127000,
          1445929,
          1750200,
          1977600,
          2152400,
          2325300,
          2651869,
          2794552,
          3235865,
          3802309,
          4197776,
          4553009,
          7982342,
          9128546,
          10421936,
          11737396,
          13016733,
          14116836,
          15410151,
          16495304,
          17587060,
          18698655,
          19576783,
          20378239,
          3661549,
          4149908,
          4834621,
          5680812,
          6701172,
          7932503,
          9410494,
          11242847,
          13219062,
          15081016,
          17155814,
          19314747,
          8550362,
          10164215,
          11918938,
          13648692,
          15226039,
          16785196,
          18501390,
          19757799,
          20686918,
          21628605,
          22454239,
          23174294,
          21289402,
          25041917,
          29263397,
          34024249,
          39276153,
          44148285,
          48827160,
          52910342,
          56667095,
          60216677,
          62806748,
          65068149,
          26246839,
          28998543,
          33796140,
          39463910,
          44655014,
          50533506,
          56142181,
          62826491,
          69940728,
          76048996,
          80908147,
          85262356,
          1030585,
          1070439,
          1133134,
          1142636,
          1089572,
          1261091,
          1425876,
          1691210,
          2104779,
          2826046,
          3389578,
          4018332,
          4963829,
          5498090,
          6120081,
          6740785,
          7407075,
          8403990,
          9657618,
          11219340,
          13367997,
          15826497,
          18701257,
          22211743
         ]
        },
        {
         "customdata": [
          [
           "Albania"
          ],
          [
           "Albania"
          ],
          [
           "Albania"
          ],
          [
           "Albania"
          ],
          [
           "Albania"
          ],
          [
           "Albania"
          ],
          [
           "Albania"
          ],
          [
           "Albania"
          ],
          [
           "Albania"
          ],
          [
           "Albania"
          ],
          [
           "Albania"
          ],
          [
           "Albania"
          ],
          [
           "Austria"
          ],
          [
           "Austria"
          ],
          [
           "Austria"
          ],
          [
           "Austria"
          ],
          [
           "Austria"
          ],
          [
           "Austria"
          ],
          [
           "Austria"
          ],
          [
           "Austria"
          ],
          [
           "Austria"
          ],
          [
           "Austria"
          ],
          [
           "Austria"
          ],
          [
           "Austria"
          ],
          [
           "Belgium"
          ],
          [
           "Belgium"
          ],
          [
           "Belgium"
          ],
          [
           "Belgium"
          ],
          [
           "Belgium"
          ],
          [
           "Belgium"
          ],
          [
           "Belgium"
          ],
          [
           "Belgium"
          ],
          [
           "Belgium"
          ],
          [
           "Belgium"
          ],
          [
           "Belgium"
          ],
          [
           "Belgium"
          ],
          [
           "Bosnia and Herzegovina"
          ],
          [
           "Bosnia and Herzegovina"
          ],
          [
           "Bosnia and Herzegovina"
          ],
          [
           "Bosnia and Herzegovina"
          ],
          [
           "Bosnia and Herzegovina"
          ],
          [
           "Bosnia and Herzegovina"
          ],
          [
           "Bosnia and Herzegovina"
          ],
          [
           "Bosnia and Herzegovina"
          ],
          [
           "Bosnia and Herzegovina"
          ],
          [
           "Bosnia and Herzegovina"
          ],
          [
           "Bosnia and Herzegovina"
          ],
          [
           "Bosnia and Herzegovina"
          ],
          [
           "Bulgaria"
          ],
          [
           "Bulgaria"
          ],
          [
           "Bulgaria"
          ],
          [
           "Bulgaria"
          ],
          [
           "Bulgaria"
          ],
          [
           "Bulgaria"
          ],
          [
           "Bulgaria"
          ],
          [
           "Bulgaria"
          ],
          [
           "Bulgaria"
          ],
          [
           "Bulgaria"
          ],
          [
           "Bulgaria"
          ],
          [
           "Bulgaria"
          ],
          [
           "Croatia"
          ],
          [
           "Croatia"
          ],
          [
           "Croatia"
          ],
          [
           "Croatia"
          ],
          [
           "Croatia"
          ],
          [
           "Croatia"
          ],
          [
           "Croatia"
          ],
          [
           "Croatia"
          ],
          [
           "Croatia"
          ],
          [
           "Croatia"
          ],
          [
           "Croatia"
          ],
          [
           "Croatia"
          ],
          [
           "Czech Republic"
          ],
          [
           "Czech Republic"
          ],
          [
           "Czech Republic"
          ],
          [
           "Czech Republic"
          ],
          [
           "Czech Republic"
          ],
          [
           "Czech Republic"
          ],
          [
           "Czech Republic"
          ],
          [
           "Czech Republic"
          ],
          [
           "Czech Republic"
          ],
          [
           "Czech Republic"
          ],
          [
           "Czech Republic"
          ],
          [
           "Czech Republic"
          ],
          [
           "Denmark"
          ],
          [
           "Denmark"
          ],
          [
           "Denmark"
          ],
          [
           "Denmark"
          ],
          [
           "Denmark"
          ],
          [
           "Denmark"
          ],
          [
           "Denmark"
          ],
          [
           "Denmark"
          ],
          [
           "Denmark"
          ],
          [
           "Denmark"
          ],
          [
           "Denmark"
          ],
          [
           "Denmark"
          ],
          [
           "Finland"
          ],
          [
           "Finland"
          ],
          [
           "Finland"
          ],
          [
           "Finland"
          ],
          [
           "Finland"
          ],
          [
           "Finland"
          ],
          [
           "Finland"
          ],
          [
           "Finland"
          ],
          [
           "Finland"
          ],
          [
           "Finland"
          ],
          [
           "Finland"
          ],
          [
           "Finland"
          ],
          [
           "France"
          ],
          [
           "France"
          ],
          [
           "France"
          ],
          [
           "France"
          ],
          [
           "France"
          ],
          [
           "France"
          ],
          [
           "France"
          ],
          [
           "France"
          ],
          [
           "France"
          ],
          [
           "France"
          ],
          [
           "France"
          ],
          [
           "France"
          ],
          [
           "Germany"
          ],
          [
           "Germany"
          ],
          [
           "Germany"
          ],
          [
           "Germany"
          ],
          [
           "Germany"
          ],
          [
           "Germany"
          ],
          [
           "Germany"
          ],
          [
           "Germany"
          ],
          [
           "Germany"
          ],
          [
           "Germany"
          ],
          [
           "Germany"
          ],
          [
           "Germany"
          ],
          [
           "Greece"
          ],
          [
           "Greece"
          ],
          [
           "Greece"
          ],
          [
           "Greece"
          ],
          [
           "Greece"
          ],
          [
           "Greece"
          ],
          [
           "Greece"
          ],
          [
           "Greece"
          ],
          [
           "Greece"
          ],
          [
           "Greece"
          ],
          [
           "Greece"
          ],
          [
           "Greece"
          ],
          [
           "Hungary"
          ],
          [
           "Hungary"
          ],
          [
           "Hungary"
          ],
          [
           "Hungary"
          ],
          [
           "Hungary"
          ],
          [
           "Hungary"
          ],
          [
           "Hungary"
          ],
          [
           "Hungary"
          ],
          [
           "Hungary"
          ],
          [
           "Hungary"
          ],
          [
           "Hungary"
          ],
          [
           "Hungary"
          ],
          [
           "Iceland"
          ],
          [
           "Iceland"
          ],
          [
           "Iceland"
          ],
          [
           "Iceland"
          ],
          [
           "Iceland"
          ],
          [
           "Iceland"
          ],
          [
           "Iceland"
          ],
          [
           "Iceland"
          ],
          [
           "Iceland"
          ],
          [
           "Iceland"
          ],
          [
           "Iceland"
          ],
          [
           "Iceland"
          ],
          [
           "Ireland"
          ],
          [
           "Ireland"
          ],
          [
           "Ireland"
          ],
          [
           "Ireland"
          ],
          [
           "Ireland"
          ],
          [
           "Ireland"
          ],
          [
           "Ireland"
          ],
          [
           "Ireland"
          ],
          [
           "Ireland"
          ],
          [
           "Ireland"
          ],
          [
           "Ireland"
          ],
          [
           "Ireland"
          ],
          [
           "Italy"
          ],
          [
           "Italy"
          ],
          [
           "Italy"
          ],
          [
           "Italy"
          ],
          [
           "Italy"
          ],
          [
           "Italy"
          ],
          [
           "Italy"
          ],
          [
           "Italy"
          ],
          [
           "Italy"
          ],
          [
           "Italy"
          ],
          [
           "Italy"
          ],
          [
           "Italy"
          ],
          [
           "Montenegro"
          ],
          [
           "Montenegro"
          ],
          [
           "Montenegro"
          ],
          [
           "Montenegro"
          ],
          [
           "Montenegro"
          ],
          [
           "Montenegro"
          ],
          [
           "Montenegro"
          ],
          [
           "Montenegro"
          ],
          [
           "Montenegro"
          ],
          [
           "Montenegro"
          ],
          [
           "Montenegro"
          ],
          [
           "Montenegro"
          ],
          [
           "Netherlands"
          ],
          [
           "Netherlands"
          ],
          [
           "Netherlands"
          ],
          [
           "Netherlands"
          ],
          [
           "Netherlands"
          ],
          [
           "Netherlands"
          ],
          [
           "Netherlands"
          ],
          [
           "Netherlands"
          ],
          [
           "Netherlands"
          ],
          [
           "Netherlands"
          ],
          [
           "Netherlands"
          ],
          [
           "Netherlands"
          ],
          [
           "Norway"
          ],
          [
           "Norway"
          ],
          [
           "Norway"
          ],
          [
           "Norway"
          ],
          [
           "Norway"
          ],
          [
           "Norway"
          ],
          [
           "Norway"
          ],
          [
           "Norway"
          ],
          [
           "Norway"
          ],
          [
           "Norway"
          ],
          [
           "Norway"
          ],
          [
           "Norway"
          ],
          [
           "Poland"
          ],
          [
           "Poland"
          ],
          [
           "Poland"
          ],
          [
           "Poland"
          ],
          [
           "Poland"
          ],
          [
           "Poland"
          ],
          [
           "Poland"
          ],
          [
           "Poland"
          ],
          [
           "Poland"
          ],
          [
           "Poland"
          ],
          [
           "Poland"
          ],
          [
           "Poland"
          ],
          [
           "Portugal"
          ],
          [
           "Portugal"
          ],
          [
           "Portugal"
          ],
          [
           "Portugal"
          ],
          [
           "Portugal"
          ],
          [
           "Portugal"
          ],
          [
           "Portugal"
          ],
          [
           "Portugal"
          ],
          [
           "Portugal"
          ],
          [
           "Portugal"
          ],
          [
           "Portugal"
          ],
          [
           "Portugal"
          ],
          [
           "Romania"
          ],
          [
           "Romania"
          ],
          [
           "Romania"
          ],
          [
           "Romania"
          ],
          [
           "Romania"
          ],
          [
           "Romania"
          ],
          [
           "Romania"
          ],
          [
           "Romania"
          ],
          [
           "Romania"
          ],
          [
           "Romania"
          ],
          [
           "Romania"
          ],
          [
           "Romania"
          ],
          [
           "Serbia"
          ],
          [
           "Serbia"
          ],
          [
           "Serbia"
          ],
          [
           "Serbia"
          ],
          [
           "Serbia"
          ],
          [
           "Serbia"
          ],
          [
           "Serbia"
          ],
          [
           "Serbia"
          ],
          [
           "Serbia"
          ],
          [
           "Serbia"
          ],
          [
           "Serbia"
          ],
          [
           "Serbia"
          ],
          [
           "Slovak Republic"
          ],
          [
           "Slovak Republic"
          ],
          [
           "Slovak Republic"
          ],
          [
           "Slovak Republic"
          ],
          [
           "Slovak Republic"
          ],
          [
           "Slovak Republic"
          ],
          [
           "Slovak Republic"
          ],
          [
           "Slovak Republic"
          ],
          [
           "Slovak Republic"
          ],
          [
           "Slovak Republic"
          ],
          [
           "Slovak Republic"
          ],
          [
           "Slovak Republic"
          ],
          [
           "Slovenia"
          ],
          [
           "Slovenia"
          ],
          [
           "Slovenia"
          ],
          [
           "Slovenia"
          ],
          [
           "Slovenia"
          ],
          [
           "Slovenia"
          ],
          [
           "Slovenia"
          ],
          [
           "Slovenia"
          ],
          [
           "Slovenia"
          ],
          [
           "Slovenia"
          ],
          [
           "Slovenia"
          ],
          [
           "Slovenia"
          ],
          [
           "Spain"
          ],
          [
           "Spain"
          ],
          [
           "Spain"
          ],
          [
           "Spain"
          ],
          [
           "Spain"
          ],
          [
           "Spain"
          ],
          [
           "Spain"
          ],
          [
           "Spain"
          ],
          [
           "Spain"
          ],
          [
           "Spain"
          ],
          [
           "Spain"
          ],
          [
           "Spain"
          ],
          [
           "Sweden"
          ],
          [
           "Sweden"
          ],
          [
           "Sweden"
          ],
          [
           "Sweden"
          ],
          [
           "Sweden"
          ],
          [
           "Sweden"
          ],
          [
           "Sweden"
          ],
          [
           "Sweden"
          ],
          [
           "Sweden"
          ],
          [
           "Sweden"
          ],
          [
           "Sweden"
          ],
          [
           "Sweden"
          ],
          [
           "Switzerland"
          ],
          [
           "Switzerland"
          ],
          [
           "Switzerland"
          ],
          [
           "Switzerland"
          ],
          [
           "Switzerland"
          ],
          [
           "Switzerland"
          ],
          [
           "Switzerland"
          ],
          [
           "Switzerland"
          ],
          [
           "Switzerland"
          ],
          [
           "Switzerland"
          ],
          [
           "Switzerland"
          ],
          [
           "Switzerland"
          ],
          [
           "Turkey"
          ],
          [
           "Turkey"
          ],
          [
           "Turkey"
          ],
          [
           "Turkey"
          ],
          [
           "Turkey"
          ],
          [
           "Turkey"
          ],
          [
           "Turkey"
          ],
          [
           "Turkey"
          ],
          [
           "Turkey"
          ],
          [
           "Turkey"
          ],
          [
           "Turkey"
          ],
          [
           "Turkey"
          ],
          [
           "United Kingdom"
          ],
          [
           "United Kingdom"
          ],
          [
           "United Kingdom"
          ],
          [
           "United Kingdom"
          ],
          [
           "United Kingdom"
          ],
          [
           "United Kingdom"
          ],
          [
           "United Kingdom"
          ],
          [
           "United Kingdom"
          ],
          [
           "United Kingdom"
          ],
          [
           "United Kingdom"
          ],
          [
           "United Kingdom"
          ],
          [
           "United Kingdom"
          ]
         ],
         "hovertemplate": "continent=Europe<br>year=%{x}<br>lifeExp=%{y}<br>pop=%{marker.size}<br>country=%{customdata[0]}<extra></extra>",
         "legendgroup": "Europe",
         "marker": {
          "color": "#EF553B",
          "size": [
           1282697,
           1476505,
           1728137,
           1984060,
           2263554,
           2509048,
           2780097,
           3075321,
           3326498,
           3428038,
           3508512,
           3600523,
           6927772,
           6965860,
           7129864,
           7376998,
           7544201,
           7568430,
           7574613,
           7578903,
           7914969,
           8069876,
           8148312,
           8199783,
           8730405,
           8989111,
           9218400,
           9556500,
           9709100,
           9821800,
           9856303,
           9870200,
           10045622,
           10199787,
           10311970,
           10392226,
           2791000,
           3076000,
           3349000,
           3585000,
           3819000,
           4086000,
           4172693,
           4338977,
           4256013,
           3607000,
           4165416,
           4552198,
           7274900,
           7651254,
           8012946,
           8310226,
           8576200,
           8797022,
           8892098,
           8971958,
           8658506,
           8066057,
           7661799,
           7322858,
           3882229,
           3991242,
           4076557,
           4174366,
           4225310,
           4318673,
           4413368,
           4484310,
           4494013,
           4444595,
           4481020,
           4493312,
           9125183,
           9513758,
           9620282,
           9835109,
           9862158,
           10161915,
           10303704,
           10311597,
           10315702,
           10300707,
           10256295,
           10228744,
           4334000,
           4487831,
           4646899,
           4838800,
           4991596,
           5088419,
           5117810,
           5127024,
           5171393,
           5283663,
           5374693,
           5468120,
           4090500,
           4324000,
           4491443,
           4605744,
           4639657,
           4738902,
           4826933,
           4931729,
           5041039,
           5134406,
           5193039,
           5238460,
           42459667,
           44310863,
           47124000,
           49569000,
           51732000,
           53165019,
           54433565,
           55630100,
           57374179,
           58623428,
           59925035,
           61083916,
           69145952,
           71019069,
           73739117,
           76368453,
           78717088,
           78160773,
           78335266,
           77718298,
           80597764,
           82011073,
           82350671,
           82400996,
           7733250,
           8096218,
           8448233,
           8716441,
           8888628,
           9308479,
           9786480,
           9974490,
           10325429,
           10502372,
           10603863,
           10706290,
           9504000,
           9839000,
           10063000,
           10223422,
           10394091,
           10637171,
           10705535,
           10612740,
           10348684,
           10244684,
           10083313,
           9956108,
           147962,
           165110,
           182053,
           198676,
           209275,
           221823,
           233997,
           244676,
           259012,
           271192,
           288030,
           301931,
           2952156,
           2878220,
           2830000,
           2900100,
           3024400,
           3271900,
           3480000,
           3539900,
           3557761,
           3667233,
           3879155,
           4109086,
           47666000,
           49182000,
           50843200,
           52667100,
           54365564,
           56059245,
           56535636,
           56729703,
           56840847,
           57479469,
           57926999,
           58147733,
           413834,
           442829,
           474528,
           501035,
           527678,
           560073,
           562548,
           569473,
           621621,
           692651,
           720230,
           684736,
           10381988,
           11026383,
           11805689,
           12596822,
           13329874,
           13852989,
           14310401,
           14665278,
           15174244,
           15604464,
           16122830,
           16570613,
           3327728,
           3491938,
           3638919,
           3786019,
           3933004,
           4043205,
           4114787,
           4186147,
           4286357,
           4405672,
           4535591,
           4627926,
           25730551,
           28235346,
           30329617,
           31785378,
           33039545,
           34621254,
           36227381,
           37740710,
           38370697,
           38654957,
           38625976,
           38518241,
           8526050,
           8817650,
           9019800,
           9103000,
           8970450,
           9662600,
           9859650,
           9915289,
           9927680,
           10156415,
           10433867,
           10642836,
           16630000,
           17829327,
           18680721,
           19284814,
           20662648,
           21658597,
           22356726,
           22686371,
           22797027,
           22562458,
           22404337,
           22276056,
           6860147,
           7271135,
           7616060,
           7971222,
           8313288,
           8686367,
           9032824,
           9230783,
           9826397,
           10336594,
           10111559,
           10150265,
           3558137,
           3844277,
           4237384,
           4442238,
           4593433,
           4827803,
           5048043,
           5199318,
           5302888,
           5383010,
           5410052,
           5447502,
           1489518,
           1533070,
           1582962,
           1646912,
           1694510,
           1746919,
           1861252,
           1945870,
           1999210,
           2011612,
           2011497,
           2009245,
           28549870,
           29841614,
           31158061,
           32850275,
           34513161,
           36439000,
           37983310,
           38880702,
           39549438,
           39855442,
           40152517,
           40448191,
           7124673,
           7363802,
           7561588,
           7867931,
           8122293,
           8251648,
           8325260,
           8421403,
           8718867,
           8897619,
           8954175,
           9031088,
           4815000,
           5126000,
           5666000,
           6063000,
           6401400,
           6316424,
           6468126,
           6649942,
           6995447,
           7193761,
           7361757,
           7554661,
           22235677,
           25670939,
           29788695,
           33411317,
           37492953,
           42404033,
           47328791,
           52881328,
           58179144,
           63047647,
           67308928,
           71158647,
           50430000,
           51430000,
           53292000,
           54959000,
           56079000,
           56179000,
           56339704,
           56981620,
           57866349,
           58808266,
           59912431,
           60776238
          ],
          "sizemode": "area",
          "sizeref": 3296707.74,
          "symbol": "circle"
         },
         "mode": "markers",
         "name": "Europe",
         "scene": "scene",
         "showlegend": true,
         "type": "scatter3d",
         "x": [
          1952,
          1957,
          1962,
          1967,
          1972,
          1977,
          1982,
          1987,
          1992,
          1997,
          2002,
          2007,
          1952,
          1957,
          1962,
          1967,
          1972,
          1977,
          1982,
          1987,
          1992,
          1997,
          2002,
          2007,
          1952,
          1957,
          1962,
          1967,
          1972,
          1977,
          1982,
          1987,
          1992,
          1997,
          2002,
          2007,
          1952,
          1957,
          1962,
          1967,
          1972,
          1977,
          1982,
          1987,
          1992,
          1997,
          2002,
          2007,
          1952,
          1957,
          1962,
          1967,
          1972,
          1977,
          1982,
          1987,
          1992,
          1997,
          2002,
          2007,
          1952,
          1957,
          1962,
          1967,
          1972,
          1977,
          1982,
          1987,
          1992,
          1997,
          2002,
          2007,
          1952,
          1957,
          1962,
          1967,
          1972,
          1977,
          1982,
          1987,
          1992,
          1997,
          2002,
          2007,
          1952,
          1957,
          1962,
          1967,
          1972,
          1977,
          1982,
          1987,
          1992,
          1997,
          2002,
          2007,
          1952,
          1957,
          1962,
          1967,
          1972,
          1977,
          1982,
          1987,
          1992,
          1997,
          2002,
          2007,
          1952,
          1957,
          1962,
          1967,
          1972,
          1977,
          1982,
          1987,
          1992,
          1997,
          2002,
          2007,
          1952,
          1957,
          1962,
          1967,
          1972,
          1977,
          1982,
          1987,
          1992,
          1997,
          2002,
          2007,
          1952,
          1957,
          1962,
          1967,
          1972,
          1977,
          1982,
          1987,
          1992,
          1997,
          2002,
          2007,
          1952,
          1957,
          1962,
          1967,
          1972,
          1977,
          1982,
          1987,
          1992,
          1997,
          2002,
          2007,
          1952,
          1957,
          1962,
          1967,
          1972,
          1977,
          1982,
          1987,
          1992,
          1997,
          2002,
          2007,
          1952,
          1957,
          1962,
          1967,
          1972,
          1977,
          1982,
          1987,
          1992,
          1997,
          2002,
          2007,
          1952,
          1957,
          1962,
          1967,
          1972,
          1977,
          1982,
          1987,
          1992,
          1997,
          2002,
          2007,
          1952,
          1957,
          1962,
          1967,
          1972,
          1977,
          1982,
          1987,
          1992,
          1997,
          2002,
          2007,
          1952,
          1957,
          1962,
          1967,
          1972,
          1977,
          1982,
          1987,
          1992,
          1997,
          2002,
          2007,
          1952,
          1957,
          1962,
          1967,
          1972,
          1977,
          1982,
          1987,
          1992,
          1997,
          2002,
          2007,
          1952,
          1957,
          1962,
          1967,
          1972,
          1977,
          1982,
          1987,
          1992,
          1997,
          2002,
          2007,
          1952,
          1957,
          1962,
          1967,
          1972,
          1977,
          1982,
          1987,
          1992,
          1997,
          2002,
          2007,
          1952,
          1957,
          1962,
          1967,
          1972,
          1977,
          1982,
          1987,
          1992,
          1997,
          2002,
          2007,
          1952,
          1957,
          1962,
          1967,
          1972,
          1977,
          1982,
          1987,
          1992,
          1997,
          2002,
          2007,
          1952,
          1957,
          1962,
          1967,
          1972,
          1977,
          1982,
          1987,
          1992,
          1997,
          2002,
          2007,
          1952,
          1957,
          1962,
          1967,
          1972,
          1977,
          1982,
          1987,
          1992,
          1997,
          2002,
          2007,
          1952,
          1957,
          1962,
          1967,
          1972,
          1977,
          1982,
          1987,
          1992,
          1997,
          2002,
          2007,
          1952,
          1957,
          1962,
          1967,
          1972,
          1977,
          1982,
          1987,
          1992,
          1997,
          2002,
          2007,
          1952,
          1957,
          1962,
          1967,
          1972,
          1977,
          1982,
          1987,
          1992,
          1997,
          2002,
          2007,
          1952,
          1957,
          1962,
          1967,
          1972,
          1977,
          1982,
          1987,
          1992,
          1997,
          2002,
          2007,
          1952,
          1957,
          1962,
          1967,
          1972,
          1977,
          1982,
          1987,
          1992,
          1997,
          2002,
          2007
         ],
         "y": [
          55.23,
          59.28,
          64.82,
          66.22,
          67.69,
          68.93,
          70.42,
          72,
          71.581,
          72.95,
          75.65100000000002,
          76.423,
          66.8,
          67.48,
          69.54,
          70.14,
          70.63,
          72.17,
          73.18,
          74.94,
          76.04,
          77.51,
          78.98,
          79.829,
          68,
          69.24,
          70.25,
          70.94,
          71.44,
          72.8,
          73.93,
          75.35,
          76.46,
          77.53,
          78.32,
          79.441,
          53.82,
          58.45,
          61.93,
          64.79,
          67.45,
          69.86,
          70.69,
          71.14,
          72.178,
          73.244,
          74.09,
          74.852,
          59.6,
          66.61,
          69.51,
          70.42,
          70.9,
          70.81,
          71.08,
          71.34,
          71.19,
          70.32,
          72.14,
          73.005,
          61.21,
          64.77,
          67.13,
          68.5,
          69.61,
          70.64,
          70.46,
          71.52,
          72.527,
          73.68,
          74.876,
          75.748,
          66.87,
          69.03,
          69.9,
          70.38,
          70.29,
          70.71,
          70.96,
          71.58,
          72.4,
          74.01,
          75.51,
          76.486,
          70.78,
          71.81,
          72.35,
          72.96,
          73.47,
          74.69,
          74.63,
          74.8,
          75.33,
          76.11,
          77.18,
          78.332,
          66.55,
          67.49,
          68.75,
          69.83,
          70.87,
          72.52,
          74.55,
          74.83,
          75.7,
          77.13,
          78.37,
          79.313,
          67.41,
          68.93,
          70.51,
          71.55,
          72.38,
          73.83,
          74.89,
          76.34,
          77.46,
          78.64,
          79.59,
          80.657,
          67.5,
          69.1,
          70.3,
          70.8,
          71,
          72.5,
          73.8,
          74.847,
          76.07,
          77.34,
          78.67,
          79.406,
          65.86,
          67.86,
          69.51,
          71,
          72.34,
          73.68,
          75.24,
          76.67,
          77.03,
          77.869,
          78.256,
          79.483,
          64.03,
          66.41,
          67.96,
          69.5,
          69.76,
          69.95,
          69.39,
          69.58,
          69.17,
          71.04,
          72.59,
          73.33800000000002,
          72.49,
          73.47,
          73.68,
          73.73,
          74.46,
          76.11,
          76.99,
          77.23,
          78.77,
          78.95,
          80.5,
          81.757,
          66.91,
          68.9,
          70.29,
          71.08,
          71.28,
          72.03,
          73.1,
          74.36,
          75.467,
          76.122,
          77.783,
          78.885,
          65.94,
          67.81,
          69.24,
          71.06,
          72.19,
          73.48,
          74.98,
          76.42,
          77.44,
          78.82,
          80.24,
          80.546,
          59.164,
          61.448,
          63.728,
          67.178,
          70.63600000000002,
          73.066,
          74.101,
          74.865,
          75.435,
          75.445,
          73.98100000000002,
          74.543,
          72.13,
          72.99,
          73.23,
          73.82,
          73.75,
          75.24,
          76.05,
          76.83,
          77.42,
          78.03,
          78.53,
          79.762,
          72.67,
          73.44,
          73.47,
          74.08,
          74.34,
          75.37,
          75.97,
          75.89,
          77.32,
          78.32,
          79.05,
          80.196,
          61.31,
          65.77,
          67.64,
          69.61,
          70.85,
          70.67,
          71.32,
          70.98,
          70.99,
          72.75,
          74.67,
          75.563,
          59.82,
          61.51,
          64.39,
          66.6,
          69.26,
          70.41,
          72.77,
          74.06,
          74.86,
          75.97,
          77.29,
          78.098,
          61.05,
          64.1,
          66.8,
          66.8,
          69.21,
          69.46,
          69.66,
          69.53,
          69.36,
          69.72,
          71.322,
          72.476,
          57.996,
          61.685,
          64.531,
          66.914,
          68.7,
          70.3,
          70.16199999999999,
          71.218,
          71.65899999999998,
          72.232,
          73.21300000000002,
          74.002,
          64.36,
          67.45,
          70.33,
          70.98,
          70.35,
          70.45,
          70.8,
          71.08,
          71.38,
          72.71,
          73.8,
          74.663,
          65.57,
          67.85,
          69.15,
          69.18,
          69.82,
          70.97,
          71.063,
          72.25,
          73.64,
          75.13,
          76.66,
          77.926,
          64.94,
          66.66,
          69.69,
          71.44,
          73.06,
          74.39,
          76.3,
          76.9,
          77.57,
          78.77,
          79.78,
          80.941,
          71.86,
          72.49,
          73.37,
          74.16,
          74.72,
          75.44,
          76.42,
          77.19,
          78.16,
          79.39,
          80.04,
          80.884,
          69.62,
          70.56,
          71.32,
          72.77,
          73.78,
          75.39,
          76.21,
          77.41,
          78.03,
          79.37,
          80.62,
          81.70100000000002,
          43.585,
          48.07899999999999,
          52.098,
          54.33600000000001,
          57.005,
          59.507,
          61.036,
          63.108,
          66.146,
          68.835,
          70.845,
          71.777,
          69.18,
          70.42,
          70.76,
          71.36,
          72.01,
          72.76,
          74.04,
          75.007,
          76.42,
          77.218,
          78.471,
          79.425
         ],
         "z": [
          1282697,
          1476505,
          1728137,
          1984060,
          2263554,
          2509048,
          2780097,
          3075321,
          3326498,
          3428038,
          3508512,
          3600523,
          6927772,
          6965860,
          7129864,
          7376998,
          7544201,
          7568430,
          7574613,
          7578903,
          7914969,
          8069876,
          8148312,
          8199783,
          8730405,
          8989111,
          9218400,
          9556500,
          9709100,
          9821800,
          9856303,
          9870200,
          10045622,
          10199787,
          10311970,
          10392226,
          2791000,
          3076000,
          3349000,
          3585000,
          3819000,
          4086000,
          4172693,
          4338977,
          4256013,
          3607000,
          4165416,
          4552198,
          7274900,
          7651254,
          8012946,
          8310226,
          8576200,
          8797022,
          8892098,
          8971958,
          8658506,
          8066057,
          7661799,
          7322858,
          3882229,
          3991242,
          4076557,
          4174366,
          4225310,
          4318673,
          4413368,
          4484310,
          4494013,
          4444595,
          4481020,
          4493312,
          9125183,
          9513758,
          9620282,
          9835109,
          9862158,
          10161915,
          10303704,
          10311597,
          10315702,
          10300707,
          10256295,
          10228744,
          4334000,
          4487831,
          4646899,
          4838800,
          4991596,
          5088419,
          5117810,
          5127024,
          5171393,
          5283663,
          5374693,
          5468120,
          4090500,
          4324000,
          4491443,
          4605744,
          4639657,
          4738902,
          4826933,
          4931729,
          5041039,
          5134406,
          5193039,
          5238460,
          42459667,
          44310863,
          47124000,
          49569000,
          51732000,
          53165019,
          54433565,
          55630100,
          57374179,
          58623428,
          59925035,
          61083916,
          69145952,
          71019069,
          73739117,
          76368453,
          78717088,
          78160773,
          78335266,
          77718298,
          80597764,
          82011073,
          82350671,
          82400996,
          7733250,
          8096218,
          8448233,
          8716441,
          8888628,
          9308479,
          9786480,
          9974490,
          10325429,
          10502372,
          10603863,
          10706290,
          9504000,
          9839000,
          10063000,
          10223422,
          10394091,
          10637171,
          10705535,
          10612740,
          10348684,
          10244684,
          10083313,
          9956108,
          147962,
          165110,
          182053,
          198676,
          209275,
          221823,
          233997,
          244676,
          259012,
          271192,
          288030,
          301931,
          2952156,
          2878220,
          2830000,
          2900100,
          3024400,
          3271900,
          3480000,
          3539900,
          3557761,
          3667233,
          3879155,
          4109086,
          47666000,
          49182000,
          50843200,
          52667100,
          54365564,
          56059245,
          56535636,
          56729703,
          56840847,
          57479469,
          57926999,
          58147733,
          413834,
          442829,
          474528,
          501035,
          527678,
          560073,
          562548,
          569473,
          621621,
          692651,
          720230,
          684736,
          10381988,
          11026383,
          11805689,
          12596822,
          13329874,
          13852989,
          14310401,
          14665278,
          15174244,
          15604464,
          16122830,
          16570613,
          3327728,
          3491938,
          3638919,
          3786019,
          3933004,
          4043205,
          4114787,
          4186147,
          4286357,
          4405672,
          4535591,
          4627926,
          25730551,
          28235346,
          30329617,
          31785378,
          33039545,
          34621254,
          36227381,
          37740710,
          38370697,
          38654957,
          38625976,
          38518241,
          8526050,
          8817650,
          9019800,
          9103000,
          8970450,
          9662600,
          9859650,
          9915289,
          9927680,
          10156415,
          10433867,
          10642836,
          16630000,
          17829327,
          18680721,
          19284814,
          20662648,
          21658597,
          22356726,
          22686371,
          22797027,
          22562458,
          22404337,
          22276056,
          6860147,
          7271135,
          7616060,
          7971222,
          8313288,
          8686367,
          9032824,
          9230783,
          9826397,
          10336594,
          10111559,
          10150265,
          3558137,
          3844277,
          4237384,
          4442238,
          4593433,
          4827803,
          5048043,
          5199318,
          5302888,
          5383010,
          5410052,
          5447502,
          1489518,
          1533070,
          1582962,
          1646912,
          1694510,
          1746919,
          1861252,
          1945870,
          1999210,
          2011612,
          2011497,
          2009245,
          28549870,
          29841614,
          31158061,
          32850275,
          34513161,
          36439000,
          37983310,
          38880702,
          39549438,
          39855442,
          40152517,
          40448191,
          7124673,
          7363802,
          7561588,
          7867931,
          8122293,
          8251648,
          8325260,
          8421403,
          8718867,
          8897619,
          8954175,
          9031088,
          4815000,
          5126000,
          5666000,
          6063000,
          6401400,
          6316424,
          6468126,
          6649942,
          6995447,
          7193761,
          7361757,
          7554661,
          22235677,
          25670939,
          29788695,
          33411317,
          37492953,
          42404033,
          47328791,
          52881328,
          58179144,
          63047647,
          67308928,
          71158647,
          50430000,
          51430000,
          53292000,
          54959000,
          56079000,
          56179000,
          56339704,
          56981620,
          57866349,
          58808266,
          59912431,
          60776238
         ]
        },
        {
         "customdata": [
          [
           "Algeria"
          ],
          [
           "Algeria"
          ],
          [
           "Algeria"
          ],
          [
           "Algeria"
          ],
          [
           "Algeria"
          ],
          [
           "Algeria"
          ],
          [
           "Algeria"
          ],
          [
           "Algeria"
          ],
          [
           "Algeria"
          ],
          [
           "Algeria"
          ],
          [
           "Algeria"
          ],
          [
           "Algeria"
          ],
          [
           "Angola"
          ],
          [
           "Angola"
          ],
          [
           "Angola"
          ],
          [
           "Angola"
          ],
          [
           "Angola"
          ],
          [
           "Angola"
          ],
          [
           "Angola"
          ],
          [
           "Angola"
          ],
          [
           "Angola"
          ],
          [
           "Angola"
          ],
          [
           "Angola"
          ],
          [
           "Angola"
          ],
          [
           "Benin"
          ],
          [
           "Benin"
          ],
          [
           "Benin"
          ],
          [
           "Benin"
          ],
          [
           "Benin"
          ],
          [
           "Benin"
          ],
          [
           "Benin"
          ],
          [
           "Benin"
          ],
          [
           "Benin"
          ],
          [
           "Benin"
          ],
          [
           "Benin"
          ],
          [
           "Benin"
          ],
          [
           "Botswana"
          ],
          [
           "Botswana"
          ],
          [
           "Botswana"
          ],
          [
           "Botswana"
          ],
          [
           "Botswana"
          ],
          [
           "Botswana"
          ],
          [
           "Botswana"
          ],
          [
           "Botswana"
          ],
          [
           "Botswana"
          ],
          [
           "Botswana"
          ],
          [
           "Botswana"
          ],
          [
           "Botswana"
          ],
          [
           "Burkina Faso"
          ],
          [
           "Burkina Faso"
          ],
          [
           "Burkina Faso"
          ],
          [
           "Burkina Faso"
          ],
          [
           "Burkina Faso"
          ],
          [
           "Burkina Faso"
          ],
          [
           "Burkina Faso"
          ],
          [
           "Burkina Faso"
          ],
          [
           "Burkina Faso"
          ],
          [
           "Burkina Faso"
          ],
          [
           "Burkina Faso"
          ],
          [
           "Burkina Faso"
          ],
          [
           "Burundi"
          ],
          [
           "Burundi"
          ],
          [
           "Burundi"
          ],
          [
           "Burundi"
          ],
          [
           "Burundi"
          ],
          [
           "Burundi"
          ],
          [
           "Burundi"
          ],
          [
           "Burundi"
          ],
          [
           "Burundi"
          ],
          [
           "Burundi"
          ],
          [
           "Burundi"
          ],
          [
           "Burundi"
          ],
          [
           "Cameroon"
          ],
          [
           "Cameroon"
          ],
          [
           "Cameroon"
          ],
          [
           "Cameroon"
          ],
          [
           "Cameroon"
          ],
          [
           "Cameroon"
          ],
          [
           "Cameroon"
          ],
          [
           "Cameroon"
          ],
          [
           "Cameroon"
          ],
          [
           "Cameroon"
          ],
          [
           "Cameroon"
          ],
          [
           "Cameroon"
          ],
          [
           "Central African Republic"
          ],
          [
           "Central African Republic"
          ],
          [
           "Central African Republic"
          ],
          [
           "Central African Republic"
          ],
          [
           "Central African Republic"
          ],
          [
           "Central African Republic"
          ],
          [
           "Central African Republic"
          ],
          [
           "Central African Republic"
          ],
          [
           "Central African Republic"
          ],
          [
           "Central African Republic"
          ],
          [
           "Central African Republic"
          ],
          [
           "Central African Republic"
          ],
          [
           "Chad"
          ],
          [
           "Chad"
          ],
          [
           "Chad"
          ],
          [
           "Chad"
          ],
          [
           "Chad"
          ],
          [
           "Chad"
          ],
          [
           "Chad"
          ],
          [
           "Chad"
          ],
          [
           "Chad"
          ],
          [
           "Chad"
          ],
          [
           "Chad"
          ],
          [
           "Chad"
          ],
          [
           "Comoros"
          ],
          [
           "Comoros"
          ],
          [
           "Comoros"
          ],
          [
           "Comoros"
          ],
          [
           "Comoros"
          ],
          [
           "Comoros"
          ],
          [
           "Comoros"
          ],
          [
           "Comoros"
          ],
          [
           "Comoros"
          ],
          [
           "Comoros"
          ],
          [
           "Comoros"
          ],
          [
           "Comoros"
          ],
          [
           "Congo, Dem. Rep."
          ],
          [
           "Congo, Dem. Rep."
          ],
          [
           "Congo, Dem. Rep."
          ],
          [
           "Congo, Dem. Rep."
          ],
          [
           "Congo, Dem. Rep."
          ],
          [
           "Congo, Dem. Rep."
          ],
          [
           "Congo, Dem. Rep."
          ],
          [
           "Congo, Dem. Rep."
          ],
          [
           "Congo, Dem. Rep."
          ],
          [
           "Congo, Dem. Rep."
          ],
          [
           "Congo, Dem. Rep."
          ],
          [
           "Congo, Dem. Rep."
          ],
          [
           "Congo, Rep."
          ],
          [
           "Congo, Rep."
          ],
          [
           "Congo, Rep."
          ],
          [
           "Congo, Rep."
          ],
          [
           "Congo, Rep."
          ],
          [
           "Congo, Rep."
          ],
          [
           "Congo, Rep."
          ],
          [
           "Congo, Rep."
          ],
          [
           "Congo, Rep."
          ],
          [
           "Congo, Rep."
          ],
          [
           "Congo, Rep."
          ],
          [
           "Congo, Rep."
          ],
          [
           "Cote d'Ivoire"
          ],
          [
           "Cote d'Ivoire"
          ],
          [
           "Cote d'Ivoire"
          ],
          [
           "Cote d'Ivoire"
          ],
          [
           "Cote d'Ivoire"
          ],
          [
           "Cote d'Ivoire"
          ],
          [
           "Cote d'Ivoire"
          ],
          [
           "Cote d'Ivoire"
          ],
          [
           "Cote d'Ivoire"
          ],
          [
           "Cote d'Ivoire"
          ],
          [
           "Cote d'Ivoire"
          ],
          [
           "Cote d'Ivoire"
          ],
          [
           "Djibouti"
          ],
          [
           "Djibouti"
          ],
          [
           "Djibouti"
          ],
          [
           "Djibouti"
          ],
          [
           "Djibouti"
          ],
          [
           "Djibouti"
          ],
          [
           "Djibouti"
          ],
          [
           "Djibouti"
          ],
          [
           "Djibouti"
          ],
          [
           "Djibouti"
          ],
          [
           "Djibouti"
          ],
          [
           "Djibouti"
          ],
          [
           "Egypt"
          ],
          [
           "Egypt"
          ],
          [
           "Egypt"
          ],
          [
           "Egypt"
          ],
          [
           "Egypt"
          ],
          [
           "Egypt"
          ],
          [
           "Egypt"
          ],
          [
           "Egypt"
          ],
          [
           "Egypt"
          ],
          [
           "Egypt"
          ],
          [
           "Egypt"
          ],
          [
           "Egypt"
          ],
          [
           "Equatorial Guinea"
          ],
          [
           "Equatorial Guinea"
          ],
          [
           "Equatorial Guinea"
          ],
          [
           "Equatorial Guinea"
          ],
          [
           "Equatorial Guinea"
          ],
          [
           "Equatorial Guinea"
          ],
          [
           "Equatorial Guinea"
          ],
          [
           "Equatorial Guinea"
          ],
          [
           "Equatorial Guinea"
          ],
          [
           "Equatorial Guinea"
          ],
          [
           "Equatorial Guinea"
          ],
          [
           "Equatorial Guinea"
          ],
          [
           "Eritrea"
          ],
          [
           "Eritrea"
          ],
          [
           "Eritrea"
          ],
          [
           "Eritrea"
          ],
          [
           "Eritrea"
          ],
          [
           "Eritrea"
          ],
          [
           "Eritrea"
          ],
          [
           "Eritrea"
          ],
          [
           "Eritrea"
          ],
          [
           "Eritrea"
          ],
          [
           "Eritrea"
          ],
          [
           "Eritrea"
          ],
          [
           "Ethiopia"
          ],
          [
           "Ethiopia"
          ],
          [
           "Ethiopia"
          ],
          [
           "Ethiopia"
          ],
          [
           "Ethiopia"
          ],
          [
           "Ethiopia"
          ],
          [
           "Ethiopia"
          ],
          [
           "Ethiopia"
          ],
          [
           "Ethiopia"
          ],
          [
           "Ethiopia"
          ],
          [
           "Ethiopia"
          ],
          [
           "Ethiopia"
          ],
          [
           "Gabon"
          ],
          [
           "Gabon"
          ],
          [
           "Gabon"
          ],
          [
           "Gabon"
          ],
          [
           "Gabon"
          ],
          [
           "Gabon"
          ],
          [
           "Gabon"
          ],
          [
           "Gabon"
          ],
          [
           "Gabon"
          ],
          [
           "Gabon"
          ],
          [
           "Gabon"
          ],
          [
           "Gabon"
          ],
          [
           "Gambia"
          ],
          [
           "Gambia"
          ],
          [
           "Gambia"
          ],
          [
           "Gambia"
          ],
          [
           "Gambia"
          ],
          [
           "Gambia"
          ],
          [
           "Gambia"
          ],
          [
           "Gambia"
          ],
          [
           "Gambia"
          ],
          [
           "Gambia"
          ],
          [
           "Gambia"
          ],
          [
           "Gambia"
          ],
          [
           "Ghana"
          ],
          [
           "Ghana"
          ],
          [
           "Ghana"
          ],
          [
           "Ghana"
          ],
          [
           "Ghana"
          ],
          [
           "Ghana"
          ],
          [
           "Ghana"
          ],
          [
           "Ghana"
          ],
          [
           "Ghana"
          ],
          [
           "Ghana"
          ],
          [
           "Ghana"
          ],
          [
           "Ghana"
          ],
          [
           "Guinea"
          ],
          [
           "Guinea"
          ],
          [
           "Guinea"
          ],
          [
           "Guinea"
          ],
          [
           "Guinea"
          ],
          [
           "Guinea"
          ],
          [
           "Guinea"
          ],
          [
           "Guinea"
          ],
          [
           "Guinea"
          ],
          [
           "Guinea"
          ],
          [
           "Guinea"
          ],
          [
           "Guinea"
          ],
          [
           "Guinea-Bissau"
          ],
          [
           "Guinea-Bissau"
          ],
          [
           "Guinea-Bissau"
          ],
          [
           "Guinea-Bissau"
          ],
          [
           "Guinea-Bissau"
          ],
          [
           "Guinea-Bissau"
          ],
          [
           "Guinea-Bissau"
          ],
          [
           "Guinea-Bissau"
          ],
          [
           "Guinea-Bissau"
          ],
          [
           "Guinea-Bissau"
          ],
          [
           "Guinea-Bissau"
          ],
          [
           "Guinea-Bissau"
          ],
          [
           "Kenya"
          ],
          [
           "Kenya"
          ],
          [
           "Kenya"
          ],
          [
           "Kenya"
          ],
          [
           "Kenya"
          ],
          [
           "Kenya"
          ],
          [
           "Kenya"
          ],
          [
           "Kenya"
          ],
          [
           "Kenya"
          ],
          [
           "Kenya"
          ],
          [
           "Kenya"
          ],
          [
           "Kenya"
          ],
          [
           "Lesotho"
          ],
          [
           "Lesotho"
          ],
          [
           "Lesotho"
          ],
          [
           "Lesotho"
          ],
          [
           "Lesotho"
          ],
          [
           "Lesotho"
          ],
          [
           "Lesotho"
          ],
          [
           "Lesotho"
          ],
          [
           "Lesotho"
          ],
          [
           "Lesotho"
          ],
          [
           "Lesotho"
          ],
          [
           "Lesotho"
          ],
          [
           "Liberia"
          ],
          [
           "Liberia"
          ],
          [
           "Liberia"
          ],
          [
           "Liberia"
          ],
          [
           "Liberia"
          ],
          [
           "Liberia"
          ],
          [
           "Liberia"
          ],
          [
           "Liberia"
          ],
          [
           "Liberia"
          ],
          [
           "Liberia"
          ],
          [
           "Liberia"
          ],
          [
           "Liberia"
          ],
          [
           "Libya"
          ],
          [
           "Libya"
          ],
          [
           "Libya"
          ],
          [
           "Libya"
          ],
          [
           "Libya"
          ],
          [
           "Libya"
          ],
          [
           "Libya"
          ],
          [
           "Libya"
          ],
          [
           "Libya"
          ],
          [
           "Libya"
          ],
          [
           "Libya"
          ],
          [
           "Libya"
          ],
          [
           "Madagascar"
          ],
          [
           "Madagascar"
          ],
          [
           "Madagascar"
          ],
          [
           "Madagascar"
          ],
          [
           "Madagascar"
          ],
          [
           "Madagascar"
          ],
          [
           "Madagascar"
          ],
          [
           "Madagascar"
          ],
          [
           "Madagascar"
          ],
          [
           "Madagascar"
          ],
          [
           "Madagascar"
          ],
          [
           "Madagascar"
          ],
          [
           "Malawi"
          ],
          [
           "Malawi"
          ],
          [
           "Malawi"
          ],
          [
           "Malawi"
          ],
          [
           "Malawi"
          ],
          [
           "Malawi"
          ],
          [
           "Malawi"
          ],
          [
           "Malawi"
          ],
          [
           "Malawi"
          ],
          [
           "Malawi"
          ],
          [
           "Malawi"
          ],
          [
           "Malawi"
          ],
          [
           "Mali"
          ],
          [
           "Mali"
          ],
          [
           "Mali"
          ],
          [
           "Mali"
          ],
          [
           "Mali"
          ],
          [
           "Mali"
          ],
          [
           "Mali"
          ],
          [
           "Mali"
          ],
          [
           "Mali"
          ],
          [
           "Mali"
          ],
          [
           "Mali"
          ],
          [
           "Mali"
          ],
          [
           "Mauritania"
          ],
          [
           "Mauritania"
          ],
          [
           "Mauritania"
          ],
          [
           "Mauritania"
          ],
          [
           "Mauritania"
          ],
          [
           "Mauritania"
          ],
          [
           "Mauritania"
          ],
          [
           "Mauritania"
          ],
          [
           "Mauritania"
          ],
          [
           "Mauritania"
          ],
          [
           "Mauritania"
          ],
          [
           "Mauritania"
          ],
          [
           "Mauritius"
          ],
          [
           "Mauritius"
          ],
          [
           "Mauritius"
          ],
          [
           "Mauritius"
          ],
          [
           "Mauritius"
          ],
          [
           "Mauritius"
          ],
          [
           "Mauritius"
          ],
          [
           "Mauritius"
          ],
          [
           "Mauritius"
          ],
          [
           "Mauritius"
          ],
          [
           "Mauritius"
          ],
          [
           "Mauritius"
          ],
          [
           "Morocco"
          ],
          [
           "Morocco"
          ],
          [
           "Morocco"
          ],
          [
           "Morocco"
          ],
          [
           "Morocco"
          ],
          [
           "Morocco"
          ],
          [
           "Morocco"
          ],
          [
           "Morocco"
          ],
          [
           "Morocco"
          ],
          [
           "Morocco"
          ],
          [
           "Morocco"
          ],
          [
           "Morocco"
          ],
          [
           "Mozambique"
          ],
          [
           "Mozambique"
          ],
          [
           "Mozambique"
          ],
          [
           "Mozambique"
          ],
          [
           "Mozambique"
          ],
          [
           "Mozambique"
          ],
          [
           "Mozambique"
          ],
          [
           "Mozambique"
          ],
          [
           "Mozambique"
          ],
          [
           "Mozambique"
          ],
          [
           "Mozambique"
          ],
          [
           "Mozambique"
          ],
          [
           "Namibia"
          ],
          [
           "Namibia"
          ],
          [
           "Namibia"
          ],
          [
           "Namibia"
          ],
          [
           "Namibia"
          ],
          [
           "Namibia"
          ],
          [
           "Namibia"
          ],
          [
           "Namibia"
          ],
          [
           "Namibia"
          ],
          [
           "Namibia"
          ],
          [
           "Namibia"
          ],
          [
           "Namibia"
          ],
          [
           "Niger"
          ],
          [
           "Niger"
          ],
          [
           "Niger"
          ],
          [
           "Niger"
          ],
          [
           "Niger"
          ],
          [
           "Niger"
          ],
          [
           "Niger"
          ],
          [
           "Niger"
          ],
          [
           "Niger"
          ],
          [
           "Niger"
          ],
          [
           "Niger"
          ],
          [
           "Niger"
          ],
          [
           "Nigeria"
          ],
          [
           "Nigeria"
          ],
          [
           "Nigeria"
          ],
          [
           "Nigeria"
          ],
          [
           "Nigeria"
          ],
          [
           "Nigeria"
          ],
          [
           "Nigeria"
          ],
          [
           "Nigeria"
          ],
          [
           "Nigeria"
          ],
          [
           "Nigeria"
          ],
          [
           "Nigeria"
          ],
          [
           "Nigeria"
          ],
          [
           "Reunion"
          ],
          [
           "Reunion"
          ],
          [
           "Reunion"
          ],
          [
           "Reunion"
          ],
          [
           "Reunion"
          ],
          [
           "Reunion"
          ],
          [
           "Reunion"
          ],
          [
           "Reunion"
          ],
          [
           "Reunion"
          ],
          [
           "Reunion"
          ],
          [
           "Reunion"
          ],
          [
           "Reunion"
          ],
          [
           "Rwanda"
          ],
          [
           "Rwanda"
          ],
          [
           "Rwanda"
          ],
          [
           "Rwanda"
          ],
          [
           "Rwanda"
          ],
          [
           "Rwanda"
          ],
          [
           "Rwanda"
          ],
          [
           "Rwanda"
          ],
          [
           "Rwanda"
          ],
          [
           "Rwanda"
          ],
          [
           "Rwanda"
          ],
          [
           "Rwanda"
          ],
          [
           "Sao Tome and Principe"
          ],
          [
           "Sao Tome and Principe"
          ],
          [
           "Sao Tome and Principe"
          ],
          [
           "Sao Tome and Principe"
          ],
          [
           "Sao Tome and Principe"
          ],
          [
           "Sao Tome and Principe"
          ],
          [
           "Sao Tome and Principe"
          ],
          [
           "Sao Tome and Principe"
          ],
          [
           "Sao Tome and Principe"
          ],
          [
           "Sao Tome and Principe"
          ],
          [
           "Sao Tome and Principe"
          ],
          [
           "Sao Tome and Principe"
          ],
          [
           "Senegal"
          ],
          [
           "Senegal"
          ],
          [
           "Senegal"
          ],
          [
           "Senegal"
          ],
          [
           "Senegal"
          ],
          [
           "Senegal"
          ],
          [
           "Senegal"
          ],
          [
           "Senegal"
          ],
          [
           "Senegal"
          ],
          [
           "Senegal"
          ],
          [
           "Senegal"
          ],
          [
           "Senegal"
          ],
          [
           "Sierra Leone"
          ],
          [
           "Sierra Leone"
          ],
          [
           "Sierra Leone"
          ],
          [
           "Sierra Leone"
          ],
          [
           "Sierra Leone"
          ],
          [
           "Sierra Leone"
          ],
          [
           "Sierra Leone"
          ],
          [
           "Sierra Leone"
          ],
          [
           "Sierra Leone"
          ],
          [
           "Sierra Leone"
          ],
          [
           "Sierra Leone"
          ],
          [
           "Sierra Leone"
          ],
          [
           "Somalia"
          ],
          [
           "Somalia"
          ],
          [
           "Somalia"
          ],
          [
           "Somalia"
          ],
          [
           "Somalia"
          ],
          [
           "Somalia"
          ],
          [
           "Somalia"
          ],
          [
           "Somalia"
          ],
          [
           "Somalia"
          ],
          [
           "Somalia"
          ],
          [
           "Somalia"
          ],
          [
           "Somalia"
          ],
          [
           "South Africa"
          ],
          [
           "South Africa"
          ],
          [
           "South Africa"
          ],
          [
           "South Africa"
          ],
          [
           "South Africa"
          ],
          [
           "South Africa"
          ],
          [
           "South Africa"
          ],
          [
           "South Africa"
          ],
          [
           "South Africa"
          ],
          [
           "South Africa"
          ],
          [
           "South Africa"
          ],
          [
           "South Africa"
          ],
          [
           "Sudan"
          ],
          [
           "Sudan"
          ],
          [
           "Sudan"
          ],
          [
           "Sudan"
          ],
          [
           "Sudan"
          ],
          [
           "Sudan"
          ],
          [
           "Sudan"
          ],
          [
           "Sudan"
          ],
          [
           "Sudan"
          ],
          [
           "Sudan"
          ],
          [
           "Sudan"
          ],
          [
           "Sudan"
          ],
          [
           "Swaziland"
          ],
          [
           "Swaziland"
          ],
          [
           "Swaziland"
          ],
          [
           "Swaziland"
          ],
          [
           "Swaziland"
          ],
          [
           "Swaziland"
          ],
          [
           "Swaziland"
          ],
          [
           "Swaziland"
          ],
          [
           "Swaziland"
          ],
          [
           "Swaziland"
          ],
          [
           "Swaziland"
          ],
          [
           "Swaziland"
          ],
          [
           "Tanzania"
          ],
          [
           "Tanzania"
          ],
          [
           "Tanzania"
          ],
          [
           "Tanzania"
          ],
          [
           "Tanzania"
          ],
          [
           "Tanzania"
          ],
          [
           "Tanzania"
          ],
          [
           "Tanzania"
          ],
          [
           "Tanzania"
          ],
          [
           "Tanzania"
          ],
          [
           "Tanzania"
          ],
          [
           "Tanzania"
          ],
          [
           "Togo"
          ],
          [
           "Togo"
          ],
          [
           "Togo"
          ],
          [
           "Togo"
          ],
          [
           "Togo"
          ],
          [
           "Togo"
          ],
          [
           "Togo"
          ],
          [
           "Togo"
          ],
          [
           "Togo"
          ],
          [
           "Togo"
          ],
          [
           "Togo"
          ],
          [
           "Togo"
          ],
          [
           "Tunisia"
          ],
          [
           "Tunisia"
          ],
          [
           "Tunisia"
          ],
          [
           "Tunisia"
          ],
          [
           "Tunisia"
          ],
          [
           "Tunisia"
          ],
          [
           "Tunisia"
          ],
          [
           "Tunisia"
          ],
          [
           "Tunisia"
          ],
          [
           "Tunisia"
          ],
          [
           "Tunisia"
          ],
          [
           "Tunisia"
          ],
          [
           "Uganda"
          ],
          [
           "Uganda"
          ],
          [
           "Uganda"
          ],
          [
           "Uganda"
          ],
          [
           "Uganda"
          ],
          [
           "Uganda"
          ],
          [
           "Uganda"
          ],
          [
           "Uganda"
          ],
          [
           "Uganda"
          ],
          [
           "Uganda"
          ],
          [
           "Uganda"
          ],
          [
           "Uganda"
          ],
          [
           "Zambia"
          ],
          [
           "Zambia"
          ],
          [
           "Zambia"
          ],
          [
           "Zambia"
          ],
          [
           "Zambia"
          ],
          [
           "Zambia"
          ],
          [
           "Zambia"
          ],
          [
           "Zambia"
          ],
          [
           "Zambia"
          ],
          [
           "Zambia"
          ],
          [
           "Zambia"
          ],
          [
           "Zambia"
          ],
          [
           "Zimbabwe"
          ],
          [
           "Zimbabwe"
          ],
          [
           "Zimbabwe"
          ],
          [
           "Zimbabwe"
          ],
          [
           "Zimbabwe"
          ],
          [
           "Zimbabwe"
          ],
          [
           "Zimbabwe"
          ],
          [
           "Zimbabwe"
          ],
          [
           "Zimbabwe"
          ],
          [
           "Zimbabwe"
          ],
          [
           "Zimbabwe"
          ],
          [
           "Zimbabwe"
          ]
         ],
         "hovertemplate": "continent=Africa<br>year=%{x}<br>lifeExp=%{y}<br>pop=%{marker.size}<br>country=%{customdata[0]}<extra></extra>",
         "legendgroup": "Africa",
         "marker": {
          "color": "#00cc96",
          "size": [
           9279525,
           10270856,
           11000948,
           12760499,
           14760787,
           17152804,
           20033753,
           23254956,
           26298373,
           29072015,
           31287142,
           33333216,
           4232095,
           4561361,
           4826015,
           5247469,
           5894858,
           6162675,
           7016384,
           7874230,
           8735988,
           9875024,
           10866106,
           12420476,
           1738315,
           1925173,
           2151895,
           2427334,
           2761407,
           3168267,
           3641603,
           4243788,
           4981671,
           6066080,
           7026113,
           8078314,
           442308,
           474639,
           512764,
           553541,
           619351,
           781472,
           970347,
           1151184,
           1342614,
           1536536,
           1630347,
           1639131,
           4469979,
           4713416,
           4919632,
           5127935,
           5433886,
           5889574,
           6634596,
           7586551,
           8878303,
           10352843,
           12251209,
           14326203,
           2445618,
           2667518,
           2961915,
           3330989,
           3529983,
           3834415,
           4580410,
           5126023,
           5809236,
           6121610,
           7021078,
           8390505,
           5009067,
           5359923,
           5793633,
           6335506,
           7021028,
           7959865,
           9250831,
           10780667,
           12467171,
           14195809,
           15929988,
           17696293,
           1291695,
           1392284,
           1523478,
           1733638,
           1927260,
           2167533,
           2476971,
           2840009,
           3265124,
           3696513,
           4048013,
           4369038,
           2682462,
           2894855,
           3150417,
           3495967,
           3899068,
           4388260,
           4875118,
           5498955,
           6429417,
           7562011,
           8835739,
           10238807,
           153936,
           170928,
           191689,
           217378,
           250027,
           304739,
           348643,
           395114,
           454429,
           527982,
           614382,
           710960,
           14100005,
           15577932,
           17486434,
           19941073,
           23007669,
           26480870,
           30646495,
           35481645,
           41672143,
           47798986,
           55379852,
           64606759,
           854885,
           940458,
           1047924,
           1179760,
           1340458,
           1536769,
           1774735,
           2064095,
           2409073,
           2800947,
           3328795,
           3800610,
           2977019,
           3300000,
           3832408,
           4744870,
           6071696,
           7459574,
           9025951,
           10761098,
           12772596,
           14625967,
           16252726,
           18013409,
           63149,
           71851,
           89898,
           127617,
           178848,
           228694,
           305991,
           311025,
           384156,
           417908,
           447416,
           496374,
           22223309,
           25009741,
           28173309,
           31681188,
           34807417,
           38783863,
           45681811,
           52799062,
           59402198,
           66134291,
           73312559,
           80264543,
           216964,
           232922,
           249220,
           259864,
           277603,
           192675,
           285483,
           341244,
           387838,
           439971,
           495627,
           551201,
           1438760,
           1542611,
           1666618,
           1820319,
           2260187,
           2512642,
           2637297,
           2915959,
           3668440,
           4058319,
           4414865,
           4906585,
           20860941,
           22815614,
           25145372,
           27860297,
           30770372,
           34617799,
           38111756,
           42999530,
           52088559,
           59861301,
           67946797,
           76511887,
           420702,
           434904,
           455661,
           489004,
           537977,
           706367,
           753874,
           880397,
           985739,
           1126189,
           1299304,
           1454867,
           284320,
           323150,
           374020,
           439593,
           517101,
           608274,
           715523,
           848406,
           1025384,
           1235767,
           1457766,
           1688359,
           5581001,
           6391288,
           7355248,
           8490213,
           9354120,
           10538093,
           11400338,
           14168101,
           16278738,
           18418288,
           20550751,
           22873338,
           2664249,
           2876726,
           3140003,
           3451418,
           3811387,
           4227026,
           4710497,
           5650262,
           6990574,
           8048834,
           8807818,
           9947814,
           580653,
           601095,
           627820,
           601287,
           625361,
           745228,
           825987,
           927524,
           1050938,
           1193708,
           1332459,
           1472041,
           6464046,
           7454779,
           8678557,
           10191512,
           12044785,
           14500404,
           17661452,
           21198082,
           25020539,
           28263827,
           31386842,
           35610177,
           748747,
           813338,
           893143,
           996380,
           1116779,
           1251524,
           1411807,
           1599200,
           1803195,
           1982823,
           2046772,
           2012649,
           863308,
           975950,
           1112796,
           1279406,
           1482628,
           1703617,
           1956875,
           2269414,
           1912974,
           2200725,
           2814651,
           3193942,
           1019729,
           1201578,
           1441863,
           1759224,
           2183877,
           2721783,
           3344074,
           3799845,
           4364501,
           4759670,
           5368585,
           6036914,
           4762912,
           5181679,
           5703324,
           6334556,
           7082430,
           8007166,
           9171477,
           10568642,
           12210395,
           14165114,
           16473477,
           19167654,
           2917802,
           3221238,
           3628608,
           4147252,
           4730997,
           5637246,
           6502825,
           7824747,
           10014249,
           10419991,
           11824495,
           13327079,
           3838168,
           4241884,
           4690372,
           5212416,
           5828158,
           6491649,
           6998256,
           7634008,
           8416215,
           9384984,
           10580176,
           12031795,
           1022556,
           1076852,
           1146757,
           1230542,
           1332786,
           1456688,
           1622136,
           1841240,
           2119465,
           2444741,
           2828858,
           3270065,
           516556,
           609816,
           701016,
           789309,
           851334,
           913025,
           992040,
           1042663,
           1096202,
           1149818,
           1200206,
           1250882,
           9939217,
           11406350,
           13056604,
           14770296,
           16660670,
           18396941,
           20198730,
           22987397,
           25798239,
           28529501,
           31167783,
           33757175,
           6446316,
           7038035,
           7788944,
           8680909,
           9809596,
           11127868,
           12587223,
           12891952,
           13160731,
           16603334,
           18473780,
           19951656,
           485831,
           548080,
           621392,
           706640,
           821782,
           977026,
           1099010,
           1278184,
           1554253,
           1774766,
           1972153,
           2055080,
           3379468,
           3692184,
           4076008,
           4534062,
           5060262,
           5682086,
           6437188,
           7332638,
           8392818,
           9666252,
           11140655,
           12894865,
           33119096,
           37173340,
           41871351,
           47287752,
           53740085,
           62209173,
           73039376,
           81551520,
           93364244,
           106207839,
           119901274,
           135031164,
           257700,
           308700,
           358900,
           414024,
           461633,
           492095,
           517810,
           562035,
           622191,
           684810,
           743981,
           798094,
           2534927,
           2822082,
           3051242,
           3451079,
           3992121,
           4657072,
           5507565,
           6349365,
           7290203,
           7212583,
           7852401,
           8860588,
           60011,
           61325,
           65345,
           70787,
           76595,
           86796,
           98593,
           110812,
           125911,
           145608,
           170372,
           199579,
           2755589,
           3054547,
           3430243,
           3965841,
           4588696,
           5260855,
           6147783,
           7171347,
           8307920,
           9535314,
           10870037,
           12267493,
           2143249,
           2295678,
           2467895,
           2662190,
           2879013,
           3140897,
           3464522,
           3868905,
           4260884,
           4578212,
           5359092,
           6144562,
           2526994,
           2780415,
           3080153,
           3428839,
           3840161,
           4353666,
           5828892,
           6921858,
           6099799,
           6633514,
           7753310,
           9118773,
           14264935,
           16151549,
           18356657,
           20997321,
           23935810,
           27129932,
           31140029,
           35933379,
           39964159,
           42835005,
           44433622,
           43997828,
           8504667,
           9753392,
           11183227,
           12716129,
           14597019,
           17104986,
           20367053,
           24725960,
           28227588,
           32160729,
           37090298,
           42292929,
           290243,
           326741,
           370006,
           420690,
           480105,
           551425,
           649901,
           779348,
           962344,
           1054486,
           1130269,
           1133066,
           8322925,
           9452826,
           10863958,
           12607312,
           14706593,
           17129565,
           19844382,
           23040630,
           26605473,
           30686889,
           34593779,
           38139640,
           1219113,
           1357445,
           1528098,
           1735550,
           2056351,
           2308582,
           2644765,
           3154264,
           3747553,
           4320890,
           4977378,
           5701579,
           3647735,
           3950849,
           4286552,
           4786986,
           5303507,
           6005061,
           6734098,
           7724976,
           8523077,
           9231669,
           9770575,
           10276158,
           5824797,
           6675501,
           7688797,
           8900294,
           10190285,
           11457758,
           12939400,
           15283050,
           18252190,
           21210254,
           24739869,
           29170398,
           2672000,
           3016000,
           3421000,
           3900000,
           4506497,
           5216550,
           6100407,
           7272406,
           8381163,
           9417789,
           10595811,
           11746035,
           3080907,
           3646340,
           4277736,
           4995432,
           5861135,
           6642107,
           7636524,
           9216418,
           10704340,
           11404948,
           11926563,
           12311143
          ],
          "sizemode": "area",
          "sizeref": 3296707.74,
          "symbol": "circle"
         },
         "mode": "markers",
         "name": "Africa",
         "scene": "scene",
         "showlegend": true,
         "type": "scatter3d",
         "x": [
          1952,
          1957,
          1962,
          1967,
          1972,
          1977,
          1982,
          1987,
          1992,
          1997,
          2002,
          2007,
          1952,
          1957,
          1962,
          1967,
          1972,
          1977,
          1982,
          1987,
          1992,
          1997,
          2002,
          2007,
          1952,
          1957,
          1962,
          1967,
          1972,
          1977,
          1982,
          1987,
          1992,
          1997,
          2002,
          2007,
          1952,
          1957,
          1962,
          1967,
          1972,
          1977,
          1982,
          1987,
          1992,
          1997,
          2002,
          2007,
          1952,
          1957,
          1962,
          1967,
          1972,
          1977,
          1982,
          1987,
          1992,
          1997,
          2002,
          2007,
          1952,
          1957,
          1962,
          1967,
          1972,
          1977,
          1982,
          1987,
          1992,
          1997,
          2002,
          2007,
          1952,
          1957,
          1962,
          1967,
          1972,
          1977,
          1982,
          1987,
          1992,
          1997,
          2002,
          2007,
          1952,
          1957,
          1962,
          1967,
          1972,
          1977,
          1982,
          1987,
          1992,
          1997,
          2002,
          2007,
          1952,
          1957,
          1962,
          1967,
          1972,
          1977,
          1982,
          1987,
          1992,
          1997,
          2002,
          2007,
          1952,
          1957,
          1962,
          1967,
          1972,
          1977,
          1982,
          1987,
          1992,
          1997,
          2002,
          2007,
          1952,
          1957,
          1962,
          1967,
          1972,
          1977,
          1982,
          1987,
          1992,
          1997,
          2002,
          2007,
          1952,
          1957,
          1962,
          1967,
          1972,
          1977,
          1982,
          1987,
          1992,
          1997,
          2002,
          2007,
          1952,
          1957,
          1962,
          1967,
          1972,
          1977,
          1982,
          1987,
          1992,
          1997,
          2002,
          2007,
          1952,
          1957,
          1962,
          1967,
          1972,
          1977,
          1982,
          1987,
          1992,
          1997,
          2002,
          2007,
          1952,
          1957,
          1962,
          1967,
          1972,
          1977,
          1982,
          1987,
          1992,
          1997,
          2002,
          2007,
          1952,
          1957,
          1962,
          1967,
          1972,
          1977,
          1982,
          1987,
          1992,
          1997,
          2002,
          2007,
          1952,
          1957,
          1962,
          1967,
          1972,
          1977,
          1982,
          1987,
          1992,
          1997,
          2002,
          2007,
          1952,
          1957,
          1962,
          1967,
          1972,
          1977,
          1982,
          1987,
          1992,
          1997,
          2002,
          2007,
          1952,
          1957,
          1962,
          1967,
          1972,
          1977,
          1982,
          1987,
          1992,
          1997,
          2002,
          2007,
          1952,
          1957,
          1962,
          1967,
          1972,
          1977,
          1982,
          1987,
          1992,
          1997,
          2002,
          2007,
          1952,
          1957,
          1962,
          1967,
          1972,
          1977,
          1982,
          1987,
          1992,
          1997,
          2002,
          2007,
          1952,
          1957,
          1962,
          1967,
          1972,
          1977,
          1982,
          1987,
          1992,
          1997,
          2002,
          2007,
          1952,
          1957,
          1962,
          1967,
          1972,
          1977,
          1982,
          1987,
          1992,
          1997,
          2002,
          2007,
          1952,
          1957,
          1962,
          1967,
          1972,
          1977,
          1982,
          1987,
          1992,
          1997,
          2002,
          2007,
          1952,
          1957,
          1962,
          1967,
          1972,
          1977,
          1982,
          1987,
          1992,
          1997,
          2002,
          2007,
          1952,
          1957,
          1962,
          1967,
          1972,
          1977,
          1982,
          1987,
          1992,
          1997,
          2002,
          2007,
          1952,
          1957,
          1962,
          1967,
          1972,
          1977,
          1982,
          1987,
          1992,
          1997,
          2002,
          2007,
          1952,
          1957,
          1962,
          1967,
          1972,
          1977,
          1982,
          1987,
          1992,
          1997,
          2002,
          2007,
          1952,
          1957,
          1962,
          1967,
          1972,
          1977,
          1982,
          1987,
          1992,
          1997,
          2002,
          2007,
          1952,
          1957,
          1962,
          1967,
          1972,
          1977,
          1982,
          1987,
          1992,
          1997,
          2002,
          2007,
          1952,
          1957,
          1962,
          1967,
          1972,
          1977,
          1982,
          1987,
          1992,
          1997,
          2002,
          2007,
          1952,
          1957,
          1962,
          1967,
          1972,
          1977,
          1982,
          1987,
          1992,
          1997,
          2002,
          2007,
          1952,
          1957,
          1962,
          1967,
          1972,
          1977,
          1982,
          1987,
          1992,
          1997,
          2002,
          2007,
          1952,
          1957,
          1962,
          1967,
          1972,
          1977,
          1982,
          1987,
          1992,
          1997,
          2002,
          2007,
          1952,
          1957,
          1962,
          1967,
          1972,
          1977,
          1982,
          1987,
          1992,
          1997,
          2002,
          2007,
          1952,
          1957,
          1962,
          1967,
          1972,
          1977,
          1982,
          1987,
          1992,
          1997,
          2002,
          2007,
          1952,
          1957,
          1962,
          1967,
          1972,
          1977,
          1982,
          1987,
          1992,
          1997,
          2002,
          2007,
          1952,
          1957,
          1962,
          1967,
          1972,
          1977,
          1982,
          1987,
          1992,
          1997,
          2002,
          2007,
          1952,
          1957,
          1962,
          1967,
          1972,
          1977,
          1982,
          1987,
          1992,
          1997,
          2002,
          2007,
          1952,
          1957,
          1962,
          1967,
          1972,
          1977,
          1982,
          1987,
          1992,
          1997,
          2002,
          2007,
          1952,
          1957,
          1962,
          1967,
          1972,
          1977,
          1982,
          1987,
          1992,
          1997,
          2002,
          2007,
          1952,
          1957,
          1962,
          1967,
          1972,
          1977,
          1982,
          1987,
          1992,
          1997,
          2002,
          2007,
          1952,
          1957,
          1962,
          1967,
          1972,
          1977,
          1982,
          1987,
          1992,
          1997,
          2002,
          2007,
          1952,
          1957,
          1962,
          1967,
          1972,
          1977,
          1982,
          1987,
          1992,
          1997,
          2002,
          2007,
          1952,
          1957,
          1962,
          1967,
          1972,
          1977,
          1982,
          1987,
          1992,
          1997,
          2002,
          2007,
          1952,
          1957,
          1962,
          1967,
          1972,
          1977,
          1982,
          1987,
          1992,
          1997,
          2002,
          2007,
          1952,
          1957,
          1962,
          1967,
          1972,
          1977,
          1982,
          1987,
          1992,
          1997,
          2002,
          2007,
          1952,
          1957,
          1962,
          1967,
          1972,
          1977,
          1982,
          1987,
          1992,
          1997,
          2002,
          2007,
          1952,
          1957,
          1962,
          1967,
          1972,
          1977,
          1982,
          1987,
          1992,
          1997,
          2002,
          2007,
          1952,
          1957,
          1962,
          1967,
          1972,
          1977,
          1982,
          1987,
          1992,
          1997,
          2002,
          2007,
          1952,
          1957,
          1962,
          1967,
          1972,
          1977,
          1982,
          1987,
          1992,
          1997,
          2002,
          2007,
          1952,
          1957,
          1962,
          1967,
          1972,
          1977,
          1982,
          1987,
          1992,
          1997,
          2002,
          2007
         ],
         "y": [
          43.077,
          45.685,
          48.303,
          51.407,
          54.518,
          58.014,
          61.368,
          65.79899999999999,
          67.744,
          69.152,
          70.994,
          72.301,
          30.015,
          31.999,
          34,
          35.985,
          37.928,
          39.483,
          39.942,
          39.906,
          40.647,
          40.963,
          41.003,
          42.731,
          38.223,
          40.358,
          42.618,
          44.885,
          47.014,
          49.19,
          50.904,
          52.337,
          53.919,
          54.777,
          54.40600000000001,
          56.728,
          47.622,
          49.618,
          51.52,
          53.298,
          56.024,
          59.319,
          61.484,
          63.622,
          62.745,
          52.556,
          46.63399999999999,
          50.728,
          31.975,
          34.906,
          37.814,
          40.697,
          43.591,
          46.137,
          48.122,
          49.557,
          50.26,
          50.324,
          50.65,
          52.295,
          39.031,
          40.533,
          42.045,
          43.548,
          44.057,
          45.91,
          47.471,
          48.21100000000001,
          44.736,
          45.326,
          47.36,
          49.58,
          38.523,
          40.428,
          42.643,
          44.799,
          47.049,
          49.355,
          52.96100000000001,
          54.985,
          54.31399999999999,
          52.199,
          49.856,
          50.43,
          35.463,
          37.464,
          39.475,
          41.478,
          43.457,
          46.775,
          48.295,
          50.485,
          49.396,
          46.066,
          43.308,
          44.74100000000001,
          38.092,
          39.881,
          41.716,
          43.601000000000006,
          45.569,
          47.383,
          49.517,
          51.051,
          51.724,
          51.573,
          50.525,
          50.651,
          40.715,
          42.46,
          44.467,
          46.472,
          48.944,
          50.93899999999999,
          52.933,
          54.926,
          57.93899999999999,
          60.66,
          62.974,
          65.152,
          39.143,
          40.652,
          42.122,
          44.056,
          45.989,
          47.804,
          47.784,
          47.412,
          45.548,
          42.587,
          44.966,
          46.462,
          42.111,
          45.053,
          48.435,
          52.04,
          54.907,
          55.625,
          56.695,
          57.47,
          56.433,
          52.962,
          52.97,
          55.322,
          40.477,
          42.469,
          44.93,
          47.35,
          49.801,
          52.374,
          53.983,
          54.655,
          52.044,
          47.99100000000001,
          46.832,
          48.328,
          34.812,
          37.328,
          39.69300000000001,
          42.074,
          44.36600000000001,
          46.519,
          48.812,
          50.04,
          51.604,
          53.157,
          53.37300000000001,
          54.791,
          41.893,
          44.444,
          46.992,
          49.293,
          51.137,
          53.319,
          56.006,
          59.797,
          63.674,
          67.217,
          69.806,
          71.33800000000002,
          34.482,
          35.98300000000001,
          37.485,
          38.987,
          40.516,
          42.024,
          43.662,
          45.664,
          47.545,
          48.245,
          49.348,
          51.57899999999999,
          35.92800000000001,
          38.047,
          40.158,
          42.18899999999999,
          44.142,
          44.535,
          43.89,
          46.453,
          49.99100000000001,
          53.378,
          55.24,
          58.04,
          34.078,
          36.667,
          40.059,
          42.115,
          43.515,
          44.51,
          44.916,
          46.684,
          48.091,
          49.402,
          50.725,
          52.947,
          37.003,
          38.999,
          40.489,
          44.598,
          48.69,
          52.79,
          56.56399999999999,
          60.19,
          61.36600000000001,
          60.46100000000001,
          56.761,
          56.735,
          30,
          32.065,
          33.896,
          35.857,
          38.308,
          41.842,
          45.58,
          49.265,
          52.644,
          55.861,
          58.041,
          59.448,
          43.149,
          44.779,
          46.452,
          48.072,
          49.875,
          51.756,
          53.744,
          55.729,
          57.50100000000001,
          58.556,
          58.453,
          60.022,
          33.609,
          34.558,
          35.753,
          37.197,
          38.842,
          40.762,
          42.89100000000001,
          45.552,
          48.576,
          51.455,
          53.676,
          56.007,
          32.5,
          33.489000000000004,
          34.488,
          35.492,
          36.486,
          37.465,
          39.327,
          41.245,
          43.26600000000001,
          44.87300000000001,
          45.504,
          46.38800000000001,
          42.27,
          44.68600000000001,
          47.949,
          50.654,
          53.559,
          56.155,
          58.76600000000001,
          59.339,
          59.285,
          54.407,
          50.992,
          54.11,
          42.13800000000001,
          45.047,
          47.747,
          48.492,
          49.767,
          52.208,
          55.078,
          57.18,
          59.685,
          55.558,
          44.593,
          42.592,
          38.48,
          39.486,
          40.502,
          41.536,
          42.614,
          43.764,
          44.852,
          46.027,
          40.802,
          42.221,
          43.753,
          45.678,
          42.723,
          45.289,
          47.808,
          50.227,
          52.773,
          57.442,
          62.155,
          66.234,
          68.755,
          71.555,
          72.737,
          73.952,
          36.681,
          38.865,
          40.848,
          42.881,
          44.851000000000006,
          46.881,
          48.969,
          49.35,
          52.214,
          54.978,
          57.286,
          59.44300000000001,
          36.256,
          37.207,
          38.41,
          39.487,
          41.76600000000001,
          43.767,
          45.642,
          47.457,
          49.42,
          47.495,
          45.00899999999999,
          48.303,
          33.685,
          35.30699999999999,
          36.936,
          38.487,
          39.977,
          41.714,
          43.916,
          46.364,
          48.38800000000001,
          49.903,
          51.81800000000001,
          54.467,
          40.543,
          42.338,
          44.24800000000001,
          46.289,
          48.437,
          50.852,
          53.599,
          56.145,
          58.333,
          60.43,
          62.247,
          64.164,
          50.986,
          58.089,
          60.246,
          61.557,
          62.944,
          64.93,
          66.711,
          68.74,
          69.745,
          70.736,
          71.954,
          72.801,
          42.87300000000001,
          45.423,
          47.924,
          50.335,
          52.862,
          55.73,
          59.65,
          62.677,
          65.393,
          67.66,
          69.615,
          71.164,
          31.286,
          33.779,
          36.161,
          38.113,
          40.328,
          42.495,
          42.795,
          42.861,
          44.284,
          46.344,
          44.026,
          42.082,
          41.725,
          45.226000000000006,
          48.386,
          51.159,
          53.867,
          56.437,
          58.968,
          60.835,
          61.999,
          58.909,
          51.479,
          52.90600000000001,
          37.444,
          38.598,
          39.487,
          40.118,
          40.546,
          41.291,
          42.598,
          44.555,
          47.39100000000001,
          51.313,
          54.496,
          56.867,
          36.324,
          37.802,
          39.36,
          41.04,
          42.82100000000001,
          44.514,
          45.826,
          46.886,
          47.472,
          47.464,
          46.608,
          46.859,
          52.724,
          55.09,
          57.666,
          60.542,
          64.274,
          67.064,
          69.885,
          71.913,
          73.615,
          74.77199999999998,
          75.744,
          76.442,
          40,
          41.5,
          43,
          44.1,
          44.6,
          45,
          46.218,
          44.02,
          23.599,
          36.087,
          43.413,
          46.242,
          46.471,
          48.945,
          51.893,
          54.425,
          56.48,
          58.55,
          60.351000000000006,
          61.728,
          62.742,
          63.306,
          64.337,
          65.528,
          37.278,
          39.329,
          41.45399999999999,
          43.563,
          45.815,
          48.879,
          52.379,
          55.769,
          58.19600000000001,
          60.187,
          61.6,
          63.062,
          30.331,
          31.57,
          32.767,
          34.113,
          35.4,
          36.788,
          38.445,
          40.006,
          38.333,
          39.897,
          41.012,
          42.56800000000001,
          32.978,
          34.977,
          36.981,
          38.977,
          40.973,
          41.974,
          42.955,
          44.50100000000001,
          39.658,
          43.795,
          45.93600000000001,
          48.159,
          45.00899999999999,
          47.985,
          49.951,
          51.927,
          53.69600000000001,
          55.527,
          58.161,
          60.834,
          61.88800000000001,
          60.236,
          53.365,
          49.339,
          38.635,
          39.624,
          40.87,
          42.858,
          45.083,
          47.8,
          50.338,
          51.744,
          53.556,
          55.37300000000001,
          56.369,
          58.556,
          41.407,
          43.424,
          44.992,
          46.633,
          49.552,
          52.537,
          55.56100000000001,
          57.678,
          58.474,
          54.289,
          43.869,
          39.613,
          41.215,
          42.974,
          44.246,
          45.757,
          47.62,
          49.919,
          50.608,
          51.535,
          50.44,
          48.466,
          49.651,
          52.517,
          38.596,
          41.208,
          43.922,
          46.769,
          49.75899999999999,
          52.887,
          55.471,
          56.941,
          58.06100000000001,
          58.39,
          57.56100000000001,
          58.42,
          44.6,
          47.1,
          49.57899999999999,
          52.053,
          55.602,
          59.837,
          64.048,
          66.89399999999999,
          70.001,
          71.973,
          73.042,
          73.923,
          39.978,
          42.57100000000001,
          45.344,
          48.051,
          51.01600000000001,
          50.35,
          49.849,
          51.50899999999999,
          48.825,
          44.578,
          47.813,
          51.542,
          42.038,
          44.077,
          46.023,
          47.768,
          50.107,
          51.386,
          51.82100000000001,
          50.82100000000001,
          46.1,
          40.238,
          39.19300000000001,
          42.38399999999999,
          48.451,
          50.469,
          52.358,
          53.995,
          55.635,
          57.674,
          60.363,
          62.351000000000006,
          60.377,
          46.809,
          39.989,
          43.487
         ],
         "z": [
          9279525,
          10270856,
          11000948,
          12760499,
          14760787,
          17152804,
          20033753,
          23254956,
          26298373,
          29072015,
          31287142,
          33333216,
          4232095,
          4561361,
          4826015,
          5247469,
          5894858,
          6162675,
          7016384,
          7874230,
          8735988,
          9875024,
          10866106,
          12420476,
          1738315,
          1925173,
          2151895,
          2427334,
          2761407,
          3168267,
          3641603,
          4243788,
          4981671,
          6066080,
          7026113,
          8078314,
          442308,
          474639,
          512764,
          553541,
          619351,
          781472,
          970347,
          1151184,
          1342614,
          1536536,
          1630347,
          1639131,
          4469979,
          4713416,
          4919632,
          5127935,
          5433886,
          5889574,
          6634596,
          7586551,
          8878303,
          10352843,
          12251209,
          14326203,
          2445618,
          2667518,
          2961915,
          3330989,
          3529983,
          3834415,
          4580410,
          5126023,
          5809236,
          6121610,
          7021078,
          8390505,
          5009067,
          5359923,
          5793633,
          6335506,
          7021028,
          7959865,
          9250831,
          10780667,
          12467171,
          14195809,
          15929988,
          17696293,
          1291695,
          1392284,
          1523478,
          1733638,
          1927260,
          2167533,
          2476971,
          2840009,
          3265124,
          3696513,
          4048013,
          4369038,
          2682462,
          2894855,
          3150417,
          3495967,
          3899068,
          4388260,
          4875118,
          5498955,
          6429417,
          7562011,
          8835739,
          10238807,
          153936,
          170928,
          191689,
          217378,
          250027,
          304739,
          348643,
          395114,
          454429,
          527982,
          614382,
          710960,
          14100005,
          15577932,
          17486434,
          19941073,
          23007669,
          26480870,
          30646495,
          35481645,
          41672143,
          47798986,
          55379852,
          64606759,
          854885,
          940458,
          1047924,
          1179760,
          1340458,
          1536769,
          1774735,
          2064095,
          2409073,
          2800947,
          3328795,
          3800610,
          2977019,
          3300000,
          3832408,
          4744870,
          6071696,
          7459574,
          9025951,
          10761098,
          12772596,
          14625967,
          16252726,
          18013409,
          63149,
          71851,
          89898,
          127617,
          178848,
          228694,
          305991,
          311025,
          384156,
          417908,
          447416,
          496374,
          22223309,
          25009741,
          28173309,
          31681188,
          34807417,
          38783863,
          45681811,
          52799062,
          59402198,
          66134291,
          73312559,
          80264543,
          216964,
          232922,
          249220,
          259864,
          277603,
          192675,
          285483,
          341244,
          387838,
          439971,
          495627,
          551201,
          1438760,
          1542611,
          1666618,
          1820319,
          2260187,
          2512642,
          2637297,
          2915959,
          3668440,
          4058319,
          4414865,
          4906585,
          20860941,
          22815614,
          25145372,
          27860297,
          30770372,
          34617799,
          38111756,
          42999530,
          52088559,
          59861301,
          67946797,
          76511887,
          420702,
          434904,
          455661,
          489004,
          537977,
          706367,
          753874,
          880397,
          985739,
          1126189,
          1299304,
          1454867,
          284320,
          323150,
          374020,
          439593,
          517101,
          608274,
          715523,
          848406,
          1025384,
          1235767,
          1457766,
          1688359,
          5581001,
          6391288,
          7355248,
          8490213,
          9354120,
          10538093,
          11400338,
          14168101,
          16278738,
          18418288,
          20550751,
          22873338,
          2664249,
          2876726,
          3140003,
          3451418,
          3811387,
          4227026,
          4710497,
          5650262,
          6990574,
          8048834,
          8807818,
          9947814,
          580653,
          601095,
          627820,
          601287,
          625361,
          745228,
          825987,
          927524,
          1050938,
          1193708,
          1332459,
          1472041,
          6464046,
          7454779,
          8678557,
          10191512,
          12044785,
          14500404,
          17661452,
          21198082,
          25020539,
          28263827,
          31386842,
          35610177,
          748747,
          813338,
          893143,
          996380,
          1116779,
          1251524,
          1411807,
          1599200,
          1803195,
          1982823,
          2046772,
          2012649,
          863308,
          975950,
          1112796,
          1279406,
          1482628,
          1703617,
          1956875,
          2269414,
          1912974,
          2200725,
          2814651,
          3193942,
          1019729,
          1201578,
          1441863,
          1759224,
          2183877,
          2721783,
          3344074,
          3799845,
          4364501,
          4759670,
          5368585,
          6036914,
          4762912,
          5181679,
          5703324,
          6334556,
          7082430,
          8007166,
          9171477,
          10568642,
          12210395,
          14165114,
          16473477,
          19167654,
          2917802,
          3221238,
          3628608,
          4147252,
          4730997,
          5637246,
          6502825,
          7824747,
          10014249,
          10419991,
          11824495,
          13327079,
          3838168,
          4241884,
          4690372,
          5212416,
          5828158,
          6491649,
          6998256,
          7634008,
          8416215,
          9384984,
          10580176,
          12031795,
          1022556,
          1076852,
          1146757,
          1230542,
          1332786,
          1456688,
          1622136,
          1841240,
          2119465,
          2444741,
          2828858,
          3270065,
          516556,
          609816,
          701016,
          789309,
          851334,
          913025,
          992040,
          1042663,
          1096202,
          1149818,
          1200206,
          1250882,
          9939217,
          11406350,
          13056604,
          14770296,
          16660670,
          18396941,
          20198730,
          22987397,
          25798239,
          28529501,
          31167783,
          33757175,
          6446316,
          7038035,
          7788944,
          8680909,
          9809596,
          11127868,
          12587223,
          12891952,
          13160731,
          16603334,
          18473780,
          19951656,
          485831,
          548080,
          621392,
          706640,
          821782,
          977026,
          1099010,
          1278184,
          1554253,
          1774766,
          1972153,
          2055080,
          3379468,
          3692184,
          4076008,
          4534062,
          5060262,
          5682086,
          6437188,
          7332638,
          8392818,
          9666252,
          11140655,
          12894865,
          33119096,
          37173340,
          41871351,
          47287752,
          53740085,
          62209173,
          73039376,
          81551520,
          93364244,
          106207839,
          119901274,
          135031164,
          257700,
          308700,
          358900,
          414024,
          461633,
          492095,
          517810,
          562035,
          622191,
          684810,
          743981,
          798094,
          2534927,
          2822082,
          3051242,
          3451079,
          3992121,
          4657072,
          5507565,
          6349365,
          7290203,
          7212583,
          7852401,
          8860588,
          60011,
          61325,
          65345,
          70787,
          76595,
          86796,
          98593,
          110812,
          125911,
          145608,
          170372,
          199579,
          2755589,
          3054547,
          3430243,
          3965841,
          4588696,
          5260855,
          6147783,
          7171347,
          8307920,
          9535314,
          10870037,
          12267493,
          2143249,
          2295678,
          2467895,
          2662190,
          2879013,
          3140897,
          3464522,
          3868905,
          4260884,
          4578212,
          5359092,
          6144562,
          2526994,
          2780415,
          3080153,
          3428839,
          3840161,
          4353666,
          5828892,
          6921858,
          6099799,
          6633514,
          7753310,
          9118773,
          14264935,
          16151549,
          18356657,
          20997321,
          23935810,
          27129932,
          31140029,
          35933379,
          39964159,
          42835005,
          44433622,
          43997828,
          8504667,
          9753392,
          11183227,
          12716129,
          14597019,
          17104986,
          20367053,
          24725960,
          28227588,
          32160729,
          37090298,
          42292929,
          290243,
          326741,
          370006,
          420690,
          480105,
          551425,
          649901,
          779348,
          962344,
          1054486,
          1130269,
          1133066,
          8322925,
          9452826,
          10863958,
          12607312,
          14706593,
          17129565,
          19844382,
          23040630,
          26605473,
          30686889,
          34593779,
          38139640,
          1219113,
          1357445,
          1528098,
          1735550,
          2056351,
          2308582,
          2644765,
          3154264,
          3747553,
          4320890,
          4977378,
          5701579,
          3647735,
          3950849,
          4286552,
          4786986,
          5303507,
          6005061,
          6734098,
          7724976,
          8523077,
          9231669,
          9770575,
          10276158,
          5824797,
          6675501,
          7688797,
          8900294,
          10190285,
          11457758,
          12939400,
          15283050,
          18252190,
          21210254,
          24739869,
          29170398,
          2672000,
          3016000,
          3421000,
          3900000,
          4506497,
          5216550,
          6100407,
          7272406,
          8381163,
          9417789,
          10595811,
          11746035,
          3080907,
          3646340,
          4277736,
          4995432,
          5861135,
          6642107,
          7636524,
          9216418,
          10704340,
          11404948,
          11926563,
          12311143
         ]
        },
        {
         "customdata": [
          [
           "Argentina"
          ],
          [
           "Argentina"
          ],
          [
           "Argentina"
          ],
          [
           "Argentina"
          ],
          [
           "Argentina"
          ],
          [
           "Argentina"
          ],
          [
           "Argentina"
          ],
          [
           "Argentina"
          ],
          [
           "Argentina"
          ],
          [
           "Argentina"
          ],
          [
           "Argentina"
          ],
          [
           "Argentina"
          ],
          [
           "Bolivia"
          ],
          [
           "Bolivia"
          ],
          [
           "Bolivia"
          ],
          [
           "Bolivia"
          ],
          [
           "Bolivia"
          ],
          [
           "Bolivia"
          ],
          [
           "Bolivia"
          ],
          [
           "Bolivia"
          ],
          [
           "Bolivia"
          ],
          [
           "Bolivia"
          ],
          [
           "Bolivia"
          ],
          [
           "Bolivia"
          ],
          [
           "Brazil"
          ],
          [
           "Brazil"
          ],
          [
           "Brazil"
          ],
          [
           "Brazil"
          ],
          [
           "Brazil"
          ],
          [
           "Brazil"
          ],
          [
           "Brazil"
          ],
          [
           "Brazil"
          ],
          [
           "Brazil"
          ],
          [
           "Brazil"
          ],
          [
           "Brazil"
          ],
          [
           "Brazil"
          ],
          [
           "Canada"
          ],
          [
           "Canada"
          ],
          [
           "Canada"
          ],
          [
           "Canada"
          ],
          [
           "Canada"
          ],
          [
           "Canada"
          ],
          [
           "Canada"
          ],
          [
           "Canada"
          ],
          [
           "Canada"
          ],
          [
           "Canada"
          ],
          [
           "Canada"
          ],
          [
           "Canada"
          ],
          [
           "Chile"
          ],
          [
           "Chile"
          ],
          [
           "Chile"
          ],
          [
           "Chile"
          ],
          [
           "Chile"
          ],
          [
           "Chile"
          ],
          [
           "Chile"
          ],
          [
           "Chile"
          ],
          [
           "Chile"
          ],
          [
           "Chile"
          ],
          [
           "Chile"
          ],
          [
           "Chile"
          ],
          [
           "Colombia"
          ],
          [
           "Colombia"
          ],
          [
           "Colombia"
          ],
          [
           "Colombia"
          ],
          [
           "Colombia"
          ],
          [
           "Colombia"
          ],
          [
           "Colombia"
          ],
          [
           "Colombia"
          ],
          [
           "Colombia"
          ],
          [
           "Colombia"
          ],
          [
           "Colombia"
          ],
          [
           "Colombia"
          ],
          [
           "Costa Rica"
          ],
          [
           "Costa Rica"
          ],
          [
           "Costa Rica"
          ],
          [
           "Costa Rica"
          ],
          [
           "Costa Rica"
          ],
          [
           "Costa Rica"
          ],
          [
           "Costa Rica"
          ],
          [
           "Costa Rica"
          ],
          [
           "Costa Rica"
          ],
          [
           "Costa Rica"
          ],
          [
           "Costa Rica"
          ],
          [
           "Costa Rica"
          ],
          [
           "Cuba"
          ],
          [
           "Cuba"
          ],
          [
           "Cuba"
          ],
          [
           "Cuba"
          ],
          [
           "Cuba"
          ],
          [
           "Cuba"
          ],
          [
           "Cuba"
          ],
          [
           "Cuba"
          ],
          [
           "Cuba"
          ],
          [
           "Cuba"
          ],
          [
           "Cuba"
          ],
          [
           "Cuba"
          ],
          [
           "Dominican Republic"
          ],
          [
           "Dominican Republic"
          ],
          [
           "Dominican Republic"
          ],
          [
           "Dominican Republic"
          ],
          [
           "Dominican Republic"
          ],
          [
           "Dominican Republic"
          ],
          [
           "Dominican Republic"
          ],
          [
           "Dominican Republic"
          ],
          [
           "Dominican Republic"
          ],
          [
           "Dominican Republic"
          ],
          [
           "Dominican Republic"
          ],
          [
           "Dominican Republic"
          ],
          [
           "Ecuador"
          ],
          [
           "Ecuador"
          ],
          [
           "Ecuador"
          ],
          [
           "Ecuador"
          ],
          [
           "Ecuador"
          ],
          [
           "Ecuador"
          ],
          [
           "Ecuador"
          ],
          [
           "Ecuador"
          ],
          [
           "Ecuador"
          ],
          [
           "Ecuador"
          ],
          [
           "Ecuador"
          ],
          [
           "Ecuador"
          ],
          [
           "El Salvador"
          ],
          [
           "El Salvador"
          ],
          [
           "El Salvador"
          ],
          [
           "El Salvador"
          ],
          [
           "El Salvador"
          ],
          [
           "El Salvador"
          ],
          [
           "El Salvador"
          ],
          [
           "El Salvador"
          ],
          [
           "El Salvador"
          ],
          [
           "El Salvador"
          ],
          [
           "El Salvador"
          ],
          [
           "El Salvador"
          ],
          [
           "Guatemala"
          ],
          [
           "Guatemala"
          ],
          [
           "Guatemala"
          ],
          [
           "Guatemala"
          ],
          [
           "Guatemala"
          ],
          [
           "Guatemala"
          ],
          [
           "Guatemala"
          ],
          [
           "Guatemala"
          ],
          [
           "Guatemala"
          ],
          [
           "Guatemala"
          ],
          [
           "Guatemala"
          ],
          [
           "Guatemala"
          ],
          [
           "Haiti"
          ],
          [
           "Haiti"
          ],
          [
           "Haiti"
          ],
          [
           "Haiti"
          ],
          [
           "Haiti"
          ],
          [
           "Haiti"
          ],
          [
           "Haiti"
          ],
          [
           "Haiti"
          ],
          [
           "Haiti"
          ],
          [
           "Haiti"
          ],
          [
           "Haiti"
          ],
          [
           "Haiti"
          ],
          [
           "Honduras"
          ],
          [
           "Honduras"
          ],
          [
           "Honduras"
          ],
          [
           "Honduras"
          ],
          [
           "Honduras"
          ],
          [
           "Honduras"
          ],
          [
           "Honduras"
          ],
          [
           "Honduras"
          ],
          [
           "Honduras"
          ],
          [
           "Honduras"
          ],
          [
           "Honduras"
          ],
          [
           "Honduras"
          ],
          [
           "Jamaica"
          ],
          [
           "Jamaica"
          ],
          [
           "Jamaica"
          ],
          [
           "Jamaica"
          ],
          [
           "Jamaica"
          ],
          [
           "Jamaica"
          ],
          [
           "Jamaica"
          ],
          [
           "Jamaica"
          ],
          [
           "Jamaica"
          ],
          [
           "Jamaica"
          ],
          [
           "Jamaica"
          ],
          [
           "Jamaica"
          ],
          [
           "Mexico"
          ],
          [
           "Mexico"
          ],
          [
           "Mexico"
          ],
          [
           "Mexico"
          ],
          [
           "Mexico"
          ],
          [
           "Mexico"
          ],
          [
           "Mexico"
          ],
          [
           "Mexico"
          ],
          [
           "Mexico"
          ],
          [
           "Mexico"
          ],
          [
           "Mexico"
          ],
          [
           "Mexico"
          ],
          [
           "Nicaragua"
          ],
          [
           "Nicaragua"
          ],
          [
           "Nicaragua"
          ],
          [
           "Nicaragua"
          ],
          [
           "Nicaragua"
          ],
          [
           "Nicaragua"
          ],
          [
           "Nicaragua"
          ],
          [
           "Nicaragua"
          ],
          [
           "Nicaragua"
          ],
          [
           "Nicaragua"
          ],
          [
           "Nicaragua"
          ],
          [
           "Nicaragua"
          ],
          [
           "Panama"
          ],
          [
           "Panama"
          ],
          [
           "Panama"
          ],
          [
           "Panama"
          ],
          [
           "Panama"
          ],
          [
           "Panama"
          ],
          [
           "Panama"
          ],
          [
           "Panama"
          ],
          [
           "Panama"
          ],
          [
           "Panama"
          ],
          [
           "Panama"
          ],
          [
           "Panama"
          ],
          [
           "Paraguay"
          ],
          [
           "Paraguay"
          ],
          [
           "Paraguay"
          ],
          [
           "Paraguay"
          ],
          [
           "Paraguay"
          ],
          [
           "Paraguay"
          ],
          [
           "Paraguay"
          ],
          [
           "Paraguay"
          ],
          [
           "Paraguay"
          ],
          [
           "Paraguay"
          ],
          [
           "Paraguay"
          ],
          [
           "Paraguay"
          ],
          [
           "Peru"
          ],
          [
           "Peru"
          ],
          [
           "Peru"
          ],
          [
           "Peru"
          ],
          [
           "Peru"
          ],
          [
           "Peru"
          ],
          [
           "Peru"
          ],
          [
           "Peru"
          ],
          [
           "Peru"
          ],
          [
           "Peru"
          ],
          [
           "Peru"
          ],
          [
           "Peru"
          ],
          [
           "Puerto Rico"
          ],
          [
           "Puerto Rico"
          ],
          [
           "Puerto Rico"
          ],
          [
           "Puerto Rico"
          ],
          [
           "Puerto Rico"
          ],
          [
           "Puerto Rico"
          ],
          [
           "Puerto Rico"
          ],
          [
           "Puerto Rico"
          ],
          [
           "Puerto Rico"
          ],
          [
           "Puerto Rico"
          ],
          [
           "Puerto Rico"
          ],
          [
           "Puerto Rico"
          ],
          [
           "Trinidad and Tobago"
          ],
          [
           "Trinidad and Tobago"
          ],
          [
           "Trinidad and Tobago"
          ],
          [
           "Trinidad and Tobago"
          ],
          [
           "Trinidad and Tobago"
          ],
          [
           "Trinidad and Tobago"
          ],
          [
           "Trinidad and Tobago"
          ],
          [
           "Trinidad and Tobago"
          ],
          [
           "Trinidad and Tobago"
          ],
          [
           "Trinidad and Tobago"
          ],
          [
           "Trinidad and Tobago"
          ],
          [
           "Trinidad and Tobago"
          ],
          [
           "United States"
          ],
          [
           "United States"
          ],
          [
           "United States"
          ],
          [
           "United States"
          ],
          [
           "United States"
          ],
          [
           "United States"
          ],
          [
           "United States"
          ],
          [
           "United States"
          ],
          [
           "United States"
          ],
          [
           "United States"
          ],
          [
           "United States"
          ],
          [
           "United States"
          ],
          [
           "Uruguay"
          ],
          [
           "Uruguay"
          ],
          [
           "Uruguay"
          ],
          [
           "Uruguay"
          ],
          [
           "Uruguay"
          ],
          [
           "Uruguay"
          ],
          [
           "Uruguay"
          ],
          [
           "Uruguay"
          ],
          [
           "Uruguay"
          ],
          [
           "Uruguay"
          ],
          [
           "Uruguay"
          ],
          [
           "Uruguay"
          ],
          [
           "Venezuela"
          ],
          [
           "Venezuela"
          ],
          [
           "Venezuela"
          ],
          [
           "Venezuela"
          ],
          [
           "Venezuela"
          ],
          [
           "Venezuela"
          ],
          [
           "Venezuela"
          ],
          [
           "Venezuela"
          ],
          [
           "Venezuela"
          ],
          [
           "Venezuela"
          ],
          [
           "Venezuela"
          ],
          [
           "Venezuela"
          ]
         ],
         "hovertemplate": "continent=Americas<br>year=%{x}<br>lifeExp=%{y}<br>pop=%{marker.size}<br>country=%{customdata[0]}<extra></extra>",
         "legendgroup": "Americas",
         "marker": {
          "color": "#ab63fa",
          "size": [
           17876956,
           19610538,
           21283783,
           22934225,
           24779799,
           26983828,
           29341374,
           31620918,
           33958947,
           36203463,
           38331121,
           40301927,
           2883315,
           3211738,
           3593918,
           4040665,
           4565872,
           5079716,
           5642224,
           6156369,
           6893451,
           7693188,
           8445134,
           9119152,
           56602560,
           65551171,
           76039390,
           88049823,
           100840058,
           114313951,
           128962939,
           142938076,
           155975974,
           168546719,
           179914212,
           190010647,
           14785584,
           17010154,
           18985849,
           20819767,
           22284500,
           23796400,
           25201900,
           26549700,
           28523502,
           30305843,
           31902268,
           33390141,
           6377619,
           7048426,
           7961258,
           8858908,
           9717524,
           10599793,
           11487112,
           12463354,
           13572994,
           14599929,
           15497046,
           16284741,
           12350771,
           14485993,
           17009885,
           19764027,
           22542890,
           25094412,
           27764644,
           30964245,
           34202721,
           37657830,
           41008227,
           44227550,
           926317,
           1112300,
           1345187,
           1588717,
           1834796,
           2108457,
           2424367,
           2799811,
           3173216,
           3518107,
           3834934,
           4133884,
           6007797,
           6640752,
           7254373,
           8139332,
           8831348,
           9537988,
           9789224,
           10239839,
           10723260,
           10983007,
           11226999,
           11416987,
           2491346,
           2923186,
           3453434,
           4049146,
           4671329,
           5302800,
           5968349,
           6655297,
           7351181,
           7992357,
           8650322,
           9319622,
           3548753,
           4058385,
           4681707,
           5432424,
           6298651,
           7278866,
           8365850,
           9545158,
           10748394,
           11911819,
           12921234,
           13755680,
           2042865,
           2355805,
           2747687,
           3232927,
           3790903,
           4282586,
           4474873,
           4842194,
           5274649,
           5783439,
           6353681,
           6939688,
           3146381,
           3640876,
           4208858,
           4690773,
           5149581,
           5703430,
           6395630,
           7326406,
           8486949,
           9803875,
           11178650,
           12572928,
           3201488,
           3507701,
           3880130,
           4318137,
           4698301,
           4908554,
           5198399,
           5756203,
           6326682,
           6913545,
           7607651,
           8502814,
           1517453,
           1770390,
           2090162,
           2500689,
           2965146,
           3055235,
           3669448,
           4372203,
           5077347,
           5867957,
           6677328,
           7483763,
           1426095,
           1535090,
           1665128,
           1861096,
           1997616,
           2156814,
           2298309,
           2326606,
           2378618,
           2531311,
           2664659,
           2780132,
           30144317,
           35015548,
           41121485,
           47995559,
           55984294,
           63759976,
           71640904,
           80122492,
           88111030,
           95895146,
           102479927,
           108700891,
           1165790,
           1358828,
           1590597,
           1865490,
           2182908,
           2554598,
           2979423,
           3344353,
           4017939,
           4609572,
           5146848,
           5675356,
           940080,
           1063506,
           1215725,
           1405486,
           1616384,
           1839782,
           2036305,
           2253639,
           2484997,
           2734531,
           2990875,
           3242173,
           1555876,
           1770902,
           2009813,
           2287985,
           2614104,
           2984494,
           3366439,
           3886512,
           4483945,
           5154123,
           5884491,
           6667147,
           8025700,
           9146100,
           10516500,
           12132200,
           13954700,
           15990099,
           18125129,
           20195924,
           22430449,
           24748122,
           26769436,
           28674757,
           2227000,
           2260000,
           2448046,
           2648961,
           2847132,
           3080828,
           3279001,
           3444468,
           3585176,
           3759430,
           3859606,
           3942491,
           662850,
           764900,
           887498,
           960155,
           975199,
           1039009,
           1116479,
           1191336,
           1183669,
           1138101,
           1101832,
           1056608,
           157553000,
           171984000,
           186538000,
           198712000,
           209896000,
           220239000,
           232187835,
           242803533,
           256894189,
           272911760,
           287675526,
           301139947,
           2252965,
           2424959,
           2598466,
           2748579,
           2829526,
           2873520,
           2953997,
           3045153,
           3149262,
           3262838,
           3363085,
           3447496,
           5439568,
           6702668,
           8143375,
           9709552,
           11515649,
           13503563,
           15620766,
           17910182,
           20265563,
           22374398,
           24287670,
           26084662
          ],
          "sizemode": "area",
          "sizeref": 3296707.74,
          "symbol": "circle"
         },
         "mode": "markers",
         "name": "Americas",
         "scene": "scene",
         "showlegend": true,
         "type": "scatter3d",
         "x": [
          1952,
          1957,
          1962,
          1967,
          1972,
          1977,
          1982,
          1987,
          1992,
          1997,
          2002,
          2007,
          1952,
          1957,
          1962,
          1967,
          1972,
          1977,
          1982,
          1987,
          1992,
          1997,
          2002,
          2007,
          1952,
          1957,
          1962,
          1967,
          1972,
          1977,
          1982,
          1987,
          1992,
          1997,
          2002,
          2007,
          1952,
          1957,
          1962,
          1967,
          1972,
          1977,
          1982,
          1987,
          1992,
          1997,
          2002,
          2007,
          1952,
          1957,
          1962,
          1967,
          1972,
          1977,
          1982,
          1987,
          1992,
          1997,
          2002,
          2007,
          1952,
          1957,
          1962,
          1967,
          1972,
          1977,
          1982,
          1987,
          1992,
          1997,
          2002,
          2007,
          1952,
          1957,
          1962,
          1967,
          1972,
          1977,
          1982,
          1987,
          1992,
          1997,
          2002,
          2007,
          1952,
          1957,
          1962,
          1967,
          1972,
          1977,
          1982,
          1987,
          1992,
          1997,
          2002,
          2007,
          1952,
          1957,
          1962,
          1967,
          1972,
          1977,
          1982,
          1987,
          1992,
          1997,
          2002,
          2007,
          1952,
          1957,
          1962,
          1967,
          1972,
          1977,
          1982,
          1987,
          1992,
          1997,
          2002,
          2007,
          1952,
          1957,
          1962,
          1967,
          1972,
          1977,
          1982,
          1987,
          1992,
          1997,
          2002,
          2007,
          1952,
          1957,
          1962,
          1967,
          1972,
          1977,
          1982,
          1987,
          1992,
          1997,
          2002,
          2007,
          1952,
          1957,
          1962,
          1967,
          1972,
          1977,
          1982,
          1987,
          1992,
          1997,
          2002,
          2007,
          1952,
          1957,
          1962,
          1967,
          1972,
          1977,
          1982,
          1987,
          1992,
          1997,
          2002,
          2007,
          1952,
          1957,
          1962,
          1967,
          1972,
          1977,
          1982,
          1987,
          1992,
          1997,
          2002,
          2007,
          1952,
          1957,
          1962,
          1967,
          1972,
          1977,
          1982,
          1987,
          1992,
          1997,
          2002,
          2007,
          1952,
          1957,
          1962,
          1967,
          1972,
          1977,
          1982,
          1987,
          1992,
          1997,
          2002,
          2007,
          1952,
          1957,
          1962,
          1967,
          1972,
          1977,
          1982,
          1987,
          1992,
          1997,
          2002,
          2007,
          1952,
          1957,
          1962,
          1967,
          1972,
          1977,
          1982,
          1987,
          1992,
          1997,
          2002,
          2007,
          1952,
          1957,
          1962,
          1967,
          1972,
          1977,
          1982,
          1987,
          1992,
          1997,
          2002,
          2007,
          1952,
          1957,
          1962,
          1967,
          1972,
          1977,
          1982,
          1987,
          1992,
          1997,
          2002,
          2007,
          1952,
          1957,
          1962,
          1967,
          1972,
          1977,
          1982,
          1987,
          1992,
          1997,
          2002,
          2007,
          1952,
          1957,
          1962,
          1967,
          1972,
          1977,
          1982,
          1987,
          1992,
          1997,
          2002,
          2007,
          1952,
          1957,
          1962,
          1967,
          1972,
          1977,
          1982,
          1987,
          1992,
          1997,
          2002,
          2007,
          1952,
          1957,
          1962,
          1967,
          1972,
          1977,
          1982,
          1987,
          1992,
          1997,
          2002,
          2007
         ],
         "y": [
          62.485,
          64.399,
          65.142,
          65.634,
          67.065,
          68.48100000000001,
          69.942,
          70.774,
          71.868,
          73.275,
          74.34,
          75.32,
          40.414,
          41.89,
          43.428,
          45.032,
          46.714,
          50.023,
          53.859,
          57.25100000000001,
          59.957,
          62.05,
          63.883,
          65.554,
          50.917,
          53.285,
          55.665,
          57.632,
          59.504,
          61.489,
          63.33600000000001,
          65.205,
          67.057,
          69.388,
          71.006,
          72.39,
          68.75,
          69.96,
          71.3,
          72.13,
          72.88,
          74.21,
          75.76,
          76.86,
          77.95,
          78.61,
          79.77,
          80.653,
          54.745,
          56.074,
          57.924,
          60.523,
          63.441,
          67.05199999999999,
          70.565,
          72.492,
          74.126,
          75.816,
          77.86,
          78.553,
          50.643,
          55.118,
          57.863,
          59.963,
          61.62300000000001,
          63.837,
          66.653,
          67.768,
          68.421,
          70.313,
          71.682,
          72.889,
          57.206,
          60.026,
          62.842,
          65.42399999999999,
          67.84899999999999,
          70.75,
          73.45,
          74.752,
          75.71300000000002,
          77.26,
          78.123,
          78.782,
          59.42100000000001,
          62.325,
          65.24600000000001,
          68.29,
          70.723,
          72.649,
          73.717,
          74.17399999999998,
          74.414,
          76.15100000000002,
          77.158,
          78.273,
          45.928,
          49.828,
          53.459,
          56.75100000000001,
          59.631,
          61.788,
          63.727,
          66.046,
          68.457,
          69.957,
          70.847,
          72.235,
          48.357,
          51.356,
          54.64,
          56.678,
          58.79600000000001,
          61.31,
          64.342,
          67.23100000000001,
          69.613,
          72.312,
          74.173,
          74.994,
          45.262,
          48.57,
          52.307,
          55.855,
          58.207,
          56.69600000000001,
          56.604,
          63.154,
          66.798,
          69.535,
          70.734,
          71.878,
          42.023,
          44.142,
          46.95399999999999,
          50.01600000000001,
          53.738,
          56.029,
          58.137,
          60.782,
          63.37300000000001,
          66.322,
          68.97800000000001,
          70.259,
          37.579,
          40.696,
          43.59,
          46.243,
          48.042,
          49.923,
          51.46100000000001,
          53.636,
          55.089,
          56.67100000000001,
          58.137,
          60.916,
          41.912,
          44.665,
          48.041,
          50.924,
          53.88399999999999,
          57.402,
          60.909,
          64.492,
          66.399,
          67.65899999999999,
          68.565,
          70.19800000000001,
          58.53,
          62.61,
          65.61,
          67.51,
          69,
          70.11,
          71.21,
          71.77,
          71.766,
          72.262,
          72.047,
          72.567,
          50.789,
          55.19,
          58.299,
          60.11,
          62.361,
          65.032,
          67.405,
          69.498,
          71.455,
          73.67,
          74.902,
          76.195,
          42.31399999999999,
          45.432,
          48.632,
          51.88399999999999,
          55.151,
          57.47,
          59.298,
          62.008,
          65.843,
          68.426,
          70.836,
          72.899,
          55.191,
          59.201,
          61.817,
          64.071,
          66.21600000000001,
          68.681,
          70.472,
          71.523,
          72.462,
          73.738,
          74.712,
          75.53699999999998,
          62.649,
          63.19600000000001,
          64.361,
          64.95100000000001,
          65.815,
          66.35300000000001,
          66.874,
          67.378,
          68.225,
          69.4,
          70.755,
          71.752,
          43.902,
          46.26300000000001,
          49.096,
          51.445,
          55.448,
          58.447,
          61.40600000000001,
          64.134,
          66.458,
          68.38600000000001,
          69.906,
          71.421,
          64.28,
          68.54,
          69.62,
          71.1,
          72.16,
          73.44,
          73.75,
          74.63,
          73.911,
          74.917,
          77.778,
          78.74600000000002,
          59.1,
          61.8,
          64.9,
          65.4,
          65.9,
          68.3,
          68.832,
          69.582,
          69.862,
          69.465,
          68.976,
          69.819,
          68.44,
          69.49,
          70.21,
          70.76,
          71.34,
          73.38,
          74.65,
          75.02,
          76.09,
          76.81,
          77.31,
          78.242,
          66.071,
          67.044,
          68.253,
          68.468,
          68.673,
          69.48100000000001,
          70.805,
          71.918,
          72.752,
          74.223,
          75.307,
          76.384,
          55.088,
          57.907,
          60.77,
          63.479,
          65.712,
          67.456,
          68.557,
          70.19,
          71.15,
          72.146,
          72.766,
          73.747
         ],
         "z": [
          17876956,
          19610538,
          21283783,
          22934225,
          24779799,
          26983828,
          29341374,
          31620918,
          33958947,
          36203463,
          38331121,
          40301927,
          2883315,
          3211738,
          3593918,
          4040665,
          4565872,
          5079716,
          5642224,
          6156369,
          6893451,
          7693188,
          8445134,
          9119152,
          56602560,
          65551171,
          76039390,
          88049823,
          100840058,
          114313951,
          128962939,
          142938076,
          155975974,
          168546719,
          179914212,
          190010647,
          14785584,
          17010154,
          18985849,
          20819767,
          22284500,
          23796400,
          25201900,
          26549700,
          28523502,
          30305843,
          31902268,
          33390141,
          6377619,
          7048426,
          7961258,
          8858908,
          9717524,
          10599793,
          11487112,
          12463354,
          13572994,
          14599929,
          15497046,
          16284741,
          12350771,
          14485993,
          17009885,
          19764027,
          22542890,
          25094412,
          27764644,
          30964245,
          34202721,
          37657830,
          41008227,
          44227550,
          926317,
          1112300,
          1345187,
          1588717,
          1834796,
          2108457,
          2424367,
          2799811,
          3173216,
          3518107,
          3834934,
          4133884,
          6007797,
          6640752,
          7254373,
          8139332,
          8831348,
          9537988,
          9789224,
          10239839,
          10723260,
          10983007,
          11226999,
          11416987,
          2491346,
          2923186,
          3453434,
          4049146,
          4671329,
          5302800,
          5968349,
          6655297,
          7351181,
          7992357,
          8650322,
          9319622,
          3548753,
          4058385,
          4681707,
          5432424,
          6298651,
          7278866,
          8365850,
          9545158,
          10748394,
          11911819,
          12921234,
          13755680,
          2042865,
          2355805,
          2747687,
          3232927,
          3790903,
          4282586,
          4474873,
          4842194,
          5274649,
          5783439,
          6353681,
          6939688,
          3146381,
          3640876,
          4208858,
          4690773,
          5149581,
          5703430,
          6395630,
          7326406,
          8486949,
          9803875,
          11178650,
          12572928,
          3201488,
          3507701,
          3880130,
          4318137,
          4698301,
          4908554,
          5198399,
          5756203,
          6326682,
          6913545,
          7607651,
          8502814,
          1517453,
          1770390,
          2090162,
          2500689,
          2965146,
          3055235,
          3669448,
          4372203,
          5077347,
          5867957,
          6677328,
          7483763,
          1426095,
          1535090,
          1665128,
          1861096,
          1997616,
          2156814,
          2298309,
          2326606,
          2378618,
          2531311,
          2664659,
          2780132,
          30144317,
          35015548,
          41121485,
          47995559,
          55984294,
          63759976,
          71640904,
          80122492,
          88111030,
          95895146,
          102479927,
          108700891,
          1165790,
          1358828,
          1590597,
          1865490,
          2182908,
          2554598,
          2979423,
          3344353,
          4017939,
          4609572,
          5146848,
          5675356,
          940080,
          1063506,
          1215725,
          1405486,
          1616384,
          1839782,
          2036305,
          2253639,
          2484997,
          2734531,
          2990875,
          3242173,
          1555876,
          1770902,
          2009813,
          2287985,
          2614104,
          2984494,
          3366439,
          3886512,
          4483945,
          5154123,
          5884491,
          6667147,
          8025700,
          9146100,
          10516500,
          12132200,
          13954700,
          15990099,
          18125129,
          20195924,
          22430449,
          24748122,
          26769436,
          28674757,
          2227000,
          2260000,
          2448046,
          2648961,
          2847132,
          3080828,
          3279001,
          3444468,
          3585176,
          3759430,
          3859606,
          3942491,
          662850,
          764900,
          887498,
          960155,
          975199,
          1039009,
          1116479,
          1191336,
          1183669,
          1138101,
          1101832,
          1056608,
          157553000,
          171984000,
          186538000,
          198712000,
          209896000,
          220239000,
          232187835,
          242803533,
          256894189,
          272911760,
          287675526,
          301139947,
          2252965,
          2424959,
          2598466,
          2748579,
          2829526,
          2873520,
          2953997,
          3045153,
          3149262,
          3262838,
          3363085,
          3447496,
          5439568,
          6702668,
          8143375,
          9709552,
          11515649,
          13503563,
          15620766,
          17910182,
          20265563,
          22374398,
          24287670,
          26084662
         ]
        },
        {
         "customdata": [
          [
           "Australia"
          ],
          [
           "Australia"
          ],
          [
           "Australia"
          ],
          [
           "Australia"
          ],
          [
           "Australia"
          ],
          [
           "Australia"
          ],
          [
           "Australia"
          ],
          [
           "Australia"
          ],
          [
           "Australia"
          ],
          [
           "Australia"
          ],
          [
           "Australia"
          ],
          [
           "Australia"
          ],
          [
           "New Zealand"
          ],
          [
           "New Zealand"
          ],
          [
           "New Zealand"
          ],
          [
           "New Zealand"
          ],
          [
           "New Zealand"
          ],
          [
           "New Zealand"
          ],
          [
           "New Zealand"
          ],
          [
           "New Zealand"
          ],
          [
           "New Zealand"
          ],
          [
           "New Zealand"
          ],
          [
           "New Zealand"
          ],
          [
           "New Zealand"
          ]
         ],
         "hovertemplate": "continent=Oceania<br>year=%{x}<br>lifeExp=%{y}<br>pop=%{marker.size}<br>country=%{customdata[0]}<extra></extra>",
         "legendgroup": "Oceania",
         "marker": {
          "color": "#FFA15A",
          "size": [
           8691212,
           9712569,
           10794968,
           11872264,
           13177000,
           14074100,
           15184200,
           16257249,
           17481977,
           18565243,
           19546792,
           20434176,
           1994794,
           2229407,
           2488550,
           2728150,
           2929100,
           3164900,
           3210650,
           3317166,
           3437674,
           3676187,
           3908037,
           4115771
          ],
          "sizemode": "area",
          "sizeref": 3296707.74,
          "symbol": "circle"
         },
         "mode": "markers",
         "name": "Oceania",
         "scene": "scene",
         "showlegend": true,
         "type": "scatter3d",
         "x": [
          1952,
          1957,
          1962,
          1967,
          1972,
          1977,
          1982,
          1987,
          1992,
          1997,
          2002,
          2007,
          1952,
          1957,
          1962,
          1967,
          1972,
          1977,
          1982,
          1987,
          1992,
          1997,
          2002,
          2007
         ],
         "y": [
          69.12,
          70.33,
          70.93,
          71.1,
          71.93,
          73.49,
          74.74,
          76.32,
          77.56,
          78.83,
          80.37,
          81.235,
          69.39,
          70.26,
          71.24,
          71.52,
          71.89,
          72.22,
          73.84,
          74.32,
          76.33,
          77.55,
          79.11,
          80.204
         ],
         "z": [
          8691212,
          9712569,
          10794968,
          11872264,
          13177000,
          14074100,
          15184200,
          16257249,
          17481977,
          18565243,
          19546792,
          20434176,
          1994794,
          2229407,
          2488550,
          2728150,
          2929100,
          3164900,
          3210650,
          3317166,
          3437674,
          3676187,
          3908037,
          4115771
         ]
        }
       ],
       "layout": {
        "legend": {
         "itemsizing": "constant",
         "title": {
          "text": "continent"
         },
         "tracegroupgap": 0
        },
        "margin": {
         "t": 60
        },
        "scene": {
         "domain": {
          "x": [
           0,
           1
          ],
          "y": [
           0,
           1
          ]
         },
         "xaxis": {
          "title": {
           "text": "year"
          }
         },
         "yaxis": {
          "title": {
           "text": "lifeExp"
          }
         },
         "zaxis": {
          "title": {
           "text": "pop"
          }
         }
        },
        "template": {
         "data": {
          "bar": [
           {
            "error_x": {
             "color": "#2a3f5f"
            },
            "error_y": {
             "color": "#2a3f5f"
            },
            "marker": {
             "line": {
              "color": "#E5ECF6",
              "width": 0.5
             },
             "pattern": {
              "fillmode": "overlay",
              "size": 10,
              "solidity": 0.2
             }
            },
            "type": "bar"
           }
          ],
          "barpolar": [
           {
            "marker": {
             "line": {
              "color": "#E5ECF6",
              "width": 0.5
             },
             "pattern": {
              "fillmode": "overlay",
              "size": 10,
              "solidity": 0.2
             }
            },
            "type": "barpolar"
           }
          ],
          "carpet": [
           {
            "aaxis": {
             "endlinecolor": "#2a3f5f",
             "gridcolor": "white",
             "linecolor": "white",
             "minorgridcolor": "white",
             "startlinecolor": "#2a3f5f"
            },
            "baxis": {
             "endlinecolor": "#2a3f5f",
             "gridcolor": "white",
             "linecolor": "white",
             "minorgridcolor": "white",
             "startlinecolor": "#2a3f5f"
            },
            "type": "carpet"
           }
          ],
          "choropleth": [
           {
            "colorbar": {
             "outlinewidth": 0,
             "ticks": ""
            },
            "type": "choropleth"
           }
          ],
          "contour": [
           {
            "colorbar": {
             "outlinewidth": 0,
             "ticks": ""
            },
            "colorscale": [
             [
              0,
              "#0d0887"
             ],
             [
              0.1111111111111111,
              "#46039f"
             ],
             [
              0.2222222222222222,
              "#7201a8"
             ],
             [
              0.3333333333333333,
              "#9c179e"
             ],
             [
              0.4444444444444444,
              "#bd3786"
             ],
             [
              0.5555555555555556,
              "#d8576b"
             ],
             [
              0.6666666666666666,
              "#ed7953"
             ],
             [
              0.7777777777777778,
              "#fb9f3a"
             ],
             [
              0.8888888888888888,
              "#fdca26"
             ],
             [
              1,
              "#f0f921"
             ]
            ],
            "type": "contour"
           }
          ],
          "contourcarpet": [
           {
            "colorbar": {
             "outlinewidth": 0,
             "ticks": ""
            },
            "type": "contourcarpet"
           }
          ],
          "heatmap": [
           {
            "colorbar": {
             "outlinewidth": 0,
             "ticks": ""
            },
            "colorscale": [
             [
              0,
              "#0d0887"
             ],
             [
              0.1111111111111111,
              "#46039f"
             ],
             [
              0.2222222222222222,
              "#7201a8"
             ],
             [
              0.3333333333333333,
              "#9c179e"
             ],
             [
              0.4444444444444444,
              "#bd3786"
             ],
             [
              0.5555555555555556,
              "#d8576b"
             ],
             [
              0.6666666666666666,
              "#ed7953"
             ],
             [
              0.7777777777777778,
              "#fb9f3a"
             ],
             [
              0.8888888888888888,
              "#fdca26"
             ],
             [
              1,
              "#f0f921"
             ]
            ],
            "type": "heatmap"
           }
          ],
          "heatmapgl": [
           {
            "colorbar": {
             "outlinewidth": 0,
             "ticks": ""
            },
            "colorscale": [
             [
              0,
              "#0d0887"
             ],
             [
              0.1111111111111111,
              "#46039f"
             ],
             [
              0.2222222222222222,
              "#7201a8"
             ],
             [
              0.3333333333333333,
              "#9c179e"
             ],
             [
              0.4444444444444444,
              "#bd3786"
             ],
             [
              0.5555555555555556,
              "#d8576b"
             ],
             [
              0.6666666666666666,
              "#ed7953"
             ],
             [
              0.7777777777777778,
              "#fb9f3a"
             ],
             [
              0.8888888888888888,
              "#fdca26"
             ],
             [
              1,
              "#f0f921"
             ]
            ],
            "type": "heatmapgl"
           }
          ],
          "histogram": [
           {
            "marker": {
             "pattern": {
              "fillmode": "overlay",
              "size": 10,
              "solidity": 0.2
             }
            },
            "type": "histogram"
           }
          ],
          "histogram2d": [
           {
            "colorbar": {
             "outlinewidth": 0,
             "ticks": ""
            },
            "colorscale": [
             [
              0,
              "#0d0887"
             ],
             [
              0.1111111111111111,
              "#46039f"
             ],
             [
              0.2222222222222222,
              "#7201a8"
             ],
             [
              0.3333333333333333,
              "#9c179e"
             ],
             [
              0.4444444444444444,
              "#bd3786"
             ],
             [
              0.5555555555555556,
              "#d8576b"
             ],
             [
              0.6666666666666666,
              "#ed7953"
             ],
             [
              0.7777777777777778,
              "#fb9f3a"
             ],
             [
              0.8888888888888888,
              "#fdca26"
             ],
             [
              1,
              "#f0f921"
             ]
            ],
            "type": "histogram2d"
           }
          ],
          "histogram2dcontour": [
           {
            "colorbar": {
             "outlinewidth": 0,
             "ticks": ""
            },
            "colorscale": [
             [
              0,
              "#0d0887"
             ],
             [
              0.1111111111111111,
              "#46039f"
             ],
             [
              0.2222222222222222,
              "#7201a8"
             ],
             [
              0.3333333333333333,
              "#9c179e"
             ],
             [
              0.4444444444444444,
              "#bd3786"
             ],
             [
              0.5555555555555556,
              "#d8576b"
             ],
             [
              0.6666666666666666,
              "#ed7953"
             ],
             [
              0.7777777777777778,
              "#fb9f3a"
             ],
             [
              0.8888888888888888,
              "#fdca26"
             ],
             [
              1,
              "#f0f921"
             ]
            ],
            "type": "histogram2dcontour"
           }
          ],
          "mesh3d": [
           {
            "colorbar": {
             "outlinewidth": 0,
             "ticks": ""
            },
            "type": "mesh3d"
           }
          ],
          "parcoords": [
           {
            "line": {
             "colorbar": {
              "outlinewidth": 0,
              "ticks": ""
             }
            },
            "type": "parcoords"
           }
          ],
          "pie": [
           {
            "automargin": true,
            "type": "pie"
           }
          ],
          "scatter": [
           {
            "fillpattern": {
             "fillmode": "overlay",
             "size": 10,
             "solidity": 0.2
            },
            "type": "scatter"
           }
          ],
          "scatter3d": [
           {
            "line": {
             "colorbar": {
              "outlinewidth": 0,
              "ticks": ""
             }
            },
            "marker": {
             "colorbar": {
              "outlinewidth": 0,
              "ticks": ""
             }
            },
            "type": "scatter3d"
           }
          ],
          "scattercarpet": [
           {
            "marker": {
             "colorbar": {
              "outlinewidth": 0,
              "ticks": ""
             }
            },
            "type": "scattercarpet"
           }
          ],
          "scattergeo": [
           {
            "marker": {
             "colorbar": {
              "outlinewidth": 0,
              "ticks": ""
             }
            },
            "type": "scattergeo"
           }
          ],
          "scattergl": [
           {
            "marker": {
             "colorbar": {
              "outlinewidth": 0,
              "ticks": ""
             }
            },
            "type": "scattergl"
           }
          ],
          "scattermapbox": [
           {
            "marker": {
             "colorbar": {
              "outlinewidth": 0,
              "ticks": ""
             }
            },
            "type": "scattermapbox"
           }
          ],
          "scatterpolar": [
           {
            "marker": {
             "colorbar": {
              "outlinewidth": 0,
              "ticks": ""
             }
            },
            "type": "scatterpolar"
           }
          ],
          "scatterpolargl": [
           {
            "marker": {
             "colorbar": {
              "outlinewidth": 0,
              "ticks": ""
             }
            },
            "type": "scatterpolargl"
           }
          ],
          "scatterternary": [
           {
            "marker": {
             "colorbar": {
              "outlinewidth": 0,
              "ticks": ""
             }
            },
            "type": "scatterternary"
           }
          ],
          "surface": [
           {
            "colorbar": {
             "outlinewidth": 0,
             "ticks": ""
            },
            "colorscale": [
             [
              0,
              "#0d0887"
             ],
             [
              0.1111111111111111,
              "#46039f"
             ],
             [
              0.2222222222222222,
              "#7201a8"
             ],
             [
              0.3333333333333333,
              "#9c179e"
             ],
             [
              0.4444444444444444,
              "#bd3786"
             ],
             [
              0.5555555555555556,
              "#d8576b"
             ],
             [
              0.6666666666666666,
              "#ed7953"
             ],
             [
              0.7777777777777778,
              "#fb9f3a"
             ],
             [
              0.8888888888888888,
              "#fdca26"
             ],
             [
              1,
              "#f0f921"
             ]
            ],
            "type": "surface"
           }
          ],
          "table": [
           {
            "cells": {
             "fill": {
              "color": "#EBF0F8"
             },
             "line": {
              "color": "white"
             }
            },
            "header": {
             "fill": {
              "color": "#C8D4E3"
             },
             "line": {
              "color": "white"
             }
            },
            "type": "table"
           }
          ]
         },
         "layout": {
          "annotationdefaults": {
           "arrowcolor": "#2a3f5f",
           "arrowhead": 0,
           "arrowwidth": 1
          },
          "autotypenumbers": "strict",
          "coloraxis": {
           "colorbar": {
            "outlinewidth": 0,
            "ticks": ""
           }
          },
          "colorscale": {
           "diverging": [
            [
             0,
             "#8e0152"
            ],
            [
             0.1,
             "#c51b7d"
            ],
            [
             0.2,
             "#de77ae"
            ],
            [
             0.3,
             "#f1b6da"
            ],
            [
             0.4,
             "#fde0ef"
            ],
            [
             0.5,
             "#f7f7f7"
            ],
            [
             0.6,
             "#e6f5d0"
            ],
            [
             0.7,
             "#b8e186"
            ],
            [
             0.8,
             "#7fbc41"
            ],
            [
             0.9,
             "#4d9221"
            ],
            [
             1,
             "#276419"
            ]
           ],
           "sequential": [
            [
             0,
             "#0d0887"
            ],
            [
             0.1111111111111111,
             "#46039f"
            ],
            [
             0.2222222222222222,
             "#7201a8"
            ],
            [
             0.3333333333333333,
             "#9c179e"
            ],
            [
             0.4444444444444444,
             "#bd3786"
            ],
            [
             0.5555555555555556,
             "#d8576b"
            ],
            [
             0.6666666666666666,
             "#ed7953"
            ],
            [
             0.7777777777777778,
             "#fb9f3a"
            ],
            [
             0.8888888888888888,
             "#fdca26"
            ],
            [
             1,
             "#f0f921"
            ]
           ],
           "sequentialminus": [
            [
             0,
             "#0d0887"
            ],
            [
             0.1111111111111111,
             "#46039f"
            ],
            [
             0.2222222222222222,
             "#7201a8"
            ],
            [
             0.3333333333333333,
             "#9c179e"
            ],
            [
             0.4444444444444444,
             "#bd3786"
            ],
            [
             0.5555555555555556,
             "#d8576b"
            ],
            [
             0.6666666666666666,
             "#ed7953"
            ],
            [
             0.7777777777777778,
             "#fb9f3a"
            ],
            [
             0.8888888888888888,
             "#fdca26"
            ],
            [
             1,
             "#f0f921"
            ]
           ]
          },
          "colorway": [
           "#636efa",
           "#EF553B",
           "#00cc96",
           "#ab63fa",
           "#FFA15A",
           "#19d3f3",
           "#FF6692",
           "#B6E880",
           "#FF97FF",
           "#FECB52"
          ],
          "font": {
           "color": "#2a3f5f"
          },
          "geo": {
           "bgcolor": "white",
           "lakecolor": "white",
           "landcolor": "#E5ECF6",
           "showlakes": true,
           "showland": true,
           "subunitcolor": "white"
          },
          "hoverlabel": {
           "align": "left"
          },
          "hovermode": "closest",
          "mapbox": {
           "style": "light"
          },
          "paper_bgcolor": "white",
          "plot_bgcolor": "#E5ECF6",
          "polar": {
           "angularaxis": {
            "gridcolor": "white",
            "linecolor": "white",
            "ticks": ""
           },
           "bgcolor": "#E5ECF6",
           "radialaxis": {
            "gridcolor": "white",
            "linecolor": "white",
            "ticks": ""
           }
          },
          "scene": {
           "xaxis": {
            "backgroundcolor": "#E5ECF6",
            "gridcolor": "white",
            "gridwidth": 2,
            "linecolor": "white",
            "showbackground": true,
            "ticks": "",
            "zerolinecolor": "white"
           },
           "yaxis": {
            "backgroundcolor": "#E5ECF6",
            "gridcolor": "white",
            "gridwidth": 2,
            "linecolor": "white",
            "showbackground": true,
            "ticks": "",
            "zerolinecolor": "white"
           },
           "zaxis": {
            "backgroundcolor": "#E5ECF6",
            "gridcolor": "white",
            "gridwidth": 2,
            "linecolor": "white",
            "showbackground": true,
            "ticks": "",
            "zerolinecolor": "white"
           }
          },
          "shapedefaults": {
           "line": {
            "color": "#2a3f5f"
           }
          },
          "ternary": {
           "aaxis": {
            "gridcolor": "white",
            "linecolor": "white",
            "ticks": ""
           },
           "baxis": {
            "gridcolor": "white",
            "linecolor": "white",
            "ticks": ""
           },
           "bgcolor": "#E5ECF6",
           "caxis": {
            "gridcolor": "white",
            "linecolor": "white",
            "ticks": ""
           }
          },
          "title": {
           "x": 0.05
          },
          "xaxis": {
           "automargin": true,
           "gridcolor": "white",
           "linecolor": "white",
           "ticks": "",
           "title": {
            "standoff": 15
           },
           "zerolinecolor": "white",
           "zerolinewidth": 2
          },
          "yaxis": {
           "automargin": true,
           "gridcolor": "white",
           "linecolor": "white",
           "ticks": "",
           "title": {
            "standoff": 15
           },
           "zerolinecolor": "white",
           "zerolinewidth": 2
          }
         }
        }
       }
      }
     },
     "metadata": {},
     "output_type": "display_data"
    }
   ],
   "source": [
    "px.scatter_3d(df, x='year', y='lifeExp', z='pop', hover_data=['country'], size='pop', color='continent')"
   ]
  },
  {
   "cell_type": "code",
   "execution_count": 86,
   "metadata": {},
   "outputs": [
    {
     "ename": "SyntaxError",
     "evalue": "invalid syntax (1045084915.py, line 1)",
     "output_type": "error",
     "traceback": [
      "\u001b[1;36m  Input \u001b[1;32mIn [86]\u001b[1;36m\u001b[0m\n\u001b[1;33m    px.scatter(df, y= 'gdpPercap', x='lifeExp', hover_data=['country'], color='continent', size='pop,animation_frame='year', animation_group='country')\u001b[0m\n\u001b[1;37m                                                                                                                      ^\u001b[0m\n\u001b[1;31mSyntaxError\u001b[0m\u001b[1;31m:\u001b[0m invalid syntax\n"
     ]
    }
   ],
   "source": [
    "px.scatter(df, y= 'gdpPercap', x='lifeExp', hover_data=['country'], color='continent', size='pop,animation_frame='year', animation_group='country')"
   ]
  },
  {
   "cell_type": "code",
   "execution_count": 92,
   "metadata": {},
   "outputs": [
    {
     "data": {
      "text/plain": [
       "<pandas.core.groupby.generic.DataFrameGroupBy object at 0x000001219B7CE490>"
      ]
     },
     "execution_count": 92,
     "metadata": {},
     "output_type": "execute_result"
    }
   ],
   "source": [
    "continent = df.groupby(['continent','year'])\n",
    "continent"
   ]
  },
  {
   "cell_type": "code",
   "execution_count": 93,
   "metadata": {},
   "outputs": [
    {
     "data": {
      "application/vnd.plotly.v1+json": {
       "config": {
        "plotlyServerURL": "https://plot.ly"
       },
       "data": [
        {
         "branchvalues": "total",
         "domain": {
          "x": [
           0,
           1
          ],
          "y": [
           0,
           1
          ]
         },
         "hovertemplate": "labels=%{label}<br>pop=%{value}<br>parent=%{parent}<br>id=%{id}<extra></extra>",
         "ids": [
          "Asia/Afghanistan",
          "Europe/Albania",
          "Africa/Algeria",
          "Africa/Angola",
          "Americas/Argentina",
          "Oceania/Australia",
          "Europe/Austria",
          "Asia/Bahrain",
          "Asia/Bangladesh",
          "Europe/Belgium",
          "Africa/Benin",
          "Americas/Bolivia",
          "Europe/Bosnia and Herzegovina",
          "Africa/Botswana",
          "Americas/Brazil",
          "Europe/Bulgaria",
          "Africa/Burkina Faso",
          "Africa/Burundi",
          "Asia/Cambodia",
          "Africa/Cameroon",
          "Americas/Canada",
          "Africa/Central African Republic",
          "Africa/Chad",
          "Americas/Chile",
          "Asia/China",
          "Americas/Colombia",
          "Africa/Comoros",
          "Africa/Congo, Dem. Rep.",
          "Africa/Congo, Rep.",
          "Americas/Costa Rica",
          "Africa/Cote d'Ivoire",
          "Europe/Croatia",
          "Americas/Cuba",
          "Europe/Czech Republic",
          "Europe/Denmark",
          "Africa/Djibouti",
          "Americas/Dominican Republic",
          "Americas/Ecuador",
          "Africa/Egypt",
          "Americas/El Salvador",
          "Africa/Equatorial Guinea",
          "Africa/Eritrea",
          "Africa/Ethiopia",
          "Europe/Finland",
          "Europe/France",
          "Africa/Gabon",
          "Africa/Gambia",
          "Europe/Germany",
          "Africa/Ghana",
          "Europe/Greece",
          "Americas/Guatemala",
          "Africa/Guinea",
          "Africa/Guinea-Bissau",
          "Americas/Haiti",
          "Americas/Honduras",
          "Asia/Hong Kong, China",
          "Europe/Hungary",
          "Europe/Iceland",
          "Asia/India",
          "Asia/Indonesia",
          "Asia/Iran",
          "Asia/Iraq",
          "Europe/Ireland",
          "Asia/Israel",
          "Europe/Italy",
          "Americas/Jamaica",
          "Asia/Japan",
          "Asia/Jordan",
          "Africa/Kenya",
          "Asia/Korea, Dem. Rep.",
          "Asia/Korea, Rep.",
          "Asia/Kuwait",
          "Asia/Lebanon",
          "Africa/Lesotho",
          "Africa/Liberia",
          "Africa/Libya",
          "Africa/Madagascar",
          "Africa/Malawi",
          "Asia/Malaysia",
          "Africa/Mali",
          "Africa/Mauritania",
          "Africa/Mauritius",
          "Americas/Mexico",
          "Asia/Mongolia",
          "Europe/Montenegro",
          "Africa/Morocco",
          "Africa/Mozambique",
          "Asia/Myanmar",
          "Africa/Namibia",
          "Asia/Nepal",
          "Europe/Netherlands",
          "Oceania/New Zealand",
          "Americas/Nicaragua",
          "Africa/Niger",
          "Africa/Nigeria",
          "Europe/Norway",
          "Asia/Oman",
          "Asia/Pakistan",
          "Americas/Panama",
          "Americas/Paraguay",
          "Americas/Peru",
          "Asia/Philippines",
          "Europe/Poland",
          "Europe/Portugal",
          "Americas/Puerto Rico",
          "Africa/Reunion",
          "Europe/Romania",
          "Africa/Rwanda",
          "Africa/Sao Tome and Principe",
          "Asia/Saudi Arabia",
          "Africa/Senegal",
          "Europe/Serbia",
          "Africa/Sierra Leone",
          "Asia/Singapore",
          "Europe/Slovak Republic",
          "Europe/Slovenia",
          "Africa/Somalia",
          "Africa/South Africa",
          "Europe/Spain",
          "Asia/Sri Lanka",
          "Africa/Sudan",
          "Africa/Swaziland",
          "Europe/Sweden",
          "Europe/Switzerland",
          "Asia/Syria",
          "Asia/Taiwan",
          "Africa/Tanzania",
          "Asia/Thailand",
          "Africa/Togo",
          "Americas/Trinidad and Tobago",
          "Africa/Tunisia",
          "Europe/Turkey",
          "Africa/Uganda",
          "Europe/United Kingdom",
          "Americas/United States",
          "Americas/Uruguay",
          "Americas/Venezuela",
          "Asia/Vietnam",
          "Asia/West Bank and Gaza",
          "Asia/Yemen, Rep.",
          "Africa/Zambia",
          "Africa/Zimbabwe",
          "Africa",
          "Americas",
          "Asia",
          "Europe",
          "Oceania"
         ],
         "labels": [
          "Afghanistan",
          "Albania",
          "Algeria",
          "Angola",
          "Argentina",
          "Australia",
          "Austria",
          "Bahrain",
          "Bangladesh",
          "Belgium",
          "Benin",
          "Bolivia",
          "Bosnia and Herzegovina",
          "Botswana",
          "Brazil",
          "Bulgaria",
          "Burkina Faso",
          "Burundi",
          "Cambodia",
          "Cameroon",
          "Canada",
          "Central African Republic",
          "Chad",
          "Chile",
          "China",
          "Colombia",
          "Comoros",
          "Congo, Dem. Rep.",
          "Congo, Rep.",
          "Costa Rica",
          "Cote d'Ivoire",
          "Croatia",
          "Cuba",
          "Czech Republic",
          "Denmark",
          "Djibouti",
          "Dominican Republic",
          "Ecuador",
          "Egypt",
          "El Salvador",
          "Equatorial Guinea",
          "Eritrea",
          "Ethiopia",
          "Finland",
          "France",
          "Gabon",
          "Gambia",
          "Germany",
          "Ghana",
          "Greece",
          "Guatemala",
          "Guinea",
          "Guinea-Bissau",
          "Haiti",
          "Honduras",
          "Hong Kong, China",
          "Hungary",
          "Iceland",
          "India",
          "Indonesia",
          "Iran",
          "Iraq",
          "Ireland",
          "Israel",
          "Italy",
          "Jamaica",
          "Japan",
          "Jordan",
          "Kenya",
          "Korea, Dem. Rep.",
          "Korea, Rep.",
          "Kuwait",
          "Lebanon",
          "Lesotho",
          "Liberia",
          "Libya",
          "Madagascar",
          "Malawi",
          "Malaysia",
          "Mali",
          "Mauritania",
          "Mauritius",
          "Mexico",
          "Mongolia",
          "Montenegro",
          "Morocco",
          "Mozambique",
          "Myanmar",
          "Namibia",
          "Nepal",
          "Netherlands",
          "New Zealand",
          "Nicaragua",
          "Niger",
          "Nigeria",
          "Norway",
          "Oman",
          "Pakistan",
          "Panama",
          "Paraguay",
          "Peru",
          "Philippines",
          "Poland",
          "Portugal",
          "Puerto Rico",
          "Reunion",
          "Romania",
          "Rwanda",
          "Sao Tome and Principe",
          "Saudi Arabia",
          "Senegal",
          "Serbia",
          "Sierra Leone",
          "Singapore",
          "Slovak Republic",
          "Slovenia",
          "Somalia",
          "South Africa",
          "Spain",
          "Sri Lanka",
          "Sudan",
          "Swaziland",
          "Sweden",
          "Switzerland",
          "Syria",
          "Taiwan",
          "Tanzania",
          "Thailand",
          "Togo",
          "Trinidad and Tobago",
          "Tunisia",
          "Turkey",
          "Uganda",
          "United Kingdom",
          "United States",
          "Uruguay",
          "Venezuela",
          "Vietnam",
          "West Bank and Gaza",
          "Yemen, Rep.",
          "Zambia",
          "Zimbabwe",
          "Africa",
          "Americas",
          "Asia",
          "Europe",
          "Oceania"
         ],
         "name": "",
         "parents": [
          "Asia",
          "Europe",
          "Africa",
          "Africa",
          "Americas",
          "Oceania",
          "Europe",
          "Asia",
          "Asia",
          "Europe",
          "Africa",
          "Americas",
          "Europe",
          "Africa",
          "Americas",
          "Europe",
          "Africa",
          "Africa",
          "Asia",
          "Africa",
          "Americas",
          "Africa",
          "Africa",
          "Americas",
          "Asia",
          "Americas",
          "Africa",
          "Africa",
          "Africa",
          "Americas",
          "Africa",
          "Europe",
          "Americas",
          "Europe",
          "Europe",
          "Africa",
          "Americas",
          "Americas",
          "Africa",
          "Americas",
          "Africa",
          "Africa",
          "Africa",
          "Europe",
          "Europe",
          "Africa",
          "Africa",
          "Europe",
          "Africa",
          "Europe",
          "Americas",
          "Africa",
          "Africa",
          "Americas",
          "Americas",
          "Asia",
          "Europe",
          "Europe",
          "Asia",
          "Asia",
          "Asia",
          "Asia",
          "Europe",
          "Asia",
          "Europe",
          "Americas",
          "Asia",
          "Asia",
          "Africa",
          "Asia",
          "Asia",
          "Asia",
          "Asia",
          "Africa",
          "Africa",
          "Africa",
          "Africa",
          "Africa",
          "Asia",
          "Africa",
          "Africa",
          "Africa",
          "Americas",
          "Asia",
          "Europe",
          "Africa",
          "Africa",
          "Asia",
          "Africa",
          "Asia",
          "Europe",
          "Oceania",
          "Americas",
          "Africa",
          "Africa",
          "Europe",
          "Asia",
          "Asia",
          "Americas",
          "Americas",
          "Americas",
          "Asia",
          "Europe",
          "Europe",
          "Americas",
          "Africa",
          "Europe",
          "Africa",
          "Africa",
          "Asia",
          "Africa",
          "Europe",
          "Africa",
          "Asia",
          "Europe",
          "Europe",
          "Africa",
          "Africa",
          "Europe",
          "Asia",
          "Africa",
          "Africa",
          "Europe",
          "Europe",
          "Asia",
          "Asia",
          "Africa",
          "Asia",
          "Africa",
          "Americas",
          "Africa",
          "Europe",
          "Africa",
          "Europe",
          "Americas",
          "Americas",
          "Americas",
          "Asia",
          "Asia",
          "Asia",
          "Africa",
          "Africa",
          "",
          "",
          "",
          "",
          ""
         ],
         "type": "sunburst",
         "values": [
          189884585,
          30962990,
          238504874,
          87712681,
          343226879,
          175791750,
          90999581,
          4486958,
          1089064744,
          116701424,
          48209960,
          67324742,
          45798297,
          11654234,
          1467745520,
          98195824,
          90584127,
          55819300,
          102125168,
          117799781,
          293555608,
          30731556,
          63951076,
          134468704,
          11497920623,
          327073195,
          4340207,
          392179863,
          23078509,
          28800093,
          109837314,
          51478995,
          110790906,
          119835154,
          59930248,
          3122927,
          68828369,
          98546921,
          558273291,
          52121297,
          3930612,
          33842602,
          499590225,
          57255852,
          635430772,
          9544985,
          9517663,
          930564520,
          151399517,
          113090173,
          82304337,
          64326608,
          10584101,
          64819605,
          47047121,
          57507112,
          122611748,
          2723737,
          8413568878,
          1779874000,
          507620482,
          170249942,
          40089911,
          46147329,
          654443496,
          25621474,
          1341105696,
          32015673,
          218475002,
          197446575,
          437992636,
          14477947,
          33382157,
          16676357,
          21766286,
          38001643,
          118828826,
          84196529,
          174888664,
          85348081,
          21392686,
          11112867,
          820971569,
          20818208,
          6771236,
          246668903,
          144560344,
          401187510,
          13894197,
          198620935,
          165441575,
          37200386,
          36491702,
          82288486,
          884496214,
          48377293,
          17258464,
          1124200629,
          23823483,
          42665831,
          210709116,
          631639543,
          411879653,
          115035287,
          37382139,
          6221973,
          249829082,
          63581228,
          1271734,
          149740416,
          77355665,
          105406641,
          43265099,
          32013809,
          57294085,
          21532577,
          62366374,
          359140226,
          430221581,
          174549981,
          258723977,
          8148624,
          98640347,
          76611518,
          118384545,
          202496687,
          245993972,
          539539574,
          34751568,
          12077636,
          80241243,
          550908099,
          172332593,
          673053608,
          2738534790,
          34949846,
          181557616,
          654822851,
          22183278,
          130118302,
          76245658,
          91703593,
          6187585961,
          7351438499,
          30507333901,
          6181115304,
          212992136
         ]
        }
       ],
       "layout": {
        "legend": {
         "tracegroupgap": 0
        },
        "margin": {
         "t": 60
        },
        "template": {
         "data": {
          "bar": [
           {
            "error_x": {
             "color": "#2a3f5f"
            },
            "error_y": {
             "color": "#2a3f5f"
            },
            "marker": {
             "line": {
              "color": "#E5ECF6",
              "width": 0.5
             },
             "pattern": {
              "fillmode": "overlay",
              "size": 10,
              "solidity": 0.2
             }
            },
            "type": "bar"
           }
          ],
          "barpolar": [
           {
            "marker": {
             "line": {
              "color": "#E5ECF6",
              "width": 0.5
             },
             "pattern": {
              "fillmode": "overlay",
              "size": 10,
              "solidity": 0.2
             }
            },
            "type": "barpolar"
           }
          ],
          "carpet": [
           {
            "aaxis": {
             "endlinecolor": "#2a3f5f",
             "gridcolor": "white",
             "linecolor": "white",
             "minorgridcolor": "white",
             "startlinecolor": "#2a3f5f"
            },
            "baxis": {
             "endlinecolor": "#2a3f5f",
             "gridcolor": "white",
             "linecolor": "white",
             "minorgridcolor": "white",
             "startlinecolor": "#2a3f5f"
            },
            "type": "carpet"
           }
          ],
          "choropleth": [
           {
            "colorbar": {
             "outlinewidth": 0,
             "ticks": ""
            },
            "type": "choropleth"
           }
          ],
          "contour": [
           {
            "colorbar": {
             "outlinewidth": 0,
             "ticks": ""
            },
            "colorscale": [
             [
              0,
              "#0d0887"
             ],
             [
              0.1111111111111111,
              "#46039f"
             ],
             [
              0.2222222222222222,
              "#7201a8"
             ],
             [
              0.3333333333333333,
              "#9c179e"
             ],
             [
              0.4444444444444444,
              "#bd3786"
             ],
             [
              0.5555555555555556,
              "#d8576b"
             ],
             [
              0.6666666666666666,
              "#ed7953"
             ],
             [
              0.7777777777777778,
              "#fb9f3a"
             ],
             [
              0.8888888888888888,
              "#fdca26"
             ],
             [
              1,
              "#f0f921"
             ]
            ],
            "type": "contour"
           }
          ],
          "contourcarpet": [
           {
            "colorbar": {
             "outlinewidth": 0,
             "ticks": ""
            },
            "type": "contourcarpet"
           }
          ],
          "heatmap": [
           {
            "colorbar": {
             "outlinewidth": 0,
             "ticks": ""
            },
            "colorscale": [
             [
              0,
              "#0d0887"
             ],
             [
              0.1111111111111111,
              "#46039f"
             ],
             [
              0.2222222222222222,
              "#7201a8"
             ],
             [
              0.3333333333333333,
              "#9c179e"
             ],
             [
              0.4444444444444444,
              "#bd3786"
             ],
             [
              0.5555555555555556,
              "#d8576b"
             ],
             [
              0.6666666666666666,
              "#ed7953"
             ],
             [
              0.7777777777777778,
              "#fb9f3a"
             ],
             [
              0.8888888888888888,
              "#fdca26"
             ],
             [
              1,
              "#f0f921"
             ]
            ],
            "type": "heatmap"
           }
          ],
          "heatmapgl": [
           {
            "colorbar": {
             "outlinewidth": 0,
             "ticks": ""
            },
            "colorscale": [
             [
              0,
              "#0d0887"
             ],
             [
              0.1111111111111111,
              "#46039f"
             ],
             [
              0.2222222222222222,
              "#7201a8"
             ],
             [
              0.3333333333333333,
              "#9c179e"
             ],
             [
              0.4444444444444444,
              "#bd3786"
             ],
             [
              0.5555555555555556,
              "#d8576b"
             ],
             [
              0.6666666666666666,
              "#ed7953"
             ],
             [
              0.7777777777777778,
              "#fb9f3a"
             ],
             [
              0.8888888888888888,
              "#fdca26"
             ],
             [
              1,
              "#f0f921"
             ]
            ],
            "type": "heatmapgl"
           }
          ],
          "histogram": [
           {
            "marker": {
             "pattern": {
              "fillmode": "overlay",
              "size": 10,
              "solidity": 0.2
             }
            },
            "type": "histogram"
           }
          ],
          "histogram2d": [
           {
            "colorbar": {
             "outlinewidth": 0,
             "ticks": ""
            },
            "colorscale": [
             [
              0,
              "#0d0887"
             ],
             [
              0.1111111111111111,
              "#46039f"
             ],
             [
              0.2222222222222222,
              "#7201a8"
             ],
             [
              0.3333333333333333,
              "#9c179e"
             ],
             [
              0.4444444444444444,
              "#bd3786"
             ],
             [
              0.5555555555555556,
              "#d8576b"
             ],
             [
              0.6666666666666666,
              "#ed7953"
             ],
             [
              0.7777777777777778,
              "#fb9f3a"
             ],
             [
              0.8888888888888888,
              "#fdca26"
             ],
             [
              1,
              "#f0f921"
             ]
            ],
            "type": "histogram2d"
           }
          ],
          "histogram2dcontour": [
           {
            "colorbar": {
             "outlinewidth": 0,
             "ticks": ""
            },
            "colorscale": [
             [
              0,
              "#0d0887"
             ],
             [
              0.1111111111111111,
              "#46039f"
             ],
             [
              0.2222222222222222,
              "#7201a8"
             ],
             [
              0.3333333333333333,
              "#9c179e"
             ],
             [
              0.4444444444444444,
              "#bd3786"
             ],
             [
              0.5555555555555556,
              "#d8576b"
             ],
             [
              0.6666666666666666,
              "#ed7953"
             ],
             [
              0.7777777777777778,
              "#fb9f3a"
             ],
             [
              0.8888888888888888,
              "#fdca26"
             ],
             [
              1,
              "#f0f921"
             ]
            ],
            "type": "histogram2dcontour"
           }
          ],
          "mesh3d": [
           {
            "colorbar": {
             "outlinewidth": 0,
             "ticks": ""
            },
            "type": "mesh3d"
           }
          ],
          "parcoords": [
           {
            "line": {
             "colorbar": {
              "outlinewidth": 0,
              "ticks": ""
             }
            },
            "type": "parcoords"
           }
          ],
          "pie": [
           {
            "automargin": true,
            "type": "pie"
           }
          ],
          "scatter": [
           {
            "fillpattern": {
             "fillmode": "overlay",
             "size": 10,
             "solidity": 0.2
            },
            "type": "scatter"
           }
          ],
          "scatter3d": [
           {
            "line": {
             "colorbar": {
              "outlinewidth": 0,
              "ticks": ""
             }
            },
            "marker": {
             "colorbar": {
              "outlinewidth": 0,
              "ticks": ""
             }
            },
            "type": "scatter3d"
           }
          ],
          "scattercarpet": [
           {
            "marker": {
             "colorbar": {
              "outlinewidth": 0,
              "ticks": ""
             }
            },
            "type": "scattercarpet"
           }
          ],
          "scattergeo": [
           {
            "marker": {
             "colorbar": {
              "outlinewidth": 0,
              "ticks": ""
             }
            },
            "type": "scattergeo"
           }
          ],
          "scattergl": [
           {
            "marker": {
             "colorbar": {
              "outlinewidth": 0,
              "ticks": ""
             }
            },
            "type": "scattergl"
           }
          ],
          "scattermapbox": [
           {
            "marker": {
             "colorbar": {
              "outlinewidth": 0,
              "ticks": ""
             }
            },
            "type": "scattermapbox"
           }
          ],
          "scatterpolar": [
           {
            "marker": {
             "colorbar": {
              "outlinewidth": 0,
              "ticks": ""
             }
            },
            "type": "scatterpolar"
           }
          ],
          "scatterpolargl": [
           {
            "marker": {
             "colorbar": {
              "outlinewidth": 0,
              "ticks": ""
             }
            },
            "type": "scatterpolargl"
           }
          ],
          "scatterternary": [
           {
            "marker": {
             "colorbar": {
              "outlinewidth": 0,
              "ticks": ""
             }
            },
            "type": "scatterternary"
           }
          ],
          "surface": [
           {
            "colorbar": {
             "outlinewidth": 0,
             "ticks": ""
            },
            "colorscale": [
             [
              0,
              "#0d0887"
             ],
             [
              0.1111111111111111,
              "#46039f"
             ],
             [
              0.2222222222222222,
              "#7201a8"
             ],
             [
              0.3333333333333333,
              "#9c179e"
             ],
             [
              0.4444444444444444,
              "#bd3786"
             ],
             [
              0.5555555555555556,
              "#d8576b"
             ],
             [
              0.6666666666666666,
              "#ed7953"
             ],
             [
              0.7777777777777778,
              "#fb9f3a"
             ],
             [
              0.8888888888888888,
              "#fdca26"
             ],
             [
              1,
              "#f0f921"
             ]
            ],
            "type": "surface"
           }
          ],
          "table": [
           {
            "cells": {
             "fill": {
              "color": "#EBF0F8"
             },
             "line": {
              "color": "white"
             }
            },
            "header": {
             "fill": {
              "color": "#C8D4E3"
             },
             "line": {
              "color": "white"
             }
            },
            "type": "table"
           }
          ]
         },
         "layout": {
          "annotationdefaults": {
           "arrowcolor": "#2a3f5f",
           "arrowhead": 0,
           "arrowwidth": 1
          },
          "autotypenumbers": "strict",
          "coloraxis": {
           "colorbar": {
            "outlinewidth": 0,
            "ticks": ""
           }
          },
          "colorscale": {
           "diverging": [
            [
             0,
             "#8e0152"
            ],
            [
             0.1,
             "#c51b7d"
            ],
            [
             0.2,
             "#de77ae"
            ],
            [
             0.3,
             "#f1b6da"
            ],
            [
             0.4,
             "#fde0ef"
            ],
            [
             0.5,
             "#f7f7f7"
            ],
            [
             0.6,
             "#e6f5d0"
            ],
            [
             0.7,
             "#b8e186"
            ],
            [
             0.8,
             "#7fbc41"
            ],
            [
             0.9,
             "#4d9221"
            ],
            [
             1,
             "#276419"
            ]
           ],
           "sequential": [
            [
             0,
             "#0d0887"
            ],
            [
             0.1111111111111111,
             "#46039f"
            ],
            [
             0.2222222222222222,
             "#7201a8"
            ],
            [
             0.3333333333333333,
             "#9c179e"
            ],
            [
             0.4444444444444444,
             "#bd3786"
            ],
            [
             0.5555555555555556,
             "#d8576b"
            ],
            [
             0.6666666666666666,
             "#ed7953"
            ],
            [
             0.7777777777777778,
             "#fb9f3a"
            ],
            [
             0.8888888888888888,
             "#fdca26"
            ],
            [
             1,
             "#f0f921"
            ]
           ],
           "sequentialminus": [
            [
             0,
             "#0d0887"
            ],
            [
             0.1111111111111111,
             "#46039f"
            ],
            [
             0.2222222222222222,
             "#7201a8"
            ],
            [
             0.3333333333333333,
             "#9c179e"
            ],
            [
             0.4444444444444444,
             "#bd3786"
            ],
            [
             0.5555555555555556,
             "#d8576b"
            ],
            [
             0.6666666666666666,
             "#ed7953"
            ],
            [
             0.7777777777777778,
             "#fb9f3a"
            ],
            [
             0.8888888888888888,
             "#fdca26"
            ],
            [
             1,
             "#f0f921"
            ]
           ]
          },
          "colorway": [
           "#636efa",
           "#EF553B",
           "#00cc96",
           "#ab63fa",
           "#FFA15A",
           "#19d3f3",
           "#FF6692",
           "#B6E880",
           "#FF97FF",
           "#FECB52"
          ],
          "font": {
           "color": "#2a3f5f"
          },
          "geo": {
           "bgcolor": "white",
           "lakecolor": "white",
           "landcolor": "#E5ECF6",
           "showlakes": true,
           "showland": true,
           "subunitcolor": "white"
          },
          "hoverlabel": {
           "align": "left"
          },
          "hovermode": "closest",
          "mapbox": {
           "style": "light"
          },
          "paper_bgcolor": "white",
          "plot_bgcolor": "#E5ECF6",
          "polar": {
           "angularaxis": {
            "gridcolor": "white",
            "linecolor": "white",
            "ticks": ""
           },
           "bgcolor": "#E5ECF6",
           "radialaxis": {
            "gridcolor": "white",
            "linecolor": "white",
            "ticks": ""
           }
          },
          "scene": {
           "xaxis": {
            "backgroundcolor": "#E5ECF6",
            "gridcolor": "white",
            "gridwidth": 2,
            "linecolor": "white",
            "showbackground": true,
            "ticks": "",
            "zerolinecolor": "white"
           },
           "yaxis": {
            "backgroundcolor": "#E5ECF6",
            "gridcolor": "white",
            "gridwidth": 2,
            "linecolor": "white",
            "showbackground": true,
            "ticks": "",
            "zerolinecolor": "white"
           },
           "zaxis": {
            "backgroundcolor": "#E5ECF6",
            "gridcolor": "white",
            "gridwidth": 2,
            "linecolor": "white",
            "showbackground": true,
            "ticks": "",
            "zerolinecolor": "white"
           }
          },
          "shapedefaults": {
           "line": {
            "color": "#2a3f5f"
           }
          },
          "ternary": {
           "aaxis": {
            "gridcolor": "white",
            "linecolor": "white",
            "ticks": ""
           },
           "baxis": {
            "gridcolor": "white",
            "linecolor": "white",
            "ticks": ""
           },
           "bgcolor": "#E5ECF6",
           "caxis": {
            "gridcolor": "white",
            "linecolor": "white",
            "ticks": ""
           }
          },
          "title": {
           "x": 0.05
          },
          "xaxis": {
           "automargin": true,
           "gridcolor": "white",
           "linecolor": "white",
           "ticks": "",
           "title": {
            "standoff": 15
           },
           "zerolinecolor": "white",
           "zerolinewidth": 2
          },
          "yaxis": {
           "automargin": true,
           "gridcolor": "white",
           "linecolor": "white",
           "ticks": "",
           "title": {
            "standoff": 15
           },
           "zerolinecolor": "white",
           "zerolinewidth": 2
          }
         }
        }
       }
      }
     },
     "metadata": {},
     "output_type": "display_data"
    }
   ],
   "source": [
    "px.sunburst(df, path=['continent','country'], values= 'pop',)"
   ]
  },
  {
   "cell_type": "code",
   "execution_count": 95,
   "metadata": {},
   "outputs": [
    {
     "data": {
      "application/vnd.plotly.v1+json": {
       "config": {
        "plotlyServerURL": "https://plot.ly"
       },
       "data": [
        {
         "branchvalues": "total",
         "domain": {
          "x": [
           0,
           1
          ],
          "y": [
           0,
           1
          ]
         },
         "hovertemplate": "labels=%{label}<br>pop=%{value}<br>parent=%{parent}<br>id=%{id}<extra></extra>",
         "ids": [
          "Asia/Afghanistan/1952",
          "Europe/Albania/1952",
          "Africa/Algeria/1952",
          "Africa/Angola/1952",
          "Americas/Argentina/1952",
          "Oceania/Australia/1952",
          "Europe/Austria/1952",
          "Asia/Bahrain/1952",
          "Asia/Bangladesh/1952",
          "Europe/Belgium/1952",
          "Africa/Benin/1952",
          "Americas/Bolivia/1952",
          "Europe/Bosnia and Herzegovina/1952",
          "Africa/Botswana/1952",
          "Americas/Brazil/1952",
          "Europe/Bulgaria/1952",
          "Africa/Burkina Faso/1952",
          "Africa/Burundi/1952",
          "Asia/Cambodia/1952",
          "Africa/Cameroon/1952",
          "Americas/Canada/1952",
          "Africa/Central African Republic/1952",
          "Africa/Chad/1952",
          "Americas/Chile/1952",
          "Asia/China/1952",
          "Americas/Colombia/1952",
          "Africa/Comoros/1952",
          "Africa/Congo, Dem. Rep./1952",
          "Africa/Congo, Rep./1952",
          "Americas/Costa Rica/1952",
          "Africa/Cote d'Ivoire/1952",
          "Europe/Croatia/1952",
          "Americas/Cuba/1952",
          "Europe/Czech Republic/1952",
          "Europe/Denmark/1952",
          "Africa/Djibouti/1952",
          "Americas/Dominican Republic/1952",
          "Americas/Ecuador/1952",
          "Africa/Egypt/1952",
          "Americas/El Salvador/1952",
          "Africa/Equatorial Guinea/1952",
          "Africa/Eritrea/1952",
          "Africa/Ethiopia/1952",
          "Europe/Finland/1952",
          "Europe/France/1952",
          "Africa/Gabon/1952",
          "Africa/Gambia/1952",
          "Europe/Germany/1952",
          "Africa/Ghana/1952",
          "Europe/Greece/1952",
          "Americas/Guatemala/1952",
          "Africa/Guinea/1952",
          "Africa/Guinea-Bissau/1952",
          "Americas/Haiti/1952",
          "Americas/Honduras/1952",
          "Asia/Hong Kong, China/1952",
          "Europe/Hungary/1952",
          "Europe/Iceland/1952",
          "Asia/India/1952",
          "Asia/Indonesia/1952",
          "Asia/Iran/1952",
          "Asia/Iraq/1952",
          "Europe/Ireland/1952",
          "Asia/Israel/1952",
          "Europe/Italy/1952",
          "Americas/Jamaica/1952",
          "Asia/Japan/1952",
          "Asia/Jordan/1952",
          "Africa/Kenya/1952",
          "Asia/Korea, Dem. Rep./1952",
          "Asia/Korea, Rep./1952",
          "Asia/Kuwait/1952",
          "Asia/Lebanon/1952",
          "Africa/Lesotho/1952",
          "Africa/Liberia/1952",
          "Africa/Libya/1952",
          "Africa/Madagascar/1952",
          "Africa/Malawi/1952",
          "Asia/Malaysia/1952",
          "Africa/Mali/1952",
          "Africa/Mauritania/1952",
          "Africa/Mauritius/1952",
          "Americas/Mexico/1952",
          "Asia/Mongolia/1952",
          "Europe/Montenegro/1952",
          "Africa/Morocco/1952",
          "Africa/Mozambique/1952",
          "Asia/Myanmar/1952",
          "Africa/Namibia/1952",
          "Asia/Nepal/1952",
          "Europe/Netherlands/1952",
          "Oceania/New Zealand/1952",
          "Americas/Nicaragua/1952",
          "Africa/Niger/1952",
          "Africa/Nigeria/1952",
          "Europe/Norway/1952",
          "Asia/Oman/1952",
          "Asia/Pakistan/1952",
          "Americas/Panama/1952",
          "Americas/Paraguay/1952",
          "Americas/Peru/1952",
          "Asia/Philippines/1952",
          "Europe/Poland/1952",
          "Europe/Portugal/1952",
          "Americas/Puerto Rico/1952",
          "Africa/Reunion/1952",
          "Europe/Romania/1952",
          "Africa/Rwanda/1952",
          "Africa/Sao Tome and Principe/1952",
          "Asia/Saudi Arabia/1952",
          "Africa/Senegal/1952",
          "Europe/Serbia/1952",
          "Africa/Sierra Leone/1952",
          "Asia/Singapore/1952",
          "Europe/Slovak Republic/1952",
          "Europe/Slovenia/1952",
          "Africa/Somalia/1952",
          "Africa/South Africa/1952",
          "Europe/Spain/1952",
          "Asia/Sri Lanka/1952",
          "Africa/Sudan/1952",
          "Africa/Swaziland/1952",
          "Europe/Sweden/1952",
          "Europe/Switzerland/1952",
          "Asia/Syria/1952",
          "Asia/Taiwan/1952",
          "Africa/Tanzania/1952",
          "Asia/Thailand/1952",
          "Africa/Togo/1952",
          "Americas/Trinidad and Tobago/1952",
          "Africa/Tunisia/1952",
          "Europe/Turkey/1952",
          "Africa/Uganda/1952",
          "Europe/United Kingdom/1952",
          "Americas/United States/1952",
          "Americas/Uruguay/1952",
          "Americas/Venezuela/1952",
          "Asia/Vietnam/1952",
          "Asia/West Bank and Gaza/1952",
          "Asia/Yemen, Rep./1952",
          "Africa/Zambia/1952",
          "Africa/Zimbabwe/1952",
          "Asia/Afghanistan/1957",
          "Europe/Albania/1957",
          "Africa/Algeria/1957",
          "Africa/Angola/1957",
          "Americas/Argentina/1957",
          "Oceania/Australia/1957",
          "Europe/Austria/1957",
          "Asia/Bahrain/1957",
          "Asia/Bangladesh/1957",
          "Europe/Belgium/1957",
          "Africa/Benin/1957",
          "Americas/Bolivia/1957",
          "Europe/Bosnia and Herzegovina/1957",
          "Africa/Botswana/1957",
          "Americas/Brazil/1957",
          "Europe/Bulgaria/1957",
          "Africa/Burkina Faso/1957",
          "Africa/Burundi/1957",
          "Asia/Cambodia/1957",
          "Africa/Cameroon/1957",
          "Americas/Canada/1957",
          "Africa/Central African Republic/1957",
          "Africa/Chad/1957",
          "Americas/Chile/1957",
          "Asia/China/1957",
          "Americas/Colombia/1957",
          "Africa/Comoros/1957",
          "Africa/Congo, Dem. Rep./1957",
          "Africa/Congo, Rep./1957",
          "Americas/Costa Rica/1957",
          "Africa/Cote d'Ivoire/1957",
          "Europe/Croatia/1957",
          "Americas/Cuba/1957",
          "Europe/Czech Republic/1957",
          "Europe/Denmark/1957",
          "Africa/Djibouti/1957",
          "Americas/Dominican Republic/1957",
          "Americas/Ecuador/1957",
          "Africa/Egypt/1957",
          "Americas/El Salvador/1957",
          "Africa/Equatorial Guinea/1957",
          "Africa/Eritrea/1957",
          "Africa/Ethiopia/1957",
          "Europe/Finland/1957",
          "Europe/France/1957",
          "Africa/Gabon/1957",
          "Africa/Gambia/1957",
          "Europe/Germany/1957",
          "Africa/Ghana/1957",
          "Europe/Greece/1957",
          "Americas/Guatemala/1957",
          "Africa/Guinea/1957",
          "Africa/Guinea-Bissau/1957",
          "Americas/Haiti/1957",
          "Americas/Honduras/1957",
          "Asia/Hong Kong, China/1957",
          "Europe/Hungary/1957",
          "Europe/Iceland/1957",
          "Asia/India/1957",
          "Asia/Indonesia/1957",
          "Asia/Iran/1957",
          "Asia/Iraq/1957",
          "Europe/Ireland/1957",
          "Asia/Israel/1957",
          "Europe/Italy/1957",
          "Americas/Jamaica/1957",
          "Asia/Japan/1957",
          "Asia/Jordan/1957",
          "Africa/Kenya/1957",
          "Asia/Korea, Dem. Rep./1957",
          "Asia/Korea, Rep./1957",
          "Asia/Kuwait/1957",
          "Asia/Lebanon/1957",
          "Africa/Lesotho/1957",
          "Africa/Liberia/1957",
          "Africa/Libya/1957",
          "Africa/Madagascar/1957",
          "Africa/Malawi/1957",
          "Asia/Malaysia/1957",
          "Africa/Mali/1957",
          "Africa/Mauritania/1957",
          "Africa/Mauritius/1957",
          "Americas/Mexico/1957",
          "Asia/Mongolia/1957",
          "Europe/Montenegro/1957",
          "Africa/Morocco/1957",
          "Africa/Mozambique/1957",
          "Asia/Myanmar/1957",
          "Africa/Namibia/1957",
          "Asia/Nepal/1957",
          "Europe/Netherlands/1957",
          "Oceania/New Zealand/1957",
          "Americas/Nicaragua/1957",
          "Africa/Niger/1957",
          "Africa/Nigeria/1957",
          "Europe/Norway/1957",
          "Asia/Oman/1957",
          "Asia/Pakistan/1957",
          "Americas/Panama/1957",
          "Americas/Paraguay/1957",
          "Americas/Peru/1957",
          "Asia/Philippines/1957",
          "Europe/Poland/1957",
          "Europe/Portugal/1957",
          "Americas/Puerto Rico/1957",
          "Africa/Reunion/1957",
          "Europe/Romania/1957",
          "Africa/Rwanda/1957",
          "Africa/Sao Tome and Principe/1957",
          "Asia/Saudi Arabia/1957",
          "Africa/Senegal/1957",
          "Europe/Serbia/1957",
          "Africa/Sierra Leone/1957",
          "Asia/Singapore/1957",
          "Europe/Slovak Republic/1957",
          "Europe/Slovenia/1957",
          "Africa/Somalia/1957",
          "Africa/South Africa/1957",
          "Europe/Spain/1957",
          "Asia/Sri Lanka/1957",
          "Africa/Sudan/1957",
          "Africa/Swaziland/1957",
          "Europe/Sweden/1957",
          "Europe/Switzerland/1957",
          "Asia/Syria/1957",
          "Asia/Taiwan/1957",
          "Africa/Tanzania/1957",
          "Asia/Thailand/1957",
          "Africa/Togo/1957",
          "Americas/Trinidad and Tobago/1957",
          "Africa/Tunisia/1957",
          "Europe/Turkey/1957",
          "Africa/Uganda/1957",
          "Europe/United Kingdom/1957",
          "Americas/United States/1957",
          "Americas/Uruguay/1957",
          "Americas/Venezuela/1957",
          "Asia/Vietnam/1957",
          "Asia/West Bank and Gaza/1957",
          "Asia/Yemen, Rep./1957",
          "Africa/Zambia/1957",
          "Africa/Zimbabwe/1957",
          "Asia/Afghanistan/1962",
          "Europe/Albania/1962",
          "Africa/Algeria/1962",
          "Africa/Angola/1962",
          "Americas/Argentina/1962",
          "Oceania/Australia/1962",
          "Europe/Austria/1962",
          "Asia/Bahrain/1962",
          "Asia/Bangladesh/1962",
          "Europe/Belgium/1962",
          "Africa/Benin/1962",
          "Americas/Bolivia/1962",
          "Europe/Bosnia and Herzegovina/1962",
          "Africa/Botswana/1962",
          "Americas/Brazil/1962",
          "Europe/Bulgaria/1962",
          "Africa/Burkina Faso/1962",
          "Africa/Burundi/1962",
          "Asia/Cambodia/1962",
          "Africa/Cameroon/1962",
          "Americas/Canada/1962",
          "Africa/Central African Republic/1962",
          "Africa/Chad/1962",
          "Americas/Chile/1962",
          "Asia/China/1962",
          "Americas/Colombia/1962",
          "Africa/Comoros/1962",
          "Africa/Congo, Dem. Rep./1962",
          "Africa/Congo, Rep./1962",
          "Americas/Costa Rica/1962",
          "Africa/Cote d'Ivoire/1962",
          "Europe/Croatia/1962",
          "Americas/Cuba/1962",
          "Europe/Czech Republic/1962",
          "Europe/Denmark/1962",
          "Africa/Djibouti/1962",
          "Americas/Dominican Republic/1962",
          "Americas/Ecuador/1962",
          "Africa/Egypt/1962",
          "Americas/El Salvador/1962",
          "Africa/Equatorial Guinea/1962",
          "Africa/Eritrea/1962",
          "Africa/Ethiopia/1962",
          "Europe/Finland/1962",
          "Europe/France/1962",
          "Africa/Gabon/1962",
          "Africa/Gambia/1962",
          "Europe/Germany/1962",
          "Africa/Ghana/1962",
          "Europe/Greece/1962",
          "Americas/Guatemala/1962",
          "Africa/Guinea/1962",
          "Africa/Guinea-Bissau/1962",
          "Americas/Haiti/1962",
          "Americas/Honduras/1962",
          "Asia/Hong Kong, China/1962",
          "Europe/Hungary/1962",
          "Europe/Iceland/1962",
          "Asia/India/1962",
          "Asia/Indonesia/1962",
          "Asia/Iran/1962",
          "Asia/Iraq/1962",
          "Europe/Ireland/1962",
          "Asia/Israel/1962",
          "Europe/Italy/1962",
          "Americas/Jamaica/1962",
          "Asia/Japan/1962",
          "Asia/Jordan/1962",
          "Africa/Kenya/1962",
          "Asia/Korea, Dem. Rep./1962",
          "Asia/Korea, Rep./1962",
          "Asia/Kuwait/1962",
          "Asia/Lebanon/1962",
          "Africa/Lesotho/1962",
          "Africa/Liberia/1962",
          "Africa/Libya/1962",
          "Africa/Madagascar/1962",
          "Africa/Malawi/1962",
          "Asia/Malaysia/1962",
          "Africa/Mali/1962",
          "Africa/Mauritania/1962",
          "Africa/Mauritius/1962",
          "Americas/Mexico/1962",
          "Asia/Mongolia/1962",
          "Europe/Montenegro/1962",
          "Africa/Morocco/1962",
          "Africa/Mozambique/1962",
          "Asia/Myanmar/1962",
          "Africa/Namibia/1962",
          "Asia/Nepal/1962",
          "Europe/Netherlands/1962",
          "Oceania/New Zealand/1962",
          "Americas/Nicaragua/1962",
          "Africa/Niger/1962",
          "Africa/Nigeria/1962",
          "Europe/Norway/1962",
          "Asia/Oman/1962",
          "Asia/Pakistan/1962",
          "Americas/Panama/1962",
          "Americas/Paraguay/1962",
          "Americas/Peru/1962",
          "Asia/Philippines/1962",
          "Europe/Poland/1962",
          "Europe/Portugal/1962",
          "Americas/Puerto Rico/1962",
          "Africa/Reunion/1962",
          "Europe/Romania/1962",
          "Africa/Rwanda/1962",
          "Africa/Sao Tome and Principe/1962",
          "Asia/Saudi Arabia/1962",
          "Africa/Senegal/1962",
          "Europe/Serbia/1962",
          "Africa/Sierra Leone/1962",
          "Asia/Singapore/1962",
          "Europe/Slovak Republic/1962",
          "Europe/Slovenia/1962",
          "Africa/Somalia/1962",
          "Africa/South Africa/1962",
          "Europe/Spain/1962",
          "Asia/Sri Lanka/1962",
          "Africa/Sudan/1962",
          "Africa/Swaziland/1962",
          "Europe/Sweden/1962",
          "Europe/Switzerland/1962",
          "Asia/Syria/1962",
          "Asia/Taiwan/1962",
          "Africa/Tanzania/1962",
          "Asia/Thailand/1962",
          "Africa/Togo/1962",
          "Americas/Trinidad and Tobago/1962",
          "Africa/Tunisia/1962",
          "Europe/Turkey/1962",
          "Africa/Uganda/1962",
          "Europe/United Kingdom/1962",
          "Americas/United States/1962",
          "Americas/Uruguay/1962",
          "Americas/Venezuela/1962",
          "Asia/Vietnam/1962",
          "Asia/West Bank and Gaza/1962",
          "Asia/Yemen, Rep./1962",
          "Africa/Zambia/1962",
          "Africa/Zimbabwe/1962",
          "Asia/Afghanistan/1967",
          "Europe/Albania/1967",
          "Africa/Algeria/1967",
          "Africa/Angola/1967",
          "Americas/Argentina/1967",
          "Oceania/Australia/1967",
          "Europe/Austria/1967",
          "Asia/Bahrain/1967",
          "Asia/Bangladesh/1967",
          "Europe/Belgium/1967",
          "Africa/Benin/1967",
          "Americas/Bolivia/1967",
          "Europe/Bosnia and Herzegovina/1967",
          "Africa/Botswana/1967",
          "Americas/Brazil/1967",
          "Europe/Bulgaria/1967",
          "Africa/Burkina Faso/1967",
          "Africa/Burundi/1967",
          "Asia/Cambodia/1967",
          "Africa/Cameroon/1967",
          "Americas/Canada/1967",
          "Africa/Central African Republic/1967",
          "Africa/Chad/1967",
          "Americas/Chile/1967",
          "Asia/China/1967",
          "Americas/Colombia/1967",
          "Africa/Comoros/1967",
          "Africa/Congo, Dem. Rep./1967",
          "Africa/Congo, Rep./1967",
          "Americas/Costa Rica/1967",
          "Africa/Cote d'Ivoire/1967",
          "Europe/Croatia/1967",
          "Americas/Cuba/1967",
          "Europe/Czech Republic/1967",
          "Europe/Denmark/1967",
          "Africa/Djibouti/1967",
          "Americas/Dominican Republic/1967",
          "Americas/Ecuador/1967",
          "Africa/Egypt/1967",
          "Americas/El Salvador/1967",
          "Africa/Equatorial Guinea/1967",
          "Africa/Eritrea/1967",
          "Africa/Ethiopia/1967",
          "Europe/Finland/1967",
          "Europe/France/1967",
          "Africa/Gabon/1967",
          "Africa/Gambia/1967",
          "Europe/Germany/1967",
          "Africa/Ghana/1967",
          "Europe/Greece/1967",
          "Americas/Guatemala/1967",
          "Africa/Guinea/1967",
          "Africa/Guinea-Bissau/1967",
          "Americas/Haiti/1967",
          "Americas/Honduras/1967",
          "Asia/Hong Kong, China/1967",
          "Europe/Hungary/1967",
          "Europe/Iceland/1967",
          "Asia/India/1967",
          "Asia/Indonesia/1967",
          "Asia/Iran/1967",
          "Asia/Iraq/1967",
          "Europe/Ireland/1967",
          "Asia/Israel/1967",
          "Europe/Italy/1967",
          "Americas/Jamaica/1967",
          "Asia/Japan/1967",
          "Asia/Jordan/1967",
          "Africa/Kenya/1967",
          "Asia/Korea, Dem. Rep./1967",
          "Asia/Korea, Rep./1967",
          "Asia/Kuwait/1967",
          "Asia/Lebanon/1967",
          "Africa/Lesotho/1967",
          "Africa/Liberia/1967",
          "Africa/Libya/1967",
          "Africa/Madagascar/1967",
          "Africa/Malawi/1967",
          "Asia/Malaysia/1967",
          "Africa/Mali/1967",
          "Africa/Mauritania/1967",
          "Africa/Mauritius/1967",
          "Americas/Mexico/1967",
          "Asia/Mongolia/1967",
          "Europe/Montenegro/1967",
          "Africa/Morocco/1967",
          "Africa/Mozambique/1967",
          "Asia/Myanmar/1967",
          "Africa/Namibia/1967",
          "Asia/Nepal/1967",
          "Europe/Netherlands/1967",
          "Oceania/New Zealand/1967",
          "Americas/Nicaragua/1967",
          "Africa/Niger/1967",
          "Africa/Nigeria/1967",
          "Europe/Norway/1967",
          "Asia/Oman/1967",
          "Asia/Pakistan/1967",
          "Americas/Panama/1967",
          "Americas/Paraguay/1967",
          "Americas/Peru/1967",
          "Asia/Philippines/1967",
          "Europe/Poland/1967",
          "Europe/Portugal/1967",
          "Americas/Puerto Rico/1967",
          "Africa/Reunion/1967",
          "Europe/Romania/1967",
          "Africa/Rwanda/1967",
          "Africa/Sao Tome and Principe/1967",
          "Asia/Saudi Arabia/1967",
          "Africa/Senegal/1967",
          "Europe/Serbia/1967",
          "Africa/Sierra Leone/1967",
          "Asia/Singapore/1967",
          "Europe/Slovak Republic/1967",
          "Europe/Slovenia/1967",
          "Africa/Somalia/1967",
          "Africa/South Africa/1967",
          "Europe/Spain/1967",
          "Asia/Sri Lanka/1967",
          "Africa/Sudan/1967",
          "Africa/Swaziland/1967",
          "Europe/Sweden/1967",
          "Europe/Switzerland/1967",
          "Asia/Syria/1967",
          "Asia/Taiwan/1967",
          "Africa/Tanzania/1967",
          "Asia/Thailand/1967",
          "Africa/Togo/1967",
          "Americas/Trinidad and Tobago/1967",
          "Africa/Tunisia/1967",
          "Europe/Turkey/1967",
          "Africa/Uganda/1967",
          "Europe/United Kingdom/1967",
          "Americas/United States/1967",
          "Americas/Uruguay/1967",
          "Americas/Venezuela/1967",
          "Asia/Vietnam/1967",
          "Asia/West Bank and Gaza/1967",
          "Asia/Yemen, Rep./1967",
          "Africa/Zambia/1967",
          "Africa/Zimbabwe/1967",
          "Asia/Afghanistan/1972",
          "Europe/Albania/1972",
          "Africa/Algeria/1972",
          "Africa/Angola/1972",
          "Americas/Argentina/1972",
          "Oceania/Australia/1972",
          "Europe/Austria/1972",
          "Asia/Bahrain/1972",
          "Asia/Bangladesh/1972",
          "Europe/Belgium/1972",
          "Africa/Benin/1972",
          "Americas/Bolivia/1972",
          "Europe/Bosnia and Herzegovina/1972",
          "Africa/Botswana/1972",
          "Americas/Brazil/1972",
          "Europe/Bulgaria/1972",
          "Africa/Burkina Faso/1972",
          "Africa/Burundi/1972",
          "Asia/Cambodia/1972",
          "Africa/Cameroon/1972",
          "Americas/Canada/1972",
          "Africa/Central African Republic/1972",
          "Africa/Chad/1972",
          "Americas/Chile/1972",
          "Asia/China/1972",
          "Americas/Colombia/1972",
          "Africa/Comoros/1972",
          "Africa/Congo, Dem. Rep./1972",
          "Africa/Congo, Rep./1972",
          "Americas/Costa Rica/1972",
          "Africa/Cote d'Ivoire/1972",
          "Europe/Croatia/1972",
          "Americas/Cuba/1972",
          "Europe/Czech Republic/1972",
          "Europe/Denmark/1972",
          "Africa/Djibouti/1972",
          "Americas/Dominican Republic/1972",
          "Americas/Ecuador/1972",
          "Africa/Egypt/1972",
          "Americas/El Salvador/1972",
          "Africa/Equatorial Guinea/1972",
          "Africa/Eritrea/1972",
          "Africa/Ethiopia/1972",
          "Europe/Finland/1972",
          "Europe/France/1972",
          "Africa/Gabon/1972",
          "Africa/Gambia/1972",
          "Europe/Germany/1972",
          "Africa/Ghana/1972",
          "Europe/Greece/1972",
          "Americas/Guatemala/1972",
          "Africa/Guinea/1972",
          "Africa/Guinea-Bissau/1972",
          "Americas/Haiti/1972",
          "Americas/Honduras/1972",
          "Asia/Hong Kong, China/1972",
          "Europe/Hungary/1972",
          "Europe/Iceland/1972",
          "Asia/India/1972",
          "Asia/Indonesia/1972",
          "Asia/Iran/1972",
          "Asia/Iraq/1972",
          "Europe/Ireland/1972",
          "Asia/Israel/1972",
          "Europe/Italy/1972",
          "Americas/Jamaica/1972",
          "Asia/Japan/1972",
          "Asia/Jordan/1972",
          "Africa/Kenya/1972",
          "Asia/Korea, Dem. Rep./1972",
          "Asia/Korea, Rep./1972",
          "Asia/Kuwait/1972",
          "Asia/Lebanon/1972",
          "Africa/Lesotho/1972",
          "Africa/Liberia/1972",
          "Africa/Libya/1972",
          "Africa/Madagascar/1972",
          "Africa/Malawi/1972",
          "Asia/Malaysia/1972",
          "Africa/Mali/1972",
          "Africa/Mauritania/1972",
          "Africa/Mauritius/1972",
          "Americas/Mexico/1972",
          "Asia/Mongolia/1972",
          "Europe/Montenegro/1972",
          "Africa/Morocco/1972",
          "Africa/Mozambique/1972",
          "Asia/Myanmar/1972",
          "Africa/Namibia/1972",
          "Asia/Nepal/1972",
          "Europe/Netherlands/1972",
          "Oceania/New Zealand/1972",
          "Americas/Nicaragua/1972",
          "Africa/Niger/1972",
          "Africa/Nigeria/1972",
          "Europe/Norway/1972",
          "Asia/Oman/1972",
          "Asia/Pakistan/1972",
          "Americas/Panama/1972",
          "Americas/Paraguay/1972",
          "Americas/Peru/1972",
          "Asia/Philippines/1972",
          "Europe/Poland/1972",
          "Europe/Portugal/1972",
          "Americas/Puerto Rico/1972",
          "Africa/Reunion/1972",
          "Europe/Romania/1972",
          "Africa/Rwanda/1972",
          "Africa/Sao Tome and Principe/1972",
          "Asia/Saudi Arabia/1972",
          "Africa/Senegal/1972",
          "Europe/Serbia/1972",
          "Africa/Sierra Leone/1972",
          "Asia/Singapore/1972",
          "Europe/Slovak Republic/1972",
          "Europe/Slovenia/1972",
          "Africa/Somalia/1972",
          "Africa/South Africa/1972",
          "Europe/Spain/1972",
          "Asia/Sri Lanka/1972",
          "Africa/Sudan/1972",
          "Africa/Swaziland/1972",
          "Europe/Sweden/1972",
          "Europe/Switzerland/1972",
          "Asia/Syria/1972",
          "Asia/Taiwan/1972",
          "Africa/Tanzania/1972",
          "Asia/Thailand/1972",
          "Africa/Togo/1972",
          "Americas/Trinidad and Tobago/1972",
          "Africa/Tunisia/1972",
          "Europe/Turkey/1972",
          "Africa/Uganda/1972",
          "Europe/United Kingdom/1972",
          "Americas/United States/1972",
          "Americas/Uruguay/1972",
          "Americas/Venezuela/1972",
          "Asia/Vietnam/1972",
          "Asia/West Bank and Gaza/1972",
          "Asia/Yemen, Rep./1972",
          "Africa/Zambia/1972",
          "Africa/Zimbabwe/1972",
          "Asia/Afghanistan/1977",
          "Europe/Albania/1977",
          "Africa/Algeria/1977",
          "Africa/Angola/1977",
          "Americas/Argentina/1977",
          "Oceania/Australia/1977",
          "Europe/Austria/1977",
          "Asia/Bahrain/1977",
          "Asia/Bangladesh/1977",
          "Europe/Belgium/1977",
          "Africa/Benin/1977",
          "Americas/Bolivia/1977",
          "Europe/Bosnia and Herzegovina/1977",
          "Africa/Botswana/1977",
          "Americas/Brazil/1977",
          "Europe/Bulgaria/1977",
          "Africa/Burkina Faso/1977",
          "Africa/Burundi/1977",
          "Asia/Cambodia/1977",
          "Africa/Cameroon/1977",
          "Americas/Canada/1977",
          "Africa/Central African Republic/1977",
          "Africa/Chad/1977",
          "Americas/Chile/1977",
          "Asia/China/1977",
          "Americas/Colombia/1977",
          "Africa/Comoros/1977",
          "Africa/Congo, Dem. Rep./1977",
          "Africa/Congo, Rep./1977",
          "Americas/Costa Rica/1977",
          "Africa/Cote d'Ivoire/1977",
          "Europe/Croatia/1977",
          "Americas/Cuba/1977",
          "Europe/Czech Republic/1977",
          "Europe/Denmark/1977",
          "Africa/Djibouti/1977",
          "Americas/Dominican Republic/1977",
          "Americas/Ecuador/1977",
          "Africa/Egypt/1977",
          "Americas/El Salvador/1977",
          "Africa/Equatorial Guinea/1977",
          "Africa/Eritrea/1977",
          "Africa/Ethiopia/1977",
          "Europe/Finland/1977",
          "Europe/France/1977",
          "Africa/Gabon/1977",
          "Africa/Gambia/1977",
          "Europe/Germany/1977",
          "Africa/Ghana/1977",
          "Europe/Greece/1977",
          "Americas/Guatemala/1977",
          "Africa/Guinea/1977",
          "Africa/Guinea-Bissau/1977",
          "Americas/Haiti/1977",
          "Americas/Honduras/1977",
          "Asia/Hong Kong, China/1977",
          "Europe/Hungary/1977",
          "Europe/Iceland/1977",
          "Asia/India/1977",
          "Asia/Indonesia/1977",
          "Asia/Iran/1977",
          "Asia/Iraq/1977",
          "Europe/Ireland/1977",
          "Asia/Israel/1977",
          "Europe/Italy/1977",
          "Americas/Jamaica/1977",
          "Asia/Japan/1977",
          "Asia/Jordan/1977",
          "Africa/Kenya/1977",
          "Asia/Korea, Dem. Rep./1977",
          "Asia/Korea, Rep./1977",
          "Asia/Kuwait/1977",
          "Asia/Lebanon/1977",
          "Africa/Lesotho/1977",
          "Africa/Liberia/1977",
          "Africa/Libya/1977",
          "Africa/Madagascar/1977",
          "Africa/Malawi/1977",
          "Asia/Malaysia/1977",
          "Africa/Mali/1977",
          "Africa/Mauritania/1977",
          "Africa/Mauritius/1977",
          "Americas/Mexico/1977",
          "Asia/Mongolia/1977",
          "Europe/Montenegro/1977",
          "Africa/Morocco/1977",
          "Africa/Mozambique/1977",
          "Asia/Myanmar/1977",
          "Africa/Namibia/1977",
          "Asia/Nepal/1977",
          "Europe/Netherlands/1977",
          "Oceania/New Zealand/1977",
          "Americas/Nicaragua/1977",
          "Africa/Niger/1977",
          "Africa/Nigeria/1977",
          "Europe/Norway/1977",
          "Asia/Oman/1977",
          "Asia/Pakistan/1977",
          "Americas/Panama/1977",
          "Americas/Paraguay/1977",
          "Americas/Peru/1977",
          "Asia/Philippines/1977",
          "Europe/Poland/1977",
          "Europe/Portugal/1977",
          "Americas/Puerto Rico/1977",
          "Africa/Reunion/1977",
          "Europe/Romania/1977",
          "Africa/Rwanda/1977",
          "Africa/Sao Tome and Principe/1977",
          "Asia/Saudi Arabia/1977",
          "Africa/Senegal/1977",
          "Europe/Serbia/1977",
          "Africa/Sierra Leone/1977",
          "Asia/Singapore/1977",
          "Europe/Slovak Republic/1977",
          "Europe/Slovenia/1977",
          "Africa/Somalia/1977",
          "Africa/South Africa/1977",
          "Europe/Spain/1977",
          "Asia/Sri Lanka/1977",
          "Africa/Sudan/1977",
          "Africa/Swaziland/1977",
          "Europe/Sweden/1977",
          "Europe/Switzerland/1977",
          "Asia/Syria/1977",
          "Asia/Taiwan/1977",
          "Africa/Tanzania/1977",
          "Asia/Thailand/1977",
          "Africa/Togo/1977",
          "Americas/Trinidad and Tobago/1977",
          "Africa/Tunisia/1977",
          "Europe/Turkey/1977",
          "Africa/Uganda/1977",
          "Europe/United Kingdom/1977",
          "Americas/United States/1977",
          "Americas/Uruguay/1977",
          "Americas/Venezuela/1977",
          "Asia/Vietnam/1977",
          "Asia/West Bank and Gaza/1977",
          "Asia/Yemen, Rep./1977",
          "Africa/Zambia/1977",
          "Africa/Zimbabwe/1977",
          "Asia/Afghanistan/1982",
          "Europe/Albania/1982",
          "Africa/Algeria/1982",
          "Africa/Angola/1982",
          "Americas/Argentina/1982",
          "Oceania/Australia/1982",
          "Europe/Austria/1982",
          "Asia/Bahrain/1982",
          "Asia/Bangladesh/1982",
          "Europe/Belgium/1982",
          "Africa/Benin/1982",
          "Americas/Bolivia/1982",
          "Europe/Bosnia and Herzegovina/1982",
          "Africa/Botswana/1982",
          "Americas/Brazil/1982",
          "Europe/Bulgaria/1982",
          "Africa/Burkina Faso/1982",
          "Africa/Burundi/1982",
          "Asia/Cambodia/1982",
          "Africa/Cameroon/1982",
          "Americas/Canada/1982",
          "Africa/Central African Republic/1982",
          "Africa/Chad/1982",
          "Americas/Chile/1982",
          "Asia/China/1982",
          "Americas/Colombia/1982",
          "Africa/Comoros/1982",
          "Africa/Congo, Dem. Rep./1982",
          "Africa/Congo, Rep./1982",
          "Americas/Costa Rica/1982",
          "Africa/Cote d'Ivoire/1982",
          "Europe/Croatia/1982",
          "Americas/Cuba/1982",
          "Europe/Czech Republic/1982",
          "Europe/Denmark/1982",
          "Africa/Djibouti/1982",
          "Americas/Dominican Republic/1982",
          "Americas/Ecuador/1982",
          "Africa/Egypt/1982",
          "Americas/El Salvador/1982",
          "Africa/Equatorial Guinea/1982",
          "Africa/Eritrea/1982",
          "Africa/Ethiopia/1982",
          "Europe/Finland/1982",
          "Europe/France/1982",
          "Africa/Gabon/1982",
          "Africa/Gambia/1982",
          "Europe/Germany/1982",
          "Africa/Ghana/1982",
          "Europe/Greece/1982",
          "Americas/Guatemala/1982",
          "Africa/Guinea/1982",
          "Africa/Guinea-Bissau/1982",
          "Americas/Haiti/1982",
          "Americas/Honduras/1982",
          "Asia/Hong Kong, China/1982",
          "Europe/Hungary/1982",
          "Europe/Iceland/1982",
          "Asia/India/1982",
          "Asia/Indonesia/1982",
          "Asia/Iran/1982",
          "Asia/Iraq/1982",
          "Europe/Ireland/1982",
          "Asia/Israel/1982",
          "Europe/Italy/1982",
          "Americas/Jamaica/1982",
          "Asia/Japan/1982",
          "Asia/Jordan/1982",
          "Africa/Kenya/1982",
          "Asia/Korea, Dem. Rep./1982",
          "Asia/Korea, Rep./1982",
          "Asia/Kuwait/1982",
          "Asia/Lebanon/1982",
          "Africa/Lesotho/1982",
          "Africa/Liberia/1982",
          "Africa/Libya/1982",
          "Africa/Madagascar/1982",
          "Africa/Malawi/1982",
          "Asia/Malaysia/1982",
          "Africa/Mali/1982",
          "Africa/Mauritania/1982",
          "Africa/Mauritius/1982",
          "Americas/Mexico/1982",
          "Asia/Mongolia/1982",
          "Europe/Montenegro/1982",
          "Africa/Morocco/1982",
          "Africa/Mozambique/1982",
          "Asia/Myanmar/1982",
          "Africa/Namibia/1982",
          "Asia/Nepal/1982",
          "Europe/Netherlands/1982",
          "Oceania/New Zealand/1982",
          "Americas/Nicaragua/1982",
          "Africa/Niger/1982",
          "Africa/Nigeria/1982",
          "Europe/Norway/1982",
          "Asia/Oman/1982",
          "Asia/Pakistan/1982",
          "Americas/Panama/1982",
          "Americas/Paraguay/1982",
          "Americas/Peru/1982",
          "Asia/Philippines/1982",
          "Europe/Poland/1982",
          "Europe/Portugal/1982",
          "Americas/Puerto Rico/1982",
          "Africa/Reunion/1982",
          "Europe/Romania/1982",
          "Africa/Rwanda/1982",
          "Africa/Sao Tome and Principe/1982",
          "Asia/Saudi Arabia/1982",
          "Africa/Senegal/1982",
          "Europe/Serbia/1982",
          "Africa/Sierra Leone/1982",
          "Asia/Singapore/1982",
          "Europe/Slovak Republic/1982",
          "Europe/Slovenia/1982",
          "Africa/Somalia/1982",
          "Africa/South Africa/1982",
          "Europe/Spain/1982",
          "Asia/Sri Lanka/1982",
          "Africa/Sudan/1982",
          "Africa/Swaziland/1982",
          "Europe/Sweden/1982",
          "Europe/Switzerland/1982",
          "Asia/Syria/1982",
          "Asia/Taiwan/1982",
          "Africa/Tanzania/1982",
          "Asia/Thailand/1982",
          "Africa/Togo/1982",
          "Americas/Trinidad and Tobago/1982",
          "Africa/Tunisia/1982",
          "Europe/Turkey/1982",
          "Africa/Uganda/1982",
          "Europe/United Kingdom/1982",
          "Americas/United States/1982",
          "Americas/Uruguay/1982",
          "Americas/Venezuela/1982",
          "Asia/Vietnam/1982",
          "Asia/West Bank and Gaza/1982",
          "Asia/Yemen, Rep./1982",
          "Africa/Zambia/1982",
          "Africa/Zimbabwe/1982",
          "Asia/Afghanistan/1987",
          "Europe/Albania/1987",
          "Africa/Algeria/1987",
          "Africa/Angola/1987",
          "Americas/Argentina/1987",
          "Oceania/Australia/1987",
          "Europe/Austria/1987",
          "Asia/Bahrain/1987",
          "Asia/Bangladesh/1987",
          "Europe/Belgium/1987",
          "Africa/Benin/1987",
          "Americas/Bolivia/1987",
          "Europe/Bosnia and Herzegovina/1987",
          "Africa/Botswana/1987",
          "Americas/Brazil/1987",
          "Europe/Bulgaria/1987",
          "Africa/Burkina Faso/1987",
          "Africa/Burundi/1987",
          "Asia/Cambodia/1987",
          "Africa/Cameroon/1987",
          "Americas/Canada/1987",
          "Africa/Central African Republic/1987",
          "Africa/Chad/1987",
          "Americas/Chile/1987",
          "Asia/China/1987",
          "Americas/Colombia/1987",
          "Africa/Comoros/1987",
          "Africa/Congo, Dem. Rep./1987",
          "Africa/Congo, Rep./1987",
          "Americas/Costa Rica/1987",
          "Africa/Cote d'Ivoire/1987",
          "Europe/Croatia/1987",
          "Americas/Cuba/1987",
          "Europe/Czech Republic/1987",
          "Europe/Denmark/1987",
          "Africa/Djibouti/1987",
          "Americas/Dominican Republic/1987",
          "Americas/Ecuador/1987",
          "Africa/Egypt/1987",
          "Americas/El Salvador/1987",
          "Africa/Equatorial Guinea/1987",
          "Africa/Eritrea/1987",
          "Africa/Ethiopia/1987",
          "Europe/Finland/1987",
          "Europe/France/1987",
          "Africa/Gabon/1987",
          "Africa/Gambia/1987",
          "Europe/Germany/1987",
          "Africa/Ghana/1987",
          "Europe/Greece/1987",
          "Americas/Guatemala/1987",
          "Africa/Guinea/1987",
          "Africa/Guinea-Bissau/1987",
          "Americas/Haiti/1987",
          "Americas/Honduras/1987",
          "Asia/Hong Kong, China/1987",
          "Europe/Hungary/1987",
          "Europe/Iceland/1987",
          "Asia/India/1987",
          "Asia/Indonesia/1987",
          "Asia/Iran/1987",
          "Asia/Iraq/1987",
          "Europe/Ireland/1987",
          "Asia/Israel/1987",
          "Europe/Italy/1987",
          "Americas/Jamaica/1987",
          "Asia/Japan/1987",
          "Asia/Jordan/1987",
          "Africa/Kenya/1987",
          "Asia/Korea, Dem. Rep./1987",
          "Asia/Korea, Rep./1987",
          "Asia/Kuwait/1987",
          "Asia/Lebanon/1987",
          "Africa/Lesotho/1987",
          "Africa/Liberia/1987",
          "Africa/Libya/1987",
          "Africa/Madagascar/1987",
          "Africa/Malawi/1987",
          "Asia/Malaysia/1987",
          "Africa/Mali/1987",
          "Africa/Mauritania/1987",
          "Africa/Mauritius/1987",
          "Americas/Mexico/1987",
          "Asia/Mongolia/1987",
          "Europe/Montenegro/1987",
          "Africa/Morocco/1987",
          "Africa/Mozambique/1987",
          "Asia/Myanmar/1987",
          "Africa/Namibia/1987",
          "Asia/Nepal/1987",
          "Europe/Netherlands/1987",
          "Oceania/New Zealand/1987",
          "Americas/Nicaragua/1987",
          "Africa/Niger/1987",
          "Africa/Nigeria/1987",
          "Europe/Norway/1987",
          "Asia/Oman/1987",
          "Asia/Pakistan/1987",
          "Americas/Panama/1987",
          "Americas/Paraguay/1987",
          "Americas/Peru/1987",
          "Asia/Philippines/1987",
          "Europe/Poland/1987",
          "Europe/Portugal/1987",
          "Americas/Puerto Rico/1987",
          "Africa/Reunion/1987",
          "Europe/Romania/1987",
          "Africa/Rwanda/1987",
          "Africa/Sao Tome and Principe/1987",
          "Asia/Saudi Arabia/1987",
          "Africa/Senegal/1987",
          "Europe/Serbia/1987",
          "Africa/Sierra Leone/1987",
          "Asia/Singapore/1987",
          "Europe/Slovak Republic/1987",
          "Europe/Slovenia/1987",
          "Africa/Somalia/1987",
          "Africa/South Africa/1987",
          "Europe/Spain/1987",
          "Asia/Sri Lanka/1987",
          "Africa/Sudan/1987",
          "Africa/Swaziland/1987",
          "Europe/Sweden/1987",
          "Europe/Switzerland/1987",
          "Asia/Syria/1987",
          "Asia/Taiwan/1987",
          "Africa/Tanzania/1987",
          "Asia/Thailand/1987",
          "Africa/Togo/1987",
          "Americas/Trinidad and Tobago/1987",
          "Africa/Tunisia/1987",
          "Europe/Turkey/1987",
          "Africa/Uganda/1987",
          "Europe/United Kingdom/1987",
          "Americas/United States/1987",
          "Americas/Uruguay/1987",
          "Americas/Venezuela/1987",
          "Asia/Vietnam/1987",
          "Asia/West Bank and Gaza/1987",
          "Asia/Yemen, Rep./1987",
          "Africa/Zambia/1987",
          "Africa/Zimbabwe/1987",
          "Asia/Afghanistan/1992",
          "Europe/Albania/1992",
          "Africa/Algeria/1992",
          "Africa/Angola/1992",
          "Americas/Argentina/1992",
          "Oceania/Australia/1992",
          "Europe/Austria/1992",
          "Asia/Bahrain/1992",
          "Asia/Bangladesh/1992",
          "Europe/Belgium/1992",
          "Africa/Benin/1992",
          "Americas/Bolivia/1992",
          "Europe/Bosnia and Herzegovina/1992",
          "Africa/Botswana/1992",
          "Americas/Brazil/1992",
          "Europe/Bulgaria/1992",
          "Africa/Burkina Faso/1992",
          "Africa/Burundi/1992",
          "Asia/Cambodia/1992",
          "Africa/Cameroon/1992",
          "Americas/Canada/1992",
          "Africa/Central African Republic/1992",
          "Africa/Chad/1992",
          "Americas/Chile/1992",
          "Asia/China/1992",
          "Americas/Colombia/1992",
          "Africa/Comoros/1992",
          "Africa/Congo, Dem. Rep./1992",
          "Africa/Congo, Rep./1992",
          "Americas/Costa Rica/1992",
          "Africa/Cote d'Ivoire/1992",
          "Europe/Croatia/1992",
          "Americas/Cuba/1992",
          "Europe/Czech Republic/1992",
          "Europe/Denmark/1992",
          "Africa/Djibouti/1992",
          "Americas/Dominican Republic/1992",
          "Americas/Ecuador/1992",
          "Africa/Egypt/1992",
          "Americas/El Salvador/1992",
          "Africa/Equatorial Guinea/1992",
          "Africa/Eritrea/1992",
          "Africa/Ethiopia/1992",
          "Europe/Finland/1992",
          "Europe/France/1992",
          "Africa/Gabon/1992",
          "Africa/Gambia/1992",
          "Europe/Germany/1992",
          "Africa/Ghana/1992",
          "Europe/Greece/1992",
          "Americas/Guatemala/1992",
          "Africa/Guinea/1992",
          "Africa/Guinea-Bissau/1992",
          "Americas/Haiti/1992",
          "Americas/Honduras/1992",
          "Asia/Hong Kong, China/1992",
          "Europe/Hungary/1992",
          "Europe/Iceland/1992",
          "Asia/India/1992",
          "Asia/Indonesia/1992",
          "Asia/Iran/1992",
          "Asia/Iraq/1992",
          "Europe/Ireland/1992",
          "Asia/Israel/1992",
          "Europe/Italy/1992",
          "Americas/Jamaica/1992",
          "Asia/Japan/1992",
          "Asia/Jordan/1992",
          "Africa/Kenya/1992",
          "Asia/Korea, Dem. Rep./1992",
          "Asia/Korea, Rep./1992",
          "Asia/Kuwait/1992",
          "Asia/Lebanon/1992",
          "Africa/Lesotho/1992",
          "Africa/Liberia/1992",
          "Africa/Libya/1992",
          "Africa/Madagascar/1992",
          "Africa/Malawi/1992",
          "Asia/Malaysia/1992",
          "Africa/Mali/1992",
          "Africa/Mauritania/1992",
          "Africa/Mauritius/1992",
          "Americas/Mexico/1992",
          "Asia/Mongolia/1992",
          "Europe/Montenegro/1992",
          "Africa/Morocco/1992",
          "Africa/Mozambique/1992",
          "Asia/Myanmar/1992",
          "Africa/Namibia/1992",
          "Asia/Nepal/1992",
          "Europe/Netherlands/1992",
          "Oceania/New Zealand/1992",
          "Americas/Nicaragua/1992",
          "Africa/Niger/1992",
          "Africa/Nigeria/1992",
          "Europe/Norway/1992",
          "Asia/Oman/1992",
          "Asia/Pakistan/1992",
          "Americas/Panama/1992",
          "Americas/Paraguay/1992",
          "Americas/Peru/1992",
          "Asia/Philippines/1992",
          "Europe/Poland/1992",
          "Europe/Portugal/1992",
          "Americas/Puerto Rico/1992",
          "Africa/Reunion/1992",
          "Europe/Romania/1992",
          "Africa/Rwanda/1992",
          "Africa/Sao Tome and Principe/1992",
          "Asia/Saudi Arabia/1992",
          "Africa/Senegal/1992",
          "Europe/Serbia/1992",
          "Africa/Sierra Leone/1992",
          "Asia/Singapore/1992",
          "Europe/Slovak Republic/1992",
          "Europe/Slovenia/1992",
          "Africa/Somalia/1992",
          "Africa/South Africa/1992",
          "Europe/Spain/1992",
          "Asia/Sri Lanka/1992",
          "Africa/Sudan/1992",
          "Africa/Swaziland/1992",
          "Europe/Sweden/1992",
          "Europe/Switzerland/1992",
          "Asia/Syria/1992",
          "Asia/Taiwan/1992",
          "Africa/Tanzania/1992",
          "Asia/Thailand/1992",
          "Africa/Togo/1992",
          "Americas/Trinidad and Tobago/1992",
          "Africa/Tunisia/1992",
          "Europe/Turkey/1992",
          "Africa/Uganda/1992",
          "Europe/United Kingdom/1992",
          "Americas/United States/1992",
          "Americas/Uruguay/1992",
          "Americas/Venezuela/1992",
          "Asia/Vietnam/1992",
          "Asia/West Bank and Gaza/1992",
          "Asia/Yemen, Rep./1992",
          "Africa/Zambia/1992",
          "Africa/Zimbabwe/1992",
          "Asia/Afghanistan/1997",
          "Europe/Albania/1997",
          "Africa/Algeria/1997",
          "Africa/Angola/1997",
          "Americas/Argentina/1997",
          "Oceania/Australia/1997",
          "Europe/Austria/1997",
          "Asia/Bahrain/1997",
          "Asia/Bangladesh/1997",
          "Europe/Belgium/1997",
          "Africa/Benin/1997",
          "Americas/Bolivia/1997",
          "Europe/Bosnia and Herzegovina/1997",
          "Africa/Botswana/1997",
          "Americas/Brazil/1997",
          "Europe/Bulgaria/1997",
          "Africa/Burkina Faso/1997",
          "Africa/Burundi/1997",
          "Asia/Cambodia/1997",
          "Africa/Cameroon/1997",
          "Americas/Canada/1997",
          "Africa/Central African Republic/1997",
          "Africa/Chad/1997",
          "Americas/Chile/1997",
          "Asia/China/1997",
          "Americas/Colombia/1997",
          "Africa/Comoros/1997",
          "Africa/Congo, Dem. Rep./1997",
          "Africa/Congo, Rep./1997",
          "Americas/Costa Rica/1997",
          "Africa/Cote d'Ivoire/1997",
          "Europe/Croatia/1997",
          "Americas/Cuba/1997",
          "Europe/Czech Republic/1997",
          "Europe/Denmark/1997",
          "Africa/Djibouti/1997",
          "Americas/Dominican Republic/1997",
          "Americas/Ecuador/1997",
          "Africa/Egypt/1997",
          "Americas/El Salvador/1997",
          "Africa/Equatorial Guinea/1997",
          "Africa/Eritrea/1997",
          "Africa/Ethiopia/1997",
          "Europe/Finland/1997",
          "Europe/France/1997",
          "Africa/Gabon/1997",
          "Africa/Gambia/1997",
          "Europe/Germany/1997",
          "Africa/Ghana/1997",
          "Europe/Greece/1997",
          "Americas/Guatemala/1997",
          "Africa/Guinea/1997",
          "Africa/Guinea-Bissau/1997",
          "Americas/Haiti/1997",
          "Americas/Honduras/1997",
          "Asia/Hong Kong, China/1997",
          "Europe/Hungary/1997",
          "Europe/Iceland/1997",
          "Asia/India/1997",
          "Asia/Indonesia/1997",
          "Asia/Iran/1997",
          "Asia/Iraq/1997",
          "Europe/Ireland/1997",
          "Asia/Israel/1997",
          "Europe/Italy/1997",
          "Americas/Jamaica/1997",
          "Asia/Japan/1997",
          "Asia/Jordan/1997",
          "Africa/Kenya/1997",
          "Asia/Korea, Dem. Rep./1997",
          "Asia/Korea, Rep./1997",
          "Asia/Kuwait/1997",
          "Asia/Lebanon/1997",
          "Africa/Lesotho/1997",
          "Africa/Liberia/1997",
          "Africa/Libya/1997",
          "Africa/Madagascar/1997",
          "Africa/Malawi/1997",
          "Asia/Malaysia/1997",
          "Africa/Mali/1997",
          "Africa/Mauritania/1997",
          "Africa/Mauritius/1997",
          "Americas/Mexico/1997",
          "Asia/Mongolia/1997",
          "Europe/Montenegro/1997",
          "Africa/Morocco/1997",
          "Africa/Mozambique/1997",
          "Asia/Myanmar/1997",
          "Africa/Namibia/1997",
          "Asia/Nepal/1997",
          "Europe/Netherlands/1997",
          "Oceania/New Zealand/1997",
          "Americas/Nicaragua/1997",
          "Africa/Niger/1997",
          "Africa/Nigeria/1997",
          "Europe/Norway/1997",
          "Asia/Oman/1997",
          "Asia/Pakistan/1997",
          "Americas/Panama/1997",
          "Americas/Paraguay/1997",
          "Americas/Peru/1997",
          "Asia/Philippines/1997",
          "Europe/Poland/1997",
          "Europe/Portugal/1997",
          "Americas/Puerto Rico/1997",
          "Africa/Reunion/1997",
          "Europe/Romania/1997",
          "Africa/Rwanda/1997",
          "Africa/Sao Tome and Principe/1997",
          "Asia/Saudi Arabia/1997",
          "Africa/Senegal/1997",
          "Europe/Serbia/1997",
          "Africa/Sierra Leone/1997",
          "Asia/Singapore/1997",
          "Europe/Slovak Republic/1997",
          "Europe/Slovenia/1997",
          "Africa/Somalia/1997",
          "Africa/South Africa/1997",
          "Europe/Spain/1997",
          "Asia/Sri Lanka/1997",
          "Africa/Sudan/1997",
          "Africa/Swaziland/1997",
          "Europe/Sweden/1997",
          "Europe/Switzerland/1997",
          "Asia/Syria/1997",
          "Asia/Taiwan/1997",
          "Africa/Tanzania/1997",
          "Asia/Thailand/1997",
          "Africa/Togo/1997",
          "Americas/Trinidad and Tobago/1997",
          "Africa/Tunisia/1997",
          "Europe/Turkey/1997",
          "Africa/Uganda/1997",
          "Europe/United Kingdom/1997",
          "Americas/United States/1997",
          "Americas/Uruguay/1997",
          "Americas/Venezuela/1997",
          "Asia/Vietnam/1997",
          "Asia/West Bank and Gaza/1997",
          "Asia/Yemen, Rep./1997",
          "Africa/Zambia/1997",
          "Africa/Zimbabwe/1997",
          "Asia/Afghanistan/2002",
          "Europe/Albania/2002",
          "Africa/Algeria/2002",
          "Africa/Angola/2002",
          "Americas/Argentina/2002",
          "Oceania/Australia/2002",
          "Europe/Austria/2002",
          "Asia/Bahrain/2002",
          "Asia/Bangladesh/2002",
          "Europe/Belgium/2002",
          "Africa/Benin/2002",
          "Americas/Bolivia/2002",
          "Europe/Bosnia and Herzegovina/2002",
          "Africa/Botswana/2002",
          "Americas/Brazil/2002",
          "Europe/Bulgaria/2002",
          "Africa/Burkina Faso/2002",
          "Africa/Burundi/2002",
          "Asia/Cambodia/2002",
          "Africa/Cameroon/2002",
          "Americas/Canada/2002",
          "Africa/Central African Republic/2002",
          "Africa/Chad/2002",
          "Americas/Chile/2002",
          "Asia/China/2002",
          "Americas/Colombia/2002",
          "Africa/Comoros/2002",
          "Africa/Congo, Dem. Rep./2002",
          "Africa/Congo, Rep./2002",
          "Americas/Costa Rica/2002",
          "Africa/Cote d'Ivoire/2002",
          "Europe/Croatia/2002",
          "Americas/Cuba/2002",
          "Europe/Czech Republic/2002",
          "Europe/Denmark/2002",
          "Africa/Djibouti/2002",
          "Americas/Dominican Republic/2002",
          "Americas/Ecuador/2002",
          "Africa/Egypt/2002",
          "Americas/El Salvador/2002",
          "Africa/Equatorial Guinea/2002",
          "Africa/Eritrea/2002",
          "Africa/Ethiopia/2002",
          "Europe/Finland/2002",
          "Europe/France/2002",
          "Africa/Gabon/2002",
          "Africa/Gambia/2002",
          "Europe/Germany/2002",
          "Africa/Ghana/2002",
          "Europe/Greece/2002",
          "Americas/Guatemala/2002",
          "Africa/Guinea/2002",
          "Africa/Guinea-Bissau/2002",
          "Americas/Haiti/2002",
          "Americas/Honduras/2002",
          "Asia/Hong Kong, China/2002",
          "Europe/Hungary/2002",
          "Europe/Iceland/2002",
          "Asia/India/2002",
          "Asia/Indonesia/2002",
          "Asia/Iran/2002",
          "Asia/Iraq/2002",
          "Europe/Ireland/2002",
          "Asia/Israel/2002",
          "Europe/Italy/2002",
          "Americas/Jamaica/2002",
          "Asia/Japan/2002",
          "Asia/Jordan/2002",
          "Africa/Kenya/2002",
          "Asia/Korea, Dem. Rep./2002",
          "Asia/Korea, Rep./2002",
          "Asia/Kuwait/2002",
          "Asia/Lebanon/2002",
          "Africa/Lesotho/2002",
          "Africa/Liberia/2002",
          "Africa/Libya/2002",
          "Africa/Madagascar/2002",
          "Africa/Malawi/2002",
          "Asia/Malaysia/2002",
          "Africa/Mali/2002",
          "Africa/Mauritania/2002",
          "Africa/Mauritius/2002",
          "Americas/Mexico/2002",
          "Asia/Mongolia/2002",
          "Europe/Montenegro/2002",
          "Africa/Morocco/2002",
          "Africa/Mozambique/2002",
          "Asia/Myanmar/2002",
          "Africa/Namibia/2002",
          "Asia/Nepal/2002",
          "Europe/Netherlands/2002",
          "Oceania/New Zealand/2002",
          "Americas/Nicaragua/2002",
          "Africa/Niger/2002",
          "Africa/Nigeria/2002",
          "Europe/Norway/2002",
          "Asia/Oman/2002",
          "Asia/Pakistan/2002",
          "Americas/Panama/2002",
          "Americas/Paraguay/2002",
          "Americas/Peru/2002",
          "Asia/Philippines/2002",
          "Europe/Poland/2002",
          "Europe/Portugal/2002",
          "Americas/Puerto Rico/2002",
          "Africa/Reunion/2002",
          "Europe/Romania/2002",
          "Africa/Rwanda/2002",
          "Africa/Sao Tome and Principe/2002",
          "Asia/Saudi Arabia/2002",
          "Africa/Senegal/2002",
          "Europe/Serbia/2002",
          "Africa/Sierra Leone/2002",
          "Asia/Singapore/2002",
          "Europe/Slovak Republic/2002",
          "Europe/Slovenia/2002",
          "Africa/Somalia/2002",
          "Africa/South Africa/2002",
          "Europe/Spain/2002",
          "Asia/Sri Lanka/2002",
          "Africa/Sudan/2002",
          "Africa/Swaziland/2002",
          "Europe/Sweden/2002",
          "Europe/Switzerland/2002",
          "Asia/Syria/2002",
          "Asia/Taiwan/2002",
          "Africa/Tanzania/2002",
          "Asia/Thailand/2002",
          "Africa/Togo/2002",
          "Americas/Trinidad and Tobago/2002",
          "Africa/Tunisia/2002",
          "Europe/Turkey/2002",
          "Africa/Uganda/2002",
          "Europe/United Kingdom/2002",
          "Americas/United States/2002",
          "Americas/Uruguay/2002",
          "Americas/Venezuela/2002",
          "Asia/Vietnam/2002",
          "Asia/West Bank and Gaza/2002",
          "Asia/Yemen, Rep./2002",
          "Africa/Zambia/2002",
          "Africa/Zimbabwe/2002",
          "Asia/Afghanistan/2007",
          "Europe/Albania/2007",
          "Africa/Algeria/2007",
          "Africa/Angola/2007",
          "Americas/Argentina/2007",
          "Oceania/Australia/2007",
          "Europe/Austria/2007",
          "Asia/Bahrain/2007",
          "Asia/Bangladesh/2007",
          "Europe/Belgium/2007",
          "Africa/Benin/2007",
          "Americas/Bolivia/2007",
          "Europe/Bosnia and Herzegovina/2007",
          "Africa/Botswana/2007",
          "Americas/Brazil/2007",
          "Europe/Bulgaria/2007",
          "Africa/Burkina Faso/2007",
          "Africa/Burundi/2007",
          "Asia/Cambodia/2007",
          "Africa/Cameroon/2007",
          "Americas/Canada/2007",
          "Africa/Central African Republic/2007",
          "Africa/Chad/2007",
          "Americas/Chile/2007",
          "Asia/China/2007",
          "Americas/Colombia/2007",
          "Africa/Comoros/2007",
          "Africa/Congo, Dem. Rep./2007",
          "Africa/Congo, Rep./2007",
          "Americas/Costa Rica/2007",
          "Africa/Cote d'Ivoire/2007",
          "Europe/Croatia/2007",
          "Americas/Cuba/2007",
          "Europe/Czech Republic/2007",
          "Europe/Denmark/2007",
          "Africa/Djibouti/2007",
          "Americas/Dominican Republic/2007",
          "Americas/Ecuador/2007",
          "Africa/Egypt/2007",
          "Americas/El Salvador/2007",
          "Africa/Equatorial Guinea/2007",
          "Africa/Eritrea/2007",
          "Africa/Ethiopia/2007",
          "Europe/Finland/2007",
          "Europe/France/2007",
          "Africa/Gabon/2007",
          "Africa/Gambia/2007",
          "Europe/Germany/2007",
          "Africa/Ghana/2007",
          "Europe/Greece/2007",
          "Americas/Guatemala/2007",
          "Africa/Guinea/2007",
          "Africa/Guinea-Bissau/2007",
          "Americas/Haiti/2007",
          "Americas/Honduras/2007",
          "Asia/Hong Kong, China/2007",
          "Europe/Hungary/2007",
          "Europe/Iceland/2007",
          "Asia/India/2007",
          "Asia/Indonesia/2007",
          "Asia/Iran/2007",
          "Asia/Iraq/2007",
          "Europe/Ireland/2007",
          "Asia/Israel/2007",
          "Europe/Italy/2007",
          "Americas/Jamaica/2007",
          "Asia/Japan/2007",
          "Asia/Jordan/2007",
          "Africa/Kenya/2007",
          "Asia/Korea, Dem. Rep./2007",
          "Asia/Korea, Rep./2007",
          "Asia/Kuwait/2007",
          "Asia/Lebanon/2007",
          "Africa/Lesotho/2007",
          "Africa/Liberia/2007",
          "Africa/Libya/2007",
          "Africa/Madagascar/2007",
          "Africa/Malawi/2007",
          "Asia/Malaysia/2007",
          "Africa/Mali/2007",
          "Africa/Mauritania/2007",
          "Africa/Mauritius/2007",
          "Americas/Mexico/2007",
          "Asia/Mongolia/2007",
          "Europe/Montenegro/2007",
          "Africa/Morocco/2007",
          "Africa/Mozambique/2007",
          "Asia/Myanmar/2007",
          "Africa/Namibia/2007",
          "Asia/Nepal/2007",
          "Europe/Netherlands/2007",
          "Oceania/New Zealand/2007",
          "Americas/Nicaragua/2007",
          "Africa/Niger/2007",
          "Africa/Nigeria/2007",
          "Europe/Norway/2007",
          "Asia/Oman/2007",
          "Asia/Pakistan/2007",
          "Americas/Panama/2007",
          "Americas/Paraguay/2007",
          "Americas/Peru/2007",
          "Asia/Philippines/2007",
          "Europe/Poland/2007",
          "Europe/Portugal/2007",
          "Americas/Puerto Rico/2007",
          "Africa/Reunion/2007",
          "Europe/Romania/2007",
          "Africa/Rwanda/2007",
          "Africa/Sao Tome and Principe/2007",
          "Asia/Saudi Arabia/2007",
          "Africa/Senegal/2007",
          "Europe/Serbia/2007",
          "Africa/Sierra Leone/2007",
          "Asia/Singapore/2007",
          "Europe/Slovak Republic/2007",
          "Europe/Slovenia/2007",
          "Africa/Somalia/2007",
          "Africa/South Africa/2007",
          "Europe/Spain/2007",
          "Asia/Sri Lanka/2007",
          "Africa/Sudan/2007",
          "Africa/Swaziland/2007",
          "Europe/Sweden/2007",
          "Europe/Switzerland/2007",
          "Asia/Syria/2007",
          "Asia/Taiwan/2007",
          "Africa/Tanzania/2007",
          "Asia/Thailand/2007",
          "Africa/Togo/2007",
          "Americas/Trinidad and Tobago/2007",
          "Africa/Tunisia/2007",
          "Europe/Turkey/2007",
          "Africa/Uganda/2007",
          "Europe/United Kingdom/2007",
          "Americas/United States/2007",
          "Americas/Uruguay/2007",
          "Americas/Venezuela/2007",
          "Asia/Vietnam/2007",
          "Asia/West Bank and Gaza/2007",
          "Asia/Yemen, Rep./2007",
          "Africa/Zambia/2007",
          "Africa/Zimbabwe/2007",
          "Asia/Afghanistan",
          "Europe/Albania",
          "Africa/Algeria",
          "Africa/Angola",
          "Americas/Argentina",
          "Oceania/Australia",
          "Europe/Austria",
          "Asia/Bahrain",
          "Asia/Bangladesh",
          "Europe/Belgium",
          "Africa/Benin",
          "Americas/Bolivia",
          "Europe/Bosnia and Herzegovina",
          "Africa/Botswana",
          "Americas/Brazil",
          "Europe/Bulgaria",
          "Africa/Burkina Faso",
          "Africa/Burundi",
          "Asia/Cambodia",
          "Africa/Cameroon",
          "Americas/Canada",
          "Africa/Central African Republic",
          "Africa/Chad",
          "Americas/Chile",
          "Asia/China",
          "Americas/Colombia",
          "Africa/Comoros",
          "Africa/Congo, Dem. Rep.",
          "Africa/Congo, Rep.",
          "Americas/Costa Rica",
          "Africa/Cote d'Ivoire",
          "Europe/Croatia",
          "Americas/Cuba",
          "Europe/Czech Republic",
          "Europe/Denmark",
          "Africa/Djibouti",
          "Americas/Dominican Republic",
          "Americas/Ecuador",
          "Africa/Egypt",
          "Americas/El Salvador",
          "Africa/Equatorial Guinea",
          "Africa/Eritrea",
          "Africa/Ethiopia",
          "Europe/Finland",
          "Europe/France",
          "Africa/Gabon",
          "Africa/Gambia",
          "Europe/Germany",
          "Africa/Ghana",
          "Europe/Greece",
          "Americas/Guatemala",
          "Africa/Guinea",
          "Africa/Guinea-Bissau",
          "Americas/Haiti",
          "Americas/Honduras",
          "Asia/Hong Kong, China",
          "Europe/Hungary",
          "Europe/Iceland",
          "Asia/India",
          "Asia/Indonesia",
          "Asia/Iran",
          "Asia/Iraq",
          "Europe/Ireland",
          "Asia/Israel",
          "Europe/Italy",
          "Americas/Jamaica",
          "Asia/Japan",
          "Asia/Jordan",
          "Africa/Kenya",
          "Asia/Korea, Dem. Rep.",
          "Asia/Korea, Rep.",
          "Asia/Kuwait",
          "Asia/Lebanon",
          "Africa/Lesotho",
          "Africa/Liberia",
          "Africa/Libya",
          "Africa/Madagascar",
          "Africa/Malawi",
          "Asia/Malaysia",
          "Africa/Mali",
          "Africa/Mauritania",
          "Africa/Mauritius",
          "Americas/Mexico",
          "Asia/Mongolia",
          "Europe/Montenegro",
          "Africa/Morocco",
          "Africa/Mozambique",
          "Asia/Myanmar",
          "Africa/Namibia",
          "Asia/Nepal",
          "Europe/Netherlands",
          "Oceania/New Zealand",
          "Americas/Nicaragua",
          "Africa/Niger",
          "Africa/Nigeria",
          "Europe/Norway",
          "Asia/Oman",
          "Asia/Pakistan",
          "Americas/Panama",
          "Americas/Paraguay",
          "Americas/Peru",
          "Asia/Philippines",
          "Europe/Poland",
          "Europe/Portugal",
          "Americas/Puerto Rico",
          "Africa/Reunion",
          "Europe/Romania",
          "Africa/Rwanda",
          "Africa/Sao Tome and Principe",
          "Asia/Saudi Arabia",
          "Africa/Senegal",
          "Europe/Serbia",
          "Africa/Sierra Leone",
          "Asia/Singapore",
          "Europe/Slovak Republic",
          "Europe/Slovenia",
          "Africa/Somalia",
          "Africa/South Africa",
          "Europe/Spain",
          "Asia/Sri Lanka",
          "Africa/Sudan",
          "Africa/Swaziland",
          "Europe/Sweden",
          "Europe/Switzerland",
          "Asia/Syria",
          "Asia/Taiwan",
          "Africa/Tanzania",
          "Asia/Thailand",
          "Africa/Togo",
          "Americas/Trinidad and Tobago",
          "Africa/Tunisia",
          "Europe/Turkey",
          "Africa/Uganda",
          "Europe/United Kingdom",
          "Americas/United States",
          "Americas/Uruguay",
          "Americas/Venezuela",
          "Asia/Vietnam",
          "Asia/West Bank and Gaza",
          "Asia/Yemen, Rep.",
          "Africa/Zambia",
          "Africa/Zimbabwe",
          "Africa",
          "Americas",
          "Asia",
          "Europe",
          "Oceania"
         ],
         "labels": [
          "1952",
          "1952",
          "1952",
          "1952",
          "1952",
          "1952",
          "1952",
          "1952",
          "1952",
          "1952",
          "1952",
          "1952",
          "1952",
          "1952",
          "1952",
          "1952",
          "1952",
          "1952",
          "1952",
          "1952",
          "1952",
          "1952",
          "1952",
          "1952",
          "1952",
          "1952",
          "1952",
          "1952",
          "1952",
          "1952",
          "1952",
          "1952",
          "1952",
          "1952",
          "1952",
          "1952",
          "1952",
          "1952",
          "1952",
          "1952",
          "1952",
          "1952",
          "1952",
          "1952",
          "1952",
          "1952",
          "1952",
          "1952",
          "1952",
          "1952",
          "1952",
          "1952",
          "1952",
          "1952",
          "1952",
          "1952",
          "1952",
          "1952",
          "1952",
          "1952",
          "1952",
          "1952",
          "1952",
          "1952",
          "1952",
          "1952",
          "1952",
          "1952",
          "1952",
          "1952",
          "1952",
          "1952",
          "1952",
          "1952",
          "1952",
          "1952",
          "1952",
          "1952",
          "1952",
          "1952",
          "1952",
          "1952",
          "1952",
          "1952",
          "1952",
          "1952",
          "1952",
          "1952",
          "1952",
          "1952",
          "1952",
          "1952",
          "1952",
          "1952",
          "1952",
          "1952",
          "1952",
          "1952",
          "1952",
          "1952",
          "1952",
          "1952",
          "1952",
          "1952",
          "1952",
          "1952",
          "1952",
          "1952",
          "1952",
          "1952",
          "1952",
          "1952",
          "1952",
          "1952",
          "1952",
          "1952",
          "1952",
          "1952",
          "1952",
          "1952",
          "1952",
          "1952",
          "1952",
          "1952",
          "1952",
          "1952",
          "1952",
          "1952",
          "1952",
          "1952",
          "1952",
          "1952",
          "1952",
          "1952",
          "1952",
          "1952",
          "1952",
          "1952",
          "1952",
          "1952",
          "1952",
          "1952",
          "1957",
          "1957",
          "1957",
          "1957",
          "1957",
          "1957",
          "1957",
          "1957",
          "1957",
          "1957",
          "1957",
          "1957",
          "1957",
          "1957",
          "1957",
          "1957",
          "1957",
          "1957",
          "1957",
          "1957",
          "1957",
          "1957",
          "1957",
          "1957",
          "1957",
          "1957",
          "1957",
          "1957",
          "1957",
          "1957",
          "1957",
          "1957",
          "1957",
          "1957",
          "1957",
          "1957",
          "1957",
          "1957",
          "1957",
          "1957",
          "1957",
          "1957",
          "1957",
          "1957",
          "1957",
          "1957",
          "1957",
          "1957",
          "1957",
          "1957",
          "1957",
          "1957",
          "1957",
          "1957",
          "1957",
          "1957",
          "1957",
          "1957",
          "1957",
          "1957",
          "1957",
          "1957",
          "1957",
          "1957",
          "1957",
          "1957",
          "1957",
          "1957",
          "1957",
          "1957",
          "1957",
          "1957",
          "1957",
          "1957",
          "1957",
          "1957",
          "1957",
          "1957",
          "1957",
          "1957",
          "1957",
          "1957",
          "1957",
          "1957",
          "1957",
          "1957",
          "1957",
          "1957",
          "1957",
          "1957",
          "1957",
          "1957",
          "1957",
          "1957",
          "1957",
          "1957",
          "1957",
          "1957",
          "1957",
          "1957",
          "1957",
          "1957",
          "1957",
          "1957",
          "1957",
          "1957",
          "1957",
          "1957",
          "1957",
          "1957",
          "1957",
          "1957",
          "1957",
          "1957",
          "1957",
          "1957",
          "1957",
          "1957",
          "1957",
          "1957",
          "1957",
          "1957",
          "1957",
          "1957",
          "1957",
          "1957",
          "1957",
          "1957",
          "1957",
          "1957",
          "1957",
          "1957",
          "1957",
          "1957",
          "1957",
          "1957",
          "1957",
          "1957",
          "1957",
          "1957",
          "1957",
          "1957",
          "1962",
          "1962",
          "1962",
          "1962",
          "1962",
          "1962",
          "1962",
          "1962",
          "1962",
          "1962",
          "1962",
          "1962",
          "1962",
          "1962",
          "1962",
          "1962",
          "1962",
          "1962",
          "1962",
          "1962",
          "1962",
          "1962",
          "1962",
          "1962",
          "1962",
          "1962",
          "1962",
          "1962",
          "1962",
          "1962",
          "1962",
          "1962",
          "1962",
          "1962",
          "1962",
          "1962",
          "1962",
          "1962",
          "1962",
          "1962",
          "1962",
          "1962",
          "1962",
          "1962",
          "1962",
          "1962",
          "1962",
          "1962",
          "1962",
          "1962",
          "1962",
          "1962",
          "1962",
          "1962",
          "1962",
          "1962",
          "1962",
          "1962",
          "1962",
          "1962",
          "1962",
          "1962",
          "1962",
          "1962",
          "1962",
          "1962",
          "1962",
          "1962",
          "1962",
          "1962",
          "1962",
          "1962",
          "1962",
          "1962",
          "1962",
          "1962",
          "1962",
          "1962",
          "1962",
          "1962",
          "1962",
          "1962",
          "1962",
          "1962",
          "1962",
          "1962",
          "1962",
          "1962",
          "1962",
          "1962",
          "1962",
          "1962",
          "1962",
          "1962",
          "1962",
          "1962",
          "1962",
          "1962",
          "1962",
          "1962",
          "1962",
          "1962",
          "1962",
          "1962",
          "1962",
          "1962",
          "1962",
          "1962",
          "1962",
          "1962",
          "1962",
          "1962",
          "1962",
          "1962",
          "1962",
          "1962",
          "1962",
          "1962",
          "1962",
          "1962",
          "1962",
          "1962",
          "1962",
          "1962",
          "1962",
          "1962",
          "1962",
          "1962",
          "1962",
          "1962",
          "1962",
          "1962",
          "1962",
          "1962",
          "1962",
          "1962",
          "1962",
          "1962",
          "1962",
          "1962",
          "1962",
          "1962",
          "1967",
          "1967",
          "1967",
          "1967",
          "1967",
          "1967",
          "1967",
          "1967",
          "1967",
          "1967",
          "1967",
          "1967",
          "1967",
          "1967",
          "1967",
          "1967",
          "1967",
          "1967",
          "1967",
          "1967",
          "1967",
          "1967",
          "1967",
          "1967",
          "1967",
          "1967",
          "1967",
          "1967",
          "1967",
          "1967",
          "1967",
          "1967",
          "1967",
          "1967",
          "1967",
          "1967",
          "1967",
          "1967",
          "1967",
          "1967",
          "1967",
          "1967",
          "1967",
          "1967",
          "1967",
          "1967",
          "1967",
          "1967",
          "1967",
          "1967",
          "1967",
          "1967",
          "1967",
          "1967",
          "1967",
          "1967",
          "1967",
          "1967",
          "1967",
          "1967",
          "1967",
          "1967",
          "1967",
          "1967",
          "1967",
          "1967",
          "1967",
          "1967",
          "1967",
          "1967",
          "1967",
          "1967",
          "1967",
          "1967",
          "1967",
          "1967",
          "1967",
          "1967",
          "1967",
          "1967",
          "1967",
          "1967",
          "1967",
          "1967",
          "1967",
          "1967",
          "1967",
          "1967",
          "1967",
          "1967",
          "1967",
          "1967",
          "1967",
          "1967",
          "1967",
          "1967",
          "1967",
          "1967",
          "1967",
          "1967",
          "1967",
          "1967",
          "1967",
          "1967",
          "1967",
          "1967",
          "1967",
          "1967",
          "1967",
          "1967",
          "1967",
          "1967",
          "1967",
          "1967",
          "1967",
          "1967",
          "1967",
          "1967",
          "1967",
          "1967",
          "1967",
          "1967",
          "1967",
          "1967",
          "1967",
          "1967",
          "1967",
          "1967",
          "1967",
          "1967",
          "1967",
          "1967",
          "1967",
          "1967",
          "1967",
          "1967",
          "1967",
          "1967",
          "1967",
          "1967",
          "1967",
          "1967",
          "1972",
          "1972",
          "1972",
          "1972",
          "1972",
          "1972",
          "1972",
          "1972",
          "1972",
          "1972",
          "1972",
          "1972",
          "1972",
          "1972",
          "1972",
          "1972",
          "1972",
          "1972",
          "1972",
          "1972",
          "1972",
          "1972",
          "1972",
          "1972",
          "1972",
          "1972",
          "1972",
          "1972",
          "1972",
          "1972",
          "1972",
          "1972",
          "1972",
          "1972",
          "1972",
          "1972",
          "1972",
          "1972",
          "1972",
          "1972",
          "1972",
          "1972",
          "1972",
          "1972",
          "1972",
          "1972",
          "1972",
          "1972",
          "1972",
          "1972",
          "1972",
          "1972",
          "1972",
          "1972",
          "1972",
          "1972",
          "1972",
          "1972",
          "1972",
          "1972",
          "1972",
          "1972",
          "1972",
          "1972",
          "1972",
          "1972",
          "1972",
          "1972",
          "1972",
          "1972",
          "1972",
          "1972",
          "1972",
          "1972",
          "1972",
          "1972",
          "1972",
          "1972",
          "1972",
          "1972",
          "1972",
          "1972",
          "1972",
          "1972",
          "1972",
          "1972",
          "1972",
          "1972",
          "1972",
          "1972",
          "1972",
          "1972",
          "1972",
          "1972",
          "1972",
          "1972",
          "1972",
          "1972",
          "1972",
          "1972",
          "1972",
          "1972",
          "1972",
          "1972",
          "1972",
          "1972",
          "1972",
          "1972",
          "1972",
          "1972",
          "1972",
          "1972",
          "1972",
          "1972",
          "1972",
          "1972",
          "1972",
          "1972",
          "1972",
          "1972",
          "1972",
          "1972",
          "1972",
          "1972",
          "1972",
          "1972",
          "1972",
          "1972",
          "1972",
          "1972",
          "1972",
          "1972",
          "1972",
          "1972",
          "1972",
          "1972",
          "1972",
          "1972",
          "1972",
          "1972",
          "1972",
          "1972",
          "1977",
          "1977",
          "1977",
          "1977",
          "1977",
          "1977",
          "1977",
          "1977",
          "1977",
          "1977",
          "1977",
          "1977",
          "1977",
          "1977",
          "1977",
          "1977",
          "1977",
          "1977",
          "1977",
          "1977",
          "1977",
          "1977",
          "1977",
          "1977",
          "1977",
          "1977",
          "1977",
          "1977",
          "1977",
          "1977",
          "1977",
          "1977",
          "1977",
          "1977",
          "1977",
          "1977",
          "1977",
          "1977",
          "1977",
          "1977",
          "1977",
          "1977",
          "1977",
          "1977",
          "1977",
          "1977",
          "1977",
          "1977",
          "1977",
          "1977",
          "1977",
          "1977",
          "1977",
          "1977",
          "1977",
          "1977",
          "1977",
          "1977",
          "1977",
          "1977",
          "1977",
          "1977",
          "1977",
          "1977",
          "1977",
          "1977",
          "1977",
          "1977",
          "1977",
          "1977",
          "1977",
          "1977",
          "1977",
          "1977",
          "1977",
          "1977",
          "1977",
          "1977",
          "1977",
          "1977",
          "1977",
          "1977",
          "1977",
          "1977",
          "1977",
          "1977",
          "1977",
          "1977",
          "1977",
          "1977",
          "1977",
          "1977",
          "1977",
          "1977",
          "1977",
          "1977",
          "1977",
          "1977",
          "1977",
          "1977",
          "1977",
          "1977",
          "1977",
          "1977",
          "1977",
          "1977",
          "1977",
          "1977",
          "1977",
          "1977",
          "1977",
          "1977",
          "1977",
          "1977",
          "1977",
          "1977",
          "1977",
          "1977",
          "1977",
          "1977",
          "1977",
          "1977",
          "1977",
          "1977",
          "1977",
          "1977",
          "1977",
          "1977",
          "1977",
          "1977",
          "1977",
          "1977",
          "1977",
          "1977",
          "1977",
          "1977",
          "1977",
          "1977",
          "1977",
          "1977",
          "1977",
          "1977",
          "1982",
          "1982",
          "1982",
          "1982",
          "1982",
          "1982",
          "1982",
          "1982",
          "1982",
          "1982",
          "1982",
          "1982",
          "1982",
          "1982",
          "1982",
          "1982",
          "1982",
          "1982",
          "1982",
          "1982",
          "1982",
          "1982",
          "1982",
          "1982",
          "1982",
          "1982",
          "1982",
          "1982",
          "1982",
          "1982",
          "1982",
          "1982",
          "1982",
          "1982",
          "1982",
          "1982",
          "1982",
          "1982",
          "1982",
          "1982",
          "1982",
          "1982",
          "1982",
          "1982",
          "1982",
          "1982",
          "1982",
          "1982",
          "1982",
          "1982",
          "1982",
          "1982",
          "1982",
          "1982",
          "1982",
          "1982",
          "1982",
          "1982",
          "1982",
          "1982",
          "1982",
          "1982",
          "1982",
          "1982",
          "1982",
          "1982",
          "1982",
          "1982",
          "1982",
          "1982",
          "1982",
          "1982",
          "1982",
          "1982",
          "1982",
          "1982",
          "1982",
          "1982",
          "1982",
          "1982",
          "1982",
          "1982",
          "1982",
          "1982",
          "1982",
          "1982",
          "1982",
          "1982",
          "1982",
          "1982",
          "1982",
          "1982",
          "1982",
          "1982",
          "1982",
          "1982",
          "1982",
          "1982",
          "1982",
          "1982",
          "1982",
          "1982",
          "1982",
          "1982",
          "1982",
          "1982",
          "1982",
          "1982",
          "1982",
          "1982",
          "1982",
          "1982",
          "1982",
          "1982",
          "1982",
          "1982",
          "1982",
          "1982",
          "1982",
          "1982",
          "1982",
          "1982",
          "1982",
          "1982",
          "1982",
          "1982",
          "1982",
          "1982",
          "1982",
          "1982",
          "1982",
          "1982",
          "1982",
          "1982",
          "1982",
          "1982",
          "1982",
          "1982",
          "1982",
          "1982",
          "1982",
          "1982",
          "1987",
          "1987",
          "1987",
          "1987",
          "1987",
          "1987",
          "1987",
          "1987",
          "1987",
          "1987",
          "1987",
          "1987",
          "1987",
          "1987",
          "1987",
          "1987",
          "1987",
          "1987",
          "1987",
          "1987",
          "1987",
          "1987",
          "1987",
          "1987",
          "1987",
          "1987",
          "1987",
          "1987",
          "1987",
          "1987",
          "1987",
          "1987",
          "1987",
          "1987",
          "1987",
          "1987",
          "1987",
          "1987",
          "1987",
          "1987",
          "1987",
          "1987",
          "1987",
          "1987",
          "1987",
          "1987",
          "1987",
          "1987",
          "1987",
          "1987",
          "1987",
          "1987",
          "1987",
          "1987",
          "1987",
          "1987",
          "1987",
          "1987",
          "1987",
          "1987",
          "1987",
          "1987",
          "1987",
          "1987",
          "1987",
          "1987",
          "1987",
          "1987",
          "1987",
          "1987",
          "1987",
          "1987",
          "1987",
          "1987",
          "1987",
          "1987",
          "1987",
          "1987",
          "1987",
          "1987",
          "1987",
          "1987",
          "1987",
          "1987",
          "1987",
          "1987",
          "1987",
          "1987",
          "1987",
          "1987",
          "1987",
          "1987",
          "1987",
          "1987",
          "1987",
          "1987",
          "1987",
          "1987",
          "1987",
          "1987",
          "1987",
          "1987",
          "1987",
          "1987",
          "1987",
          "1987",
          "1987",
          "1987",
          "1987",
          "1987",
          "1987",
          "1987",
          "1987",
          "1987",
          "1987",
          "1987",
          "1987",
          "1987",
          "1987",
          "1987",
          "1987",
          "1987",
          "1987",
          "1987",
          "1987",
          "1987",
          "1987",
          "1987",
          "1987",
          "1987",
          "1987",
          "1987",
          "1987",
          "1987",
          "1987",
          "1987",
          "1987",
          "1987",
          "1987",
          "1987",
          "1987",
          "1987",
          "1992",
          "1992",
          "1992",
          "1992",
          "1992",
          "1992",
          "1992",
          "1992",
          "1992",
          "1992",
          "1992",
          "1992",
          "1992",
          "1992",
          "1992",
          "1992",
          "1992",
          "1992",
          "1992",
          "1992",
          "1992",
          "1992",
          "1992",
          "1992",
          "1992",
          "1992",
          "1992",
          "1992",
          "1992",
          "1992",
          "1992",
          "1992",
          "1992",
          "1992",
          "1992",
          "1992",
          "1992",
          "1992",
          "1992",
          "1992",
          "1992",
          "1992",
          "1992",
          "1992",
          "1992",
          "1992",
          "1992",
          "1992",
          "1992",
          "1992",
          "1992",
          "1992",
          "1992",
          "1992",
          "1992",
          "1992",
          "1992",
          "1992",
          "1992",
          "1992",
          "1992",
          "1992",
          "1992",
          "1992",
          "1992",
          "1992",
          "1992",
          "1992",
          "1992",
          "1992",
          "1992",
          "1992",
          "1992",
          "1992",
          "1992",
          "1992",
          "1992",
          "1992",
          "1992",
          "1992",
          "1992",
          "1992",
          "1992",
          "1992",
          "1992",
          "1992",
          "1992",
          "1992",
          "1992",
          "1992",
          "1992",
          "1992",
          "1992",
          "1992",
          "1992",
          "1992",
          "1992",
          "1992",
          "1992",
          "1992",
          "1992",
          "1992",
          "1992",
          "1992",
          "1992",
          "1992",
          "1992",
          "1992",
          "1992",
          "1992",
          "1992",
          "1992",
          "1992",
          "1992",
          "1992",
          "1992",
          "1992",
          "1992",
          "1992",
          "1992",
          "1992",
          "1992",
          "1992",
          "1992",
          "1992",
          "1992",
          "1992",
          "1992",
          "1992",
          "1992",
          "1992",
          "1992",
          "1992",
          "1992",
          "1992",
          "1992",
          "1992",
          "1992",
          "1992",
          "1992",
          "1992",
          "1992",
          "1997",
          "1997",
          "1997",
          "1997",
          "1997",
          "1997",
          "1997",
          "1997",
          "1997",
          "1997",
          "1997",
          "1997",
          "1997",
          "1997",
          "1997",
          "1997",
          "1997",
          "1997",
          "1997",
          "1997",
          "1997",
          "1997",
          "1997",
          "1997",
          "1997",
          "1997",
          "1997",
          "1997",
          "1997",
          "1997",
          "1997",
          "1997",
          "1997",
          "1997",
          "1997",
          "1997",
          "1997",
          "1997",
          "1997",
          "1997",
          "1997",
          "1997",
          "1997",
          "1997",
          "1997",
          "1997",
          "1997",
          "1997",
          "1997",
          "1997",
          "1997",
          "1997",
          "1997",
          "1997",
          "1997",
          "1997",
          "1997",
          "1997",
          "1997",
          "1997",
          "1997",
          "1997",
          "1997",
          "1997",
          "1997",
          "1997",
          "1997",
          "1997",
          "1997",
          "1997",
          "1997",
          "1997",
          "1997",
          "1997",
          "1997",
          "1997",
          "1997",
          "1997",
          "1997",
          "1997",
          "1997",
          "1997",
          "1997",
          "1997",
          "1997",
          "1997",
          "1997",
          "1997",
          "1997",
          "1997",
          "1997",
          "1997",
          "1997",
          "1997",
          "1997",
          "1997",
          "1997",
          "1997",
          "1997",
          "1997",
          "1997",
          "1997",
          "1997",
          "1997",
          "1997",
          "1997",
          "1997",
          "1997",
          "1997",
          "1997",
          "1997",
          "1997",
          "1997",
          "1997",
          "1997",
          "1997",
          "1997",
          "1997",
          "1997",
          "1997",
          "1997",
          "1997",
          "1997",
          "1997",
          "1997",
          "1997",
          "1997",
          "1997",
          "1997",
          "1997",
          "1997",
          "1997",
          "1997",
          "1997",
          "1997",
          "1997",
          "1997",
          "1997",
          "1997",
          "1997",
          "1997",
          "1997",
          "2002",
          "2002",
          "2002",
          "2002",
          "2002",
          "2002",
          "2002",
          "2002",
          "2002",
          "2002",
          "2002",
          "2002",
          "2002",
          "2002",
          "2002",
          "2002",
          "2002",
          "2002",
          "2002",
          "2002",
          "2002",
          "2002",
          "2002",
          "2002",
          "2002",
          "2002",
          "2002",
          "2002",
          "2002",
          "2002",
          "2002",
          "2002",
          "2002",
          "2002",
          "2002",
          "2002",
          "2002",
          "2002",
          "2002",
          "2002",
          "2002",
          "2002",
          "2002",
          "2002",
          "2002",
          "2002",
          "2002",
          "2002",
          "2002",
          "2002",
          "2002",
          "2002",
          "2002",
          "2002",
          "2002",
          "2002",
          "2002",
          "2002",
          "2002",
          "2002",
          "2002",
          "2002",
          "2002",
          "2002",
          "2002",
          "2002",
          "2002",
          "2002",
          "2002",
          "2002",
          "2002",
          "2002",
          "2002",
          "2002",
          "2002",
          "2002",
          "2002",
          "2002",
          "2002",
          "2002",
          "2002",
          "2002",
          "2002",
          "2002",
          "2002",
          "2002",
          "2002",
          "2002",
          "2002",
          "2002",
          "2002",
          "2002",
          "2002",
          "2002",
          "2002",
          "2002",
          "2002",
          "2002",
          "2002",
          "2002",
          "2002",
          "2002",
          "2002",
          "2002",
          "2002",
          "2002",
          "2002",
          "2002",
          "2002",
          "2002",
          "2002",
          "2002",
          "2002",
          "2002",
          "2002",
          "2002",
          "2002",
          "2002",
          "2002",
          "2002",
          "2002",
          "2002",
          "2002",
          "2002",
          "2002",
          "2002",
          "2002",
          "2002",
          "2002",
          "2002",
          "2002",
          "2002",
          "2002",
          "2002",
          "2002",
          "2002",
          "2002",
          "2002",
          "2002",
          "2002",
          "2002",
          "2002",
          "2007",
          "2007",
          "2007",
          "2007",
          "2007",
          "2007",
          "2007",
          "2007",
          "2007",
          "2007",
          "2007",
          "2007",
          "2007",
          "2007",
          "2007",
          "2007",
          "2007",
          "2007",
          "2007",
          "2007",
          "2007",
          "2007",
          "2007",
          "2007",
          "2007",
          "2007",
          "2007",
          "2007",
          "2007",
          "2007",
          "2007",
          "2007",
          "2007",
          "2007",
          "2007",
          "2007",
          "2007",
          "2007",
          "2007",
          "2007",
          "2007",
          "2007",
          "2007",
          "2007",
          "2007",
          "2007",
          "2007",
          "2007",
          "2007",
          "2007",
          "2007",
          "2007",
          "2007",
          "2007",
          "2007",
          "2007",
          "2007",
          "2007",
          "2007",
          "2007",
          "2007",
          "2007",
          "2007",
          "2007",
          "2007",
          "2007",
          "2007",
          "2007",
          "2007",
          "2007",
          "2007",
          "2007",
          "2007",
          "2007",
          "2007",
          "2007",
          "2007",
          "2007",
          "2007",
          "2007",
          "2007",
          "2007",
          "2007",
          "2007",
          "2007",
          "2007",
          "2007",
          "2007",
          "2007",
          "2007",
          "2007",
          "2007",
          "2007",
          "2007",
          "2007",
          "2007",
          "2007",
          "2007",
          "2007",
          "2007",
          "2007",
          "2007",
          "2007",
          "2007",
          "2007",
          "2007",
          "2007",
          "2007",
          "2007",
          "2007",
          "2007",
          "2007",
          "2007",
          "2007",
          "2007",
          "2007",
          "2007",
          "2007",
          "2007",
          "2007",
          "2007",
          "2007",
          "2007",
          "2007",
          "2007",
          "2007",
          "2007",
          "2007",
          "2007",
          "2007",
          "2007",
          "2007",
          "2007",
          "2007",
          "2007",
          "2007",
          "2007",
          "2007",
          "2007",
          "2007",
          "2007",
          "2007",
          "Afghanistan",
          "Albania",
          "Algeria",
          "Angola",
          "Argentina",
          "Australia",
          "Austria",
          "Bahrain",
          "Bangladesh",
          "Belgium",
          "Benin",
          "Bolivia",
          "Bosnia and Herzegovina",
          "Botswana",
          "Brazil",
          "Bulgaria",
          "Burkina Faso",
          "Burundi",
          "Cambodia",
          "Cameroon",
          "Canada",
          "Central African Republic",
          "Chad",
          "Chile",
          "China",
          "Colombia",
          "Comoros",
          "Congo, Dem. Rep.",
          "Congo, Rep.",
          "Costa Rica",
          "Cote d'Ivoire",
          "Croatia",
          "Cuba",
          "Czech Republic",
          "Denmark",
          "Djibouti",
          "Dominican Republic",
          "Ecuador",
          "Egypt",
          "El Salvador",
          "Equatorial Guinea",
          "Eritrea",
          "Ethiopia",
          "Finland",
          "France",
          "Gabon",
          "Gambia",
          "Germany",
          "Ghana",
          "Greece",
          "Guatemala",
          "Guinea",
          "Guinea-Bissau",
          "Haiti",
          "Honduras",
          "Hong Kong, China",
          "Hungary",
          "Iceland",
          "India",
          "Indonesia",
          "Iran",
          "Iraq",
          "Ireland",
          "Israel",
          "Italy",
          "Jamaica",
          "Japan",
          "Jordan",
          "Kenya",
          "Korea, Dem. Rep.",
          "Korea, Rep.",
          "Kuwait",
          "Lebanon",
          "Lesotho",
          "Liberia",
          "Libya",
          "Madagascar",
          "Malawi",
          "Malaysia",
          "Mali",
          "Mauritania",
          "Mauritius",
          "Mexico",
          "Mongolia",
          "Montenegro",
          "Morocco",
          "Mozambique",
          "Myanmar",
          "Namibia",
          "Nepal",
          "Netherlands",
          "New Zealand",
          "Nicaragua",
          "Niger",
          "Nigeria",
          "Norway",
          "Oman",
          "Pakistan",
          "Panama",
          "Paraguay",
          "Peru",
          "Philippines",
          "Poland",
          "Portugal",
          "Puerto Rico",
          "Reunion",
          "Romania",
          "Rwanda",
          "Sao Tome and Principe",
          "Saudi Arabia",
          "Senegal",
          "Serbia",
          "Sierra Leone",
          "Singapore",
          "Slovak Republic",
          "Slovenia",
          "Somalia",
          "South Africa",
          "Spain",
          "Sri Lanka",
          "Sudan",
          "Swaziland",
          "Sweden",
          "Switzerland",
          "Syria",
          "Taiwan",
          "Tanzania",
          "Thailand",
          "Togo",
          "Trinidad and Tobago",
          "Tunisia",
          "Turkey",
          "Uganda",
          "United Kingdom",
          "United States",
          "Uruguay",
          "Venezuela",
          "Vietnam",
          "West Bank and Gaza",
          "Yemen, Rep.",
          "Zambia",
          "Zimbabwe",
          "Africa",
          "Americas",
          "Asia",
          "Europe",
          "Oceania"
         ],
         "name": "",
         "parents": [
          "Asia/Afghanistan",
          "Europe/Albania",
          "Africa/Algeria",
          "Africa/Angola",
          "Americas/Argentina",
          "Oceania/Australia",
          "Europe/Austria",
          "Asia/Bahrain",
          "Asia/Bangladesh",
          "Europe/Belgium",
          "Africa/Benin",
          "Americas/Bolivia",
          "Europe/Bosnia and Herzegovina",
          "Africa/Botswana",
          "Americas/Brazil",
          "Europe/Bulgaria",
          "Africa/Burkina Faso",
          "Africa/Burundi",
          "Asia/Cambodia",
          "Africa/Cameroon",
          "Americas/Canada",
          "Africa/Central African Republic",
          "Africa/Chad",
          "Americas/Chile",
          "Asia/China",
          "Americas/Colombia",
          "Africa/Comoros",
          "Africa/Congo, Dem. Rep.",
          "Africa/Congo, Rep.",
          "Americas/Costa Rica",
          "Africa/Cote d'Ivoire",
          "Europe/Croatia",
          "Americas/Cuba",
          "Europe/Czech Republic",
          "Europe/Denmark",
          "Africa/Djibouti",
          "Americas/Dominican Republic",
          "Americas/Ecuador",
          "Africa/Egypt",
          "Americas/El Salvador",
          "Africa/Equatorial Guinea",
          "Africa/Eritrea",
          "Africa/Ethiopia",
          "Europe/Finland",
          "Europe/France",
          "Africa/Gabon",
          "Africa/Gambia",
          "Europe/Germany",
          "Africa/Ghana",
          "Europe/Greece",
          "Americas/Guatemala",
          "Africa/Guinea",
          "Africa/Guinea-Bissau",
          "Americas/Haiti",
          "Americas/Honduras",
          "Asia/Hong Kong, China",
          "Europe/Hungary",
          "Europe/Iceland",
          "Asia/India",
          "Asia/Indonesia",
          "Asia/Iran",
          "Asia/Iraq",
          "Europe/Ireland",
          "Asia/Israel",
          "Europe/Italy",
          "Americas/Jamaica",
          "Asia/Japan",
          "Asia/Jordan",
          "Africa/Kenya",
          "Asia/Korea, Dem. Rep.",
          "Asia/Korea, Rep.",
          "Asia/Kuwait",
          "Asia/Lebanon",
          "Africa/Lesotho",
          "Africa/Liberia",
          "Africa/Libya",
          "Africa/Madagascar",
          "Africa/Malawi",
          "Asia/Malaysia",
          "Africa/Mali",
          "Africa/Mauritania",
          "Africa/Mauritius",
          "Americas/Mexico",
          "Asia/Mongolia",
          "Europe/Montenegro",
          "Africa/Morocco",
          "Africa/Mozambique",
          "Asia/Myanmar",
          "Africa/Namibia",
          "Asia/Nepal",
          "Europe/Netherlands",
          "Oceania/New Zealand",
          "Americas/Nicaragua",
          "Africa/Niger",
          "Africa/Nigeria",
          "Europe/Norway",
          "Asia/Oman",
          "Asia/Pakistan",
          "Americas/Panama",
          "Americas/Paraguay",
          "Americas/Peru",
          "Asia/Philippines",
          "Europe/Poland",
          "Europe/Portugal",
          "Americas/Puerto Rico",
          "Africa/Reunion",
          "Europe/Romania",
          "Africa/Rwanda",
          "Africa/Sao Tome and Principe",
          "Asia/Saudi Arabia",
          "Africa/Senegal",
          "Europe/Serbia",
          "Africa/Sierra Leone",
          "Asia/Singapore",
          "Europe/Slovak Republic",
          "Europe/Slovenia",
          "Africa/Somalia",
          "Africa/South Africa",
          "Europe/Spain",
          "Asia/Sri Lanka",
          "Africa/Sudan",
          "Africa/Swaziland",
          "Europe/Sweden",
          "Europe/Switzerland",
          "Asia/Syria",
          "Asia/Taiwan",
          "Africa/Tanzania",
          "Asia/Thailand",
          "Africa/Togo",
          "Americas/Trinidad and Tobago",
          "Africa/Tunisia",
          "Europe/Turkey",
          "Africa/Uganda",
          "Europe/United Kingdom",
          "Americas/United States",
          "Americas/Uruguay",
          "Americas/Venezuela",
          "Asia/Vietnam",
          "Asia/West Bank and Gaza",
          "Asia/Yemen, Rep.",
          "Africa/Zambia",
          "Africa/Zimbabwe",
          "Asia/Afghanistan",
          "Europe/Albania",
          "Africa/Algeria",
          "Africa/Angola",
          "Americas/Argentina",
          "Oceania/Australia",
          "Europe/Austria",
          "Asia/Bahrain",
          "Asia/Bangladesh",
          "Europe/Belgium",
          "Africa/Benin",
          "Americas/Bolivia",
          "Europe/Bosnia and Herzegovina",
          "Africa/Botswana",
          "Americas/Brazil",
          "Europe/Bulgaria",
          "Africa/Burkina Faso",
          "Africa/Burundi",
          "Asia/Cambodia",
          "Africa/Cameroon",
          "Americas/Canada",
          "Africa/Central African Republic",
          "Africa/Chad",
          "Americas/Chile",
          "Asia/China",
          "Americas/Colombia",
          "Africa/Comoros",
          "Africa/Congo, Dem. Rep.",
          "Africa/Congo, Rep.",
          "Americas/Costa Rica",
          "Africa/Cote d'Ivoire",
          "Europe/Croatia",
          "Americas/Cuba",
          "Europe/Czech Republic",
          "Europe/Denmark",
          "Africa/Djibouti",
          "Americas/Dominican Republic",
          "Americas/Ecuador",
          "Africa/Egypt",
          "Americas/El Salvador",
          "Africa/Equatorial Guinea",
          "Africa/Eritrea",
          "Africa/Ethiopia",
          "Europe/Finland",
          "Europe/France",
          "Africa/Gabon",
          "Africa/Gambia",
          "Europe/Germany",
          "Africa/Ghana",
          "Europe/Greece",
          "Americas/Guatemala",
          "Africa/Guinea",
          "Africa/Guinea-Bissau",
          "Americas/Haiti",
          "Americas/Honduras",
          "Asia/Hong Kong, China",
          "Europe/Hungary",
          "Europe/Iceland",
          "Asia/India",
          "Asia/Indonesia",
          "Asia/Iran",
          "Asia/Iraq",
          "Europe/Ireland",
          "Asia/Israel",
          "Europe/Italy",
          "Americas/Jamaica",
          "Asia/Japan",
          "Asia/Jordan",
          "Africa/Kenya",
          "Asia/Korea, Dem. Rep.",
          "Asia/Korea, Rep.",
          "Asia/Kuwait",
          "Asia/Lebanon",
          "Africa/Lesotho",
          "Africa/Liberia",
          "Africa/Libya",
          "Africa/Madagascar",
          "Africa/Malawi",
          "Asia/Malaysia",
          "Africa/Mali",
          "Africa/Mauritania",
          "Africa/Mauritius",
          "Americas/Mexico",
          "Asia/Mongolia",
          "Europe/Montenegro",
          "Africa/Morocco",
          "Africa/Mozambique",
          "Asia/Myanmar",
          "Africa/Namibia",
          "Asia/Nepal",
          "Europe/Netherlands",
          "Oceania/New Zealand",
          "Americas/Nicaragua",
          "Africa/Niger",
          "Africa/Nigeria",
          "Europe/Norway",
          "Asia/Oman",
          "Asia/Pakistan",
          "Americas/Panama",
          "Americas/Paraguay",
          "Americas/Peru",
          "Asia/Philippines",
          "Europe/Poland",
          "Europe/Portugal",
          "Americas/Puerto Rico",
          "Africa/Reunion",
          "Europe/Romania",
          "Africa/Rwanda",
          "Africa/Sao Tome and Principe",
          "Asia/Saudi Arabia",
          "Africa/Senegal",
          "Europe/Serbia",
          "Africa/Sierra Leone",
          "Asia/Singapore",
          "Europe/Slovak Republic",
          "Europe/Slovenia",
          "Africa/Somalia",
          "Africa/South Africa",
          "Europe/Spain",
          "Asia/Sri Lanka",
          "Africa/Sudan",
          "Africa/Swaziland",
          "Europe/Sweden",
          "Europe/Switzerland",
          "Asia/Syria",
          "Asia/Taiwan",
          "Africa/Tanzania",
          "Asia/Thailand",
          "Africa/Togo",
          "Americas/Trinidad and Tobago",
          "Africa/Tunisia",
          "Europe/Turkey",
          "Africa/Uganda",
          "Europe/United Kingdom",
          "Americas/United States",
          "Americas/Uruguay",
          "Americas/Venezuela",
          "Asia/Vietnam",
          "Asia/West Bank and Gaza",
          "Asia/Yemen, Rep.",
          "Africa/Zambia",
          "Africa/Zimbabwe",
          "Asia/Afghanistan",
          "Europe/Albania",
          "Africa/Algeria",
          "Africa/Angola",
          "Americas/Argentina",
          "Oceania/Australia",
          "Europe/Austria",
          "Asia/Bahrain",
          "Asia/Bangladesh",
          "Europe/Belgium",
          "Africa/Benin",
          "Americas/Bolivia",
          "Europe/Bosnia and Herzegovina",
          "Africa/Botswana",
          "Americas/Brazil",
          "Europe/Bulgaria",
          "Africa/Burkina Faso",
          "Africa/Burundi",
          "Asia/Cambodia",
          "Africa/Cameroon",
          "Americas/Canada",
          "Africa/Central African Republic",
          "Africa/Chad",
          "Americas/Chile",
          "Asia/China",
          "Americas/Colombia",
          "Africa/Comoros",
          "Africa/Congo, Dem. Rep.",
          "Africa/Congo, Rep.",
          "Americas/Costa Rica",
          "Africa/Cote d'Ivoire",
          "Europe/Croatia",
          "Americas/Cuba",
          "Europe/Czech Republic",
          "Europe/Denmark",
          "Africa/Djibouti",
          "Americas/Dominican Republic",
          "Americas/Ecuador",
          "Africa/Egypt",
          "Americas/El Salvador",
          "Africa/Equatorial Guinea",
          "Africa/Eritrea",
          "Africa/Ethiopia",
          "Europe/Finland",
          "Europe/France",
          "Africa/Gabon",
          "Africa/Gambia",
          "Europe/Germany",
          "Africa/Ghana",
          "Europe/Greece",
          "Americas/Guatemala",
          "Africa/Guinea",
          "Africa/Guinea-Bissau",
          "Americas/Haiti",
          "Americas/Honduras",
          "Asia/Hong Kong, China",
          "Europe/Hungary",
          "Europe/Iceland",
          "Asia/India",
          "Asia/Indonesia",
          "Asia/Iran",
          "Asia/Iraq",
          "Europe/Ireland",
          "Asia/Israel",
          "Europe/Italy",
          "Americas/Jamaica",
          "Asia/Japan",
          "Asia/Jordan",
          "Africa/Kenya",
          "Asia/Korea, Dem. Rep.",
          "Asia/Korea, Rep.",
          "Asia/Kuwait",
          "Asia/Lebanon",
          "Africa/Lesotho",
          "Africa/Liberia",
          "Africa/Libya",
          "Africa/Madagascar",
          "Africa/Malawi",
          "Asia/Malaysia",
          "Africa/Mali",
          "Africa/Mauritania",
          "Africa/Mauritius",
          "Americas/Mexico",
          "Asia/Mongolia",
          "Europe/Montenegro",
          "Africa/Morocco",
          "Africa/Mozambique",
          "Asia/Myanmar",
          "Africa/Namibia",
          "Asia/Nepal",
          "Europe/Netherlands",
          "Oceania/New Zealand",
          "Americas/Nicaragua",
          "Africa/Niger",
          "Africa/Nigeria",
          "Europe/Norway",
          "Asia/Oman",
          "Asia/Pakistan",
          "Americas/Panama",
          "Americas/Paraguay",
          "Americas/Peru",
          "Asia/Philippines",
          "Europe/Poland",
          "Europe/Portugal",
          "Americas/Puerto Rico",
          "Africa/Reunion",
          "Europe/Romania",
          "Africa/Rwanda",
          "Africa/Sao Tome and Principe",
          "Asia/Saudi Arabia",
          "Africa/Senegal",
          "Europe/Serbia",
          "Africa/Sierra Leone",
          "Asia/Singapore",
          "Europe/Slovak Republic",
          "Europe/Slovenia",
          "Africa/Somalia",
          "Africa/South Africa",
          "Europe/Spain",
          "Asia/Sri Lanka",
          "Africa/Sudan",
          "Africa/Swaziland",
          "Europe/Sweden",
          "Europe/Switzerland",
          "Asia/Syria",
          "Asia/Taiwan",
          "Africa/Tanzania",
          "Asia/Thailand",
          "Africa/Togo",
          "Americas/Trinidad and Tobago",
          "Africa/Tunisia",
          "Europe/Turkey",
          "Africa/Uganda",
          "Europe/United Kingdom",
          "Americas/United States",
          "Americas/Uruguay",
          "Americas/Venezuela",
          "Asia/Vietnam",
          "Asia/West Bank and Gaza",
          "Asia/Yemen, Rep.",
          "Africa/Zambia",
          "Africa/Zimbabwe",
          "Asia/Afghanistan",
          "Europe/Albania",
          "Africa/Algeria",
          "Africa/Angola",
          "Americas/Argentina",
          "Oceania/Australia",
          "Europe/Austria",
          "Asia/Bahrain",
          "Asia/Bangladesh",
          "Europe/Belgium",
          "Africa/Benin",
          "Americas/Bolivia",
          "Europe/Bosnia and Herzegovina",
          "Africa/Botswana",
          "Americas/Brazil",
          "Europe/Bulgaria",
          "Africa/Burkina Faso",
          "Africa/Burundi",
          "Asia/Cambodia",
          "Africa/Cameroon",
          "Americas/Canada",
          "Africa/Central African Republic",
          "Africa/Chad",
          "Americas/Chile",
          "Asia/China",
          "Americas/Colombia",
          "Africa/Comoros",
          "Africa/Congo, Dem. Rep.",
          "Africa/Congo, Rep.",
          "Americas/Costa Rica",
          "Africa/Cote d'Ivoire",
          "Europe/Croatia",
          "Americas/Cuba",
          "Europe/Czech Republic",
          "Europe/Denmark",
          "Africa/Djibouti",
          "Americas/Dominican Republic",
          "Americas/Ecuador",
          "Africa/Egypt",
          "Americas/El Salvador",
          "Africa/Equatorial Guinea",
          "Africa/Eritrea",
          "Africa/Ethiopia",
          "Europe/Finland",
          "Europe/France",
          "Africa/Gabon",
          "Africa/Gambia",
          "Europe/Germany",
          "Africa/Ghana",
          "Europe/Greece",
          "Americas/Guatemala",
          "Africa/Guinea",
          "Africa/Guinea-Bissau",
          "Americas/Haiti",
          "Americas/Honduras",
          "Asia/Hong Kong, China",
          "Europe/Hungary",
          "Europe/Iceland",
          "Asia/India",
          "Asia/Indonesia",
          "Asia/Iran",
          "Asia/Iraq",
          "Europe/Ireland",
          "Asia/Israel",
          "Europe/Italy",
          "Americas/Jamaica",
          "Asia/Japan",
          "Asia/Jordan",
          "Africa/Kenya",
          "Asia/Korea, Dem. Rep.",
          "Asia/Korea, Rep.",
          "Asia/Kuwait",
          "Asia/Lebanon",
          "Africa/Lesotho",
          "Africa/Liberia",
          "Africa/Libya",
          "Africa/Madagascar",
          "Africa/Malawi",
          "Asia/Malaysia",
          "Africa/Mali",
          "Africa/Mauritania",
          "Africa/Mauritius",
          "Americas/Mexico",
          "Asia/Mongolia",
          "Europe/Montenegro",
          "Africa/Morocco",
          "Africa/Mozambique",
          "Asia/Myanmar",
          "Africa/Namibia",
          "Asia/Nepal",
          "Europe/Netherlands",
          "Oceania/New Zealand",
          "Americas/Nicaragua",
          "Africa/Niger",
          "Africa/Nigeria",
          "Europe/Norway",
          "Asia/Oman",
          "Asia/Pakistan",
          "Americas/Panama",
          "Americas/Paraguay",
          "Americas/Peru",
          "Asia/Philippines",
          "Europe/Poland",
          "Europe/Portugal",
          "Americas/Puerto Rico",
          "Africa/Reunion",
          "Europe/Romania",
          "Africa/Rwanda",
          "Africa/Sao Tome and Principe",
          "Asia/Saudi Arabia",
          "Africa/Senegal",
          "Europe/Serbia",
          "Africa/Sierra Leone",
          "Asia/Singapore",
          "Europe/Slovak Republic",
          "Europe/Slovenia",
          "Africa/Somalia",
          "Africa/South Africa",
          "Europe/Spain",
          "Asia/Sri Lanka",
          "Africa/Sudan",
          "Africa/Swaziland",
          "Europe/Sweden",
          "Europe/Switzerland",
          "Asia/Syria",
          "Asia/Taiwan",
          "Africa/Tanzania",
          "Asia/Thailand",
          "Africa/Togo",
          "Americas/Trinidad and Tobago",
          "Africa/Tunisia",
          "Europe/Turkey",
          "Africa/Uganda",
          "Europe/United Kingdom",
          "Americas/United States",
          "Americas/Uruguay",
          "Americas/Venezuela",
          "Asia/Vietnam",
          "Asia/West Bank and Gaza",
          "Asia/Yemen, Rep.",
          "Africa/Zambia",
          "Africa/Zimbabwe",
          "Asia/Afghanistan",
          "Europe/Albania",
          "Africa/Algeria",
          "Africa/Angola",
          "Americas/Argentina",
          "Oceania/Australia",
          "Europe/Austria",
          "Asia/Bahrain",
          "Asia/Bangladesh",
          "Europe/Belgium",
          "Africa/Benin",
          "Americas/Bolivia",
          "Europe/Bosnia and Herzegovina",
          "Africa/Botswana",
          "Americas/Brazil",
          "Europe/Bulgaria",
          "Africa/Burkina Faso",
          "Africa/Burundi",
          "Asia/Cambodia",
          "Africa/Cameroon",
          "Americas/Canada",
          "Africa/Central African Republic",
          "Africa/Chad",
          "Americas/Chile",
          "Asia/China",
          "Americas/Colombia",
          "Africa/Comoros",
          "Africa/Congo, Dem. Rep.",
          "Africa/Congo, Rep.",
          "Americas/Costa Rica",
          "Africa/Cote d'Ivoire",
          "Europe/Croatia",
          "Americas/Cuba",
          "Europe/Czech Republic",
          "Europe/Denmark",
          "Africa/Djibouti",
          "Americas/Dominican Republic",
          "Americas/Ecuador",
          "Africa/Egypt",
          "Americas/El Salvador",
          "Africa/Equatorial Guinea",
          "Africa/Eritrea",
          "Africa/Ethiopia",
          "Europe/Finland",
          "Europe/France",
          "Africa/Gabon",
          "Africa/Gambia",
          "Europe/Germany",
          "Africa/Ghana",
          "Europe/Greece",
          "Americas/Guatemala",
          "Africa/Guinea",
          "Africa/Guinea-Bissau",
          "Americas/Haiti",
          "Americas/Honduras",
          "Asia/Hong Kong, China",
          "Europe/Hungary",
          "Europe/Iceland",
          "Asia/India",
          "Asia/Indonesia",
          "Asia/Iran",
          "Asia/Iraq",
          "Europe/Ireland",
          "Asia/Israel",
          "Europe/Italy",
          "Americas/Jamaica",
          "Asia/Japan",
          "Asia/Jordan",
          "Africa/Kenya",
          "Asia/Korea, Dem. Rep.",
          "Asia/Korea, Rep.",
          "Asia/Kuwait",
          "Asia/Lebanon",
          "Africa/Lesotho",
          "Africa/Liberia",
          "Africa/Libya",
          "Africa/Madagascar",
          "Africa/Malawi",
          "Asia/Malaysia",
          "Africa/Mali",
          "Africa/Mauritania",
          "Africa/Mauritius",
          "Americas/Mexico",
          "Asia/Mongolia",
          "Europe/Montenegro",
          "Africa/Morocco",
          "Africa/Mozambique",
          "Asia/Myanmar",
          "Africa/Namibia",
          "Asia/Nepal",
          "Europe/Netherlands",
          "Oceania/New Zealand",
          "Americas/Nicaragua",
          "Africa/Niger",
          "Africa/Nigeria",
          "Europe/Norway",
          "Asia/Oman",
          "Asia/Pakistan",
          "Americas/Panama",
          "Americas/Paraguay",
          "Americas/Peru",
          "Asia/Philippines",
          "Europe/Poland",
          "Europe/Portugal",
          "Americas/Puerto Rico",
          "Africa/Reunion",
          "Europe/Romania",
          "Africa/Rwanda",
          "Africa/Sao Tome and Principe",
          "Asia/Saudi Arabia",
          "Africa/Senegal",
          "Europe/Serbia",
          "Africa/Sierra Leone",
          "Asia/Singapore",
          "Europe/Slovak Republic",
          "Europe/Slovenia",
          "Africa/Somalia",
          "Africa/South Africa",
          "Europe/Spain",
          "Asia/Sri Lanka",
          "Africa/Sudan",
          "Africa/Swaziland",
          "Europe/Sweden",
          "Europe/Switzerland",
          "Asia/Syria",
          "Asia/Taiwan",
          "Africa/Tanzania",
          "Asia/Thailand",
          "Africa/Togo",
          "Americas/Trinidad and Tobago",
          "Africa/Tunisia",
          "Europe/Turkey",
          "Africa/Uganda",
          "Europe/United Kingdom",
          "Americas/United States",
          "Americas/Uruguay",
          "Americas/Venezuela",
          "Asia/Vietnam",
          "Asia/West Bank and Gaza",
          "Asia/Yemen, Rep.",
          "Africa/Zambia",
          "Africa/Zimbabwe",
          "Asia/Afghanistan",
          "Europe/Albania",
          "Africa/Algeria",
          "Africa/Angola",
          "Americas/Argentina",
          "Oceania/Australia",
          "Europe/Austria",
          "Asia/Bahrain",
          "Asia/Bangladesh",
          "Europe/Belgium",
          "Africa/Benin",
          "Americas/Bolivia",
          "Europe/Bosnia and Herzegovina",
          "Africa/Botswana",
          "Americas/Brazil",
          "Europe/Bulgaria",
          "Africa/Burkina Faso",
          "Africa/Burundi",
          "Asia/Cambodia",
          "Africa/Cameroon",
          "Americas/Canada",
          "Africa/Central African Republic",
          "Africa/Chad",
          "Americas/Chile",
          "Asia/China",
          "Americas/Colombia",
          "Africa/Comoros",
          "Africa/Congo, Dem. Rep.",
          "Africa/Congo, Rep.",
          "Americas/Costa Rica",
          "Africa/Cote d'Ivoire",
          "Europe/Croatia",
          "Americas/Cuba",
          "Europe/Czech Republic",
          "Europe/Denmark",
          "Africa/Djibouti",
          "Americas/Dominican Republic",
          "Americas/Ecuador",
          "Africa/Egypt",
          "Americas/El Salvador",
          "Africa/Equatorial Guinea",
          "Africa/Eritrea",
          "Africa/Ethiopia",
          "Europe/Finland",
          "Europe/France",
          "Africa/Gabon",
          "Africa/Gambia",
          "Europe/Germany",
          "Africa/Ghana",
          "Europe/Greece",
          "Americas/Guatemala",
          "Africa/Guinea",
          "Africa/Guinea-Bissau",
          "Americas/Haiti",
          "Americas/Honduras",
          "Asia/Hong Kong, China",
          "Europe/Hungary",
          "Europe/Iceland",
          "Asia/India",
          "Asia/Indonesia",
          "Asia/Iran",
          "Asia/Iraq",
          "Europe/Ireland",
          "Asia/Israel",
          "Europe/Italy",
          "Americas/Jamaica",
          "Asia/Japan",
          "Asia/Jordan",
          "Africa/Kenya",
          "Asia/Korea, Dem. Rep.",
          "Asia/Korea, Rep.",
          "Asia/Kuwait",
          "Asia/Lebanon",
          "Africa/Lesotho",
          "Africa/Liberia",
          "Africa/Libya",
          "Africa/Madagascar",
          "Africa/Malawi",
          "Asia/Malaysia",
          "Africa/Mali",
          "Africa/Mauritania",
          "Africa/Mauritius",
          "Americas/Mexico",
          "Asia/Mongolia",
          "Europe/Montenegro",
          "Africa/Morocco",
          "Africa/Mozambique",
          "Asia/Myanmar",
          "Africa/Namibia",
          "Asia/Nepal",
          "Europe/Netherlands",
          "Oceania/New Zealand",
          "Americas/Nicaragua",
          "Africa/Niger",
          "Africa/Nigeria",
          "Europe/Norway",
          "Asia/Oman",
          "Asia/Pakistan",
          "Americas/Panama",
          "Americas/Paraguay",
          "Americas/Peru",
          "Asia/Philippines",
          "Europe/Poland",
          "Europe/Portugal",
          "Americas/Puerto Rico",
          "Africa/Reunion",
          "Europe/Romania",
          "Africa/Rwanda",
          "Africa/Sao Tome and Principe",
          "Asia/Saudi Arabia",
          "Africa/Senegal",
          "Europe/Serbia",
          "Africa/Sierra Leone",
          "Asia/Singapore",
          "Europe/Slovak Republic",
          "Europe/Slovenia",
          "Africa/Somalia",
          "Africa/South Africa",
          "Europe/Spain",
          "Asia/Sri Lanka",
          "Africa/Sudan",
          "Africa/Swaziland",
          "Europe/Sweden",
          "Europe/Switzerland",
          "Asia/Syria",
          "Asia/Taiwan",
          "Africa/Tanzania",
          "Asia/Thailand",
          "Africa/Togo",
          "Americas/Trinidad and Tobago",
          "Africa/Tunisia",
          "Europe/Turkey",
          "Africa/Uganda",
          "Europe/United Kingdom",
          "Americas/United States",
          "Americas/Uruguay",
          "Americas/Venezuela",
          "Asia/Vietnam",
          "Asia/West Bank and Gaza",
          "Asia/Yemen, Rep.",
          "Africa/Zambia",
          "Africa/Zimbabwe",
          "Asia/Afghanistan",
          "Europe/Albania",
          "Africa/Algeria",
          "Africa/Angola",
          "Americas/Argentina",
          "Oceania/Australia",
          "Europe/Austria",
          "Asia/Bahrain",
          "Asia/Bangladesh",
          "Europe/Belgium",
          "Africa/Benin",
          "Americas/Bolivia",
          "Europe/Bosnia and Herzegovina",
          "Africa/Botswana",
          "Americas/Brazil",
          "Europe/Bulgaria",
          "Africa/Burkina Faso",
          "Africa/Burundi",
          "Asia/Cambodia",
          "Africa/Cameroon",
          "Americas/Canada",
          "Africa/Central African Republic",
          "Africa/Chad",
          "Americas/Chile",
          "Asia/China",
          "Americas/Colombia",
          "Africa/Comoros",
          "Africa/Congo, Dem. Rep.",
          "Africa/Congo, Rep.",
          "Americas/Costa Rica",
          "Africa/Cote d'Ivoire",
          "Europe/Croatia",
          "Americas/Cuba",
          "Europe/Czech Republic",
          "Europe/Denmark",
          "Africa/Djibouti",
          "Americas/Dominican Republic",
          "Americas/Ecuador",
          "Africa/Egypt",
          "Americas/El Salvador",
          "Africa/Equatorial Guinea",
          "Africa/Eritrea",
          "Africa/Ethiopia",
          "Europe/Finland",
          "Europe/France",
          "Africa/Gabon",
          "Africa/Gambia",
          "Europe/Germany",
          "Africa/Ghana",
          "Europe/Greece",
          "Americas/Guatemala",
          "Africa/Guinea",
          "Africa/Guinea-Bissau",
          "Americas/Haiti",
          "Americas/Honduras",
          "Asia/Hong Kong, China",
          "Europe/Hungary",
          "Europe/Iceland",
          "Asia/India",
          "Asia/Indonesia",
          "Asia/Iran",
          "Asia/Iraq",
          "Europe/Ireland",
          "Asia/Israel",
          "Europe/Italy",
          "Americas/Jamaica",
          "Asia/Japan",
          "Asia/Jordan",
          "Africa/Kenya",
          "Asia/Korea, Dem. Rep.",
          "Asia/Korea, Rep.",
          "Asia/Kuwait",
          "Asia/Lebanon",
          "Africa/Lesotho",
          "Africa/Liberia",
          "Africa/Libya",
          "Africa/Madagascar",
          "Africa/Malawi",
          "Asia/Malaysia",
          "Africa/Mali",
          "Africa/Mauritania",
          "Africa/Mauritius",
          "Americas/Mexico",
          "Asia/Mongolia",
          "Europe/Montenegro",
          "Africa/Morocco",
          "Africa/Mozambique",
          "Asia/Myanmar",
          "Africa/Namibia",
          "Asia/Nepal",
          "Europe/Netherlands",
          "Oceania/New Zealand",
          "Americas/Nicaragua",
          "Africa/Niger",
          "Africa/Nigeria",
          "Europe/Norway",
          "Asia/Oman",
          "Asia/Pakistan",
          "Americas/Panama",
          "Americas/Paraguay",
          "Americas/Peru",
          "Asia/Philippines",
          "Europe/Poland",
          "Europe/Portugal",
          "Americas/Puerto Rico",
          "Africa/Reunion",
          "Europe/Romania",
          "Africa/Rwanda",
          "Africa/Sao Tome and Principe",
          "Asia/Saudi Arabia",
          "Africa/Senegal",
          "Europe/Serbia",
          "Africa/Sierra Leone",
          "Asia/Singapore",
          "Europe/Slovak Republic",
          "Europe/Slovenia",
          "Africa/Somalia",
          "Africa/South Africa",
          "Europe/Spain",
          "Asia/Sri Lanka",
          "Africa/Sudan",
          "Africa/Swaziland",
          "Europe/Sweden",
          "Europe/Switzerland",
          "Asia/Syria",
          "Asia/Taiwan",
          "Africa/Tanzania",
          "Asia/Thailand",
          "Africa/Togo",
          "Americas/Trinidad and Tobago",
          "Africa/Tunisia",
          "Europe/Turkey",
          "Africa/Uganda",
          "Europe/United Kingdom",
          "Americas/United States",
          "Americas/Uruguay",
          "Americas/Venezuela",
          "Asia/Vietnam",
          "Asia/West Bank and Gaza",
          "Asia/Yemen, Rep.",
          "Africa/Zambia",
          "Africa/Zimbabwe",
          "Asia/Afghanistan",
          "Europe/Albania",
          "Africa/Algeria",
          "Africa/Angola",
          "Americas/Argentina",
          "Oceania/Australia",
          "Europe/Austria",
          "Asia/Bahrain",
          "Asia/Bangladesh",
          "Europe/Belgium",
          "Africa/Benin",
          "Americas/Bolivia",
          "Europe/Bosnia and Herzegovina",
          "Africa/Botswana",
          "Americas/Brazil",
          "Europe/Bulgaria",
          "Africa/Burkina Faso",
          "Africa/Burundi",
          "Asia/Cambodia",
          "Africa/Cameroon",
          "Americas/Canada",
          "Africa/Central African Republic",
          "Africa/Chad",
          "Americas/Chile",
          "Asia/China",
          "Americas/Colombia",
          "Africa/Comoros",
          "Africa/Congo, Dem. Rep.",
          "Africa/Congo, Rep.",
          "Americas/Costa Rica",
          "Africa/Cote d'Ivoire",
          "Europe/Croatia",
          "Americas/Cuba",
          "Europe/Czech Republic",
          "Europe/Denmark",
          "Africa/Djibouti",
          "Americas/Dominican Republic",
          "Americas/Ecuador",
          "Africa/Egypt",
          "Americas/El Salvador",
          "Africa/Equatorial Guinea",
          "Africa/Eritrea",
          "Africa/Ethiopia",
          "Europe/Finland",
          "Europe/France",
          "Africa/Gabon",
          "Africa/Gambia",
          "Europe/Germany",
          "Africa/Ghana",
          "Europe/Greece",
          "Americas/Guatemala",
          "Africa/Guinea",
          "Africa/Guinea-Bissau",
          "Americas/Haiti",
          "Americas/Honduras",
          "Asia/Hong Kong, China",
          "Europe/Hungary",
          "Europe/Iceland",
          "Asia/India",
          "Asia/Indonesia",
          "Asia/Iran",
          "Asia/Iraq",
          "Europe/Ireland",
          "Asia/Israel",
          "Europe/Italy",
          "Americas/Jamaica",
          "Asia/Japan",
          "Asia/Jordan",
          "Africa/Kenya",
          "Asia/Korea, Dem. Rep.",
          "Asia/Korea, Rep.",
          "Asia/Kuwait",
          "Asia/Lebanon",
          "Africa/Lesotho",
          "Africa/Liberia",
          "Africa/Libya",
          "Africa/Madagascar",
          "Africa/Malawi",
          "Asia/Malaysia",
          "Africa/Mali",
          "Africa/Mauritania",
          "Africa/Mauritius",
          "Americas/Mexico",
          "Asia/Mongolia",
          "Europe/Montenegro",
          "Africa/Morocco",
          "Africa/Mozambique",
          "Asia/Myanmar",
          "Africa/Namibia",
          "Asia/Nepal",
          "Europe/Netherlands",
          "Oceania/New Zealand",
          "Americas/Nicaragua",
          "Africa/Niger",
          "Africa/Nigeria",
          "Europe/Norway",
          "Asia/Oman",
          "Asia/Pakistan",
          "Americas/Panama",
          "Americas/Paraguay",
          "Americas/Peru",
          "Asia/Philippines",
          "Europe/Poland",
          "Europe/Portugal",
          "Americas/Puerto Rico",
          "Africa/Reunion",
          "Europe/Romania",
          "Africa/Rwanda",
          "Africa/Sao Tome and Principe",
          "Asia/Saudi Arabia",
          "Africa/Senegal",
          "Europe/Serbia",
          "Africa/Sierra Leone",
          "Asia/Singapore",
          "Europe/Slovak Republic",
          "Europe/Slovenia",
          "Africa/Somalia",
          "Africa/South Africa",
          "Europe/Spain",
          "Asia/Sri Lanka",
          "Africa/Sudan",
          "Africa/Swaziland",
          "Europe/Sweden",
          "Europe/Switzerland",
          "Asia/Syria",
          "Asia/Taiwan",
          "Africa/Tanzania",
          "Asia/Thailand",
          "Africa/Togo",
          "Americas/Trinidad and Tobago",
          "Africa/Tunisia",
          "Europe/Turkey",
          "Africa/Uganda",
          "Europe/United Kingdom",
          "Americas/United States",
          "Americas/Uruguay",
          "Americas/Venezuela",
          "Asia/Vietnam",
          "Asia/West Bank and Gaza",
          "Asia/Yemen, Rep.",
          "Africa/Zambia",
          "Africa/Zimbabwe",
          "Asia/Afghanistan",
          "Europe/Albania",
          "Africa/Algeria",
          "Africa/Angola",
          "Americas/Argentina",
          "Oceania/Australia",
          "Europe/Austria",
          "Asia/Bahrain",
          "Asia/Bangladesh",
          "Europe/Belgium",
          "Africa/Benin",
          "Americas/Bolivia",
          "Europe/Bosnia and Herzegovina",
          "Africa/Botswana",
          "Americas/Brazil",
          "Europe/Bulgaria",
          "Africa/Burkina Faso",
          "Africa/Burundi",
          "Asia/Cambodia",
          "Africa/Cameroon",
          "Americas/Canada",
          "Africa/Central African Republic",
          "Africa/Chad",
          "Americas/Chile",
          "Asia/China",
          "Americas/Colombia",
          "Africa/Comoros",
          "Africa/Congo, Dem. Rep.",
          "Africa/Congo, Rep.",
          "Americas/Costa Rica",
          "Africa/Cote d'Ivoire",
          "Europe/Croatia",
          "Americas/Cuba",
          "Europe/Czech Republic",
          "Europe/Denmark",
          "Africa/Djibouti",
          "Americas/Dominican Republic",
          "Americas/Ecuador",
          "Africa/Egypt",
          "Americas/El Salvador",
          "Africa/Equatorial Guinea",
          "Africa/Eritrea",
          "Africa/Ethiopia",
          "Europe/Finland",
          "Europe/France",
          "Africa/Gabon",
          "Africa/Gambia",
          "Europe/Germany",
          "Africa/Ghana",
          "Europe/Greece",
          "Americas/Guatemala",
          "Africa/Guinea",
          "Africa/Guinea-Bissau",
          "Americas/Haiti",
          "Americas/Honduras",
          "Asia/Hong Kong, China",
          "Europe/Hungary",
          "Europe/Iceland",
          "Asia/India",
          "Asia/Indonesia",
          "Asia/Iran",
          "Asia/Iraq",
          "Europe/Ireland",
          "Asia/Israel",
          "Europe/Italy",
          "Americas/Jamaica",
          "Asia/Japan",
          "Asia/Jordan",
          "Africa/Kenya",
          "Asia/Korea, Dem. Rep.",
          "Asia/Korea, Rep.",
          "Asia/Kuwait",
          "Asia/Lebanon",
          "Africa/Lesotho",
          "Africa/Liberia",
          "Africa/Libya",
          "Africa/Madagascar",
          "Africa/Malawi",
          "Asia/Malaysia",
          "Africa/Mali",
          "Africa/Mauritania",
          "Africa/Mauritius",
          "Americas/Mexico",
          "Asia/Mongolia",
          "Europe/Montenegro",
          "Africa/Morocco",
          "Africa/Mozambique",
          "Asia/Myanmar",
          "Africa/Namibia",
          "Asia/Nepal",
          "Europe/Netherlands",
          "Oceania/New Zealand",
          "Americas/Nicaragua",
          "Africa/Niger",
          "Africa/Nigeria",
          "Europe/Norway",
          "Asia/Oman",
          "Asia/Pakistan",
          "Americas/Panama",
          "Americas/Paraguay",
          "Americas/Peru",
          "Asia/Philippines",
          "Europe/Poland",
          "Europe/Portugal",
          "Americas/Puerto Rico",
          "Africa/Reunion",
          "Europe/Romania",
          "Africa/Rwanda",
          "Africa/Sao Tome and Principe",
          "Asia/Saudi Arabia",
          "Africa/Senegal",
          "Europe/Serbia",
          "Africa/Sierra Leone",
          "Asia/Singapore",
          "Europe/Slovak Republic",
          "Europe/Slovenia",
          "Africa/Somalia",
          "Africa/South Africa",
          "Europe/Spain",
          "Asia/Sri Lanka",
          "Africa/Sudan",
          "Africa/Swaziland",
          "Europe/Sweden",
          "Europe/Switzerland",
          "Asia/Syria",
          "Asia/Taiwan",
          "Africa/Tanzania",
          "Asia/Thailand",
          "Africa/Togo",
          "Americas/Trinidad and Tobago",
          "Africa/Tunisia",
          "Europe/Turkey",
          "Africa/Uganda",
          "Europe/United Kingdom",
          "Americas/United States",
          "Americas/Uruguay",
          "Americas/Venezuela",
          "Asia/Vietnam",
          "Asia/West Bank and Gaza",
          "Asia/Yemen, Rep.",
          "Africa/Zambia",
          "Africa/Zimbabwe",
          "Asia/Afghanistan",
          "Europe/Albania",
          "Africa/Algeria",
          "Africa/Angola",
          "Americas/Argentina",
          "Oceania/Australia",
          "Europe/Austria",
          "Asia/Bahrain",
          "Asia/Bangladesh",
          "Europe/Belgium",
          "Africa/Benin",
          "Americas/Bolivia",
          "Europe/Bosnia and Herzegovina",
          "Africa/Botswana",
          "Americas/Brazil",
          "Europe/Bulgaria",
          "Africa/Burkina Faso",
          "Africa/Burundi",
          "Asia/Cambodia",
          "Africa/Cameroon",
          "Americas/Canada",
          "Africa/Central African Republic",
          "Africa/Chad",
          "Americas/Chile",
          "Asia/China",
          "Americas/Colombia",
          "Africa/Comoros",
          "Africa/Congo, Dem. Rep.",
          "Africa/Congo, Rep.",
          "Americas/Costa Rica",
          "Africa/Cote d'Ivoire",
          "Europe/Croatia",
          "Americas/Cuba",
          "Europe/Czech Republic",
          "Europe/Denmark",
          "Africa/Djibouti",
          "Americas/Dominican Republic",
          "Americas/Ecuador",
          "Africa/Egypt",
          "Americas/El Salvador",
          "Africa/Equatorial Guinea",
          "Africa/Eritrea",
          "Africa/Ethiopia",
          "Europe/Finland",
          "Europe/France",
          "Africa/Gabon",
          "Africa/Gambia",
          "Europe/Germany",
          "Africa/Ghana",
          "Europe/Greece",
          "Americas/Guatemala",
          "Africa/Guinea",
          "Africa/Guinea-Bissau",
          "Americas/Haiti",
          "Americas/Honduras",
          "Asia/Hong Kong, China",
          "Europe/Hungary",
          "Europe/Iceland",
          "Asia/India",
          "Asia/Indonesia",
          "Asia/Iran",
          "Asia/Iraq",
          "Europe/Ireland",
          "Asia/Israel",
          "Europe/Italy",
          "Americas/Jamaica",
          "Asia/Japan",
          "Asia/Jordan",
          "Africa/Kenya",
          "Asia/Korea, Dem. Rep.",
          "Asia/Korea, Rep.",
          "Asia/Kuwait",
          "Asia/Lebanon",
          "Africa/Lesotho",
          "Africa/Liberia",
          "Africa/Libya",
          "Africa/Madagascar",
          "Africa/Malawi",
          "Asia/Malaysia",
          "Africa/Mali",
          "Africa/Mauritania",
          "Africa/Mauritius",
          "Americas/Mexico",
          "Asia/Mongolia",
          "Europe/Montenegro",
          "Africa/Morocco",
          "Africa/Mozambique",
          "Asia/Myanmar",
          "Africa/Namibia",
          "Asia/Nepal",
          "Europe/Netherlands",
          "Oceania/New Zealand",
          "Americas/Nicaragua",
          "Africa/Niger",
          "Africa/Nigeria",
          "Europe/Norway",
          "Asia/Oman",
          "Asia/Pakistan",
          "Americas/Panama",
          "Americas/Paraguay",
          "Americas/Peru",
          "Asia/Philippines",
          "Europe/Poland",
          "Europe/Portugal",
          "Americas/Puerto Rico",
          "Africa/Reunion",
          "Europe/Romania",
          "Africa/Rwanda",
          "Africa/Sao Tome and Principe",
          "Asia/Saudi Arabia",
          "Africa/Senegal",
          "Europe/Serbia",
          "Africa/Sierra Leone",
          "Asia/Singapore",
          "Europe/Slovak Republic",
          "Europe/Slovenia",
          "Africa/Somalia",
          "Africa/South Africa",
          "Europe/Spain",
          "Asia/Sri Lanka",
          "Africa/Sudan",
          "Africa/Swaziland",
          "Europe/Sweden",
          "Europe/Switzerland",
          "Asia/Syria",
          "Asia/Taiwan",
          "Africa/Tanzania",
          "Asia/Thailand",
          "Africa/Togo",
          "Americas/Trinidad and Tobago",
          "Africa/Tunisia",
          "Europe/Turkey",
          "Africa/Uganda",
          "Europe/United Kingdom",
          "Americas/United States",
          "Americas/Uruguay",
          "Americas/Venezuela",
          "Asia/Vietnam",
          "Asia/West Bank and Gaza",
          "Asia/Yemen, Rep.",
          "Africa/Zambia",
          "Africa/Zimbabwe",
          "Asia/Afghanistan",
          "Europe/Albania",
          "Africa/Algeria",
          "Africa/Angola",
          "Americas/Argentina",
          "Oceania/Australia",
          "Europe/Austria",
          "Asia/Bahrain",
          "Asia/Bangladesh",
          "Europe/Belgium",
          "Africa/Benin",
          "Americas/Bolivia",
          "Europe/Bosnia and Herzegovina",
          "Africa/Botswana",
          "Americas/Brazil",
          "Europe/Bulgaria",
          "Africa/Burkina Faso",
          "Africa/Burundi",
          "Asia/Cambodia",
          "Africa/Cameroon",
          "Americas/Canada",
          "Africa/Central African Republic",
          "Africa/Chad",
          "Americas/Chile",
          "Asia/China",
          "Americas/Colombia",
          "Africa/Comoros",
          "Africa/Congo, Dem. Rep.",
          "Africa/Congo, Rep.",
          "Americas/Costa Rica",
          "Africa/Cote d'Ivoire",
          "Europe/Croatia",
          "Americas/Cuba",
          "Europe/Czech Republic",
          "Europe/Denmark",
          "Africa/Djibouti",
          "Americas/Dominican Republic",
          "Americas/Ecuador",
          "Africa/Egypt",
          "Americas/El Salvador",
          "Africa/Equatorial Guinea",
          "Africa/Eritrea",
          "Africa/Ethiopia",
          "Europe/Finland",
          "Europe/France",
          "Africa/Gabon",
          "Africa/Gambia",
          "Europe/Germany",
          "Africa/Ghana",
          "Europe/Greece",
          "Americas/Guatemala",
          "Africa/Guinea",
          "Africa/Guinea-Bissau",
          "Americas/Haiti",
          "Americas/Honduras",
          "Asia/Hong Kong, China",
          "Europe/Hungary",
          "Europe/Iceland",
          "Asia/India",
          "Asia/Indonesia",
          "Asia/Iran",
          "Asia/Iraq",
          "Europe/Ireland",
          "Asia/Israel",
          "Europe/Italy",
          "Americas/Jamaica",
          "Asia/Japan",
          "Asia/Jordan",
          "Africa/Kenya",
          "Asia/Korea, Dem. Rep.",
          "Asia/Korea, Rep.",
          "Asia/Kuwait",
          "Asia/Lebanon",
          "Africa/Lesotho",
          "Africa/Liberia",
          "Africa/Libya",
          "Africa/Madagascar",
          "Africa/Malawi",
          "Asia/Malaysia",
          "Africa/Mali",
          "Africa/Mauritania",
          "Africa/Mauritius",
          "Americas/Mexico",
          "Asia/Mongolia",
          "Europe/Montenegro",
          "Africa/Morocco",
          "Africa/Mozambique",
          "Asia/Myanmar",
          "Africa/Namibia",
          "Asia/Nepal",
          "Europe/Netherlands",
          "Oceania/New Zealand",
          "Americas/Nicaragua",
          "Africa/Niger",
          "Africa/Nigeria",
          "Europe/Norway",
          "Asia/Oman",
          "Asia/Pakistan",
          "Americas/Panama",
          "Americas/Paraguay",
          "Americas/Peru",
          "Asia/Philippines",
          "Europe/Poland",
          "Europe/Portugal",
          "Americas/Puerto Rico",
          "Africa/Reunion",
          "Europe/Romania",
          "Africa/Rwanda",
          "Africa/Sao Tome and Principe",
          "Asia/Saudi Arabia",
          "Africa/Senegal",
          "Europe/Serbia",
          "Africa/Sierra Leone",
          "Asia/Singapore",
          "Europe/Slovak Republic",
          "Europe/Slovenia",
          "Africa/Somalia",
          "Africa/South Africa",
          "Europe/Spain",
          "Asia/Sri Lanka",
          "Africa/Sudan",
          "Africa/Swaziland",
          "Europe/Sweden",
          "Europe/Switzerland",
          "Asia/Syria",
          "Asia/Taiwan",
          "Africa/Tanzania",
          "Asia/Thailand",
          "Africa/Togo",
          "Americas/Trinidad and Tobago",
          "Africa/Tunisia",
          "Europe/Turkey",
          "Africa/Uganda",
          "Europe/United Kingdom",
          "Americas/United States",
          "Americas/Uruguay",
          "Americas/Venezuela",
          "Asia/Vietnam",
          "Asia/West Bank and Gaza",
          "Asia/Yemen, Rep.",
          "Africa/Zambia",
          "Africa/Zimbabwe",
          "Asia/Afghanistan",
          "Europe/Albania",
          "Africa/Algeria",
          "Africa/Angola",
          "Americas/Argentina",
          "Oceania/Australia",
          "Europe/Austria",
          "Asia/Bahrain",
          "Asia/Bangladesh",
          "Europe/Belgium",
          "Africa/Benin",
          "Americas/Bolivia",
          "Europe/Bosnia and Herzegovina",
          "Africa/Botswana",
          "Americas/Brazil",
          "Europe/Bulgaria",
          "Africa/Burkina Faso",
          "Africa/Burundi",
          "Asia/Cambodia",
          "Africa/Cameroon",
          "Americas/Canada",
          "Africa/Central African Republic",
          "Africa/Chad",
          "Americas/Chile",
          "Asia/China",
          "Americas/Colombia",
          "Africa/Comoros",
          "Africa/Congo, Dem. Rep.",
          "Africa/Congo, Rep.",
          "Americas/Costa Rica",
          "Africa/Cote d'Ivoire",
          "Europe/Croatia",
          "Americas/Cuba",
          "Europe/Czech Republic",
          "Europe/Denmark",
          "Africa/Djibouti",
          "Americas/Dominican Republic",
          "Americas/Ecuador",
          "Africa/Egypt",
          "Americas/El Salvador",
          "Africa/Equatorial Guinea",
          "Africa/Eritrea",
          "Africa/Ethiopia",
          "Europe/Finland",
          "Europe/France",
          "Africa/Gabon",
          "Africa/Gambia",
          "Europe/Germany",
          "Africa/Ghana",
          "Europe/Greece",
          "Americas/Guatemala",
          "Africa/Guinea",
          "Africa/Guinea-Bissau",
          "Americas/Haiti",
          "Americas/Honduras",
          "Asia/Hong Kong, China",
          "Europe/Hungary",
          "Europe/Iceland",
          "Asia/India",
          "Asia/Indonesia",
          "Asia/Iran",
          "Asia/Iraq",
          "Europe/Ireland",
          "Asia/Israel",
          "Europe/Italy",
          "Americas/Jamaica",
          "Asia/Japan",
          "Asia/Jordan",
          "Africa/Kenya",
          "Asia/Korea, Dem. Rep.",
          "Asia/Korea, Rep.",
          "Asia/Kuwait",
          "Asia/Lebanon",
          "Africa/Lesotho",
          "Africa/Liberia",
          "Africa/Libya",
          "Africa/Madagascar",
          "Africa/Malawi",
          "Asia/Malaysia",
          "Africa/Mali",
          "Africa/Mauritania",
          "Africa/Mauritius",
          "Americas/Mexico",
          "Asia/Mongolia",
          "Europe/Montenegro",
          "Africa/Morocco",
          "Africa/Mozambique",
          "Asia/Myanmar",
          "Africa/Namibia",
          "Asia/Nepal",
          "Europe/Netherlands",
          "Oceania/New Zealand",
          "Americas/Nicaragua",
          "Africa/Niger",
          "Africa/Nigeria",
          "Europe/Norway",
          "Asia/Oman",
          "Asia/Pakistan",
          "Americas/Panama",
          "Americas/Paraguay",
          "Americas/Peru",
          "Asia/Philippines",
          "Europe/Poland",
          "Europe/Portugal",
          "Americas/Puerto Rico",
          "Africa/Reunion",
          "Europe/Romania",
          "Africa/Rwanda",
          "Africa/Sao Tome and Principe",
          "Asia/Saudi Arabia",
          "Africa/Senegal",
          "Europe/Serbia",
          "Africa/Sierra Leone",
          "Asia/Singapore",
          "Europe/Slovak Republic",
          "Europe/Slovenia",
          "Africa/Somalia",
          "Africa/South Africa",
          "Europe/Spain",
          "Asia/Sri Lanka",
          "Africa/Sudan",
          "Africa/Swaziland",
          "Europe/Sweden",
          "Europe/Switzerland",
          "Asia/Syria",
          "Asia/Taiwan",
          "Africa/Tanzania",
          "Asia/Thailand",
          "Africa/Togo",
          "Americas/Trinidad and Tobago",
          "Africa/Tunisia",
          "Europe/Turkey",
          "Africa/Uganda",
          "Europe/United Kingdom",
          "Americas/United States",
          "Americas/Uruguay",
          "Americas/Venezuela",
          "Asia/Vietnam",
          "Asia/West Bank and Gaza",
          "Asia/Yemen, Rep.",
          "Africa/Zambia",
          "Africa/Zimbabwe",
          "Asia",
          "Europe",
          "Africa",
          "Africa",
          "Americas",
          "Oceania",
          "Europe",
          "Asia",
          "Asia",
          "Europe",
          "Africa",
          "Americas",
          "Europe",
          "Africa",
          "Americas",
          "Europe",
          "Africa",
          "Africa",
          "Asia",
          "Africa",
          "Americas",
          "Africa",
          "Africa",
          "Americas",
          "Asia",
          "Americas",
          "Africa",
          "Africa",
          "Africa",
          "Americas",
          "Africa",
          "Europe",
          "Americas",
          "Europe",
          "Europe",
          "Africa",
          "Americas",
          "Americas",
          "Africa",
          "Americas",
          "Africa",
          "Africa",
          "Africa",
          "Europe",
          "Europe",
          "Africa",
          "Africa",
          "Europe",
          "Africa",
          "Europe",
          "Americas",
          "Africa",
          "Africa",
          "Americas",
          "Americas",
          "Asia",
          "Europe",
          "Europe",
          "Asia",
          "Asia",
          "Asia",
          "Asia",
          "Europe",
          "Asia",
          "Europe",
          "Americas",
          "Asia",
          "Asia",
          "Africa",
          "Asia",
          "Asia",
          "Asia",
          "Asia",
          "Africa",
          "Africa",
          "Africa",
          "Africa",
          "Africa",
          "Asia",
          "Africa",
          "Africa",
          "Africa",
          "Americas",
          "Asia",
          "Europe",
          "Africa",
          "Africa",
          "Asia",
          "Africa",
          "Asia",
          "Europe",
          "Oceania",
          "Americas",
          "Africa",
          "Africa",
          "Europe",
          "Asia",
          "Asia",
          "Americas",
          "Americas",
          "Americas",
          "Asia",
          "Europe",
          "Europe",
          "Americas",
          "Africa",
          "Europe",
          "Africa",
          "Africa",
          "Asia",
          "Africa",
          "Europe",
          "Africa",
          "Asia",
          "Europe",
          "Europe",
          "Africa",
          "Africa",
          "Europe",
          "Asia",
          "Africa",
          "Africa",
          "Europe",
          "Europe",
          "Asia",
          "Asia",
          "Africa",
          "Asia",
          "Africa",
          "Americas",
          "Africa",
          "Europe",
          "Africa",
          "Europe",
          "Americas",
          "Americas",
          "Americas",
          "Asia",
          "Asia",
          "Asia",
          "Africa",
          "Africa",
          "",
          "",
          "",
          "",
          ""
         ],
         "type": "icicle",
         "values": [
          8425333,
          1282697,
          9279525,
          4232095,
          17876956,
          8691212,
          6927772,
          120447,
          46886859,
          8730405,
          1738315,
          2883315,
          2791000,
          442308,
          56602560,
          7274900,
          4469979,
          2445618,
          4693836,
          5009067,
          14785584,
          1291695,
          2682462,
          6377619,
          556263527,
          12350771,
          153936,
          14100005,
          854885,
          926317,
          2977019,
          3882229,
          6007797,
          9125183,
          4334000,
          63149,
          2491346,
          3548753,
          22223309,
          2042865,
          216964,
          1438760,
          20860941,
          4090500,
          42459667,
          420702,
          284320,
          69145952,
          5581001,
          7733250,
          3146381,
          2664249,
          580653,
          3201488,
          1517453,
          2125900,
          9504000,
          147962,
          372000000,
          82052000,
          17272000,
          5441766,
          2952156,
          1620914,
          47666000,
          1426095,
          86459025,
          607914,
          6464046,
          8865488,
          20947571,
          160000,
          1439529,
          748747,
          863308,
          1019729,
          4762912,
          2917802,
          6748378,
          3838168,
          1022556,
          516556,
          30144317,
          800663,
          413834,
          9939217,
          6446316,
          20092996,
          485831,
          9182536,
          10381988,
          1994794,
          1165790,
          3379468,
          33119096,
          3327728,
          507833,
          41346560,
          940080,
          1555876,
          8025700,
          22438691,
          25730551,
          8526050,
          2227000,
          257700,
          16630000,
          2534927,
          60011,
          4005677,
          2755589,
          6860147,
          2143249,
          1127000,
          3558137,
          1489518,
          2526994,
          14264935,
          28549870,
          7982342,
          8504667,
          290243,
          7124673,
          4815000,
          3661549,
          8550362,
          8322925,
          21289402,
          1219113,
          662850,
          3647735,
          22235677,
          5824797,
          50430000,
          157553000,
          2252965,
          5439568,
          26246839,
          1030585,
          4963829,
          2672000,
          3080907,
          9240934,
          1476505,
          10270856,
          4561361,
          19610538,
          9712569,
          6965860,
          138655,
          51365468,
          8989111,
          1925173,
          3211738,
          3076000,
          474639,
          65551171,
          7651254,
          4713416,
          2667518,
          5322536,
          5359923,
          17010154,
          1392284,
          2894855,
          7048426,
          637408000,
          14485993,
          170928,
          15577932,
          940458,
          1112300,
          3300000,
          3991242,
          6640752,
          9513758,
          4487831,
          71851,
          2923186,
          4058385,
          25009741,
          2355805,
          232922,
          1542611,
          22815614,
          4324000,
          44310863,
          434904,
          323150,
          71019069,
          6391288,
          8096218,
          3640876,
          2876726,
          601095,
          3507701,
          1770390,
          2736300,
          9839000,
          165110,
          409000000,
          90124000,
          19792000,
          6248643,
          2878220,
          1944401,
          49182000,
          1535090,
          91563009,
          746559,
          7454779,
          9411381,
          22611552,
          212846,
          1647412,
          813338,
          975950,
          1201578,
          5181679,
          3221238,
          7739235,
          4241884,
          1076852,
          609816,
          35015548,
          882134,
          442829,
          11406350,
          7038035,
          21731844,
          548080,
          9682338,
          11026383,
          2229407,
          1358828,
          3692184,
          37173340,
          3491938,
          561977,
          46679944,
          1063506,
          1770902,
          9146100,
          26072194,
          28235346,
          8817650,
          2260000,
          308700,
          17829327,
          2822082,
          61325,
          4419650,
          3054547,
          7271135,
          2295678,
          1445929,
          3844277,
          1533070,
          2780415,
          16151549,
          29841614,
          9128546,
          9753392,
          326741,
          7363802,
          5126000,
          4149908,
          10164215,
          9452826,
          25041917,
          1357445,
          764900,
          3950849,
          25670939,
          6675501,
          51430000,
          171984000,
          2424959,
          6702668,
          28998543,
          1070439,
          5498090,
          3016000,
          3646340,
          10267083,
          1728137,
          11000948,
          4826015,
          21283783,
          10794968,
          7129864,
          171863,
          56839289,
          9218400,
          2151895,
          3593918,
          3349000,
          512764,
          76039390,
          8012946,
          4919632,
          2961915,
          6083619,
          5793633,
          18985849,
          1523478,
          3150417,
          7961258,
          665770000,
          17009885,
          191689,
          17486434,
          1047924,
          1345187,
          3832408,
          4076557,
          7254373,
          9620282,
          4646899,
          89898,
          3453434,
          4681707,
          28173309,
          2747687,
          249220,
          1666618,
          25145372,
          4491443,
          47124000,
          455661,
          374020,
          73739117,
          7355248,
          8448233,
          4208858,
          3140003,
          627820,
          3880130,
          2090162,
          3305200,
          10063000,
          182053,
          454000000,
          99028000,
          22874000,
          7240260,
          2830000,
          2310904,
          50843200,
          1665128,
          95831757,
          933559,
          8678557,
          10917494,
          26420307,
          358266,
          1886848,
          893143,
          1112796,
          1441863,
          5703324,
          3628608,
          8906385,
          4690372,
          1146757,
          701016,
          41121485,
          1010280,
          474528,
          13056604,
          7788944,
          23634436,
          621392,
          10332057,
          11805689,
          2488550,
          1590597,
          4076008,
          41871351,
          3638919,
          628164,
          53100671,
          1215725,
          2009813,
          10516500,
          30325264,
          30329617,
          9019800,
          2448046,
          358900,
          18680721,
          3051242,
          65345,
          4943029,
          3430243,
          7616060,
          2467895,
          1750200,
          4237384,
          1582962,
          3080153,
          18356657,
          31158061,
          10421936,
          11183227,
          370006,
          7561588,
          5666000,
          4834621,
          11918938,
          10863958,
          29263397,
          1528098,
          887498,
          4286552,
          29788695,
          7688797,
          53292000,
          186538000,
          2598466,
          8143375,
          33796140,
          1133134,
          6120081,
          3421000,
          4277736,
          11537966,
          1984060,
          12760499,
          5247469,
          22934225,
          11872264,
          7376998,
          202182,
          62821884,
          9556500,
          2427334,
          4040665,
          3585000,
          553541,
          88049823,
          8310226,
          5127935,
          3330989,
          6960067,
          6335506,
          20819767,
          1733638,
          3495967,
          8858908,
          754550000,
          19764027,
          217378,
          19941073,
          1179760,
          1588717,
          4744870,
          4174366,
          8139332,
          9835109,
          4838800,
          127617,
          4049146,
          5432424,
          31681188,
          3232927,
          259864,
          1820319,
          27860297,
          4605744,
          49569000,
          489004,
          439593,
          76368453,
          8490213,
          8716441,
          4690773,
          3451418,
          601287,
          4318137,
          2500689,
          3722800,
          10223422,
          198676,
          506000000,
          109343000,
          26538000,
          8519282,
          2900100,
          2693585,
          52667100,
          1861096,
          100825279,
          1255058,
          10191512,
          12617009,
          30131000,
          575003,
          2186894,
          996380,
          1279406,
          1759224,
          6334556,
          4147252,
          10154878,
          5212416,
          1230542,
          789309,
          47995559,
          1149500,
          501035,
          14770296,
          8680909,
          25870271,
          706640,
          11261690,
          12596822,
          2728150,
          1865490,
          4534062,
          47287752,
          3786019,
          714775,
          60641899,
          1405486,
          2287985,
          12132200,
          35356600,
          31785378,
          9103000,
          2648961,
          414024,
          19284814,
          3451079,
          70787,
          5618198,
          3965841,
          7971222,
          2662190,
          1977600,
          4442238,
          1646912,
          3428839,
          20997321,
          32850275,
          11737396,
          12716129,
          420690,
          7867931,
          6063000,
          5680812,
          13648692,
          12607312,
          34024249,
          1735550,
          960155,
          4786986,
          33411317,
          8900294,
          54959000,
          198712000,
          2748579,
          9709552,
          39463910,
          1142636,
          6740785,
          3900000,
          4995432,
          13079460,
          2263554,
          14760787,
          5894858,
          24779799,
          13177000,
          7544201,
          230800,
          70759295,
          9709100,
          2761407,
          4565872,
          3819000,
          619351,
          100840058,
          8576200,
          5433886,
          3529983,
          7450606,
          7021028,
          22284500,
          1927260,
          3899068,
          9717524,
          862030000,
          22542890,
          250027,
          23007669,
          1340458,
          1834796,
          6071696,
          4225310,
          8831348,
          9862158,
          4991596,
          178848,
          4671329,
          6298651,
          34807417,
          3790903,
          277603,
          2260187,
          30770372,
          4639657,
          51732000,
          537977,
          517101,
          78717088,
          9354120,
          8888628,
          5149581,
          3811387,
          625361,
          4698301,
          2965146,
          4115700,
          10394091,
          209275,
          567000000,
          121282000,
          30614000,
          10061506,
          3024400,
          3095893,
          54365564,
          1997616,
          107188273,
          1613551,
          12044785,
          14781241,
          33505000,
          841934,
          2680018,
          1116779,
          1482628,
          2183877,
          7082430,
          4730997,
          11441462,
          5828158,
          1332786,
          851334,
          55984294,
          1320500,
          527678,
          16660670,
          9809596,
          28466390,
          821782,
          12412593,
          13329874,
          2929100,
          2182908,
          5060262,
          53740085,
          3933004,
          829050,
          69325921,
          1616384,
          2614104,
          13954700,
          40850141,
          33039545,
          8970450,
          2847132,
          461633,
          20662648,
          3992121,
          76595,
          6472756,
          4588696,
          8313288,
          2879013,
          2152400,
          4593433,
          1694510,
          3840161,
          23935810,
          34513161,
          13016733,
          14597019,
          480105,
          8122293,
          6401400,
          6701172,
          15226039,
          14706593,
          39276153,
          2056351,
          975199,
          5303507,
          37492953,
          10190285,
          56079000,
          209896000,
          2829526,
          11515649,
          44655014,
          1089572,
          7407075,
          4506497,
          5861135,
          14880372,
          2509048,
          17152804,
          6162675,
          26983828,
          14074100,
          7568430,
          297410,
          80428306,
          9821800,
          3168267,
          5079716,
          4086000,
          781472,
          114313951,
          8797022,
          5889574,
          3834415,
          6978607,
          7959865,
          23796400,
          2167533,
          4388260,
          10599793,
          943455000,
          25094412,
          304739,
          26480870,
          1536769,
          2108457,
          7459574,
          4318673,
          9537988,
          10161915,
          5088419,
          228694,
          5302800,
          7278866,
          38783863,
          4282586,
          192675,
          2512642,
          34617799,
          4738902,
          53165019,
          706367,
          608274,
          78160773,
          10538093,
          9308479,
          5703430,
          4227026,
          745228,
          4908554,
          3055235,
          4583700,
          10637171,
          221823,
          634000000,
          136725000,
          35480679,
          11882916,
          3271900,
          3495918,
          56059245,
          2156814,
          113872473,
          1937652,
          14500404,
          16325320,
          36436000,
          1140357,
          3115787,
          1251524,
          1703617,
          2721783,
          8007166,
          5637246,
          12845381,
          6491649,
          1456688,
          913025,
          63759976,
          1528000,
          560073,
          18396941,
          11127868,
          31528087,
          977026,
          13933198,
          13852989,
          3164900,
          2554598,
          5682086,
          62209173,
          4043205,
          1004533,
          78152686,
          1839782,
          2984494,
          15990099,
          46850962,
          34621254,
          9662600,
          3080828,
          492095,
          21658597,
          4657072,
          86796,
          8128505,
          5260855,
          8686367,
          3140897,
          2325300,
          4827803,
          1746919,
          4353666,
          27129932,
          36439000,
          14116836,
          17104986,
          551425,
          8251648,
          6316424,
          7932503,
          16785196,
          17129565,
          44148285,
          2308582,
          1039009,
          6005061,
          42404033,
          11457758,
          56179000,
          220239000,
          2873520,
          13503563,
          50533506,
          1261091,
          8403990,
          5216550,
          6642107,
          12881816,
          2780097,
          20033753,
          7016384,
          29341374,
          15184200,
          7574613,
          377967,
          93074406,
          9856303,
          3641603,
          5642224,
          4172693,
          970347,
          128962939,
          8892098,
          6634596,
          4580410,
          7272485,
          9250831,
          25201900,
          2476971,
          4875118,
          11487112,
          1000281000,
          27764644,
          348643,
          30646495,
          1774735,
          2424367,
          9025951,
          4413368,
          9789224,
          10303704,
          5117810,
          305991,
          5968349,
          8365850,
          45681811,
          4474873,
          285483,
          2637297,
          38111756,
          4826933,
          54433565,
          753874,
          715523,
          78335266,
          11400338,
          9786480,
          6395630,
          4710497,
          825987,
          5198399,
          3669448,
          5264500,
          10705535,
          233997,
          708000000,
          153343000,
          43072751,
          14173318,
          3480000,
          3858421,
          56535636,
          2298309,
          118454974,
          2347031,
          17661452,
          17647518,
          39326000,
          1497494,
          3086876,
          1411807,
          1956875,
          3344074,
          9171477,
          6502825,
          14441916,
          6998256,
          1622136,
          992040,
          71640904,
          1756032,
          562548,
          20198730,
          12587223,
          34680442,
          1099010,
          15796314,
          14310401,
          3210650,
          2979423,
          6437188,
          73039376,
          4114787,
          1301048,
          91462088,
          2036305,
          3366439,
          18125129,
          53456774,
          36227381,
          9859650,
          3279001,
          517810,
          22356726,
          5507565,
          98593,
          11254672,
          6147783,
          9032824,
          3464522,
          2651869,
          5048043,
          1861252,
          5828892,
          31140029,
          37983310,
          15410151,
          20367053,
          649901,
          8325260,
          6468126,
          9410494,
          18501390,
          19844382,
          48827160,
          2644765,
          1116479,
          6734098,
          47328791,
          12939400,
          56339704,
          232187835,
          2953997,
          15620766,
          56142181,
          1425876,
          9657618,
          6100407,
          7636524,
          13867957,
          3075321,
          23254956,
          7874230,
          31620918,
          16257249,
          7578903,
          454612,
          103764241,
          9870200,
          4243788,
          6156369,
          4338977,
          1151184,
          142938076,
          8971958,
          7586551,
          5126023,
          8371791,
          10780667,
          26549700,
          2840009,
          5498955,
          12463354,
          1084035000,
          30964245,
          395114,
          35481645,
          2064095,
          2799811,
          10761098,
          4484310,
          10239839,
          10311597,
          5127024,
          311025,
          6655297,
          9545158,
          52799062,
          4842194,
          341244,
          2915959,
          42999530,
          4931729,
          55630100,
          880397,
          848406,
          77718298,
          14168101,
          9974490,
          7326406,
          5650262,
          927524,
          5756203,
          4372203,
          5584510,
          10612740,
          244676,
          788000000,
          169276000,
          51889696,
          16543189,
          3539900,
          4203148,
          56729703,
          2326606,
          122091325,
          2820042,
          21198082,
          19067554,
          41622000,
          1891487,
          3089353,
          1599200,
          2269414,
          3799845,
          10568642,
          7824747,
          16331785,
          7634008,
          1841240,
          1042663,
          80122492,
          2015133,
          569473,
          22987397,
          12891952,
          38028578,
          1278184,
          17917180,
          14665278,
          3317166,
          3344353,
          7332638,
          81551520,
          4186147,
          1593882,
          105186881,
          2253639,
          3886512,
          20195924,
          60017788,
          37740710,
          9915289,
          3444468,
          562035,
          22686371,
          6349365,
          110812,
          14619745,
          7171347,
          9230783,
          3868905,
          2794552,
          5199318,
          1945870,
          6921858,
          35933379,
          38880702,
          16495304,
          24725960,
          779348,
          8421403,
          6649942,
          11242847,
          19757799,
          23040630,
          52910342,
          3154264,
          1191336,
          7724976,
          52881328,
          15283050,
          56981620,
          242803533,
          3045153,
          17910182,
          62826491,
          1691210,
          11219340,
          7272406,
          9216418,
          16317921,
          3326498,
          26298373,
          8735988,
          33958947,
          17481977,
          7914969,
          529491,
          113704579,
          10045622,
          4981671,
          6893451,
          4256013,
          1342614,
          155975974,
          8658506,
          8878303,
          5809236,
          10150094,
          12467171,
          28523502,
          3265124,
          6429417,
          13572994,
          1164970000,
          34202721,
          454429,
          41672143,
          2409073,
          3173216,
          12772596,
          4494013,
          10723260,
          10315702,
          5171393,
          384156,
          7351181,
          10748394,
          59402198,
          5274649,
          387838,
          3668440,
          52088559,
          5041039,
          57374179,
          985739,
          1025384,
          80597764,
          16278738,
          10325429,
          8486949,
          6990574,
          1050938,
          6326682,
          5077347,
          5829696,
          10348684,
          259012,
          872000000,
          184816000,
          60397973,
          17861905,
          3557761,
          4936550,
          56840847,
          2378618,
          124329269,
          3867409,
          25020539,
          20711375,
          43805450,
          1418095,
          3219994,
          1803195,
          1912974,
          4364501,
          12210395,
          10014249,
          18319502,
          8416215,
          2119465,
          1096202,
          88111030,
          2312802,
          621621,
          25798239,
          13160731,
          40546538,
          1554253,
          20326209,
          15174244,
          3437674,
          4017939,
          8392818,
          93364244,
          4286357,
          1915208,
          120065004,
          2484997,
          4483945,
          22430449,
          67185766,
          38370697,
          9927680,
          3585176,
          622191,
          22797027,
          7290203,
          125911,
          16945857,
          8307920,
          9826397,
          4260884,
          3235865,
          5302888,
          1999210,
          6099799,
          39964159,
          39549438,
          17587060,
          28227588,
          962344,
          8718867,
          6995447,
          13219062,
          20686918,
          26605473,
          56667095,
          3747553,
          1183669,
          8523077,
          58179144,
          18252190,
          57866349,
          256894189,
          3149262,
          20265563,
          69940728,
          2104779,
          13367997,
          8381163,
          10704340,
          22227415,
          3428038,
          29072015,
          9875024,
          36203463,
          18565243,
          8069876,
          598561,
          123315288,
          10199787,
          6066080,
          7693188,
          3607000,
          1536536,
          168546719,
          8066057,
          10352843,
          6121610,
          11782962,
          14195809,
          30305843,
          3696513,
          7562011,
          14599929,
          1230075000,
          37657830,
          527982,
          47798986,
          2800947,
          3518107,
          14625967,
          4444595,
          10983007,
          10300707,
          5283663,
          417908,
          7992357,
          11911819,
          66134291,
          5783439,
          439971,
          4058319,
          59861301,
          5134406,
          58623428,
          1126189,
          1235767,
          82011073,
          18418288,
          10502372,
          9803875,
          8048834,
          1193708,
          6913545,
          5867957,
          6495918,
          10244684,
          271192,
          959000000,
          199278000,
          63327987,
          20775703,
          3667233,
          5531387,
          57479469,
          2531311,
          125956499,
          4526235,
          28263827,
          21585105,
          46173816,
          1765345,
          3430388,
          1982823,
          2200725,
          4759670,
          14165114,
          10419991,
          20476091,
          9384984,
          2444741,
          1149818,
          95895146,
          2494803,
          692651,
          28529501,
          16603334,
          43247867,
          1774766,
          23001113,
          15604464,
          3676187,
          4609572,
          9666252,
          106207839,
          4405672,
          2283635,
          135564834,
          2734531,
          5154123,
          24748122,
          75012988,
          38654957,
          10156415,
          3759430,
          684810,
          22562458,
          7212583,
          145608,
          21229759,
          9535314,
          10336594,
          4578212,
          3802309,
          5383010,
          2011612,
          6633514,
          42835005,
          39855442,
          18698655,
          32160729,
          1054486,
          8897619,
          7193761,
          15081016,
          21628605,
          30686889,
          60216677,
          4320890,
          1138101,
          9231669,
          63047647,
          21210254,
          58808266,
          272911760,
          3262838,
          22374398,
          76048996,
          2826046,
          15826497,
          9417789,
          11404948,
          25268405,
          3508512,
          31287142,
          10866106,
          38331121,
          19546792,
          8148312,
          656397,
          135656790,
          10311970,
          7026113,
          8445134,
          4165416,
          1630347,
          179914212,
          7661799,
          12251209,
          7021078,
          12926707,
          15929988,
          31902268,
          4048013,
          8835739,
          15497046,
          1280400000,
          41008227,
          614382,
          55379852,
          3328795,
          3834934,
          16252726,
          4481020,
          11226999,
          10256295,
          5374693,
          447416,
          8650322,
          12921234,
          73312559,
          6353681,
          495627,
          4414865,
          67946797,
          5193039,
          59925035,
          1299304,
          1457766,
          82350671,
          20550751,
          10603863,
          11178650,
          8807818,
          1332459,
          7607651,
          6677328,
          6762476,
          10083313,
          288030,
          1034172547,
          211060000,
          66907826,
          24001816,
          3879155,
          6029529,
          57926999,
          2664659,
          127065841,
          5307470,
          31386842,
          22215365,
          47969150,
          2111561,
          3677780,
          2046772,
          2814651,
          5368585,
          16473477,
          11824495,
          22662365,
          10580176,
          2828858,
          1200206,
          102479927,
          2674234,
          720230,
          31167783,
          18473780,
          45598081,
          1972153,
          25873917,
          16122830,
          3908037,
          5146848,
          11140655,
          119901274,
          4535591,
          2713462,
          153403524,
          2990875,
          5884491,
          26769436,
          82995088,
          38625976,
          10433867,
          3859606,
          743981,
          22404337,
          7852401,
          170372,
          24501530,
          10870037,
          10111559,
          5359092,
          4197776,
          5410052,
          2011497,
          7753310,
          44433622,
          40152517,
          19576783,
          37090298,
          1130269,
          8954175,
          7361757,
          17155814,
          22454239,
          34593779,
          62806748,
          4977378,
          1101832,
          9770575,
          67308928,
          24739869,
          59912431,
          287675526,
          3363085,
          24287670,
          80908147,
          3389578,
          18701257,
          10595811,
          11926563,
          31889923,
          3600523,
          33333216,
          12420476,
          40301927,
          20434176,
          8199783,
          708573,
          150448339,
          10392226,
          8078314,
          9119152,
          4552198,
          1639131,
          190010647,
          7322858,
          14326203,
          8390505,
          14131858,
          17696293,
          33390141,
          4369038,
          10238807,
          16284741,
          1318683096,
          44227550,
          710960,
          64606759,
          3800610,
          4133884,
          18013409,
          4493312,
          11416987,
          10228744,
          5468120,
          496374,
          9319622,
          13755680,
          80264543,
          6939688,
          551201,
          4906585,
          76511887,
          5238460,
          61083916,
          1454867,
          1688359,
          82400996,
          22873338,
          10706290,
          12572928,
          9947814,
          1472041,
          8502814,
          7483763,
          6980412,
          9956108,
          301931,
          1110396331,
          223547000,
          69453570,
          27499638,
          4109086,
          6426679,
          58147733,
          2780132,
          127467972,
          6053193,
          35610177,
          23301725,
          49044790,
          2505559,
          3921278,
          2012649,
          3193942,
          6036914,
          19167654,
          13327079,
          24821286,
          12031795,
          3270065,
          1250882,
          108700891,
          2874127,
          684736,
          33757175,
          19951656,
          47761980,
          2055080,
          28901790,
          16570613,
          4115771,
          5675356,
          12894865,
          135031164,
          4627926,
          3204897,
          169270617,
          3242173,
          6667147,
          28674757,
          91077287,
          38518241,
          10642836,
          3942491,
          798094,
          22276056,
          8860588,
          199579,
          27601038,
          12267493,
          10150265,
          6144562,
          4553009,
          5447502,
          2009245,
          9118773,
          43997828,
          40448191,
          20378239,
          42292929,
          1133066,
          9031088,
          7554661,
          19314747,
          23174294,
          38139640,
          65068149,
          5701579,
          1056608,
          10276158,
          71158647,
          29170398,
          60776238,
          301139947,
          3447496,
          26084662,
          85262356,
          4018332,
          22211743,
          11746035,
          12311143,
          189884585,
          30962990,
          238504874,
          87712681,
          343226879,
          175791750,
          90999581,
          4486958,
          1089064744,
          116701424,
          48209960,
          67324742,
          45798297,
          11654234,
          1467745520,
          98195824,
          90584127,
          55819300,
          102125168,
          117799781,
          293555608,
          30731556,
          63951076,
          134468704,
          11497920623,
          327073195,
          4340207,
          392179863,
          23078509,
          28800093,
          109837314,
          51478995,
          110790906,
          119835154,
          59930248,
          3122927,
          68828369,
          98546921,
          558273291,
          52121297,
          3930612,
          33842602,
          499590225,
          57255852,
          635430772,
          9544985,
          9517663,
          930564520,
          151399517,
          113090173,
          82304337,
          64326608,
          10584101,
          64819605,
          47047121,
          57507112,
          122611748,
          2723737,
          8413568878,
          1779874000,
          507620482,
          170249942,
          40089911,
          46147329,
          654443496,
          25621474,
          1341105696,
          32015673,
          218475002,
          197446575,
          437992636,
          14477947,
          33382157,
          16676357,
          21766286,
          38001643,
          118828826,
          84196529,
          174888664,
          85348081,
          21392686,
          11112867,
          820971569,
          20818208,
          6771236,
          246668903,
          144560344,
          401187510,
          13894197,
          198620935,
          165441575,
          37200386,
          36491702,
          82288486,
          884496214,
          48377293,
          17258464,
          1124200629,
          23823483,
          42665831,
          210709116,
          631639543,
          411879653,
          115035287,
          37382139,
          6221973,
          249829082,
          63581228,
          1271734,
          149740416,
          77355665,
          105406641,
          43265099,
          32013809,
          57294085,
          21532577,
          62366374,
          359140226,
          430221581,
          174549981,
          258723977,
          8148624,
          98640347,
          76611518,
          118384545,
          202496687,
          245993972,
          539539574,
          34751568,
          12077636,
          80241243,
          550908099,
          172332593,
          673053608,
          2738534790,
          34949846,
          181557616,
          654822851,
          22183278,
          130118302,
          76245658,
          91703593,
          6187585961,
          7351438499,
          30507333901,
          6181115304,
          212992136
         ]
        }
       ],
       "layout": {
        "legend": {
         "tracegroupgap": 0
        },
        "margin": {
         "t": 60
        },
        "template": {
         "data": {
          "bar": [
           {
            "error_x": {
             "color": "#2a3f5f"
            },
            "error_y": {
             "color": "#2a3f5f"
            },
            "marker": {
             "line": {
              "color": "#E5ECF6",
              "width": 0.5
             },
             "pattern": {
              "fillmode": "overlay",
              "size": 10,
              "solidity": 0.2
             }
            },
            "type": "bar"
           }
          ],
          "barpolar": [
           {
            "marker": {
             "line": {
              "color": "#E5ECF6",
              "width": 0.5
             },
             "pattern": {
              "fillmode": "overlay",
              "size": 10,
              "solidity": 0.2
             }
            },
            "type": "barpolar"
           }
          ],
          "carpet": [
           {
            "aaxis": {
             "endlinecolor": "#2a3f5f",
             "gridcolor": "white",
             "linecolor": "white",
             "minorgridcolor": "white",
             "startlinecolor": "#2a3f5f"
            },
            "baxis": {
             "endlinecolor": "#2a3f5f",
             "gridcolor": "white",
             "linecolor": "white",
             "minorgridcolor": "white",
             "startlinecolor": "#2a3f5f"
            },
            "type": "carpet"
           }
          ],
          "choropleth": [
           {
            "colorbar": {
             "outlinewidth": 0,
             "ticks": ""
            },
            "type": "choropleth"
           }
          ],
          "contour": [
           {
            "colorbar": {
             "outlinewidth": 0,
             "ticks": ""
            },
            "colorscale": [
             [
              0,
              "#0d0887"
             ],
             [
              0.1111111111111111,
              "#46039f"
             ],
             [
              0.2222222222222222,
              "#7201a8"
             ],
             [
              0.3333333333333333,
              "#9c179e"
             ],
             [
              0.4444444444444444,
              "#bd3786"
             ],
             [
              0.5555555555555556,
              "#d8576b"
             ],
             [
              0.6666666666666666,
              "#ed7953"
             ],
             [
              0.7777777777777778,
              "#fb9f3a"
             ],
             [
              0.8888888888888888,
              "#fdca26"
             ],
             [
              1,
              "#f0f921"
             ]
            ],
            "type": "contour"
           }
          ],
          "contourcarpet": [
           {
            "colorbar": {
             "outlinewidth": 0,
             "ticks": ""
            },
            "type": "contourcarpet"
           }
          ],
          "heatmap": [
           {
            "colorbar": {
             "outlinewidth": 0,
             "ticks": ""
            },
            "colorscale": [
             [
              0,
              "#0d0887"
             ],
             [
              0.1111111111111111,
              "#46039f"
             ],
             [
              0.2222222222222222,
              "#7201a8"
             ],
             [
              0.3333333333333333,
              "#9c179e"
             ],
             [
              0.4444444444444444,
              "#bd3786"
             ],
             [
              0.5555555555555556,
              "#d8576b"
             ],
             [
              0.6666666666666666,
              "#ed7953"
             ],
             [
              0.7777777777777778,
              "#fb9f3a"
             ],
             [
              0.8888888888888888,
              "#fdca26"
             ],
             [
              1,
              "#f0f921"
             ]
            ],
            "type": "heatmap"
           }
          ],
          "heatmapgl": [
           {
            "colorbar": {
             "outlinewidth": 0,
             "ticks": ""
            },
            "colorscale": [
             [
              0,
              "#0d0887"
             ],
             [
              0.1111111111111111,
              "#46039f"
             ],
             [
              0.2222222222222222,
              "#7201a8"
             ],
             [
              0.3333333333333333,
              "#9c179e"
             ],
             [
              0.4444444444444444,
              "#bd3786"
             ],
             [
              0.5555555555555556,
              "#d8576b"
             ],
             [
              0.6666666666666666,
              "#ed7953"
             ],
             [
              0.7777777777777778,
              "#fb9f3a"
             ],
             [
              0.8888888888888888,
              "#fdca26"
             ],
             [
              1,
              "#f0f921"
             ]
            ],
            "type": "heatmapgl"
           }
          ],
          "histogram": [
           {
            "marker": {
             "pattern": {
              "fillmode": "overlay",
              "size": 10,
              "solidity": 0.2
             }
            },
            "type": "histogram"
           }
          ],
          "histogram2d": [
           {
            "colorbar": {
             "outlinewidth": 0,
             "ticks": ""
            },
            "colorscale": [
             [
              0,
              "#0d0887"
             ],
             [
              0.1111111111111111,
              "#46039f"
             ],
             [
              0.2222222222222222,
              "#7201a8"
             ],
             [
              0.3333333333333333,
              "#9c179e"
             ],
             [
              0.4444444444444444,
              "#bd3786"
             ],
             [
              0.5555555555555556,
              "#d8576b"
             ],
             [
              0.6666666666666666,
              "#ed7953"
             ],
             [
              0.7777777777777778,
              "#fb9f3a"
             ],
             [
              0.8888888888888888,
              "#fdca26"
             ],
             [
              1,
              "#f0f921"
             ]
            ],
            "type": "histogram2d"
           }
          ],
          "histogram2dcontour": [
           {
            "colorbar": {
             "outlinewidth": 0,
             "ticks": ""
            },
            "colorscale": [
             [
              0,
              "#0d0887"
             ],
             [
              0.1111111111111111,
              "#46039f"
             ],
             [
              0.2222222222222222,
              "#7201a8"
             ],
             [
              0.3333333333333333,
              "#9c179e"
             ],
             [
              0.4444444444444444,
              "#bd3786"
             ],
             [
              0.5555555555555556,
              "#d8576b"
             ],
             [
              0.6666666666666666,
              "#ed7953"
             ],
             [
              0.7777777777777778,
              "#fb9f3a"
             ],
             [
              0.8888888888888888,
              "#fdca26"
             ],
             [
              1,
              "#f0f921"
             ]
            ],
            "type": "histogram2dcontour"
           }
          ],
          "mesh3d": [
           {
            "colorbar": {
             "outlinewidth": 0,
             "ticks": ""
            },
            "type": "mesh3d"
           }
          ],
          "parcoords": [
           {
            "line": {
             "colorbar": {
              "outlinewidth": 0,
              "ticks": ""
             }
            },
            "type": "parcoords"
           }
          ],
          "pie": [
           {
            "automargin": true,
            "type": "pie"
           }
          ],
          "scatter": [
           {
            "fillpattern": {
             "fillmode": "overlay",
             "size": 10,
             "solidity": 0.2
            },
            "type": "scatter"
           }
          ],
          "scatter3d": [
           {
            "line": {
             "colorbar": {
              "outlinewidth": 0,
              "ticks": ""
             }
            },
            "marker": {
             "colorbar": {
              "outlinewidth": 0,
              "ticks": ""
             }
            },
            "type": "scatter3d"
           }
          ],
          "scattercarpet": [
           {
            "marker": {
             "colorbar": {
              "outlinewidth": 0,
              "ticks": ""
             }
            },
            "type": "scattercarpet"
           }
          ],
          "scattergeo": [
           {
            "marker": {
             "colorbar": {
              "outlinewidth": 0,
              "ticks": ""
             }
            },
            "type": "scattergeo"
           }
          ],
          "scattergl": [
           {
            "marker": {
             "colorbar": {
              "outlinewidth": 0,
              "ticks": ""
             }
            },
            "type": "scattergl"
           }
          ],
          "scattermapbox": [
           {
            "marker": {
             "colorbar": {
              "outlinewidth": 0,
              "ticks": ""
             }
            },
            "type": "scattermapbox"
           }
          ],
          "scatterpolar": [
           {
            "marker": {
             "colorbar": {
              "outlinewidth": 0,
              "ticks": ""
             }
            },
            "type": "scatterpolar"
           }
          ],
          "scatterpolargl": [
           {
            "marker": {
             "colorbar": {
              "outlinewidth": 0,
              "ticks": ""
             }
            },
            "type": "scatterpolargl"
           }
          ],
          "scatterternary": [
           {
            "marker": {
             "colorbar": {
              "outlinewidth": 0,
              "ticks": ""
             }
            },
            "type": "scatterternary"
           }
          ],
          "surface": [
           {
            "colorbar": {
             "outlinewidth": 0,
             "ticks": ""
            },
            "colorscale": [
             [
              0,
              "#0d0887"
             ],
             [
              0.1111111111111111,
              "#46039f"
             ],
             [
              0.2222222222222222,
              "#7201a8"
             ],
             [
              0.3333333333333333,
              "#9c179e"
             ],
             [
              0.4444444444444444,
              "#bd3786"
             ],
             [
              0.5555555555555556,
              "#d8576b"
             ],
             [
              0.6666666666666666,
              "#ed7953"
             ],
             [
              0.7777777777777778,
              "#fb9f3a"
             ],
             [
              0.8888888888888888,
              "#fdca26"
             ],
             [
              1,
              "#f0f921"
             ]
            ],
            "type": "surface"
           }
          ],
          "table": [
           {
            "cells": {
             "fill": {
              "color": "#EBF0F8"
             },
             "line": {
              "color": "white"
             }
            },
            "header": {
             "fill": {
              "color": "#C8D4E3"
             },
             "line": {
              "color": "white"
             }
            },
            "type": "table"
           }
          ]
         },
         "layout": {
          "annotationdefaults": {
           "arrowcolor": "#2a3f5f",
           "arrowhead": 0,
           "arrowwidth": 1
          },
          "autotypenumbers": "strict",
          "coloraxis": {
           "colorbar": {
            "outlinewidth": 0,
            "ticks": ""
           }
          },
          "colorscale": {
           "diverging": [
            [
             0,
             "#8e0152"
            ],
            [
             0.1,
             "#c51b7d"
            ],
            [
             0.2,
             "#de77ae"
            ],
            [
             0.3,
             "#f1b6da"
            ],
            [
             0.4,
             "#fde0ef"
            ],
            [
             0.5,
             "#f7f7f7"
            ],
            [
             0.6,
             "#e6f5d0"
            ],
            [
             0.7,
             "#b8e186"
            ],
            [
             0.8,
             "#7fbc41"
            ],
            [
             0.9,
             "#4d9221"
            ],
            [
             1,
             "#276419"
            ]
           ],
           "sequential": [
            [
             0,
             "#0d0887"
            ],
            [
             0.1111111111111111,
             "#46039f"
            ],
            [
             0.2222222222222222,
             "#7201a8"
            ],
            [
             0.3333333333333333,
             "#9c179e"
            ],
            [
             0.4444444444444444,
             "#bd3786"
            ],
            [
             0.5555555555555556,
             "#d8576b"
            ],
            [
             0.6666666666666666,
             "#ed7953"
            ],
            [
             0.7777777777777778,
             "#fb9f3a"
            ],
            [
             0.8888888888888888,
             "#fdca26"
            ],
            [
             1,
             "#f0f921"
            ]
           ],
           "sequentialminus": [
            [
             0,
             "#0d0887"
            ],
            [
             0.1111111111111111,
             "#46039f"
            ],
            [
             0.2222222222222222,
             "#7201a8"
            ],
            [
             0.3333333333333333,
             "#9c179e"
            ],
            [
             0.4444444444444444,
             "#bd3786"
            ],
            [
             0.5555555555555556,
             "#d8576b"
            ],
            [
             0.6666666666666666,
             "#ed7953"
            ],
            [
             0.7777777777777778,
             "#fb9f3a"
            ],
            [
             0.8888888888888888,
             "#fdca26"
            ],
            [
             1,
             "#f0f921"
            ]
           ]
          },
          "colorway": [
           "#636efa",
           "#EF553B",
           "#00cc96",
           "#ab63fa",
           "#FFA15A",
           "#19d3f3",
           "#FF6692",
           "#B6E880",
           "#FF97FF",
           "#FECB52"
          ],
          "font": {
           "color": "#2a3f5f"
          },
          "geo": {
           "bgcolor": "white",
           "lakecolor": "white",
           "landcolor": "#E5ECF6",
           "showlakes": true,
           "showland": true,
           "subunitcolor": "white"
          },
          "hoverlabel": {
           "align": "left"
          },
          "hovermode": "closest",
          "mapbox": {
           "style": "light"
          },
          "paper_bgcolor": "white",
          "plot_bgcolor": "#E5ECF6",
          "polar": {
           "angularaxis": {
            "gridcolor": "white",
            "linecolor": "white",
            "ticks": ""
           },
           "bgcolor": "#E5ECF6",
           "radialaxis": {
            "gridcolor": "white",
            "linecolor": "white",
            "ticks": ""
           }
          },
          "scene": {
           "xaxis": {
            "backgroundcolor": "#E5ECF6",
            "gridcolor": "white",
            "gridwidth": 2,
            "linecolor": "white",
            "showbackground": true,
            "ticks": "",
            "zerolinecolor": "white"
           },
           "yaxis": {
            "backgroundcolor": "#E5ECF6",
            "gridcolor": "white",
            "gridwidth": 2,
            "linecolor": "white",
            "showbackground": true,
            "ticks": "",
            "zerolinecolor": "white"
           },
           "zaxis": {
            "backgroundcolor": "#E5ECF6",
            "gridcolor": "white",
            "gridwidth": 2,
            "linecolor": "white",
            "showbackground": true,
            "ticks": "",
            "zerolinecolor": "white"
           }
          },
          "shapedefaults": {
           "line": {
            "color": "#2a3f5f"
           }
          },
          "ternary": {
           "aaxis": {
            "gridcolor": "white",
            "linecolor": "white",
            "ticks": ""
           },
           "baxis": {
            "gridcolor": "white",
            "linecolor": "white",
            "ticks": ""
           },
           "bgcolor": "#E5ECF6",
           "caxis": {
            "gridcolor": "white",
            "linecolor": "white",
            "ticks": ""
           }
          },
          "title": {
           "x": 0.05
          },
          "xaxis": {
           "automargin": true,
           "gridcolor": "white",
           "linecolor": "white",
           "ticks": "",
           "title": {
            "standoff": 15
           },
           "zerolinecolor": "white",
           "zerolinewidth": 2
          },
          "yaxis": {
           "automargin": true,
           "gridcolor": "white",
           "linecolor": "white",
           "ticks": "",
           "title": {
            "standoff": 15
           },
           "zerolinecolor": "white",
           "zerolinewidth": 2
          }
         }
        }
       }
      }
     },
     "metadata": {},
     "output_type": "display_data"
    }
   ],
   "source": [
    "px.icicle(df, path=['continent','country','year'], values='pop')"
   ]
  },
  {
   "cell_type": "code",
   "execution_count": null,
   "metadata": {},
   "outputs": [],
   "source": []
  }
 ],
 "metadata": {
  "kernelspec": {
   "display_name": "Python 3.9.12 ('base')",
   "language": "python",
   "name": "python3"
  },
  "language_info": {
   "codemirror_mode": {
    "name": "ipython",
    "version": 3
   },
   "file_extension": ".py",
   "mimetype": "text/x-python",
   "name": "python",
   "nbconvert_exporter": "python",
   "pygments_lexer": "ipython3",
   "version": "3.9.12"
  },
  "orig_nbformat": 4,
  "vscode": {
   "interpreter": {
    "hash": "5f7df73bbd6ab3c5611b8eaa601f1ecb7ebd4fbc46d6ad44389389d741a84197"
   }
  }
 },
 "nbformat": 4,
 "nbformat_minor": 2
}
