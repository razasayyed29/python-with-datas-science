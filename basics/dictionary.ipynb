{
 "cells": [
  {
   "cell_type": "code",
   "execution_count": 4,
   "metadata": {},
   "outputs": [],
   "source": [
    "emp_dict = {\n",
    "    'finame':'amar',\n",
    "    'lname':'deep',\n",
    "    'dept':'finance',\n",
    "    'age':31,\n",
    "    'salary':'10000',\n",
    "    'bonus':'30000',\n",
    "    }\n"
   ]
  },
  {
   "cell_type": "code",
   "execution_count": 6,
   "metadata": {},
   "outputs": [
    {
     "data": {
      "text/plain": [
       "{'finame': 'amar',\n",
       " 'lname': 'deep',\n",
       " 'dept': 'finance',\n",
       " 'age': 31,\n",
       " 'salary': '10000',\n",
       " 'bonus': '30000'}"
      ]
     },
     "execution_count": 6,
     "metadata": {},
     "output_type": "execute_result"
    }
   ],
   "source": [
    "emp_dict"
   ]
  },
  {
   "cell_type": "code",
   "execution_count": 7,
   "metadata": {},
   "outputs": [
    {
     "name": "stdout",
     "output_type": "stream",
     "text": [
      "{'finame': 'amar', 'lname': 'deep', 'dept': 'finance', 'age': 31, 'salary': '10000', 'bonus': '30000'}\n"
     ]
    }
   ],
   "source": [
    "print(emp_dict)"
   ]
  },
  {
   "cell_type": "code",
   "execution_count": 8,
   "metadata": {},
   "outputs": [],
   "source": [
    "weather_data= {\n",
    "\n",
    "\n",
    "    'date':'2019-01-03',\n",
    "    'temp':32,\n",
    "    'details':{\n",
    "\n",
    "    }}\n"
   ]
  },
  {
   "cell_type": "markdown",
   "metadata": {},
   "source": [
    "#accessing data"
   ]
  },
  {
   "cell_type": "code",
   "execution_count": 9,
   "metadata": {},
   "outputs": [
    {
     "data": {
      "text/plain": [
       "dict_keys(['date', 'temp', 'details'])"
      ]
     },
     "execution_count": 9,
     "metadata": {},
     "output_type": "execute_result"
    }
   ],
   "source": [
    "weather_data.keys()"
   ]
  },
  {
   "cell_type": "code",
   "execution_count": 10,
   "metadata": {},
   "outputs": [
    {
     "data": {
      "text/plain": [
       "dict_values(['2019-01-03', 32, {}])"
      ]
     },
     "execution_count": 10,
     "metadata": {},
     "output_type": "execute_result"
    }
   ],
   "source": [
    "weather_data.values()"
   ]
  },
  {
   "cell_type": "code",
   "execution_count": 11,
   "metadata": {},
   "outputs": [
    {
     "data": {
      "text/plain": [
       "dict_keys(['finame', 'lname', 'dept', 'age', 'salary', 'bonus'])"
      ]
     },
     "execution_count": 11,
     "metadata": {},
     "output_type": "execute_result"
    }
   ],
   "source": [
    "emp_dict.keys()"
   ]
  },
  {
   "cell_type": "code",
   "execution_count": 12,
   "metadata": {},
   "outputs": [
    {
     "data": {
      "text/plain": [
       "['2019-01-03', 32, {}]"
      ]
     },
     "execution_count": 12,
     "metadata": {},
     "output_type": "execute_result"
    }
   ],
   "source": [
    "list(weather_data.values())"
   ]
  },
  {
   "cell_type": "code",
   "execution_count": 13,
   "metadata": {},
   "outputs": [
    {
     "data": {
      "text/plain": [
       "{}"
      ]
     },
     "execution_count": 13,
     "metadata": {},
     "output_type": "execute_result"
    }
   ],
   "source": [
    "weather_data['details']"
   ]
  },
  {
   "cell_type": "code",
   "execution_count": 14,
   "metadata": {},
   "outputs": [
    {
     "data": {
      "text/plain": [
       "32"
      ]
     },
     "execution_count": 14,
     "metadata": {},
     "output_type": "execute_result"
    }
   ],
   "source": [
    "weather_data.get('temp')"
   ]
  },
  {
   "cell_type": "code",
   "execution_count": 16,
   "metadata": {},
   "outputs": [
    {
     "data": {
      "text/plain": [
       "'not found'"
      ]
     },
     "execution_count": 16,
     "metadata": {},
     "output_type": "execute_result"
    }
   ],
   "source": [
    "weather_data.get('location','not found')"
   ]
  },
  {
   "cell_type": "code",
   "execution_count": 17,
   "metadata": {},
   "outputs": [],
   "source": [
    "# looping over a dictionary"
   ]
  },
  {
   "cell_type": "code",
   "execution_count": 18,
   "metadata": {},
   "outputs": [
    {
     "name": "stdout",
     "output_type": "stream",
     "text": [
      "finame\n",
      "lname\n",
      "dept\n",
      "age\n",
      "salary\n",
      "bonus\n"
     ]
    }
   ],
   "source": [
    "for k in emp_dict:\n",
    "    print(k)"
   ]
  },
  {
   "cell_type": "code",
   "execution_count": 19,
   "metadata": {},
   "outputs": [
    {
     "name": "stdout",
     "output_type": "stream",
     "text": [
      "finame => amar\n",
      "lname => deep\n",
      "dept => finance\n",
      "age => 31\n",
      "salary => 10000\n",
      "bonus => 30000\n"
     ]
    }
   ],
   "source": [
    "for key in emp_dict:\n",
    "    print(key,'=>',emp_dict[key])"
   ]
  },
  {
   "cell_type": "code",
   "execution_count": 21,
   "metadata": {},
   "outputs": [
    {
     "name": "stdout",
     "output_type": "stream",
     "text": [
      "finame => amar\n",
      "lname => deep\n",
      "dept => finance\n",
      "age => 31\n",
      "salary => 10000\n",
      "bonus => 30000\n"
     ]
    }
   ],
   "source": [
    "#looping over a dictionary using items()\n",
    "for k,v in emp_dict.items():\n",
    "    print(k,'=>',v)"
   ]
  },
  {
   "cell_type": "code",
   "execution_count": 22,
   "metadata": {},
   "outputs": [
    {
     "data": {
      "text/plain": [
       "dict_items([('finame', 'amar'), ('lname', 'deep'), ('dept', 'finance'), ('age', 31), ('salary', '10000'), ('bonus', '30000')])"
      ]
     },
     "execution_count": 22,
     "metadata": {},
     "output_type": "execute_result"
    }
   ],
   "source": [
    "#updating an entry in dictionary\n",
    "emp_dict.items()"
   ]
  },
  {
   "cell_type": "code",
   "execution_count": 23,
   "metadata": {},
   "outputs": [],
   "source": [
    "#for updating any data\n",
    "weather_data['temp']=35"
   ]
  },
  {
   "cell_type": "code",
   "execution_count": 24,
   "metadata": {},
   "outputs": [
    {
     "data": {
      "text/plain": [
       "{'date': '2019-01-03', 'temp': 35, 'details': {}}"
      ]
     },
     "execution_count": 24,
     "metadata": {},
     "output_type": "execute_result"
    }
   ],
   "source": [
    "weather_data"
   ]
  },
  {
   "cell_type": "code",
   "execution_count": 8,
   "metadata": {},
   "outputs": [],
   "source": [
    "reports = {\n",
    "    '001': {\n",
    "        'name':'amar',\n",
    "        'subject':{'english':80,'maths':90,'science':95}\n",
    "    },\n",
    "     '002': {\n",
    "        'name': 'vijay',\n",
    "        'subject':{'english':70,'maths':60,'science':85}\n",
    "    },\n",
    "     '003': {\n",
    "        'name': 'raj',\n",
    "        'subject':{'english':60,'maths':50,'science':45}\n",
    "    }\n",
    "}"
   ]
  },
  {
   "cell_type": "code",
   "execution_count": 13,
   "metadata": {},
   "outputs": [
    {
     "name": "stdout",
     "output_type": "stream",
     "text": [
      "roll no. 001\n",
      "name amar\n",
      "subject\n",
      "english 80\n",
      "maths 90\n",
      "science 95\n",
      "--------------------\n",
      "roll no. 002\n",
      "name vijay\n",
      "subject\n",
      "english 70\n",
      "maths 60\n",
      "science 85\n",
      "--------------------\n",
      "roll no. 003\n",
      "name raj\n",
      "subject\n",
      "english 60\n",
      "maths 50\n",
      "science 45\n",
      "--------------------\n"
     ]
    }
   ],
   "source": [
    "for roll, data in reports.items():\n",
    "    print(\"roll no.\",roll)\n",
    "    for key , val in data.items():\n",
    "        if isinstance(val,dict):\n",
    "            print(key)            #isinstance function is used to check the datatype of the element\n",
    "            for sub,marks in val.items():\n",
    "                print(sub, marks)\n",
    "        else:        \n",
    "            print(key,val)\n",
    "    print('--'*10)             "
   ]
  },
  {
   "cell_type": "code",
   "execution_count": 11,
   "metadata": {},
   "outputs": [
    {
     "name": "stdout",
     "output_type": "stream",
     "text": [
      "roll no. 001\n",
      "name amar\n",
      "subject\n",
      "english 80\n",
      "maths 90\n",
      "science 95\n",
      "total:265/300\n",
      "--------------------\n",
      "roll no. 002\n",
      "name vijay\n",
      "subject\n",
      "english 70\n",
      "maths 60\n",
      "science 85\n",
      "total:215/300\n",
      "--------------------\n",
      "roll no. 003\n",
      "name raj\n",
      "subject\n",
      "english 60\n",
      "maths 50\n",
      "science 45\n",
      "total:155/300\n",
      "--------------------\n"
     ]
    }
   ],
   "source": [
    "for roll, data in reports.items():\n",
    "    print(\"roll no.\",roll)\n",
    "    for key , val in data.items():\n",
    "        if isinstance(val,dict):\n",
    "            print(key)           \n",
    "            total = 0     #before loop set mark to 0 \n",
    "            for sub,marks in val.items():\n",
    "                print(sub, marks)\n",
    "                total += marks \n",
    "            print(f'total:{total}/300')    \n",
    "        else:        \n",
    "            print(key,val)\n",
    "    print('--'*10)"
   ]
  },
  {
   "cell_type": "code",
   "execution_count": 12,
   "metadata": {},
   "outputs": [
    {
     "name": "stdout",
     "output_type": "stream",
     "text": [
      "roll no. 001\n",
      "name amar\n",
      "subject\n",
      "english 80\n",
      "maths 90\n",
      "science 95\n",
      "total:265/300\n",
      "percentage:88.33 %\n",
      "--------------------\n",
      "roll no. 002\n",
      "name vijay\n",
      "subject\n",
      "english 70\n",
      "maths 60\n",
      "science 85\n",
      "total:215/300\n",
      "percentage:71.67 %\n",
      "--------------------\n",
      "roll no. 003\n",
      "name raj\n",
      "subject\n",
      "english 60\n",
      "maths 50\n",
      "science 45\n",
      "total:155/300\n",
      "percentage:51.67 %\n",
      "--------------------\n"
     ]
    }
   ],
   "source": [
    "for roll, data in reports.items():\n",
    "    print(\"roll no.\",roll)\n",
    "    for key , val in data.items():\n",
    "        if isinstance(val,dict):\n",
    "            print(key)           \n",
    "            total = 0     #before loop set mark to 0 \n",
    "            for sub,marks in val.items():\n",
    "                print(sub, marks)\n",
    "                total += marks \n",
    "            print(f'total:{total}/300') \n",
    "            print(f'percentage:{total/300*100:.2f} %')   \n",
    "        else:        \n",
    "            print(key,val)\n",
    "    print('--'*10)"
   ]
  },
  {
   "cell_type": "markdown",
   "metadata": {},
   "source": [
    "file handling\n",
    "-open a file\n",
    "-reading a file\n",
    "-writing a file\n",
    "-appending a file"
   ]
  },
  {
   "cell_type": "code",
   "execution_count": 3,
   "metadata": {},
   "outputs": [
    {
     "name": "stdout",
     "output_type": "stream",
     "text": [
      "\"raza\"\n"
     ]
    }
   ],
   "source": [
    "f =  open ('hello.py')\n",
    "print(f.read())"
   ]
  },
  {
   "cell_type": "code",
   "execution_count": 3,
   "metadata": {},
   "outputs": [
    {
     "ename": "TypeError",
     "evalue": "open() missing required argument 'file' (pos 1)",
     "output_type": "error",
     "traceback": [
      "\u001b[1;31m---------------------------------------------------------------------------\u001b[0m",
      "\u001b[1;31mTypeError\u001b[0m                                 Traceback (most recent call last)",
      "\u001b[1;32mc:\\Users\\ASUS\\OneDrive\\Documents\\python with datas science\\basics\\dictionary.ipynb Cell 24\u001b[0m in \u001b[0;36m<cell line: 1>\u001b[1;34m()\u001b[0m\n\u001b[1;32m----> <a href='vscode-notebook-cell:/c%3A/Users/ASUS/OneDrive/Documents/python%20with%20datas%20science/basics/dictionary.ipynb#X32sZmlsZQ%3D%3D?line=0'>1</a>\u001b[0m f\u001b[39m=\u001b[39m\u001b[39mopen\u001b[39;49m()\n\u001b[0;32m      <a href='vscode-notebook-cell:/c%3A/Users/ASUS/OneDrive/Documents/python%20with%20datas%20science/basics/dictionary.ipynb#X32sZmlsZQ%3D%3D?line=1'>2</a>\u001b[0m content \u001b[39m=\u001b[39m f\u001b[39m.\u001b[39mread()\n\u001b[0;32m      <a href='vscode-notebook-cell:/c%3A/Users/ASUS/OneDrive/Documents/python%20with%20datas%20science/basics/dictionary.ipynb#X32sZmlsZQ%3D%3D?line=2'>3</a>\u001b[0m \u001b[39mprint\u001b[39m(\u001b[39mf\u001b[39m\u001b[39m'\u001b[39m\u001b[39m{\u001b[39;00m\u001b[39mlen\u001b[39m(content)\u001b[39m}\u001b[39;00m\u001b[39m characters\u001b[39m\u001b[39m'\u001b[39m)\n",
      "\u001b[1;31mTypeError\u001b[0m: open() missing required argument 'file' (pos 1)"
     ]
    }
   ],
   "source": [
    "f=open()\n",
    "content = f.read()\n",
    "print(f'{len(content)} characters')"
   ]
  },
  {
   "cell_type": "code",
   "execution_count": 5,
   "metadata": {},
   "outputs": [],
   "source": [
    "data='hi everyone this is a sample file'\n",
    "with open('mydata.txt','w') as file :\n",
    "    file.write(data)"
   ]
  },
  {
   "cell_type": "code",
   "execution_count": 6,
   "metadata": {},
   "outputs": [],
   "source": [
    "data='hi everyone this is a sample file'\n",
    "with open('mydata.txt','a') as file :\n",
    "    file.write(data)"
   ]
  },
  {
   "cell_type": "code",
   "execution_count": 7,
   "metadata": {},
   "outputs": [
    {
     "name": "stdout",
     "output_type": "stream",
     "text": [
      "filebio.txt saved\n"
     ]
    }
   ],
   "source": [
    "file= 'bio.txt'\n",
    "content = ''\n",
    "while True:\n",
    "    line = input ('enter a line(or q to quit):')\n",
    "    if line =='q':\n",
    "        break\n",
    "    content += line + '\\n'\n",
    "\n",
    "with open(file,'w') as f:\n",
    "    f.write(content)\n",
    "    print(f'file{file} saved')   \n"
   ]
  },
  {
   "cell_type": "code",
   "execution_count": null,
   "metadata": {},
   "outputs": [],
   "source": []
  }
 ],
 "metadata": {
  "kernelspec": {
   "display_name": "Python 3.9.12 ('base')",
   "language": "python",
   "name": "python3"
  },
  "language_info": {
   "codemirror_mode": {
    "name": "ipython",
    "version": 3
   },
   "file_extension": ".py",
   "mimetype": "text/x-python",
   "name": "python",
   "nbconvert_exporter": "python",
   "pygments_lexer": "ipython3",
   "version": "3.9.12"
  },
  "orig_nbformat": 4,
  "vscode": {
   "interpreter": {
    "hash": "5f7df73bbd6ab3c5611b8eaa601f1ecb7ebd4fbc46d6ad44389389d741a84197"
   }
  }
 },
 "nbformat": 4,
 "nbformat_minor": 2
}
