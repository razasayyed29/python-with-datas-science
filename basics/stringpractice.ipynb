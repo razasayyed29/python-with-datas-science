{
 "cells": [
  {
   "cell_type": "markdown",
   "metadata": {},
   "source": [
    "PYTHON STRINGS:- (QUES/SOLN)"
   ]
  },
  {
   "cell_type": "markdown",
   "metadata": {},
   "source": [
    "1- Create a string and print it."
   ]
  },
  {
   "cell_type": "code",
   "execution_count": null,
   "metadata": {},
   "outputs": [],
   "source": [
    "data='i am abbas'\n",
    "print('data')"
   ]
  },
  {
   "cell_type": "markdown",
   "metadata": {},
   "source": [
    "2- Take a string input and print it's length."
   ]
  },
  {
   "cell_type": "code",
   "execution_count": null,
   "metadata": {},
   "outputs": [],
   "source": [
    "str='hi there'"
   ]
  },
  {
   "cell_type": "code",
   "execution_count": null,
   "metadata": {},
   "outputs": [],
   "source": [
    "a=input('enter a  string')\n",
    "print(len(str))"
   ]
  },
  {
   "cell_type": "markdown",
   "metadata": {},
   "source": [
    "3- Print the last word of the string 'python is great' using slices."
   ]
  },
  {
   "cell_type": "code",
   "execution_count": null,
   "metadata": {},
   "outputs": [],
   "source": [
    "str='python is great'\n",
    "print(str[-5:])"
   ]
  },
  {
   "cell_type": "markdown",
   "metadata": {},
   "source": [
    "4- Print the each word in different line of string 'python is everywhere'."
   ]
  },
  {
   "cell_type": "code",
   "execution_count": 1,
   "metadata": {},
   "outputs": [
    {
     "name": "stdout",
     "output_type": "stream",
     "text": [
      "python is everywhere\n"
     ]
    }
   ],
   "source": [
    "str='python is everywhere'\n",
    "print(str)"
   ]
  },
  {
   "cell_type": "markdown",
   "metadata": {},
   "source": [
    "5- Print the string 'hello world' in reverse. "
   ]
  },
  {
   "cell_type": "code",
   "execution_count": 2,
   "metadata": {},
   "outputs": [
    {
     "name": "stdout",
     "output_type": "stream",
     "text": [
      "dlrow olleh\n"
     ]
    }
   ],
   "source": [
    "str='hello world'\n",
    "print(str[::-1])"
   ]
  },
  {
   "cell_type": "markdown",
   "metadata": {},
   "source": [
    "6- Convert the string'how are you?' in uppercase."
   ]
  },
  {
   "cell_type": "code",
   "execution_count": 1,
   "metadata": {},
   "outputs": [
    {
     "name": "stdout",
     "output_type": "stream",
     "text": [
      "HOW ARE YOU?\n"
     ]
    }
   ],
   "source": [
    "data ='how are you?'\n",
    "print(data.upper())"
   ]
  },
  {
   "cell_type": "markdown",
   "metadata": {},
   "source": [
    "7- Convert the string'how is it going ?' in lowercase."
   ]
  },
  {
   "cell_type": "code",
   "execution_count": 2,
   "metadata": {},
   "outputs": [
    {
     "name": "stdout",
     "output_type": "stream",
     "text": [
      "HOW IS IT GOING?\n"
     ]
    }
   ],
   "source": [
    "data='how is it going?'\n",
    "print(data.upper())"
   ]
  },
  {
   "cell_type": "markdown",
   "metadata": {},
   "source": [
    "8- Join the following list by spaces () and print the result.\n",
    "words= ['python','is','easy','to','learn']"
   ]
  },
  {
   "cell_type": "code",
   "execution_count": 3,
   "metadata": {},
   "outputs": [
    {
     "data": {
      "text/plain": [
       "'pyhton is easy to learn'"
      ]
     },
     "execution_count": 3,
     "metadata": {},
     "output_type": "execute_result"
    }
   ],
   "source": [
    "words=['pyhton','is','easy','to','learn']\n",
    "\" \" .join(words)"
   ]
  },
  {
   "cell_type": "markdown",
   "metadata": {},
   "source": [
    "9- Print a multiline string using a single print."
   ]
  },
  {
   "cell_type": "code",
   "execution_count": 4,
   "metadata": {},
   "outputs": [
    {
     "name": "stdout",
     "output_type": "stream",
     "text": [
      "yeh\n",
      "     padhaya\n",
      "     nhi\n",
      "     gya \n",
      "     hai\n"
     ]
    }
   ],
   "source": [
    "data='''yeh\n",
    "     padhaya\n",
    "     nhi\n",
    "     gya \n",
    "     hai'''\n",
    "print(data)     "
   ]
  },
  {
   "cell_type": "markdown",
   "metadata": {},
   "source": [
    "10- Print this string to move to newline '\\n' is used .(results should look exactly like the provided string)"
   ]
  },
  {
   "cell_type": "code",
   "execution_count": 5,
   "metadata": {},
   "outputs": [
    {
     "name": "stdout",
     "output_type": "stream",
     "text": [
      "i am unware of this topic \"\n",
      "\n",
      "to move to the next line\n"
     ]
    }
   ],
   "source": [
    "print('i am unware of this topic \"\\n')\n",
    "print('to move to the next line')"
   ]
  },
  {
   "cell_type": "markdown",
   "metadata": {},
   "source": [
    "11- Print a variable with some text using a single print function,output should look like following.\n",
    "'the variable is 15'"
   ]
  },
  {
   "cell_type": "code",
   "execution_count": 1,
   "metadata": {},
   "outputs": [
    {
     "name": "stdout",
     "output_type": "stream",
     "text": [
      "the variable is 15\n"
     ]
    }
   ],
   "source": [
    "x=15\n",
    "print(f'the variable is {x}')"
   ]
  },
  {
   "cell_type": "markdown",
   "metadata": {},
   "source": [
    "12- concatenate the following strings and print the result     \n",
    "s1 = 'python'\n",
    "s2 = 'is'\n",
    "s3 = 'great.'"
   ]
  },
  {
   "cell_type": "code",
   "execution_count": 3,
   "metadata": {},
   "outputs": [
    {
     "name": "stdout",
     "output_type": "stream",
     "text": [
      "python is great\n"
     ]
    }
   ],
   "source": [
    "s1= 'python'\n",
    "s2= 'is'\n",
    "s3= 'great'\n",
    "msg = 'python' +' '+ 'is'+ ' '+ 'great'\n",
    "print(msg)"
   ]
  },
  {
   "cell_type": "markdown",
   "metadata": {},
   "source": [
    "13- print # 20 times without using a loop."
   ]
  },
  {
   "cell_type": "code",
   "execution_count": 5,
   "metadata": {},
   "outputs": [
    {
     "name": "stdout",
     "output_type": "stream",
     "text": [
      " #  #  #  #  #  #  #  #  #  #  #  #  #  #  #  #  #  #  #  # \n"
     ]
    }
   ],
   "source": [
    "print (' # ' * 20)"
   ]
  },
  {
   "cell_type": "markdown",
   "metadata": {},
   "source": [
    "14- print numbers from 1 to 9, each on a seperate line, followed by a dot,output should look like the following-    \n",
    "1.\n",
    "2.\n",
    "3.\n",
    "   "
   ]
  },
  {
   "cell_type": "code",
   "execution_count": 6,
   "metadata": {},
   "outputs": [
    {
     "name": "stdout",
     "output_type": "stream",
     "text": [
      "1.\n",
      "2.\n",
      "3.\n",
      "4.\n",
      "5.\n",
      "6.\n",
      "7.\n",
      "8.\n",
      "9.\n"
     ]
    }
   ],
   "source": [
    "data=['1','2','3','4','5','6','7','8','9']\n",
    "for i in range (len(data)):\n",
    "    print(data[i]+ '.')"
   ]
  },
  {
   "cell_type": "markdown",
   "metadata": {},
   "source": [
    "15- ask user to input a sentence and print each word on a different line ."
   ]
  },
  {
   "cell_type": "code",
   "execution_count": 7,
   "metadata": {},
   "outputs": [
    {
     "name": "stdout",
     "output_type": "stream",
     "text": [
      "how\n",
      "are\n",
      "you\n",
      "raza\n"
     ]
    }
   ],
   "source": [
    "sentence = input('enter the sentence')\n",
    "data = sentence . split ()\n",
    "for i in range (len(data)):\n",
    "    print (data[i])"
   ]
  },
  {
   "cell_type": "markdown",
   "metadata": {},
   "source": [
    "16- ask user to input a string and check if the string ends with '?'"
   ]
  },
  {
   "cell_type": "code",
   "execution_count": 8,
   "metadata": {},
   "outputs": [
    {
     "data": {
      "text/plain": [
       "True"
      ]
     },
     "execution_count": 8,
     "metadata": {},
     "output_type": "execute_result"
    }
   ],
   "source": [
    "data = str('how are you?')\n",
    "data.endswith('?')"
   ]
  },
  {
   "cell_type": "markdown",
   "metadata": {},
   "source": [
    "17- ask user to input a string and print how many times a appeared in the string"
   ]
  },
  {
   "cell_type": "code",
   "execution_count": 1,
   "metadata": {},
   "outputs": [
    {
     "data": {
      "text/plain": [
       "7"
      ]
     },
     "execution_count": 1,
     "metadata": {},
     "output_type": "execute_result"
    }
   ],
   "source": [
    "data = 'characteristics of indian workers'\n",
    "data.find ('e')"
   ]
  },
  {
   "cell_type": "markdown",
   "metadata": {},
   "source": [
    "18- check if the user input is a number"
   ]
  },
  {
   "cell_type": "code",
   "execution_count": 2,
   "metadata": {},
   "outputs": [
    {
     "data": {
      "text/plain": [
       "True"
      ]
     },
     "execution_count": 2,
     "metadata": {},
     "output_type": "execute_result"
    }
   ],
   "source": [
    "data='123'\n",
    "data.isnumeric()"
   ]
  },
  {
   "cell_type": "markdown",
   "metadata": {},
   "source": [
    "19- remove the extra spaces in the begining and the end of the following strings : text = 'This is the good strings'"
   ]
  },
  {
   "cell_type": "code",
   "execution_count": 2,
   "metadata": {},
   "outputs": [
    {
     "name": "stdout",
     "output_type": "stream",
     "text": [
      "This is a good string\n"
     ]
    }
   ],
   "source": [
    "t1= 'This'\n",
    "t2= 'is'\n",
    "t3= 'the'\n",
    "t4= 'good'\n",
    "t5= 'string'\n",
    "msg= 'This'+ ' '+ 'is' + ' ' + 'a'+ ' '+ 'good' + ' '+ 'string'\n",
    "print(msg)"
   ]
  },
  {
   "cell_type": "code",
   "execution_count": 3,
   "metadata": {},
   "outputs": [
    {
     "name": "stdout",
     "output_type": "stream",
     "text": [
      "This is a good string\n"
     ]
    }
   ],
   "source": [
    "text= 'This is a good string' # here we are using strip function\n",
    "text= text.strip()\n",
    "print(text)"
   ]
  },
  {
   "cell_type": "code",
   "execution_count": 4,
   "metadata": {},
   "outputs": [
    {
     "name": "stdout",
     "output_type": "stream",
     "text": [
      "I am Raza\n"
     ]
    }
   ],
   "source": [
    "text='I am Raza'\n",
    "text= text.strip()\n",
    "print(text)"
   ]
  },
  {
   "cell_type": "markdown",
   "metadata": {},
   "source": [
    "20- ask user to input string , print found if any of the character is upper case "
   ]
  },
  {
   "cell_type": "code",
   "execution_count": 5,
   "metadata": {},
   "outputs": [
    {
     "name": "stdout",
     "output_type": "stream",
     "text": [
      "not found\n"
     ]
    }
   ],
   "source": [
    "name= input('enter the string')\n",
    "for i in range (len(name)):\n",
    "    if name [i].isupper ():\n",
    "        print('found')\n",
    "        break\n",
    "else:\n",
    "    print('not found')    "
   ]
  },
  {
   "cell_type": "markdown",
   "metadata": {},
   "source": [
    "21- extact names from the following strings and stores them in a list\n",
    "-.name='joe,david,mark,tom,chris,robert'"
   ]
  },
  {
   "cell_type": "code",
   "execution_count": 6,
   "metadata": {},
   "outputs": [
    {
     "name": "stdout",
     "output_type": "stream",
     "text": [
      "['joe, david, mark, tom, chris, robert']\n"
     ]
    }
   ],
   "source": [
    "name='joe, david, mark, tom, chris, robert'\n",
    "data=name.split('_')\n",
    "print(data)"
   ]
  },
  {
   "cell_type": "code",
   "execution_count": 7,
   "metadata": {},
   "outputs": [
    {
     "name": "stdout",
     "output_type": "stream",
     "text": [
      "['raza,', 'aayan,', 'shiraz,', 'fateh']\n"
     ]
    }
   ],
   "source": [
    "name = 'raza, aayan, shiraz, fateh'\n",
    "data= name.split()\n",
    "print(data)"
   ]
  },
  {
   "cell_type": "markdown",
   "metadata": {},
   "source": [
    "22- in the following strings add good in the end of the every word and print the result"
   ]
  },
  {
   "cell_type": "code",
   "execution_count": 11,
   "metadata": {},
   "outputs": [
    {
     "name": "stdout",
     "output_type": "stream",
     "text": [
      "this good is good  my good  favourite  good  car good\n"
     ]
    }
   ],
   "source": [
    "t1= 'this'\n",
    "t2= 'is'\n",
    "t3= 'my'\n",
    "t4= 'favourite'\n",
    "t5= 'car'\n",
    "msg= 'this'+ ' '+ 'good'+' '+'is'+ ' '+ 'good'+' '+ ' my'+ ' '+ 'good'+ ' '+ ' favourite'+ ' '+ ' good'+' '+ ' car'+' '+ 'good'\n",
    "print(msg)"
   ]
  },
  {
   "cell_type": "markdown",
   "metadata": {},
   "source": [
    "23- ask the user to enter a string and check if the string contain fyi"
   ]
  },
  {
   "cell_type": "code",
   "execution_count": 15,
   "metadata": {},
   "outputs": [
    {
     "name": "stdout",
     "output_type": "stream",
     "text": [
      "True\n"
     ]
    }
   ],
   "source": [
    "b= input('enter the string:')\n",
    "x=b.find('fyi')\n",
    "b1=b[x:x+3]\n",
    "if b1 == 'fyi':\n",
    "    print('True')\n",
    "else:\n",
    "    print('False')    "
   ]
  },
  {
   "cell_type": "markdown",
   "metadata": {},
   "source": [
    "24- remove all the special characters and numbers from the following strings : text + '%p34@y!*-*!t68h#&on404' "
   ]
  },
  {
   "cell_type": "code",
   "execution_count": 16,
   "metadata": {},
   "outputs": [
    {
     "name": "stdout",
     "output_type": "stream",
     "text": [
      " python\n"
     ]
    }
   ],
   "source": [
    "text= '%p34@y!*-*!t68h#&on404'\n",
    "s1= ['!','@','#','$','%','&','*','-','_']\n",
    "t =' '\n",
    "\n",
    "for i in range (len(text)):\n",
    "    if text [i].isnumeric() or text [i] in s1:\n",
    "        continue\n",
    "    else:\n",
    "        t=t+text[i]\n",
    "print(t)        \n"
   ]
  },
  {
   "cell_type": "markdown",
   "metadata": {},
   "source": [
    "25- calculate the average word length of the following paragraph.\n",
    "# This is the paragraph which is written just for the purpose of providing content to let the average word length be 0"
   ]
  },
  {
   "cell_type": "code",
   "execution_count": 18,
   "metadata": {},
   "outputs": [
    {
     "name": "stdout",
     "output_type": "stream",
     "text": [
      "the avg of the word length of the following paragraph is 4\n"
     ]
    }
   ],
   "source": [
    "nums=[]\n",
    "avg , sum = 0,0\n",
    "text = 'This is the paragraph which is written just for the purpose of providing content to let the average word length be 0'\n",
    "data = text.split ()\n",
    "for i in range(len(data)):\n",
    "    nums.append(len(data[i]))\n",
    "for i in range (len(nums)):\n",
    "    sum+= nums[i]\n",
    "    avg= sum//len(nums)\n",
    "print(f'the avg of the word length of the following paragraph is {avg}')       \n"
   ]
  },
  {
   "cell_type": "markdown",
   "metadata": {},
   "source": []
  }
 ],
 "metadata": {
  "kernelspec": {
   "display_name": "Python 3.9.12 ('base')",
   "language": "python",
   "name": "python3"
  },
  "language_info": {
   "codemirror_mode": {
    "name": "ipython",
    "version": 3
   },
   "file_extension": ".py",
   "mimetype": "text/x-python",
   "name": "python",
   "nbconvert_exporter": "python",
   "pygments_lexer": "ipython3",
   "version": "3.9.12"
  },
  "orig_nbformat": 4,
  "vscode": {
   "interpreter": {
    "hash": "5f7df73bbd6ab3c5611b8eaa601f1ecb7ebd4fbc46d6ad44389389d741a84197"
   }
  }
 },
 "nbformat": 4,
 "nbformat_minor": 2
}
