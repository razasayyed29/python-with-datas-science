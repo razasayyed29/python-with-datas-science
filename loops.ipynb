{
 "cells": [
  {
   "cell_type": "markdown",
   "metadata": {},
   "source": [
    "transversal"
   ]
  },
  {
   "cell_type": "code",
   "execution_count": 2,
   "metadata": {},
   "outputs": [
    {
     "name": "stdout",
     "output_type": "stream",
     "text": [
      "0\n",
      "2\n",
      "3\n",
      "4\n",
      "1\n",
      "6\n",
      "7\n"
     ]
    }
   ],
   "source": [
    "x=[0,2,3,4,1,6,7]\n",
    "for i in x:\n",
    "    print(i)"
   ]
  },
  {
   "cell_type": "code",
   "execution_count": 4,
   "metadata": {},
   "outputs": [
    {
     "name": "stdout",
     "output_type": "stream",
     "text": [
      "we got red\n",
      "we got blue\n",
      "we got voilet\n"
     ]
    }
   ],
   "source": [
    "colours = ['red','blue','voilet']\n",
    "for val in colours:\n",
    "    print(f'we got {val}')"
   ]
  },
  {
   "cell_type": "code",
   "execution_count": 1,
   "metadata": {},
   "outputs": [
    {
     "name": "stdout",
     "output_type": "stream",
     "text": [
      "1\n",
      "2\n",
      "3\n",
      "4\n",
      "5\n",
      "6\n",
      "7\n",
      "8\n",
      "9\n",
      "10\n",
      "11\n",
      "12\n",
      "13\n",
      "14\n",
      "15\n",
      "16\n",
      "17\n",
      "18\n",
      "19\n",
      "20\n",
      "21\n",
      "22\n",
      "23\n",
      "24\n",
      "25\n",
      "26\n",
      "27\n",
      "28\n",
      "29\n",
      "30\n"
     ]
    }
   ],
   "source": [
    "x=[1,2,3,4,5,6,7,8,9,10,11,12,13,14,15,16,17,18,19,20,21,22,23,24,25,26,27,28,29,30]\n",
    "for i in x:\n",
    "    print(i)\n"
   ]
  },
  {
   "cell_type": "code",
   "execution_count": 5,
   "metadata": {},
   "outputs": [
    {
     "name": "stdout",
     "output_type": "stream",
     "text": [
      "1💕 2💕 3💕 4💕 5💕 6💕 7💕 8💕 9💕 10💕 11💕 12💕 13💕 14💕 15💕 16💕 17💕 18💕 19💕 20💕 21💕 22💕 23💕 24💕 25💕 26💕 27💕 28💕 29💕 30💕 "
     ]
    }
   ],
   "source": [
    "for i in range(1,31):\n",
    "    print(i, end=\"💕 \")"
   ]
  },
  {
   "cell_type": "code",
   "execution_count": 6,
   "metadata": {},
   "outputs": [
    {
     "name": "stdout",
     "output_type": "stream",
     "text": [
      "2 x 1 = 2\n",
      "2 x 2 = 4\n",
      "2 x 3 = 6\n",
      "2 x 4 = 8\n",
      "2 x 5 = 10\n",
      "2 x 6 = 12\n",
      "2 x 7 = 14\n",
      "2 x 8 = 16\n",
      "2 x 9 = 18\n",
      "2 x 10 = 20\n"
     ]
    }
   ],
   "source": [
    "for i in range(1,11):\n",
    "    print(f'2 x {i} = {2*i}')"
   ]
  },
  {
   "cell_type": "code",
   "execution_count": 3,
   "metadata": {},
   "outputs": [
    {
     "name": "stdout",
     "output_type": "stream",
     "text": [
      "9 x 1 = 9\n",
      "9 x 2 = 18\n",
      "9 x 3 = 27\n",
      "9 x 4 = 36\n",
      "9 x 5 = 45\n",
      "9 x 6 = 54\n",
      "9 x 7 = 63\n",
      "9 x 8 = 72\n",
      "9 x 9 = 81\n",
      "9 x 10 = 90\n"
     ]
    }
   ],
   "source": [
    "for i in range(1,11):\n",
    "    print(f'9 x {i} = {9*i}')\n"
   ]
  },
  {
   "cell_type": "code",
   "execution_count": 2,
   "metadata": {},
   "outputs": [
    {
     "name": "stdout",
     "output_type": "stream",
     "text": [
      "10987654321"
     ]
    }
   ],
   "source": [
    "#reverse loop\n",
    "for i in range (10,0,-1):\n",
    "    print (i,end='')"
   ]
  },
  {
   "cell_type": "code",
   "execution_count": 3,
   "metadata": {},
   "outputs": [
    {
     "name": "stdout",
     "output_type": "stream",
     "text": [
      "potato\n",
      "tomato\n",
      "onion\n",
      "cabbage\n",
      "carrot\n"
     ]
    }
   ],
   "source": [
    "veg = ['potato','tomato','onion','cabbage','carrot']\n",
    "for item in veg:\n",
    "    print(item)"
   ]
  },
  {
   "cell_type": "markdown",
   "metadata": {},
   "source": [
    "Other presentable way of writing the above code in python"
   ]
  },
  {
   "cell_type": "code",
   "execution_count": 4,
   "metadata": {},
   "outputs": [
    {
     "name": "stdout",
     "output_type": "stream",
     "text": [
      "(0, 'potato')\n",
      "(1, 'tomato')\n",
      "(2, 'onion')\n",
      "(3, 'cabbage')\n",
      "(4, 'carrot')\n"
     ]
    }
   ],
   "source": [
    "for item in enumerate (veg):\n",
    "    print(item)"
   ]
  },
  {
   "cell_type": "markdown",
   "metadata": {},
   "source": [
    "correct version of enumerator"
   ]
  },
  {
   "cell_type": "code",
   "execution_count": 5,
   "metadata": {},
   "outputs": [
    {
     "name": "stdout",
     "output_type": "stream",
     "text": [
      "0 got potato\n",
      "1 got tomato\n",
      "2 got onion\n",
      "3 got cabbage\n",
      "4 got carrot\n"
     ]
    }
   ],
   "source": [
    "for index , value in enumerate(veg):\n",
    "    print (index , 'got', value)"
   ]
  },
  {
   "cell_type": "markdown",
   "metadata": {},
   "source": [
    "can also be written as"
   ]
  },
  {
   "cell_type": "code",
   "execution_count": 6,
   "metadata": {},
   "outputs": [
    {
     "name": "stdout",
     "output_type": "stream",
     "text": [
      "0 potato\n",
      "1 tomato\n",
      "2 onion\n",
      "3 cabbage\n",
      "4 carrot\n"
     ]
    }
   ],
   "source": [
    "for index, value in enumerate (veg):\n",
    "    print(index , value)"
   ]
  },
  {
   "cell_type": "code",
   "execution_count": 7,
   "metadata": {},
   "outputs": [],
   "source": [
    "veg=['potato','tomato','onion','carrot','cabbage']\n",
    "prices=(35,80,40,20,30)"
   ]
  },
  {
   "cell_type": "code",
   "execution_count": 9,
   "metadata": {},
   "outputs": [
    {
     "name": "stdout",
     "output_type": "stream",
     "text": [
      "potato\n",
      "tomato\n",
      "onion\n",
      "carrot\n",
      "cabbage\n"
     ]
    }
   ],
   "source": [
    "# non pythonic way\n",
    "for i in range (len(veg)):\n",
    "    print (f'{veg[i]}')    "
   ]
  },
  {
   "cell_type": "code",
   "execution_count": 10,
   "metadata": {},
   "outputs": [
    {
     "name": "stdout",
     "output_type": "stream",
     "text": [
      "potato   35\n",
      "tomato   80\n",
      "onion   40\n",
      "carrot   20\n",
      "cabbage   30\n"
     ]
    }
   ],
   "source": [
    "# pythonic way\n",
    "for v,p in zip(veg,prices):\n",
    "    print(f'{v}   {p}')"
   ]
  },
  {
   "cell_type": "markdown",
   "metadata": {},
   "source": []
  },
  {
   "cell_type": "markdown",
   "metadata": {},
   "source": [
    "WAP to print the following lists using zip"
   ]
  },
  {
   "cell_type": "markdown",
   "metadata": {},
   "source": [
    "-list 1 contains movie title\n",
    "-list 2 contains movie rating\n",
    "-list 3 contains movie year\n",
    "-list 4 contains movie directors"
   ]
  },
  {
   "cell_type": "code",
   "execution_count": 12,
   "metadata": {},
   "outputs": [
    {
     "name": "stdout",
     "output_type": "stream",
     "text": [
      "zindagi na milegi doobara 9.2 2012 zoya akhtar\n",
      "PK 9.1 2019 rajkumar hirani\n",
      "Kabir singh 9.5 2020 sandeep reddy vanga\n",
      "ADHM 8.5 2017 karan johar\n",
      "sultan 10 2015 ali abbas zafar\n"
     ]
    }
   ],
   "source": [
    "movie_title=['zindagi na milegi doobara','PK','Kabir singh','ADHM','sultan']\n",
    "movie_rating=[9.2 ,9.1, 9.5, 8.5, 10]\n",
    "movie_year=[2012, 2019, 2020, 2017, 2015]\n",
    "movie_directors=['zoya akhtar', 'rajkumar hirani', 'sandeep reddy vanga', 'karan johar', 'ali abbas zafar']\n",
    "for t,r,y,d in zip (movie_title, movie_rating, movie_year, movie_directors):\n",
    "    print (f'{t} {r} {y} {d}')"
   ]
  },
  {
   "cell_type": "markdown",
   "metadata": {},
   "source": [
    "nested loop"
   ]
  },
  {
   "cell_type": "code",
   "execution_count": 16,
   "metadata": {},
   "outputs": [
    {
     "name": "stdout",
     "output_type": "stream",
     "text": [
      "0 1 2 3 4 5 6 7 8 9 0 1 2 3 4 5 6 7 8 9 0 1 2 3 4 5 6 7 8 9 0 1 2 3 4 5 6 7 8 9 0 1 2 3 4 5 6 7 8 9 0 1 2 3 4 5 6 7 8 9 0 1 2 3 4 5 6 7 8 9 0 1 2 3 4 5 6 7 8 9 0 1 2 3 4 5 6 7 8 9 0 1 2 3 4 5 6 7 8 9 "
     ]
    }
   ],
   "source": [
    "for i in range (10):\n",
    "    for i in range (10):\n",
    "        print(i, end=' ')"
   ]
  },
  {
   "cell_type": "markdown",
   "metadata": {},
   "source": [
    "Break and Continue"
   ]
  },
  {
   "cell_type": "code",
   "execution_count": 17,
   "metadata": {},
   "outputs": [],
   "source": [
    "x=[1,2,0,3,4,0,0,5]"
   ]
  },
  {
   "cell_type": "code",
   "execution_count": 18,
   "metadata": {},
   "outputs": [
    {
     "name": "stdout",
     "output_type": "stream",
     "text": [
      "1\n",
      "2\n"
     ]
    }
   ],
   "source": [
    "for i in x:\n",
    "    if i == 0:\n",
    "        break\n",
    "    print(i)"
   ]
  },
  {
   "cell_type": "code",
   "execution_count": 19,
   "metadata": {},
   "outputs": [
    {
     "name": "stdout",
     "output_type": "stream",
     "text": [
      "1\n",
      "2\n",
      "3\n",
      "4\n",
      "5\n"
     ]
    }
   ],
   "source": [
    "for i in x:\n",
    "    if i==0:\n",
    "        continue\n",
    "    print(i)"
   ]
  },
  {
   "cell_type": "markdown",
   "metadata": {},
   "source": [
    "The above cited code can also be written without (CONTINUE)"
   ]
  },
  {
   "cell_type": "code",
   "execution_count": 20,
   "metadata": {},
   "outputs": [
    {
     "name": "stdout",
     "output_type": "stream",
     "text": [
      "1\n",
      "2\n",
      "3\n",
      "4\n",
      "5\n"
     ]
    }
   ],
   "source": [
    "for i in x:\n",
    "    if i != 0:\n",
    "        print (i)"
   ]
  },
  {
   "cell_type": "markdown",
   "metadata": {},
   "source": [
    "For else"
   ]
  },
  {
   "cell_type": "markdown",
   "metadata": {},
   "source": [
    "WAP to show whether the no. is prime no. or not"
   ]
  },
  {
   "cell_type": "code",
   "execution_count": 22,
   "metadata": {},
   "outputs": [
    {
     "name": "stdout",
     "output_type": "stream",
     "text": [
      "not prime\n"
     ]
    }
   ],
   "source": [
    "num=18\n",
    "for i in range (2,num):\n",
    "    if num % i == 0:\n",
    "        print('not prime')\n",
    "        break \n",
    "else:# else block will execute only if the for loop is not broken \n",
    "    print('prime')   "
   ]
  },
  {
   "cell_type": "code",
   "execution_count": 23,
   "metadata": {},
   "outputs": [
    {
     "name": "stdout",
     "output_type": "stream",
     "text": [
      "99 "
     ]
    }
   ],
   "source": [
    "for num in range (1, 100):\n",
    "    if num == 1:\n",
    "        continue\n",
    "    for i in range (2, num):\n",
    "        if num % i == 0:\n",
    "            break \n",
    "else: # else block will execute only if the for loop is not broken\n",
    "    print(num, end = ' ')        "
   ]
  },
  {
   "cell_type": "code",
   "execution_count": 24,
   "metadata": {},
   "outputs": [
    {
     "name": "stdout",
     "output_type": "stream",
     "text": [
      "0\n",
      "1\n",
      "2\n"
     ]
    }
   ],
   "source": [
    "for i in range (5):\n",
    "    if i == 3:\n",
    "        break \n",
    "    print(i)\n",
    "else:\n",
    "    print('done')    "
   ]
  },
  {
   "cell_type": "markdown",
   "metadata": {},
   "source": [
    "While loop"
   ]
  },
  {
   "cell_type": "code",
   "execution_count": 25,
   "metadata": {},
   "outputs": [
    {
     "name": "stdout",
     "output_type": "stream",
     "text": [
      "8\n",
      "6\n",
      "4\n",
      "2\n",
      "0\n"
     ]
    }
   ],
   "source": [
    "x=10\n",
    "while x>0:\n",
    "    x-=2\n",
    "    print(x)"
   ]
  },
  {
   "cell_type": "markdown",
   "metadata": {},
   "source": [
    "What happen when we write print(x)after while see the outcome it doesn't show zero in the end (just see the outcome)"
   ]
  },
  {
   "cell_type": "code",
   "execution_count": 26,
   "metadata": {},
   "outputs": [
    {
     "name": "stdout",
     "output_type": "stream",
     "text": [
      "10\n",
      "8\n",
      "6\n",
      "4\n",
      "2\n"
     ]
    }
   ],
   "source": [
    "x=10\n",
    "while x>0:\n",
    "    print(x)\n",
    "    x-=2"
   ]
  },
  {
   "cell_type": "code",
   "execution_count": 29,
   "metadata": {},
   "outputs": [],
   "source": [
    "total=0\n",
    "while True:\n",
    "    num = int (input(\"enter a number:\"))\n",
    "    if num == 0:\n",
    "        break\n",
    "    total += num\n",
    "print(f'total is {total}')    "
   ]
  },
  {
   "cell_type": "code",
   "execution_count": 5,
   "metadata": {},
   "outputs": [
    {
     "name": "stdout",
     "output_type": "stream",
     "text": [
      "these are the books\n",
      "['man search for a meaning']\n"
     ]
    }
   ],
   "source": [
    "books= [] # empty list\n",
    "while True:\n",
    "    name= input ('enter the name of the book:')\n",
    "    if name:\n",
    "        books.append(name) # add items to the list\n",
    "    else:\n",
    "        break\n",
    "print(\"these are the books\")\n",
    "print(books)         "
   ]
  },
  {
   "cell_type": "markdown",
   "metadata": {},
   "source": [
    "WAP a program to print fibonnaci series"
   ]
  },
  {
   "cell_type": "code",
   "execution_count": 2,
   "metadata": {},
   "outputs": [
    {
     "name": "stdout",
     "output_type": "stream",
     "text": [
      "0 1 1 2 3 5 8 13 "
     ]
    }
   ],
   "source": [
    "num=int (input('enter any number:'))\n",
    "n1 , n2 =0,1\n",
    "sum=0\n",
    "if num <=0:\n",
    "    print('enter the number greater than 0')\n",
    "else:\n",
    "    for i in range (0,num):\n",
    "        print(sum,end=\" \")\n",
    "        n1 = n2\n",
    "        n2 = sum\n",
    "        sum = n1 + n2 "
   ]
  }
 ],
 "metadata": {
  "kernelspec": {
   "display_name": "Python 3.10.6 ('py310')",
   "language": "python",
   "name": "python3"
  },
  "language_info": {
   "codemirror_mode": {
    "name": "ipython",
    "version": 3
   },
   "file_extension": ".py",
   "mimetype": "text/x-python",
   "name": "python",
   "nbconvert_exporter": "python",
   "pygments_lexer": "ipython3",
   "version": "3.10.6"
  },
  "orig_nbformat": 4,
  "vscode": {
   "interpreter": {
    "hash": "71812372a1d50149035b069f8d5cf8c276af2d7eb70872f5440552b39050bcc2"
   }
  }
 },
 "nbformat": 4,
 "nbformat_minor": 2
}
